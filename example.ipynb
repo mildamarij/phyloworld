{
 "cells": [
  {
   "cell_type": "markdown",
   "metadata": {},
   "source": [
    "# Package phyloworld example"
   ]
  },
  {
   "cell_type": "code",
   "execution_count": 1,
   "metadata": {},
   "outputs": [],
   "source": [
    "import phyloworld as phyloworld\n",
    "import pandas as pd\n",
    "from Bio import Phylo"
   ]
  },
  {
   "cell_type": "markdown",
   "metadata": {},
   "source": [
    "## Load testing metadata"
   ]
  },
  {
   "cell_type": "code",
   "execution_count": 2,
   "metadata": {},
   "outputs": [
    {
     "data": {
      "text/html": [
       "<div>\n",
       "<style scoped>\n",
       "    .dataframe tbody tr th:only-of-type {\n",
       "        vertical-align: middle;\n",
       "    }\n",
       "\n",
       "    .dataframe tbody tr th {\n",
       "        vertical-align: top;\n",
       "    }\n",
       "\n",
       "    .dataframe thead th {\n",
       "        text-align: right;\n",
       "    }\n",
       "</style>\n",
       "<table border=\"1\" class=\"dataframe\">\n",
       "  <thead>\n",
       "    <tr style=\"text-align: right;\">\n",
       "      <th></th>\n",
       "      <th>ID</th>\n",
       "      <th>Country</th>\n",
       "      <th>CloneType</th>\n",
       "    </tr>\n",
       "  </thead>\n",
       "  <tbody>\n",
       "    <tr>\n",
       "      <th>0</th>\n",
       "      <td>1700_04112013_AXDK00-0</td>\n",
       "      <td>Algeria</td>\n",
       "      <td>AX03DK01</td>\n",
       "    </tr>\n",
       "    <tr>\n",
       "      <th>1</th>\n",
       "      <td>0802_04042005_AXDK00-0</td>\n",
       "      <td>Denmark</td>\n",
       "      <td>AX02DK07</td>\n",
       "    </tr>\n",
       "    <tr>\n",
       "      <th>2</th>\n",
       "      <td>0802_18012008_AXDK00-0</td>\n",
       "      <td>Denmark</td>\n",
       "      <td>AX02DK07</td>\n",
       "    </tr>\n",
       "    <tr>\n",
       "      <th>3</th>\n",
       "      <td>2202_04012011_AXDK00-0</td>\n",
       "      <td>Lithuania</td>\n",
       "      <td>AX04DK01</td>\n",
       "    </tr>\n",
       "    <tr>\n",
       "      <th>4</th>\n",
       "      <td>6402_27032017_AXDK00-0</td>\n",
       "      <td>Angola</td>\n",
       "      <td>AX03DK02</td>\n",
       "    </tr>\n",
       "  </tbody>\n",
       "</table>\n",
       "</div>"
      ],
      "text/plain": [
       "                       ID    Country CloneType\n",
       "0  1700_04112013_AXDK00-0    Algeria  AX03DK01\n",
       "1  0802_04042005_AXDK00-0    Denmark  AX02DK07\n",
       "2  0802_18012008_AXDK00-0    Denmark  AX02DK07\n",
       "3  2202_04012011_AXDK00-0  Lithuania  AX04DK01\n",
       "4  6402_27032017_AXDK00-0     Angola  AX03DK02"
      ]
     },
     "execution_count": 2,
     "metadata": {},
     "output_type": "execute_result"
    }
   ],
   "source": [
    "metadata = pd.read_csv(\"data/MetaData.csv\")\n",
    "metadata.head()"
   ]
  },
  {
   "cell_type": "markdown",
   "metadata": {},
   "source": [
    "## Get latitude and longitude information"
   ]
  },
  {
   "cell_type": "code",
   "execution_count": 3,
   "metadata": {},
   "outputs": [
    {
     "name": "stdout",
     "output_type": "stream",
     "text": [
      "Getting coordinates for libya\n",
      "Getting coordinates for canada\n",
      "Getting coordinates for lithuania\n",
      "Getting coordinates for spain\n",
      "Getting coordinates for turkey\n",
      "Getting coordinates for algeria\n",
      "Getting coordinates for italy\n",
      "Getting coordinates for france\n",
      "Getting coordinates for denmark\n",
      "Getting coordinates for poland\n",
      "Getting coordinates for egypt\n",
      "Getting coordinates for angola\n",
      "Getting coordinates for united+states\n",
      "Getting coordinates for germany\n",
      "Getting coordinates for mexico\n",
      "Getting coordinates for estonia\n"
     ]
    },
    {
     "data": {
      "text/html": [
       "<div>\n",
       "<style scoped>\n",
       "    .dataframe tbody tr th:only-of-type {\n",
       "        vertical-align: middle;\n",
       "    }\n",
       "\n",
       "    .dataframe tbody tr th {\n",
       "        vertical-align: top;\n",
       "    }\n",
       "\n",
       "    .dataframe thead th {\n",
       "        text-align: right;\n",
       "    }\n",
       "</style>\n",
       "<table border=\"1\" class=\"dataframe\">\n",
       "  <thead>\n",
       "    <tr style=\"text-align: right;\">\n",
       "      <th></th>\n",
       "      <th>ID</th>\n",
       "      <th>Country</th>\n",
       "      <th>CloneType</th>\n",
       "      <th>Latitude</th>\n",
       "      <th>Longitude</th>\n",
       "    </tr>\n",
       "  </thead>\n",
       "  <tbody>\n",
       "    <tr>\n",
       "      <th>0</th>\n",
       "      <td>1700_04112013_AXDK00-0</td>\n",
       "      <td>Algeria</td>\n",
       "      <td>AX03DK01</td>\n",
       "      <td>28.000027</td>\n",
       "      <td>2.999983</td>\n",
       "    </tr>\n",
       "    <tr>\n",
       "      <th>1</th>\n",
       "      <td>0803_01012000_AXDK00-0</td>\n",
       "      <td>Algeria</td>\n",
       "      <td>AX03DK06</td>\n",
       "      <td>28.000027</td>\n",
       "      <td>2.999983</td>\n",
       "    </tr>\n",
       "    <tr>\n",
       "      <th>2</th>\n",
       "      <td>0803_26042014_AXDK00-0</td>\n",
       "      <td>Algeria</td>\n",
       "      <td>AX03DK06</td>\n",
       "      <td>28.000027</td>\n",
       "      <td>2.999983</td>\n",
       "    </tr>\n",
       "    <tr>\n",
       "      <th>3</th>\n",
       "      <td>0802_04042005_AXDK00-0</td>\n",
       "      <td>Denmark</td>\n",
       "      <td>AX02DK07</td>\n",
       "      <td>55.670249</td>\n",
       "      <td>10.333328</td>\n",
       "    </tr>\n",
       "    <tr>\n",
       "      <th>4</th>\n",
       "      <td>0802_18012008_AXDK00-0</td>\n",
       "      <td>Denmark</td>\n",
       "      <td>AX02DK07</td>\n",
       "      <td>55.670249</td>\n",
       "      <td>10.333328</td>\n",
       "    </tr>\n",
       "  </tbody>\n",
       "</table>\n",
       "</div>"
      ],
      "text/plain": [
       "                       ID  Country CloneType   Latitude  Longitude\n",
       "0  1700_04112013_AXDK00-0  Algeria  AX03DK01  28.000027   2.999983\n",
       "1  0803_01012000_AXDK00-0  Algeria  AX03DK06  28.000027   2.999983\n",
       "2  0803_26042014_AXDK00-0  Algeria  AX03DK06  28.000027   2.999983\n",
       "3  0802_04042005_AXDK00-0  Denmark  AX02DK07  55.670249  10.333328\n",
       "4  0802_18012008_AXDK00-0  Denmark  AX02DK07  55.670249  10.333328"
      ]
     },
     "execution_count": 3,
     "metadata": {},
     "output_type": "execute_result"
    }
   ],
   "source": [
    "metadata_with_coordinates = phyloworld.merge_coordinates_with_metadata(metadata)\n",
    "metadata_with_coordinates.head()"
   ]
  },
  {
   "cell_type": "markdown",
   "metadata": {},
   "source": [
    "## Load phylogenetic tree\n",
    "\n",
    "In this part, we just load a phylogenetic tree using the newick format."
   ]
  },
  {
   "cell_type": "code",
   "execution_count": 4,
   "metadata": {},
   "outputs": [
    {
     "name": "stdout",
     "output_type": "stream",
     "text": [
      "Tree(rooted=False, weight=1.0)\n",
      "    Clade()\n",
      "        Clade(branch_length=0.00125, confidence=0.81)\n",
      "            Clade(branch_length=0.0014, confidence=1.0)\n",
      "                Clade(branch_length=0.0126, name='GCF_001559195-1_ASM155919v2_genomic.fasta')\n",
      "                Clade(branch_length=0.00113, confidence=0.48)\n",
      "                    Clade(branch_length=0.00259, confidence=1.0)\n",
      "                        Clade(branch_length=0.01335, name='2605_06072016_AXDK00-0')\n",
      "                        Clade(branch_length=0.01173, confidence=1.0)\n",
      "                            Clade(branch_length=0.00101, name='8605_07052018_AXDK00-0')\n",
      "                            Clade(branch_length=7e-05, name='8605_01062016_AXDK04-0')\n",
      "                    Clade(branch_length=0.00669, confidence=1.0)\n",
      "                        Clade(branch_length=0.00781, name='4203_09102012_AXDK00-0')\n",
      "                        Clade(branch_length=0.00724, confidence=1.0)\n",
      "                            Clade(branch_length=0.00025, name='3203_19092012_AXDK00-0')\n",
      "                            Clade(branch_length=0.0, confidence=0.79)\n",
      "                                Clade(branch_length=0.00011, confidence=0.95)\n",
      "                                    Clade(branch_length=0.00081, name='3203_18042005_AXDK00-0')\n",
      "                                    Clade(branch_length=0.00155, name='3203_07022014_AXDK00-0')\n",
      "                                Clade(branch_length=0.00013, name='3203_01011997_AXDK00-0')\n",
      "            Clade(branch_length=0.00174, confidence=1.0)\n",
      "                Clade(branch_length=0.00194, confidence=1.0)\n",
      "                    Clade(branch_length=0.00355, confidence=1.0)\n",
      "                        Clade(branch_length=0.0128, name='1703_16032010_AXDK00-0')\n",
      "                        Clade(branch_length=0.01526, confidence=1.0)\n",
      "                            Clade(branch_length=9e-05, name='GCF_900475575-1_44257_A01_genomic.fasta')\n",
      "                            Clade(branch_length=4e-05, name='GCF_001457475-1_NCTC10807_genomic.fasta')\n",
      "                    Clade(branch_length=0.00252, confidence=0.98)\n",
      "                        Clade(branch_length=0.01237, name='5803_17012011_AXDK00-0')\n",
      "                        Clade(branch_length=0.01905, name='GCF_000758265-1_ASM75826v1_genomic.fasta')\n",
      "                Clade(branch_length=0.00168, confidence=1.0)\n",
      "                    Clade(branch_length=0.00475, confidence=1.0)\n",
      "                        Clade(branch_length=0.014, name='0903_06012012_AXDK00-0')\n",
      "                        Clade(branch_length=0.01582, confidence=1.0)\n",
      "                            Clade(branch_length=0.00011, name='3504_09012015_AXDK00-0')\n",
      "                            Clade(branch_length=6e-05, name='3504_20122013_AXDK00-0')\n",
      "                    Clade(branch_length=0.00316, confidence=1.0)\n",
      "                        Clade(branch_length=0.01393, confidence=1.0)\n",
      "                            Clade(branch_length=0.00013, name='8404_11122013_AXDK00-1')\n",
      "                            Clade(branch_length=4e-05, confidence=0.82)\n",
      "                                Clade(branch_length=0.00089, name='8404_11122013_AXDK00-0')\n",
      "                                Clade(branch_length=0.00019, name='8404_13022014_AXDK00-0')\n",
      "                        Clade(branch_length=0.01347, confidence=1.0)\n",
      "                            Clade(branch_length=0.00015, name='9403_30102009_AXDK00-0')\n",
      "                            Clade(branch_length=0.0, confidence=0.29)\n",
      "                                Clade(branch_length=8e-05, name='9403_29092004_AXDK00-0')\n",
      "                                Clade(branch_length=0.00021, name='9403_05092016_AXDK00-0')\n",
      "        Clade(branch_length=0.00099, confidence=0.52)\n",
      "            Clade(branch_length=0.01509, name='0604_30122003_AXDK00-0')\n",
      "            Clade(branch_length=0.00321, confidence=1.0)\n",
      "                Clade(branch_length=0.01314, name='0703_23092011_AXDK00-0')\n",
      "                Clade(branch_length=0.01666, name='5204_15082016_AXDK03-0')\n",
      "        Clade(branch_length=0.00102, confidence=0.69)\n",
      "            Clade(branch_length=0.00333, confidence=1.0)\n",
      "                Clade(branch_length=0.01531, confidence=1.0)\n",
      "                    Clade(branch_length=0.00023, name='0610_26012012_AXDK00-0')\n",
      "                    Clade(branch_length=0.00017, name='0610_14092016_AXDK00-0')\n",
      "                Clade(branch_length=0.0141, confidence=1.0)\n",
      "                    Clade(branch_length=0.0003, name='1903_01011996_AXDK00-0')\n",
      "                    Clade(branch_length=0.00023, name='1903_27032006_AXDK00-0')\n",
      "            Clade(branch_length=0.00157, confidence=1.0)\n",
      "                Clade(branch_length=0.00211, confidence=1.0)\n",
      "                    Clade(branch_length=0.00145, confidence=0.2)\n",
      "                        Clade(branch_length=0.00413, confidence=1.0)\n",
      "                            Clade(branch_length=0.01584, confidence=1.0)\n",
      "                                Clade(branch_length=0.00019, name='7603_04042014_AXDK00-0')\n",
      "                                Clade(branch_length=0.0, confidence=0.16)\n",
      "                                    Clade(branch_length=6e-05, name='6203_02102006_AXDK00-0')\n",
      "                                    Clade(branch_length=0.0, confidence=0.59)\n",
      "                                        Clade(branch_length=0.00045, name='7603_18022011_AXDK00-0')\n",
      "                                        Clade(branch_length=0.00034, name='7603_19112008_AXDK00-0')\n",
      "                            Clade(branch_length=0.0177, name='9704_12082016_AXDK00-0')\n",
      "                        Clade(branch_length=0.00278, confidence=1.0)\n",
      "                            Clade(branch_length=0.00399, confidence=0.96)\n",
      "                                Clade(branch_length=0.0356, confidence=1.0)\n",
      "                                    Clade(branch_length=0.04778, name='5611_13012017_AXDK00-0')\n",
      "                                    Clade(branch_length=0.01091, confidence=1.0)\n",
      "                                        Clade(branch_length=0.08945, confidence=1.0)\n",
      "                                            Clade(branch_length=0.00015, name='4703_01012000_AXDK00-0')\n",
      "                                            Clade(branch_length=9e-05, name='4703_16022007_AXDK00-0')\n",
      "                                        Clade(branch_length=0.01266, confidence=1.0)\n",
      "                                            Clade(branch_length=0.06123, name='8511_07042017_AXDK00-0')\n",
      "                                            Clade(branch_length=0.05826, confidence=1.0)\n",
      "                                                Clade(branch_length=0.07828, confidence=1.0)\n",
      "                                                    Clade(branch_length=0.02043, name='GCF_001558915-1_ASM155891v2_genomic.fasta')\n",
      "                                                    Clade(branch_length=0.00565, confidence=0.79)\n",
      "                                                        Clade(branch_length=0.02023, confidence=1.0)\n",
      "                                                            Clade(branch_length=8e-05, confidence=0.94)\n",
      "                                                                Clade(branch_length=0.00074, name='3403_27022012_AXDK00-0')\n",
      "                                                                Clade(branch_length=0.00042, name='5303_07102016_AXDK00-0')\n",
      "                                                            Clade(branch_length=1e-05, confidence=0.71)\n",
      "                                                                Clade(branch_length=0.0, confidence=0.0)\n",
      "                                                                    Clade(branch_length=0.0, confidence=0.83)\n",
      "                                                                        Clade(branch_length=0.00017, confidence=1.0)\n",
      "                                                                            Clade(branch_length=0.00021, confidence=1.0)\n",
      "                                                                                Clade(branch_length=0.00036, name='5604_28082007_AXDK00-0')\n",
      "                                                                                Clade(branch_length=0.00112, name='5604_07102016_AXDK00-0')\n",
      "                                                                            Clade(branch_length=0.00017, confidence=1.0)\n",
      "                                                                                Clade(branch_length=0.00036, name='1903_16122011_AXDK00-0')\n",
      "                                                                                Clade(branch_length=8e-05, confidence=0.98)\n",
      "                                                                                    Clade(branch_length=0.00049, name='1903_01092016_AXDK00-0')\n",
      "                                                                                    Clade(branch_length=0.00019, confidence=1.0)\n",
      "                                                                                        Clade(branch_length=0.00021, name='7703_19012017_AXDK00-0')\n",
      "                                                                                        Clade(branch_length=0.00022, name='7703_16032018_AXDK00-0')\n",
      "                                                                        Clade(branch_length=0.00022, confidence=1.0)\n",
      "                                                                            Clade(branch_length=0.00016, name='9603_28102003_AXDK00-0')\n",
      "                                                                            Clade(branch_length=8e-05, confidence=0.9)\n",
      "                                                                                Clade(branch_length=4e-05, name='9603_28112008_AXDK00-0')\n",
      "                                                                                Clade(branch_length=0.0, confidence=0.63)\n",
      "                                                                                    Clade(branch_length=5e-05, confidence=0.42)\n",
      "                                                                                        Clade(branch_length=0.00045, name='9503_27052014_AXDK00-0')\n",
      "                                                                                        Clade(branch_length=0.00023, name='9603_01042014_AXDK00-0')\n",
      "                                                                                    Clade(branch_length=4e-05, confidence=0.09)\n",
      "                                                                                        Clade(branch_length=0.00024, name='9503_04032011_AXDK00-0')\n",
      "                                                                                        Clade(branch_length=0.00012, name='9503_02012007_AXDK00-0')\n",
      "                                                                    Clade(branch_length=0.00013, confidence=0.99)\n",
      "                                                                        Clade(branch_length=0.00011, confidence=0.99)\n",
      "                                                                            Clade(branch_length=0.00049, name='5303_14012004_AXDK00-0')\n",
      "                                                                            Clade(branch_length=5e-05, confidence=0.84)\n",
      "                                                                                Clade(branch_length=6e-05, confidence=0.92)\n",
      "                                                                                    Clade(branch_length=0.00019, name='3704_27062014_AXDK00-0')\n",
      "                                                                                    Clade(branch_length=4e-05, confidence=0.81)\n",
      "                                                                                        Clade(branch_length=6e-05, name='3704_08022008_AXDK00-0')\n",
      "                                                                                        Clade(branch_length=4e-05, confidence=0.85)\n",
      "                                                                                            Clade(branch_length=0.0007, name='4703_18022015_AXDK00-0')\n",
      "                                                                                            Clade(branch_length=0.00019, name='4203_09122014_AXDK00-0')\n",
      "                                                                                Clade(branch_length=8e-05, confidence=0.92)\n",
      "                                                                                    Clade(branch_length=0.00031, name='5303_14102009_AXDK00-0')\n",
      "                                                                                    Clade(branch_length=0.00014, name='3704_26112003_AXDK00-0')\n",
      "                                                                        Clade(branch_length=4e-05, confidence=0.88)\n",
      "                                                                            Clade(branch_length=0.00047, name='8703_15032017_AXDK00-0')\n",
      "                                                                            Clade(branch_length=0.00015, confidence=1.0)\n",
      "                                                                                Clade(branch_length=0.00134, name='1705_30032007_AXDK00-0')\n",
      "                                                                                Clade(branch_length=0.00012, confidence=0.98)\n",
      "                                                                                    Clade(branch_length=0.00022, name='6004_19062007_AXDK00-0')\n",
      "                                                                                    Clade(branch_length=0.00011, confidence=0.97)\n",
      "                                                                                        Clade(branch_length=0.00045, name='1705_21052013_AXDK00-0')\n",
      "                                                                                        Clade(branch_length=0.00071, name='1705_25012010_AXDK00-0')\n",
      "                                                                Clade(branch_length=0.00032, name='3403_06102003_AXDK00-0')\n",
      "                                                        Clade(branch_length=0.00513, confidence=1.0)\n",
      "                                                            Clade(branch_length=0.01791, name='GCF_001051055-1_ASM105105v1_genomic.fasta')\n",
      "                                                            Clade(branch_length=0.00359, confidence=0.99)\n",
      "                                                                Clade(branch_length=0.01747, name='4104_02122014_AXDK00-0')\n",
      "                                                                Clade(branch_length=0.01728, name='7402_26022014_AXDK00-0')\n",
      "                                                Clade(branch_length=0.02175, confidence=1.0)\n",
      "                                                    Clade(branch_length=0.6318, confidence=1.0)\n",
      "                                                        Clade(branch_length=0.13437, name='GCF_000165835-1_ASM16583v1_genomic.fasta')\n",
      "                                                        Clade(branch_length=0.05843, confidence=1.0)\n",
      "                                                            Clade(branch_length=0.07601, name='2202_04012011_AXDK00-0')\n",
      "                                                            Clade(branch_length=0.08061, name='7603_01011997_AXDK00-0')\n",
      "                                                    Clade(branch_length=0.03348, confidence=1.0)\n",
      "                                                        Clade(branch_length=0.05542, confidence=1.0)\n",
      "                                                            Clade(branch_length=4e-05, confidence=0.93)\n",
      "                                                                Clade(branch_length=0.00015, name='0802_04042005_AXDK00-0')\n",
      "                                                                Clade(branch_length=6e-05, name='0802_18012008_AXDK00-0')\n",
      "                                                            Clade(branch_length=0.0, confidence=0.86)\n",
      "                                                                Clade(branch_length=0.00015, name='0603_08102003_AXDK00-0')\n",
      "                                                                Clade(branch_length=4e-05, confidence=0.28)\n",
      "                                                                    Clade(branch_length=0.00025, name='0603_03012007_AXDK00-0')\n",
      "                                                                    Clade(branch_length=0.0004, name='6203_24092018_AXDK00-0')\n",
      "                                                        Clade(branch_length=0.0534, confidence=1.0)\n",
      "                                                            Clade(branch_length=0.00373, confidence=1.0)\n",
      "                                                                Clade(branch_length=0.01527, confidence=1.0)\n",
      "                                                                    Clade(branch_length=0.0001, name='6004_30102015_AXDK00-0')\n",
      "                                                                    Clade(branch_length=0.00061, name='6604_17022016_AXDK00-0')\n",
      "                                                                Clade(branch_length=0.00348, confidence=0.87)\n",
      "                                                                    Clade(branch_length=0.01489, name='6203_12122015_AXDK00-0')\n",
      "                                                                    Clade(branch_length=0.01589, name='9704_29072010_AXDK00-0')\n",
      "                                                            Clade(branch_length=0.00214, confidence=1.0)\n",
      "                                                                Clade(branch_length=0.00077, confidence=0.28)\n",
      "                                                                    Clade(branch_length=0.00129, confidence=0.94)\n",
      "                                                                        Clade(branch_length=0.00283, confidence=0.96)\n",
      "                                                                            Clade(branch_length=0.01516, name='GCF_001558755-2_ASM155875v2_genomic.fasta')\n",
      "                                                                            Clade(branch_length=0.01459, confidence=1.0)\n",
      "                                                                                Clade(branch_length=0.00023, name='8504_05012016_AXDK02-1')\n",
      "                                                                                Clade(branch_length=0.00013, name='8504_05012016_AXDK02-0')\n",
      "                                                                        Clade(branch_length=0.01702, name='2005_03022017_AXDK00-0')\n",
      "                                                                    Clade(branch_length=0.00318, confidence=1.0)\n",
      "                                                                        Clade(branch_length=0.01464, confidence=1.0)\n",
      "                                                                            Clade(branch_length=6e-05, name='9902_01011996_AXDK00-0')\n",
      "                                                                            Clade(branch_length=2e-05, confidence=0.8)\n",
      "                                                                                Clade(branch_length=0.0003, name='9902_26012009_AXDK00-0')\n",
      "                                                                                Clade(branch_length=0.00138, name='9902_01032004_AXDK00-0')\n",
      "                                                                        Clade(branch_length=0.01738, name='5103_07102016_AXDK00-0')\n",
      "                                                                Clade(branch_length=0.00289, confidence=1.0)\n",
      "                                                                    Clade(branch_length=0.01445, name='8104_29042011_AXDK00-0')\n",
      "                                                                    Clade(branch_length=0.01739, name='9203_01012000_AXDK00-0')\n",
      "                                Clade(branch_length=0.00941, confidence=1.0)\n",
      "                                    Clade(branch_length=0.0223, confidence=1.0)\n",
      "                                        Clade(branch_length=0.00053, name='9203_13122011_AXDK00-0')\n",
      "                                        Clade(branch_length=5e-05, name='9203_08042016_AXDK00-0')\n",
      "                                    Clade(branch_length=0.02254, confidence=1.0)\n",
      "                                        Clade(branch_length=0.00081, name='6604_25012007_AXDK00-0')\n",
      "                                        Clade(branch_length=0.0, confidence=0.85)\n",
      "                                            Clade(branch_length=0.00021, name='6804_08032006_AXDK00-0')\n",
      "                                            Clade(branch_length=8e-05, name='6203_01012000_AXDK00-0')\n",
      "                            Clade(branch_length=0.00504, confidence=1.0)\n",
      "                                Clade(branch_length=0.01579, confidence=1.0)\n",
      "                                    Clade(branch_length=0.00358, name='1704_01011999_AXDK00-0')\n",
      "                                    Clade(branch_length=8e-05, name='1704_07022011_AXDK00-0')\n",
      "                                Clade(branch_length=0.01288, confidence=1.0)\n",
      "                                    Clade(branch_length=0.00409, name='2103_11042016_AXDK00-0')\n",
      "                                    Clade(branch_length=0.00344, confidence=1.0)\n",
      "                                        Clade(branch_length=0.00015, name='8603_27082014_AXDK00-0')\n",
      "                                        Clade(branch_length=6e-05, name='8603_03072008_AXDK00-0')\n",
      "                    Clade(branch_length=0.00439, confidence=1.0)\n",
      "                        Clade(branch_length=0.01953, confidence=1.0)\n",
      "                            Clade(branch_length=0.00015, name='0703_07082013_AXDK00-0')\n",
      "                            Clade(branch_length=0.0006, name='6402_27032017_AXDK00-0')\n",
      "                        Clade(branch_length=0.01412, confidence=1.0)\n",
      "                            Clade(branch_length=6e-05, name='0803_01012000_AXDK00-0')\n",
      "                            Clade(branch_length=2e-05, confidence=0.71)\n",
      "                                Clade(branch_length=0.00023, name='0803_27042007_AXDK00-0')\n",
      "                                Clade(branch_length=0.00017, name='0803_26042014_AXDK00-0')\n",
      "                Clade(branch_length=0.00292, confidence=1.0)\n",
      "                    Clade(branch_length=0.01695, name='3004_24042007_AXDK00-0')\n",
      "                    Clade(branch_length=0.01388, name='1700_04112013_AXDK00-0')\n"
     ]
    }
   ],
   "source": [
    "tree = Phylo.read(\"data/tree.nwk\", \"newick\")\n",
    "print(tree)"
   ]
  },
  {
   "cell_type": "markdown",
   "metadata": {},
   "source": [
    "## Generate phylogenetic tree plot:\n",
    "\n",
    "### Using random colors and without confidence labels"
   ]
  },
  {
   "cell_type": "code",
   "execution_count": 5,
   "metadata": {},
   "outputs": [
    {
     "data": {
      "application/vnd.plotly.v1+json": {
       "config": {
        "plotlyServerURL": "https://plot.ly"
       },
       "data": [
        {
         "hoverinfo": "text",
         "marker": {
          "color": [
           "#a25b7c",
           "#a25b7c",
           "#a25b7c",
           "#a25b7c",
           "#310511",
           "#310511",
           "#1495c5",
           "#1495c5",
           "#1495c5",
           "#310511",
           "#310511",
           "#310511",
           "#310511",
           "#310511",
           "#310511",
           "#310511",
           "#310511",
           "#310511",
           "#310511",
           "#310511",
           "#310511",
           "#310511",
           "#310511",
           "#1495c5",
           "#310511",
           "#310511",
           "#1495c5",
           "#1495c5",
           "#310511",
           "#1495c5",
           "#310511",
           "#310511",
           "#310511",
           "#310511",
           "#1495c5",
           "#0ae43a",
           "#80c177",
           "#80c177",
           "#80c177",
           "#501795",
           "#74d3d7",
           "#501795",
           "#501795",
           "#501795",
           "#74d3d7",
           "#74d3d7",
           "#cb7e9d",
           "#cb7e9d",
           "#ebd03d",
           "#ebd03d",
           "#ebd03d",
           "#ebd03d",
           "#ebd03d",
           "#ebd03d",
           "#ebd03d",
           "#cb7e9d",
           "#cb7e9d",
           "#ebd03d",
           "#ebd03d",
           "#ebd03d",
           "#cb7e9d",
           "#8eff4a",
           "#74d3d7",
           "#cb7e9d",
           "#74d3d7",
           "#74d3d7",
           "#501795",
           "#74d3d7",
           "#74d3d7",
           "#74d3d7",
           "#c30908",
           "#c30908",
           "#c30908",
           "#6298c2",
           "#6298c2",
           "#7979ff",
           "#7979ff",
           "#7979ff",
           "#6298c2",
           "#6298c2",
           "#6298c2",
           "#6298c2",
           "#6298c2",
           "#310511",
           "#310511",
           "#6298c2",
           "#6298c2",
           "#6298c2",
           "#6298c2",
           "#6298c2",
           "#6298c2",
           "#6298c2",
           "#0ae43a",
           "#0ae43a",
           "#534857",
           "#534857",
           "#534857",
           "#0ae43a",
           "#0ae43a",
           "#534857",
           "#b8646a",
           "#b8646a",
           "#b8646a",
           "#b8646a",
           "#412c37",
           "#534857",
           "#412c37",
           "#b8646a",
           "#412c37"
          ],
          "size": 5
         },
         "mode": "markers",
         "name": "Countries",
         "text": [
          "Country: Canada<br>ID: GCF_001559195-1_ASM155919v2_genomic.fasta",
          "Country: Canada<br>ID: 2605_06072016_AXDK00-0",
          "Country: Canada<br>ID: 8605_07052018_AXDK00-0",
          "Country: Canada<br>ID: 8605_01062016_AXDK04-0",
          "Country: United States<br>ID: 4203_09102012_AXDK00-0",
          "Country: United States<br>ID: 3203_19092012_AXDK00-0",
          "Country: Mexico<br>ID: 3203_18042005_AXDK00-0",
          "Country: Mexico<br>ID: 3203_07022014_AXDK00-0",
          "Country: Mexico<br>ID: 3203_01011997_AXDK00-0",
          "Country: United States<br>ID: 1703_16032010_AXDK00-0",
          "Country: United States<br>ID: GCF_900475575-1_44257_A01_genomic.fasta",
          "Country: United States<br>ID: GCF_001457475-1_NCTC10807_genomic.fasta",
          "Country: United States<br>ID: 5803_17012011_AXDK00-0",
          "Country: United States<br>ID: GCF_000758265-1_ASM75826v1_genomic.fasta",
          "Country: United States<br>ID: 0903_06012012_AXDK00-0",
          "Country: United States<br>ID: 3504_09012015_AXDK00-0",
          "Country: United States<br>ID: 3504_20122013_AXDK00-0",
          "Country: United States<br>ID: 8404_11122013_AXDK00-1",
          "Country: United States<br>ID: 8404_11122013_AXDK00-0",
          "Country: United States<br>ID: 8404_13022014_AXDK00-0",
          "Country: United States<br>ID: 9403_30102009_AXDK00-0",
          "Country: United States<br>ID: 9403_29092004_AXDK00-0",
          "Country: United States<br>ID: 9403_05092016_AXDK00-0",
          "Country: Mexico<br>ID: 0604_30122003_AXDK00-0",
          "Country: United States<br>ID: 0703_23092011_AXDK00-0",
          "Country: United States<br>ID: 5204_15082016_AXDK03-0",
          "Country: Mexico<br>ID: 0610_26012012_AXDK00-0",
          "Country: Mexico<br>ID: 0610_14092016_AXDK00-0",
          "Country: United States<br>ID: 1903_01011996_AXDK00-0",
          "Country: Mexico<br>ID: 1903_27032006_AXDK00-0",
          "Country: United States<br>ID: 7603_04042014_AXDK00-0",
          "Country: United States<br>ID: 6203_02102006_AXDK00-0",
          "Country: United States<br>ID: 7603_18022011_AXDK00-0",
          "Country: United States<br>ID: 7603_19112008_AXDK00-0",
          "Country: Mexico<br>ID: 9704_12082016_AXDK00-0",
          "Country: Egypt<br>ID: 5611_13012017_AXDK00-0",
          "Country: Turkey<br>ID: 4703_01012000_AXDK00-0",
          "Country: Turkey<br>ID: 4703_16022007_AXDK00-0",
          "Country: Turkey<br>ID: 8511_07042017_AXDK00-0",
          "Country: Spain<br>ID: GCF_001558915-1_ASM155891v2_genomic.fasta",
          "Country: Italy<br>ID: 3403_27022012_AXDK00-0",
          "Country: Spain<br>ID: 5303_07102016_AXDK00-0",
          "Country: Spain<br>ID: 5604_28082007_AXDK00-0",
          "Country: Spain<br>ID: 5604_07102016_AXDK00-0",
          "Country: Italy<br>ID: 1903_16122011_AXDK00-0",
          "Country: Italy<br>ID: 1903_01092016_AXDK00-0",
          "Country: France<br>ID: 7703_19012017_AXDK00-0",
          "Country: France<br>ID: 7703_16032018_AXDK00-0",
          "Country: Poland<br>ID: 9603_28102003_AXDK00-0",
          "Country: Poland<br>ID: 9603_28112008_AXDK00-0",
          "Country: Poland<br>ID: 9503_27052014_AXDK00-0",
          "Country: Poland<br>ID: 9603_01042014_AXDK00-0",
          "Country: Poland<br>ID: 9503_04032011_AXDK00-0",
          "Country: Poland<br>ID: 9503_02012007_AXDK00-0",
          "Country: Poland<br>ID: 5303_14012004_AXDK00-0",
          "Country: France<br>ID: 3704_27062014_AXDK00-0",
          "Country: France<br>ID: 3704_08022008_AXDK00-0",
          "Country: Poland<br>ID: 4703_18022015_AXDK00-0",
          "Country: Poland<br>ID: 4203_09122014_AXDK00-0",
          "Country: Poland<br>ID: 5303_14102009_AXDK00-0",
          "Country: France<br>ID: 3704_26112003_AXDK00-0",
          "Country: Germany<br>ID: 8703_15032017_AXDK00-0",
          "Country: Italy<br>ID: 1705_30032007_AXDK00-0",
          "Country: France<br>ID: 6004_19062007_AXDK00-0",
          "Country: Italy<br>ID: 1705_21052013_AXDK00-0",
          "Country: Italy<br>ID: 1705_25012010_AXDK00-0",
          "Country: Spain<br>ID: 3403_06102003_AXDK00-0",
          "Country: Italy<br>ID: GCF_001051055-1_ASM105105v1_genomic.fasta",
          "Country: Italy<br>ID: 4104_02122014_AXDK00-0",
          "Country: Italy<br>ID: 7402_26022014_AXDK00-0",
          "Country: Lithuania<br>ID: GCF_000165835-1_ASM16583v1_genomic.fasta",
          "Country: Lithuania<br>ID: 2202_04012011_AXDK00-0",
          "Country: Lithuania<br>ID: 7603_01011997_AXDK00-0",
          "Country: Denmark<br>ID: 0802_04042005_AXDK00-0",
          "Country: Denmark<br>ID: 0802_18012008_AXDK00-0",
          "Country: Estonia<br>ID: 0603_08102003_AXDK00-0",
          "Country: Estonia<br>ID: 0603_03012007_AXDK00-0",
          "Country: Estonia<br>ID: 6203_24092018_AXDK00-0",
          "Country: Denmark<br>ID: 6004_30102015_AXDK00-0",
          "Country: Denmark<br>ID: 6604_17022016_AXDK00-0",
          "Country: Denmark<br>ID: 6203_12122015_AXDK00-0",
          "Country: Denmark<br>ID: 9704_29072010_AXDK00-0",
          "Country: Denmark<br>ID: GCF_001558755-2_ASM155875v2_genomic.fasta",
          "Country: United States<br>ID: 8504_05012016_AXDK02-1",
          "Country: United States<br>ID: 8504_05012016_AXDK02-0",
          "Country: Denmark<br>ID: 2005_03022017_AXDK00-0",
          "Country: Denmark<br>ID: 9902_01011996_AXDK00-0",
          "Country: Denmark<br>ID: 9902_26012009_AXDK00-0",
          "Country: Denmark<br>ID: 9902_01032004_AXDK00-0",
          "Country: Denmark<br>ID: 5103_07102016_AXDK00-0",
          "Country: Denmark<br>ID: 8104_29042011_AXDK00-0",
          "Country: Denmark<br>ID: 9203_01012000_AXDK00-0",
          "Country: Egypt<br>ID: 9203_13122011_AXDK00-0",
          "Country: Egypt<br>ID: 9203_08042016_AXDK00-0",
          "Country: Libya<br>ID: 6604_25012007_AXDK00-0",
          "Country: Libya<br>ID: 6804_08032006_AXDK00-0",
          "Country: Libya<br>ID: 6203_01012000_AXDK00-0",
          "Country: Egypt<br>ID: 1704_01011999_AXDK00-0",
          "Country: Egypt<br>ID: 1704_07022011_AXDK00-0",
          "Country: Libya<br>ID: 2103_11042016_AXDK00-0",
          "Country: Angola<br>ID: 8603_27082014_AXDK00-0",
          "Country: Angola<br>ID: 8603_03072008_AXDK00-0",
          "Country: Angola<br>ID: 0703_07082013_AXDK00-0",
          "Country: Angola<br>ID: 6402_27032017_AXDK00-0",
          "Country: Algeria<br>ID: 0803_01012000_AXDK00-0",
          "Country: Libya<br>ID: 0803_27042007_AXDK00-0",
          "Country: Algeria<br>ID: 0803_26042014_AXDK00-0",
          "Country: Angola<br>ID: 3004_24042007_AXDK00-0",
          "Country: Algeria<br>ID: 1700_04112013_AXDK00-0"
         ],
         "type": "scatter",
         "x": [
          0.01525,
          0.01972,
          0.019110000000000002,
          0.018170000000000002,
          0.01828,
          0.01796,
          0.01863,
          0.01937,
          0.01784,
          0.02128,
          0.02383,
          0.02378,
          0.01982,
          0.026500000000000003,
          0.023420000000000003,
          0.02535,
          0.025300000000000003,
          0.021890000000000003,
          0.02269,
          0.02199,
          0.02145,
          0.02138,
          0.021509999999999998,
          0.01608,
          0.01734,
          0.020860000000000004,
          0.01989,
          0.01983,
          0.018750000000000003,
          0.018680000000000002,
          0.02631,
          0.026180000000000002,
          0.02657,
          0.02646,
          0.02798,
          0.0963,
          0.14903000000000002,
          0.14897000000000002,
          0.13332,
          0.22905999999999999,
          0.23532999999999996,
          0.23500999999999997,
          0.23525999999999997,
          0.23601999999999998,
          0.23521999999999998,
          0.23542999999999997,
          0.23533999999999997,
          0.23534999999999998,
          0.23489999999999997,
          0.23485999999999999,
          0.23531999999999997,
          0.23509999999999998,
          0.23509999999999998,
          0.23498,
          0.23524999999999996,
          0.23505999999999996,
          0.23496999999999998,
          0.23565,
          0.23514,
          0.23519999999999996,
          0.23502999999999996,
          0.23515999999999998,
          0.23618,
          0.23518,
          0.23552,
          0.23578,
          0.23483999999999997,
          0.23731999999999998,
          0.24046999999999996,
          0.24027999999999997,
          0.91827,
          0.91834,
          0.92294,
          0.24119000000000002,
          0.2411,
          0.24115,
          0.24129,
          0.24144000000000002,
          0.25808,
          0.25859,
          0.26108000000000003,
          0.26208000000000004,
          0.26117,
          0.26083,
          0.26073,
          0.2602,
          0.25977,
          0.26003000000000004,
          0.26111,
          0.26244999999999996,
          0.25846,
          0.2614,
          0.045160000000000006,
          0.044680000000000004,
          0.045680000000000005,
          0.04508000000000001,
          0.044950000000000004,
          0.033339999999999995,
          0.02984,
          0.03094,
          0.03044,
          0.03035,
          0.02877,
          0.02922,
          0.023270000000000002,
          0.02346,
          0.0234,
          0.02246,
          0.01939
         ],
         "y": [
          -31.400000000000006,
          -30.099999999999994,
          -28.80000000000001,
          -27.5,
          -26.200000000000017,
          -24.900000000000006,
          -23.599999999999994,
          -22.30000000000001,
          -21,
          -19.700000000000017,
          -18.400000000000006,
          -17.10000000000001,
          -15.800000000000011,
          -14.5,
          -13.200000000000003,
          -11.900000000000006,
          -10.600000000000009,
          -9.299999999999997,
          -8,
          -6.700000000000003,
          -5.400000000000006,
          -4.1000000000000085,
          -2.799999999999997,
          -1.5,
          -0.20000000000000284,
          1.0999999999999943,
          2.3999999999999915,
          3.700000000000003,
          5,
          6.299999999999997,
          7.599999999999994,
          8.899999999999991,
          10.200000000000003,
          11.5,
          12.799999999999997,
          14.099999999999994,
          15.399999999999991,
          16.700000000000003,
          18,
          19.299999999999997,
          20.599999999999994,
          21.89999999999999,
          23.200000000000003,
          24.5,
          25.799999999999997,
          27.099999999999994,
          28.39999999999999,
          29.700000000000003,
          31,
          32.3,
          33.599999999999994,
          34.89999999999999,
          36.2,
          37.5,
          38.8,
          40.099999999999994,
          41.39999999999999,
          42.7,
          44,
          45.3,
          46.599999999999994,
          47.9,
          49.199999999999996,
          50.5,
          51.8,
          53.1,
          54.4,
          55.699999999999996,
          57,
          58.3,
          59.6,
          60.9,
          62.199999999999996,
          63.5,
          64.8,
          66.1,
          67.4,
          68.69999999999999,
          70,
          71.3,
          72.6,
          73.9,
          75.19999999999999,
          76.5,
          77.8,
          79.1,
          80.4,
          81.7,
          83,
          84.3,
          85.6,
          86.9,
          88.2,
          89.5,
          90.8,
          92.1,
          93.4,
          94.7,
          96,
          97.3,
          98.6,
          99.9,
          101.2,
          102.5,
          103.8,
          105.1,
          106.4,
          107.7,
          109
         ]
        }
       ],
       "layout": {
        "height": 600,
        "hovermode": "closest",
        "legend": {
         "x": 0,
         "y": 1
        },
        "paper_bgcolor": "rgba(0,0,0,0)",
        "plot_bgcolor": "rgb(250,250,250)",
        "shapes": [
         {
          "layer": "below",
          "line": {
           "color": "rgb(25,25,25)",
           "width": 1
          },
          "type": "line",
          "x0": 0,
          "x1": 0,
          "y0": 13.218886733055111,
          "y1": 13.218886733055111
         },
         {
          "layer": "below",
          "line": {
           "color": "rgb(25,25,25)",
           "width": 1
          },
          "type": "line",
          "x0": 0,
          "x1": 0,
          "y0": 47.59011721611023,
          "y1": -21.152343750000007
         },
         {
          "layer": "below",
          "line": {
           "color": "rgb(25,25,25)",
           "width": 1
          },
          "type": "line",
          "x0": 0,
          "x1": 0.00125,
          "y0": -21.152343750000007,
          "y1": -21.152343750000007
         },
         {
          "layer": "below",
          "line": {
           "color": "rgb(25,25,25)",
           "width": 1
          },
          "type": "line",
          "x0": 0.00125,
          "x1": 0.00125,
          "y0": -13.118750000000006,
          "y1": -29.185937500000005
         },
         {
          "layer": "below",
          "line": {
           "color": "rgb(25,25,25)",
           "width": 1
          },
          "type": "line",
          "x0": 0.00125,
          "x1": 0.00265,
          "y0": -29.185937500000005,
          "y1": -29.185937500000005
         },
         {
          "layer": "below",
          "line": {
           "color": "rgb(25,25,25)",
           "width": 1
          },
          "type": "line",
          "x0": 0.00265,
          "x1": 0.00265,
          "y0": -26.971875000000004,
          "y1": -31.400000000000006
         },
         {
          "layer": "below",
          "line": {
           "color": "rgb(25,25,25)",
           "width": 1
          },
          "type": "line",
          "x0": 0.00265,
          "x1": 0.01525,
          "y0": -31.400000000000006,
          "y1": -31.400000000000006
         },
         {
          "layer": "below",
          "line": {
           "color": "rgb(25,25,25)",
           "width": 1
          },
          "type": "line",
          "x0": 0.00265,
          "x1": 0.00378,
          "y0": -26.971875000000004,
          "y1": -26.971875000000004
         },
         {
          "layer": "below",
          "line": {
           "color": "rgb(25,25,25)",
           "width": 1
          },
          "type": "line",
          "x0": 0.00378,
          "x1": 0.00378,
          "y0": -24.81875000000001,
          "y1": -29.125
         },
         {
          "layer": "below",
          "line": {
           "color": "rgb(25,25,25)",
           "width": 1
          },
          "type": "line",
          "x0": 0.00378,
          "x1": 0.00637,
          "y0": -29.125,
          "y1": -29.125
         },
         {
          "layer": "below",
          "line": {
           "color": "rgb(25,25,25)",
           "width": 1
          },
          "type": "line",
          "x0": 0.00637,
          "x1": 0.00637,
          "y0": -28.150000000000006,
          "y1": -30.099999999999994
         },
         {
          "layer": "below",
          "line": {
           "color": "rgb(25,25,25)",
           "width": 1
          },
          "type": "line",
          "x0": 0.00637,
          "x1": 0.01972,
          "y0": -30.099999999999994,
          "y1": -30.099999999999994
         },
         {
          "layer": "below",
          "line": {
           "color": "rgb(25,25,25)",
           "width": 1
          },
          "type": "line",
          "x0": 0.00637,
          "x1": 0.0181,
          "y0": -28.150000000000006,
          "y1": -28.150000000000006
         },
         {
          "layer": "below",
          "line": {
           "color": "rgb(25,25,25)",
           "width": 1
          },
          "type": "line",
          "x0": 0.0181,
          "x1": 0.0181,
          "y0": -27.5,
          "y1": -28.80000000000001
         },
         {
          "layer": "below",
          "line": {
           "color": "rgb(25,25,25)",
           "width": 1
          },
          "type": "line",
          "x0": 0.0181,
          "x1": 0.019110000000000002,
          "y0": -28.80000000000001,
          "y1": -28.80000000000001
         },
         {
          "layer": "below",
          "line": {
           "color": "rgb(25,25,25)",
           "width": 1
          },
          "type": "line",
          "x0": 0.0181,
          "x1": 0.018170000000000002,
          "y0": -27.5,
          "y1": -27.5
         },
         {
          "layer": "below",
          "line": {
           "color": "rgb(25,25,25)",
           "width": 1
          },
          "type": "line",
          "x0": 0.00378,
          "x1": 0.01047,
          "y0": -24.81875000000001,
          "y1": -24.81875000000001
         },
         {
          "layer": "below",
          "line": {
           "color": "rgb(25,25,25)",
           "width": 1
          },
          "type": "line",
          "x0": 0.01047,
          "x1": 0.01047,
          "y0": -23.437500000000004,
          "y1": -26.200000000000017
         },
         {
          "layer": "below",
          "line": {
           "color": "rgb(25,25,25)",
           "width": 1
          },
          "type": "line",
          "x0": 0.01047,
          "x1": 0.01828,
          "y0": -26.200000000000017,
          "y1": -26.200000000000017
         },
         {
          "layer": "below",
          "line": {
           "color": "rgb(25,25,25)",
           "width": 1
          },
          "type": "line",
          "x0": 0.01047,
          "x1": 0.01771,
          "y0": -23.437500000000004,
          "y1": -23.437500000000004
         },
         {
          "layer": "below",
          "line": {
           "color": "rgb(25,25,25)",
           "width": 1
          },
          "type": "line",
          "x0": 0.01771,
          "x1": 0.01771,
          "y0": -21.975,
          "y1": -24.900000000000006
         },
         {
          "layer": "below",
          "line": {
           "color": "rgb(25,25,25)",
           "width": 1
          },
          "type": "line",
          "x0": 0.01771,
          "x1": 0.01796,
          "y0": -24.900000000000006,
          "y1": -24.900000000000006
         },
         {
          "layer": "below",
          "line": {
           "color": "rgb(25,25,25)",
           "width": 1
          },
          "type": "line",
          "x0": 0.01771,
          "x1": 0.01771,
          "y0": -21.975,
          "y1": -21.975
         },
         {
          "layer": "below",
          "line": {
           "color": "rgb(25,25,25)",
           "width": 1
          },
          "type": "line",
          "x0": 0.01771,
          "x1": 0.01771,
          "y0": -21,
          "y1": -22.950000000000003
         },
         {
          "layer": "below",
          "line": {
           "color": "rgb(25,25,25)",
           "width": 1
          },
          "type": "line",
          "x0": 0.01771,
          "x1": 0.01782,
          "y0": -22.950000000000003,
          "y1": -22.950000000000003
         },
         {
          "layer": "below",
          "line": {
           "color": "rgb(25,25,25)",
           "width": 1
          },
          "type": "line",
          "x0": 0.01782,
          "x1": 0.01782,
          "y0": -22.30000000000001,
          "y1": -23.599999999999994
         },
         {
          "layer": "below",
          "line": {
           "color": "rgb(25,25,25)",
           "width": 1
          },
          "type": "line",
          "x0": 0.01782,
          "x1": 0.01863,
          "y0": -23.599999999999994,
          "y1": -23.599999999999994
         },
         {
          "layer": "below",
          "line": {
           "color": "rgb(25,25,25)",
           "width": 1
          },
          "type": "line",
          "x0": 0.01782,
          "x1": 0.01937,
          "y0": -22.30000000000001,
          "y1": -22.30000000000001
         },
         {
          "layer": "below",
          "line": {
           "color": "rgb(25,25,25)",
           "width": 1
          },
          "type": "line",
          "x0": 0.01771,
          "x1": 0.01784,
          "y0": -21,
          "y1": -21
         },
         {
          "layer": "below",
          "line": {
           "color": "rgb(25,25,25)",
           "width": 1
          },
          "type": "line",
          "x0": 0.00125,
          "x1": 0.00299,
          "y0": -13.118750000000006,
          "y1": -13.118750000000006
         },
         {
          "layer": "below",
          "line": {
           "color": "rgb(25,25,25)",
           "width": 1
          },
          "type": "line",
          "x0": 0.00299,
          "x1": 0.00299,
          "y0": -9.300000000000004,
          "y1": -16.937500000000007
         },
         {
          "layer": "below",
          "line": {
           "color": "rgb(25,25,25)",
           "width": 1
          },
          "type": "line",
          "x0": 0.00299,
          "x1": 0.00493,
          "y0": -16.937500000000007,
          "y1": -16.937500000000007
         },
         {
          "layer": "below",
          "line": {
           "color": "rgb(25,25,25)",
           "width": 1
          },
          "type": "line",
          "x0": 0.00493,
          "x1": 0.00493,
          "y0": -15.150000000000006,
          "y1": -18.725000000000012
         },
         {
          "layer": "below",
          "line": {
           "color": "rgb(25,25,25)",
           "width": 1
          },
          "type": "line",
          "x0": 0.00493,
          "x1": 0.008480000000000001,
          "y0": -18.725000000000012,
          "y1": -18.725000000000012
         },
         {
          "layer": "below",
          "line": {
           "color": "rgb(25,25,25)",
           "width": 1
          },
          "type": "line",
          "x0": 0.008480000000000001,
          "x1": 0.008480000000000001,
          "y0": -17.750000000000007,
          "y1": -19.700000000000017
         },
         {
          "layer": "below",
          "line": {
           "color": "rgb(25,25,25)",
           "width": 1
          },
          "type": "line",
          "x0": 0.008480000000000001,
          "x1": 0.02128,
          "y0": -19.700000000000017,
          "y1": -19.700000000000017
         },
         {
          "layer": "below",
          "line": {
           "color": "rgb(25,25,25)",
           "width": 1
          },
          "type": "line",
          "x0": 0.008480000000000001,
          "x1": 0.02374,
          "y0": -17.750000000000007,
          "y1": -17.750000000000007
         },
         {
          "layer": "below",
          "line": {
           "color": "rgb(25,25,25)",
           "width": 1
          },
          "type": "line",
          "x0": 0.02374,
          "x1": 0.02374,
          "y0": -17.10000000000001,
          "y1": -18.400000000000006
         },
         {
          "layer": "below",
          "line": {
           "color": "rgb(25,25,25)",
           "width": 1
          },
          "type": "line",
          "x0": 0.02374,
          "x1": 0.02383,
          "y0": -18.400000000000006,
          "y1": -18.400000000000006
         },
         {
          "layer": "below",
          "line": {
           "color": "rgb(25,25,25)",
           "width": 1
          },
          "type": "line",
          "x0": 0.02374,
          "x1": 0.02378,
          "y0": -17.10000000000001,
          "y1": -17.10000000000001
         },
         {
          "layer": "below",
          "line": {
           "color": "rgb(25,25,25)",
           "width": 1
          },
          "type": "line",
          "x0": 0.00493,
          "x1": 0.00745,
          "y0": -15.150000000000006,
          "y1": -15.150000000000006
         },
         {
          "layer": "below",
          "line": {
           "color": "rgb(25,25,25)",
           "width": 1
          },
          "type": "line",
          "x0": 0.00745,
          "x1": 0.00745,
          "y0": -14.5,
          "y1": -15.800000000000011
         },
         {
          "layer": "below",
          "line": {
           "color": "rgb(25,25,25)",
           "width": 1
          },
          "type": "line",
          "x0": 0.00745,
          "x1": 0.01982,
          "y0": -15.800000000000011,
          "y1": -15.800000000000011
         },
         {
          "layer": "below",
          "line": {
           "color": "rgb(25,25,25)",
           "width": 1
          },
          "type": "line",
          "x0": 0.00745,
          "x1": 0.026500000000000003,
          "y0": -14.5,
          "y1": -14.5
         },
         {
          "layer": "below",
          "line": {
           "color": "rgb(25,25,25)",
           "width": 1
          },
          "type": "line",
          "x0": 0.00299,
          "x1": 0.0046700000000000005,
          "y0": -9.300000000000004,
          "y1": -9.300000000000004
         },
         {
          "layer": "below",
          "line": {
           "color": "rgb(25,25,25)",
           "width": 1
          },
          "type": "line",
          "x0": 0.0046700000000000005,
          "x1": 0.0046700000000000005,
          "y0": -6.375000000000002,
          "y1": -12.225000000000005
         },
         {
          "layer": "below",
          "line": {
           "color": "rgb(25,25,25)",
           "width": 1
          },
          "type": "line",
          "x0": 0.0046700000000000005,
          "x1": 0.009420000000000001,
          "y0": -12.225000000000005,
          "y1": -12.225000000000005
         },
         {
          "layer": "below",
          "line": {
           "color": "rgb(25,25,25)",
           "width": 1
          },
          "type": "line",
          "x0": 0.009420000000000001,
          "x1": 0.009420000000000001,
          "y0": -11.250000000000007,
          "y1": -13.200000000000003
         },
         {
          "layer": "below",
          "line": {
           "color": "rgb(25,25,25)",
           "width": 1
          },
          "type": "line",
          "x0": 0.009420000000000001,
          "x1": 0.023420000000000003,
          "y0": -13.200000000000003,
          "y1": -13.200000000000003
         },
         {
          "layer": "below",
          "line": {
           "color": "rgb(25,25,25)",
           "width": 1
          },
          "type": "line",
          "x0": 0.009420000000000001,
          "x1": 0.025240000000000002,
          "y0": -11.250000000000007,
          "y1": -11.250000000000007
         },
         {
          "layer": "below",
          "line": {
           "color": "rgb(25,25,25)",
           "width": 1
          },
          "type": "line",
          "x0": 0.025240000000000002,
          "x1": 0.025240000000000002,
          "y0": -10.600000000000009,
          "y1": -11.900000000000006
         },
         {
          "layer": "below",
          "line": {
           "color": "rgb(25,25,25)",
           "width": 1
          },
          "type": "line",
          "x0": 0.025240000000000002,
          "x1": 0.02535,
          "y0": -11.900000000000006,
          "y1": -11.900000000000006
         },
         {
          "layer": "below",
          "line": {
           "color": "rgb(25,25,25)",
           "width": 1
          },
          "type": "line",
          "x0": 0.025240000000000002,
          "x1": 0.025300000000000003,
          "y0": -10.600000000000009,
          "y1": -10.600000000000009
         },
         {
          "layer": "below",
          "line": {
           "color": "rgb(25,25,25)",
           "width": 1
          },
          "type": "line",
          "x0": 0.0046700000000000005,
          "x1": 0.00783,
          "y0": -6.375000000000002,
          "y1": -6.375000000000002
         },
         {
          "layer": "below",
          "line": {
           "color": "rgb(25,25,25)",
           "width": 1
          },
          "type": "line",
          "x0": 0.00783,
          "x1": 0.00783,
          "y0": -4.425000000000004,
          "y1": -8.325
         },
         {
          "layer": "below",
          "line": {
           "color": "rgb(25,25,25)",
           "width": 1
          },
          "type": "line",
          "x0": 0.00783,
          "x1": 0.02176,
          "y0": -8.325,
          "y1": -8.325
         },
         {
          "layer": "below",
          "line": {
           "color": "rgb(25,25,25)",
           "width": 1
          },
          "type": "line",
          "x0": 0.02176,
          "x1": 0.02176,
          "y0": -7.350000000000001,
          "y1": -9.299999999999997
         },
         {
          "layer": "below",
          "line": {
           "color": "rgb(25,25,25)",
           "width": 1
          },
          "type": "line",
          "x0": 0.02176,
          "x1": 0.021890000000000003,
          "y0": -9.299999999999997,
          "y1": -9.299999999999997
         },
         {
          "layer": "below",
          "line": {
           "color": "rgb(25,25,25)",
           "width": 1
          },
          "type": "line",
          "x0": 0.02176,
          "x1": 0.0218,
          "y0": -7.350000000000001,
          "y1": -7.350000000000001
         },
         {
          "layer": "below",
          "line": {
           "color": "rgb(25,25,25)",
           "width": 1
          },
          "type": "line",
          "x0": 0.0218,
          "x1": 0.0218,
          "y0": -6.700000000000003,
          "y1": -8
         },
         {
          "layer": "below",
          "line": {
           "color": "rgb(25,25,25)",
           "width": 1
          },
          "type": "line",
          "x0": 0.0218,
          "x1": 0.02269,
          "y0": -8,
          "y1": -8
         },
         {
          "layer": "below",
          "line": {
           "color": "rgb(25,25,25)",
           "width": 1
          },
          "type": "line",
          "x0": 0.0218,
          "x1": 0.02199,
          "y0": -6.700000000000003,
          "y1": -6.700000000000003
         },
         {
          "layer": "below",
          "line": {
           "color": "rgb(25,25,25)",
           "width": 1
          },
          "type": "line",
          "x0": 0.00783,
          "x1": 0.0213,
          "y0": -4.425000000000004,
          "y1": -4.425000000000004
         },
         {
          "layer": "below",
          "line": {
           "color": "rgb(25,25,25)",
           "width": 1
          },
          "type": "line",
          "x0": 0.0213,
          "x1": 0.0213,
          "y0": -3.450000000000003,
          "y1": -5.400000000000006
         },
         {
          "layer": "below",
          "line": {
           "color": "rgb(25,25,25)",
           "width": 1
          },
          "type": "line",
          "x0": 0.0213,
          "x1": 0.02145,
          "y0": -5.400000000000006,
          "y1": -5.400000000000006
         },
         {
          "layer": "below",
          "line": {
           "color": "rgb(25,25,25)",
           "width": 1
          },
          "type": "line",
          "x0": 0.0213,
          "x1": 0.0213,
          "y0": -3.450000000000003,
          "y1": -3.450000000000003
         },
         {
          "layer": "below",
          "line": {
           "color": "rgb(25,25,25)",
           "width": 1
          },
          "type": "line",
          "x0": 0.0213,
          "x1": 0.0213,
          "y0": -2.799999999999997,
          "y1": -4.1000000000000085
         },
         {
          "layer": "below",
          "line": {
           "color": "rgb(25,25,25)",
           "width": 1
          },
          "type": "line",
          "x0": 0.0213,
          "x1": 0.02138,
          "y0": -4.1000000000000085,
          "y1": -4.1000000000000085
         },
         {
          "layer": "below",
          "line": {
           "color": "rgb(25,25,25)",
           "width": 1
          },
          "type": "line",
          "x0": 0.0213,
          "x1": 0.021509999999999998,
          "y0": -2.799999999999997,
          "y1": -2.799999999999997
         },
         {
          "layer": "below",
          "line": {
           "color": "rgb(25,25,25)",
           "width": 1
          },
          "type": "line",
          "x0": 0,
          "x1": 0.00099,
          "y0": -0.5250000000000021,
          "y1": -0.5250000000000021
         },
         {
          "layer": "below",
          "line": {
           "color": "rgb(25,25,25)",
           "width": 1
          },
          "type": "line",
          "x0": 0.00099,
          "x1": 0.00099,
          "y0": 0.44999999999999574,
          "y1": -1.5
         },
         {
          "layer": "below",
          "line": {
           "color": "rgb(25,25,25)",
           "width": 1
          },
          "type": "line",
          "x0": 0.00099,
          "x1": 0.01608,
          "y0": -1.5,
          "y1": -1.5
         },
         {
          "layer": "below",
          "line": {
           "color": "rgb(25,25,25)",
           "width": 1
          },
          "type": "line",
          "x0": 0.00099,
          "x1": 0.004200000000000001,
          "y0": 0.44999999999999574,
          "y1": 0.44999999999999574
         },
         {
          "layer": "below",
          "line": {
           "color": "rgb(25,25,25)",
           "width": 1
          },
          "type": "line",
          "x0": 0.004200000000000001,
          "x1": 0.004200000000000001,
          "y0": 1.0999999999999943,
          "y1": -0.20000000000000284
         },
         {
          "layer": "below",
          "line": {
           "color": "rgb(25,25,25)",
           "width": 1
          },
          "type": "line",
          "x0": 0.004200000000000001,
          "x1": 0.01734,
          "y0": -0.20000000000000284,
          "y1": -0.20000000000000284
         },
         {
          "layer": "below",
          "line": {
           "color": "rgb(25,25,25)",
           "width": 1
          },
          "type": "line",
          "x0": 0.004200000000000001,
          "x1": 0.020860000000000004,
          "y0": 1.0999999999999943,
          "y1": 1.0999999999999943
         },
         {
          "layer": "below",
          "line": {
           "color": "rgb(25,25,25)",
           "width": 1
          },
          "type": "line",
          "x0": 0,
          "x1": 0.00102,
          "y0": 47.59011721611023,
          "y1": 47.59011721611023
         },
         {
          "layer": "below",
          "line": {
           "color": "rgb(25,25,25)",
           "width": 1
          },
          "type": "line",
          "x0": 0.00102,
          "x1": 0.00102,
          "y0": 90.83023443222046,
          "y1": 4.349999999999998
         },
         {
          "layer": "below",
          "line": {
           "color": "rgb(25,25,25)",
           "width": 1
          },
          "type": "line",
          "x0": 0.00102,
          "x1": 0.00435,
          "y0": 4.349999999999998,
          "y1": 4.349999999999998
         },
         {
          "layer": "below",
          "line": {
           "color": "rgb(25,25,25)",
           "width": 1
          },
          "type": "line",
          "x0": 0.00435,
          "x1": 0.00435,
          "y0": 5.649999999999999,
          "y1": 3.049999999999997
         },
         {
          "layer": "below",
          "line": {
           "color": "rgb(25,25,25)",
           "width": 1
          },
          "type": "line",
          "x0": 0.00435,
          "x1": 0.01966,
          "y0": 3.049999999999997,
          "y1": 3.049999999999997
         },
         {
          "layer": "below",
          "line": {
           "color": "rgb(25,25,25)",
           "width": 1
          },
          "type": "line",
          "x0": 0.01966,
          "x1": 0.01966,
          "y0": 3.700000000000003,
          "y1": 2.3999999999999915
         },
         {
          "layer": "below",
          "line": {
           "color": "rgb(25,25,25)",
           "width": 1
          },
          "type": "line",
          "x0": 0.01966,
          "x1": 0.01989,
          "y0": 2.3999999999999915,
          "y1": 2.3999999999999915
         },
         {
          "layer": "below",
          "line": {
           "color": "rgb(25,25,25)",
           "width": 1
          },
          "type": "line",
          "x0": 0.01966,
          "x1": 0.01983,
          "y0": 3.700000000000003,
          "y1": 3.700000000000003
         },
         {
          "layer": "below",
          "line": {
           "color": "rgb(25,25,25)",
           "width": 1
          },
          "type": "line",
          "x0": 0.00435,
          "x1": 0.01845,
          "y0": 5.649999999999999,
          "y1": 5.649999999999999
         },
         {
          "layer": "below",
          "line": {
           "color": "rgb(25,25,25)",
           "width": 1
          },
          "type": "line",
          "x0": 0.01845,
          "x1": 0.01845,
          "y0": 6.299999999999997,
          "y1": 5
         },
         {
          "layer": "below",
          "line": {
           "color": "rgb(25,25,25)",
           "width": 1
          },
          "type": "line",
          "x0": 0.01845,
          "x1": 0.018750000000000003,
          "y0": 5,
          "y1": 5
         },
         {
          "layer": "below",
          "line": {
           "color": "rgb(25,25,25)",
           "width": 1
          },
          "type": "line",
          "x0": 0.01845,
          "x1": 0.018680000000000002,
          "y0": 6.299999999999997,
          "y1": 6.299999999999997
         },
         {
          "layer": "below",
          "line": {
           "color": "rgb(25,25,25)",
           "width": 1
          },
          "type": "line",
          "x0": 0.00102,
          "x1": 0.0025900000000000003,
          "y0": 90.83023443222046,
          "y1": 90.83023443222046
         },
         {
          "layer": "below",
          "line": {
           "color": "rgb(25,25,25)",
           "width": 1
          },
          "type": "line",
          "x0": 0.0025900000000000003,
          "x1": 0.0025900000000000003,
          "y0": 108.35,
          "y1": 73.31046886444092
         },
         {
          "layer": "below",
          "line": {
           "color": "rgb(25,25,25)",
           "width": 1
          },
          "type": "line",
          "x0": 0.0025900000000000003,
          "x1": 0.0047,
          "y0": 73.31046886444092,
          "y1": 73.31046886444092
         },
         {
          "layer": "below",
          "line": {
           "color": "rgb(25,25,25)",
           "width": 1
          },
          "type": "line",
          "x0": 0.0047,
          "x1": 0.0047,
          "y0": 103.3125,
          "y1": 43.308437728881835
         },
         {
          "layer": "below",
          "line": {
           "color": "rgb(25,25,25)",
           "width": 1
          },
          "type": "line",
          "x0": 0.0047,
          "x1": 0.00615,
          "y0": 43.308437728881835,
          "y1": 43.308437728881835
         },
         {
          "layer": "below",
          "line": {
           "color": "rgb(25,25,25)",
           "width": 1
          },
          "type": "line",
          "x0": 0.00615,
          "x1": 0.00615,
          "y0": 75.84812545776367,
          "y1": 10.768749999999997
         },
         {
          "layer": "below",
          "line": {
           "color": "rgb(25,25,25)",
           "width": 1
          },
          "type": "line",
          "x0": 0.00615,
          "x1": 0.010280000000000001,
          "y0": 10.768749999999997,
          "y1": 10.768749999999997
         },
         {
          "layer": "below",
          "line": {
           "color": "rgb(25,25,25)",
           "width": 1
          },
          "type": "line",
          "x0": 0.010280000000000001,
          "x1": 0.010280000000000001,
          "y0": 12.799999999999997,
          "y1": 8.737499999999995
         },
         {
          "layer": "below",
          "line": {
           "color": "rgb(25,25,25)",
           "width": 1
          },
          "type": "line",
          "x0": 0.010280000000000001,
          "x1": 0.02612,
          "y0": 8.737499999999995,
          "y1": 8.737499999999995
         },
         {
          "layer": "below",
          "line": {
           "color": "rgb(25,25,25)",
           "width": 1
          },
          "type": "line",
          "x0": 0.02612,
          "x1": 0.02612,
          "y0": 9.874999999999996,
          "y1": 7.599999999999994
         },
         {
          "layer": "below",
          "line": {
           "color": "rgb(25,25,25)",
           "width": 1
          },
          "type": "line",
          "x0": 0.02612,
          "x1": 0.02631,
          "y0": 7.599999999999994,
          "y1": 7.599999999999994
         },
         {
          "layer": "below",
          "line": {
           "color": "rgb(25,25,25)",
           "width": 1
          },
          "type": "line",
          "x0": 0.02612,
          "x1": 0.02612,
          "y0": 9.874999999999996,
          "y1": 9.874999999999996
         },
         {
          "layer": "below",
          "line": {
           "color": "rgb(25,25,25)",
           "width": 1
          },
          "type": "line",
          "x0": 0.02612,
          "x1": 0.02612,
          "y0": 10.850000000000001,
          "y1": 8.899999999999991
         },
         {
          "layer": "below",
          "line": {
           "color": "rgb(25,25,25)",
           "width": 1
          },
          "type": "line",
          "x0": 0.02612,
          "x1": 0.026180000000000002,
          "y0": 8.899999999999991,
          "y1": 8.899999999999991
         },
         {
          "layer": "below",
          "line": {
           "color": "rgb(25,25,25)",
           "width": 1
          },
          "type": "line",
          "x0": 0.02612,
          "x1": 0.02612,
          "y0": 10.850000000000001,
          "y1": 10.850000000000001
         },
         {
          "layer": "below",
          "line": {
           "color": "rgb(25,25,25)",
           "width": 1
          },
          "type": "line",
          "x0": 0.02612,
          "x1": 0.02612,
          "y0": 11.5,
          "y1": 10.200000000000003
         },
         {
          "layer": "below",
          "line": {
           "color": "rgb(25,25,25)",
           "width": 1
          },
          "type": "line",
          "x0": 0.02612,
          "x1": 0.02657,
          "y0": 10.200000000000003,
          "y1": 10.200000000000003
         },
         {
          "layer": "below",
          "line": {
           "color": "rgb(25,25,25)",
           "width": 1
          },
          "type": "line",
          "x0": 0.02612,
          "x1": 0.02646,
          "y0": 11.5,
          "y1": 11.5
         },
         {
          "layer": "below",
          "line": {
           "color": "rgb(25,25,25)",
           "width": 1
          },
          "type": "line",
          "x0": 0.010280000000000001,
          "x1": 0.02798,
          "y0": 12.799999999999997,
          "y1": 12.799999999999997
         },
         {
          "layer": "below",
          "line": {
           "color": "rgb(25,25,25)",
           "width": 1
          },
          "type": "line",
          "x0": 0.00615,
          "x1": 0.00893,
          "y0": 75.84812545776367,
          "y1": 75.84812545776367
         },
         {
          "layer": "below",
          "line": {
           "color": "rgb(25,25,25)",
           "width": 1
          },
          "type": "line",
          "x0": 0.00893,
          "x1": 0.00893,
          "y0": 96.8125,
          "y1": 54.883750915527344
         },
         {
          "layer": "below",
          "line": {
           "color": "rgb(25,25,25)",
           "width": 1
          },
          "type": "line",
          "x0": 0.00893,
          "x1": 0.012920000000000001,
          "y0": 54.883750915527344,
          "y1": 54.883750915527344
         },
         {
          "layer": "below",
          "line": {
           "color": "rgb(25,25,25)",
           "width": 1
          },
          "type": "line",
          "x0": 0.012920000000000001,
          "x1": 0.012920000000000001,
          "y0": 90.3125,
          "y1": 19.455001831054684
         },
         {
          "layer": "below",
          "line": {
           "color": "rgb(25,25,25)",
           "width": 1
          },
          "type": "line",
          "x0": 0.012920000000000001,
          "x1": 0.04852,
          "y0": 19.455001831054684,
          "y1": 19.455001831054684
         },
         {
          "layer": "below",
          "line": {
           "color": "rgb(25,25,25)",
           "width": 1
          },
          "type": "line",
          "x0": 0.04852,
          "x1": 0.04852,
          "y0": 24.810003662109374,
          "y1": 14.099999999999994
         },
         {
          "layer": "below",
          "line": {
           "color": "rgb(25,25,25)",
           "width": 1
          },
          "type": "line",
          "x0": 0.04852,
          "x1": 0.0963,
          "y0": 14.099999999999994,
          "y1": 14.099999999999994
         },
         {
          "layer": "below",
          "line": {
           "color": "rgb(25,25,25)",
           "width": 1
          },
          "type": "line",
          "x0": 0.04852,
          "x1": 0.05943,
          "y0": 24.810003662109374,
          "y1": 24.810003662109374
         },
         {
          "layer": "below",
          "line": {
           "color": "rgb(25,25,25)",
           "width": 1
          },
          "type": "line",
          "x0": 0.05943,
          "x1": 0.05943,
          "y0": 33.57000732421875,
          "y1": 16.049999999999997
         },
         {
          "layer": "below",
          "line": {
           "color": "rgb(25,25,25)",
           "width": 1
          },
          "type": "line",
          "x0": 0.05943,
          "x1": 0.14888,
          "y0": 16.049999999999997,
          "y1": 16.049999999999997
         },
         {
          "layer": "below",
          "line": {
           "color": "rgb(25,25,25)",
           "width": 1
          },
          "type": "line",
          "x0": 0.14888,
          "x1": 0.14888,
          "y0": 16.700000000000003,
          "y1": 15.399999999999991
         },
         {
          "layer": "below",
          "line": {
           "color": "rgb(25,25,25)",
           "width": 1
          },
          "type": "line",
          "x0": 0.14888,
          "x1": 0.14903000000000002,
          "y0": 15.399999999999991,
          "y1": 15.399999999999991
         },
         {
          "layer": "below",
          "line": {
           "color": "rgb(25,25,25)",
           "width": 1
          },
          "type": "line",
          "x0": 0.14888,
          "x1": 0.14897000000000002,
          "y0": 16.700000000000003,
          "y1": 16.700000000000003
         },
         {
          "layer": "below",
          "line": {
           "color": "rgb(25,25,25)",
           "width": 1
          },
          "type": "line",
          "x0": 0.05943,
          "x1": 0.07209,
          "y0": 33.57000732421875,
          "y1": 33.57000732421875
         },
         {
          "layer": "below",
          "line": {
           "color": "rgb(25,25,25)",
           "width": 1
          },
          "type": "line",
          "x0": 0.07209,
          "x1": 0.07209,
          "y0": 49.1400146484375,
          "y1": 18
         },
         {
          "layer": "below",
          "line": {
           "color": "rgb(25,25,25)",
           "width": 1
          },
          "type": "line",
          "x0": 0.07209,
          "x1": 0.13332,
          "y0": 18,
          "y1": 18
         },
         {
          "layer": "below",
          "line": {
           "color": "rgb(25,25,25)",
           "width": 1
          },
          "type": "line",
          "x0": 0.07209,
          "x1": 0.13035,
          "y0": 49.1400146484375,
          "y1": 49.1400146484375
         },
         {
          "layer": "below",
          "line": {
           "color": "rgb(25,25,25)",
           "width": 1
          },
          "type": "line",
          "x0": 0.13035,
          "x1": 0.13035,
          "y0": 66.08984375,
          "y1": 32.190185546875
         },
         {
          "layer": "below",
          "line": {
           "color": "rgb(25,25,25)",
           "width": 1
          },
          "type": "line",
          "x0": 0.13035,
          "x1": 0.20862999999999998,
          "y0": 32.190185546875,
          "y1": 32.190185546875
         },
         {
          "layer": "below",
          "line": {
           "color": "rgb(25,25,25)",
           "width": 1
          },
          "type": "line",
          "x0": 0.20862999999999998,
          "x1": 0.20862999999999998,
          "y0": 45.080371093749996,
          "y1": 19.299999999999997
         },
         {
          "layer": "below",
          "line": {
           "color": "rgb(25,25,25)",
           "width": 1
          },
          "type": "line",
          "x0": 0.20862999999999998,
          "x1": 0.22905999999999999,
          "y0": 19.299999999999997,
          "y1": 19.299999999999997
         },
         {
          "layer": "below",
          "line": {
           "color": "rgb(25,25,25)",
           "width": 1
          },
          "type": "line",
          "x0": 0.20862999999999998,
          "x1": 0.21427999999999997,
          "y0": 45.080371093749996,
          "y1": 45.080371093749996
         },
         {
          "layer": "below",
          "line": {
           "color": "rgb(25,25,25)",
           "width": 1
          },
          "type": "line",
          "x0": 0.21427999999999997,
          "x1": 0.21427999999999997,
          "y0": 56.675,
          "y1": 33.485742187499994
         },
         {
          "layer": "below",
          "line": {
           "color": "rgb(25,25,25)",
           "width": 1
          },
          "type": "line",
          "x0": 0.21427999999999997,
          "x1": 0.23450999999999997,
          "y0": 33.485742187499994,
          "y1": 33.485742187499994
         },
         {
          "layer": "below",
          "line": {
           "color": "rgb(25,25,25)",
           "width": 1
          },
          "type": "line",
          "x0": 0.23450999999999997,
          "x1": 0.23450999999999997,
          "y0": 45.721484375,
          "y1": 21.249999999999993
         },
         {
          "layer": "below",
          "line": {
           "color": "rgb(25,25,25)",
           "width": 1
          },
          "type": "line",
          "x0": 0.23450999999999997,
          "x1": 0.23458999999999997,
          "y0": 21.249999999999993,
          "y1": 21.249999999999993
         },
         {
          "layer": "below",
          "line": {
           "color": "rgb(25,25,25)",
           "width": 1
          },
          "type": "line",
          "x0": 0.23458999999999997,
          "x1": 0.23458999999999997,
          "y0": 21.89999999999999,
          "y1": 20.599999999999994
         },
         {
          "layer": "below",
          "line": {
           "color": "rgb(25,25,25)",
           "width": 1
          },
          "type": "line",
          "x0": 0.23458999999999997,
          "x1": 0.23532999999999996,
          "y0": 20.599999999999994,
          "y1": 20.599999999999994
         },
         {
          "layer": "below",
          "line": {
           "color": "rgb(25,25,25)",
           "width": 1
          },
          "type": "line",
          "x0": 0.23458999999999997,
          "x1": 0.23500999999999997,
          "y0": 21.89999999999999,
          "y1": 21.89999999999999
         },
         {
          "layer": "below",
          "line": {
           "color": "rgb(25,25,25)",
           "width": 1
          },
          "type": "line",
          "x0": 0.23450999999999997,
          "x1": 0.23451999999999998,
          "y0": 45.721484375,
          "y1": 45.721484375
         },
         {
          "layer": "below",
          "line": {
           "color": "rgb(25,25,25)",
           "width": 1
          },
          "type": "line",
          "x0": 0.23451999999999998,
          "x1": 0.23451999999999998,
          "y0": 54.4,
          "y1": 37.04296875
         },
         {
          "layer": "below",
          "line": {
           "color": "rgb(25,25,25)",
           "width": 1
          },
          "type": "line",
          "x0": 0.23451999999999998,
          "x1": 0.23451999999999998,
          "y0": 37.04296875,
          "y1": 37.04296875
         },
         {
          "layer": "below",
          "line": {
           "color": "rgb(25,25,25)",
           "width": 1
          },
          "type": "line",
          "x0": 0.23451999999999998,
          "x1": 0.23451999999999998,
          "y0": 45.1578125,
          "y1": 28.928124999999998
         },
         {
          "layer": "below",
          "line": {
           "color": "rgb(25,25,25)",
           "width": 1
          },
          "type": "line",
          "x0": 0.23451999999999998,
          "x1": 0.23451999999999998,
          "y0": 28.928124999999998,
          "y1": 28.928124999999998
         },
         {
          "layer": "below",
          "line": {
           "color": "rgb(25,25,25)",
           "width": 1
          },
          "type": "line",
          "x0": 0.23451999999999998,
          "x1": 0.23451999999999998,
          "y0": 32.4625,
          "y1": 25.393749999999997
         },
         {
          "layer": "below",
          "line": {
           "color": "rgb(25,25,25)",
           "width": 1
          },
          "type": "line",
          "x0": 0.23451999999999998,
          "x1": 0.23468999999999998,
          "y0": 25.393749999999997,
          "y1": 25.393749999999997
         },
         {
          "layer": "below",
          "line": {
           "color": "rgb(25,25,25)",
           "width": 1
          },
          "type": "line",
          "x0": 0.23468999999999998,
          "x1": 0.23468999999999998,
          "y0": 26.937499999999996,
          "y1": 23.85
         },
         {
          "layer": "below",
          "line": {
           "color": "rgb(25,25,25)",
           "width": 1
          },
          "type": "line",
          "x0": 0.23468999999999998,
          "x1": 0.23489999999999997,
          "y0": 23.85,
          "y1": 23.85
         },
         {
          "layer": "below",
          "line": {
           "color": "rgb(25,25,25)",
           "width": 1
          },
          "type": "line",
          "x0": 0.23489999999999997,
          "x1": 0.23489999999999997,
          "y0": 24.5,
          "y1": 23.200000000000003
         },
         {
          "layer": "below",
          "line": {
           "color": "rgb(25,25,25)",
           "width": 1
          },
          "type": "line",
          "x0": 0.23489999999999997,
          "x1": 0.23525999999999997,
          "y0": 23.200000000000003,
          "y1": 23.200000000000003
         },
         {
          "layer": "below",
          "line": {
           "color": "rgb(25,25,25)",
           "width": 1
          },
          "type": "line",
          "x0": 0.23489999999999997,
          "x1": 0.23601999999999998,
          "y0": 24.5,
          "y1": 24.5
         },
         {
          "layer": "below",
          "line": {
           "color": "rgb(25,25,25)",
           "width": 1
          },
          "type": "line",
          "x0": 0.23468999999999998,
          "x1": 0.23485999999999999,
          "y0": 26.937499999999996,
          "y1": 26.937499999999996
         },
         {
          "layer": "below",
          "line": {
           "color": "rgb(25,25,25)",
           "width": 1
          },
          "type": "line",
          "x0": 0.23485999999999999,
          "x1": 0.23485999999999999,
          "y0": 28.074999999999996,
          "y1": 25.799999999999997
         },
         {
          "layer": "below",
          "line": {
           "color": "rgb(25,25,25)",
           "width": 1
          },
          "type": "line",
          "x0": 0.23485999999999999,
          "x1": 0.23521999999999998,
          "y0": 25.799999999999997,
          "y1": 25.799999999999997
         },
         {
          "layer": "below",
          "line": {
           "color": "rgb(25,25,25)",
           "width": 1
          },
          "type": "line",
          "x0": 0.23485999999999999,
          "x1": 0.23493999999999998,
          "y0": 28.074999999999996,
          "y1": 28.074999999999996
         },
         {
          "layer": "below",
          "line": {
           "color": "rgb(25,25,25)",
           "width": 1
          },
          "type": "line",
          "x0": 0.23493999999999998,
          "x1": 0.23493999999999998,
          "y0": 29.049999999999997,
          "y1": 27.099999999999994
         },
         {
          "layer": "below",
          "line": {
           "color": "rgb(25,25,25)",
           "width": 1
          },
          "type": "line",
          "x0": 0.23493999999999998,
          "x1": 0.23542999999999997,
          "y0": 27.099999999999994,
          "y1": 27.099999999999994
         },
         {
          "layer": "below",
          "line": {
           "color": "rgb(25,25,25)",
           "width": 1
          },
          "type": "line",
          "x0": 0.23493999999999998,
          "x1": 0.23512999999999998,
          "y0": 29.049999999999997,
          "y1": 29.049999999999997
         },
         {
          "layer": "below",
          "line": {
           "color": "rgb(25,25,25)",
           "width": 1
          },
          "type": "line",
          "x0": 0.23512999999999998,
          "x1": 0.23512999999999998,
          "y0": 29.700000000000003,
          "y1": 28.39999999999999
         },
         {
          "layer": "below",
          "line": {
           "color": "rgb(25,25,25)",
           "width": 1
          },
          "type": "line",
          "x0": 0.23512999999999998,
          "x1": 0.23533999999999997,
          "y0": 28.39999999999999,
          "y1": 28.39999999999999
         },
         {
          "layer": "below",
          "line": {
           "color": "rgb(25,25,25)",
           "width": 1
          },
          "type": "line",
          "x0": 0.23512999999999998,
          "x1": 0.23534999999999998,
          "y0": 29.700000000000003,
          "y1": 29.700000000000003
         },
         {
          "layer": "below",
          "line": {
           "color": "rgb(25,25,25)",
           "width": 1
          },
          "type": "line",
          "x0": 0.23451999999999998,
          "x1": 0.23473999999999998,
          "y0": 32.4625,
          "y1": 32.4625
         },
         {
          "layer": "below",
          "line": {
           "color": "rgb(25,25,25)",
           "width": 1
          },
          "type": "line",
          "x0": 0.23473999999999998,
          "x1": 0.23473999999999998,
          "y0": 33.925,
          "y1": 31
         },
         {
          "layer": "below",
          "line": {
           "color": "rgb(25,25,25)",
           "width": 1
          },
          "type": "line",
          "x0": 0.23473999999999998,
          "x1": 0.23489999999999997,
          "y0": 31,
          "y1": 31
         },
         {
          "layer": "below",
          "line": {
           "color": "rgb(25,25,25)",
           "width": 1
          },
          "type": "line",
          "x0": 0.23473999999999998,
          "x1": 0.23481999999999997,
          "y0": 33.925,
          "y1": 33.925
         },
         {
          "layer": "below",
          "line": {
           "color": "rgb(25,25,25)",
           "width": 1
          },
          "type": "line",
          "x0": 0.23481999999999997,
          "x1": 0.23481999999999997,
          "y0": 35.55,
          "y1": 32.3
         },
         {
          "layer": "below",
          "line": {
           "color": "rgb(25,25,25)",
           "width": 1
          },
          "type": "line",
          "x0": 0.23481999999999997,
          "x1": 0.23485999999999999,
          "y0": 32.3,
          "y1": 32.3
         },
         {
          "layer": "below",
          "line": {
           "color": "rgb(25,25,25)",
           "width": 1
          },
          "type": "line",
          "x0": 0.23481999999999997,
          "x1": 0.23481999999999997,
          "y0": 35.55,
          "y1": 35.55
         },
         {
          "layer": "below",
          "line": {
           "color": "rgb(25,25,25)",
           "width": 1
          },
          "type": "line",
          "x0": 0.23481999999999997,
          "x1": 0.23481999999999997,
          "y0": 36.85,
          "y1": 34.24999999999999
         },
         {
          "layer": "below",
          "line": {
           "color": "rgb(25,25,25)",
           "width": 1
          },
          "type": "line",
          "x0": 0.23481999999999997,
          "x1": 0.23486999999999997,
          "y0": 34.24999999999999,
          "y1": 34.24999999999999
         },
         {
          "layer": "below",
          "line": {
           "color": "rgb(25,25,25)",
           "width": 1
          },
          "type": "line",
          "x0": 0.23486999999999997,
          "x1": 0.23486999999999997,
          "y0": 34.89999999999999,
          "y1": 33.599999999999994
         },
         {
          "layer": "below",
          "line": {
           "color": "rgb(25,25,25)",
           "width": 1
          },
          "type": "line",
          "x0": 0.23486999999999997,
          "x1": 0.23531999999999997,
          "y0": 33.599999999999994,
          "y1": 33.599999999999994
         },
         {
          "layer": "below",
          "line": {
           "color": "rgb(25,25,25)",
           "width": 1
          },
          "type": "line",
          "x0": 0.23486999999999997,
          "x1": 0.23509999999999998,
          "y0": 34.89999999999999,
          "y1": 34.89999999999999
         },
         {
          "layer": "below",
          "line": {
           "color": "rgb(25,25,25)",
           "width": 1
          },
          "type": "line",
          "x0": 0.23481999999999997,
          "x1": 0.23485999999999999,
          "y0": 36.85,
          "y1": 36.85
         },
         {
          "layer": "below",
          "line": {
           "color": "rgb(25,25,25)",
           "width": 1
          },
          "type": "line",
          "x0": 0.23485999999999999,
          "x1": 0.23485999999999999,
          "y0": 37.5,
          "y1": 36.2
         },
         {
          "layer": "below",
          "line": {
           "color": "rgb(25,25,25)",
           "width": 1
          },
          "type": "line",
          "x0": 0.23485999999999999,
          "x1": 0.23509999999999998,
          "y0": 36.2,
          "y1": 36.2
         },
         {
          "layer": "below",
          "line": {
           "color": "rgb(25,25,25)",
           "width": 1
          },
          "type": "line",
          "x0": 0.23485999999999999,
          "x1": 0.23498,
          "y0": 37.5,
          "y1": 37.5
         },
         {
          "layer": "below",
          "line": {
           "color": "rgb(25,25,25)",
           "width": 1
          },
          "type": "line",
          "x0": 0.23451999999999998,
          "x1": 0.23464999999999997,
          "y0": 45.1578125,
          "y1": 45.1578125
         },
         {
          "layer": "below",
          "line": {
           "color": "rgb(25,25,25)",
           "width": 1
          },
          "type": "line",
          "x0": 0.23464999999999997,
          "x1": 0.23464999999999997,
          "y0": 49.11875,
          "y1": 41.196875
         },
         {
          "layer": "below",
          "line": {
           "color": "rgb(25,25,25)",
           "width": 1
          },
          "type": "line",
          "x0": 0.23464999999999997,
          "x1": 0.23475999999999997,
          "y0": 41.196875,
          "y1": 41.196875
         },
         {
          "layer": "below",
          "line": {
           "color": "rgb(25,25,25)",
           "width": 1
          },
          "type": "line",
          "x0": 0.23475999999999997,
          "x1": 0.23475999999999997,
          "y0": 43.59375,
          "y1": 38.8
         },
         {
          "layer": "below",
          "line": {
           "color": "rgb(25,25,25)",
           "width": 1
          },
          "type": "line",
          "x0": 0.23475999999999997,
          "x1": 0.23524999999999996,
          "y0": 38.8,
          "y1": 38.8
         },
         {
          "layer": "below",
          "line": {
           "color": "rgb(25,25,25)",
           "width": 1
          },
          "type": "line",
          "x0": 0.23475999999999997,
          "x1": 0.23480999999999996,
          "y0": 43.59375,
          "y1": 43.59375
         },
         {
          "layer": "below",
          "line": {
           "color": "rgb(25,25,25)",
           "width": 1
          },
          "type": "line",
          "x0": 0.23480999999999996,
          "x1": 0.23480999999999996,
          "y0": 45.949999999999996,
          "y1": 41.2375
         },
         {
          "layer": "below",
          "line": {
           "color": "rgb(25,25,25)",
           "width": 1
          },
          "type": "line",
          "x0": 0.23480999999999996,
          "x1": 0.23486999999999997,
          "y0": 41.2375,
          "y1": 41.2375
         },
         {
          "layer": "below",
          "line": {
           "color": "rgb(25,25,25)",
           "width": 1
          },
          "type": "line",
          "x0": 0.23486999999999997,
          "x1": 0.23486999999999997,
          "y0": 42.375,
          "y1": 40.099999999999994
         },
         {
          "layer": "below",
          "line": {
           "color": "rgb(25,25,25)",
           "width": 1
          },
          "type": "line",
          "x0": 0.23486999999999997,
          "x1": 0.23505999999999996,
          "y0": 40.099999999999994,
          "y1": 40.099999999999994
         },
         {
          "layer": "below",
          "line": {
           "color": "rgb(25,25,25)",
           "width": 1
          },
          "type": "line",
          "x0": 0.23486999999999997,
          "x1": 0.23490999999999998,
          "y0": 42.375,
          "y1": 42.375
         },
         {
          "layer": "below",
          "line": {
           "color": "rgb(25,25,25)",
           "width": 1
          },
          "type": "line",
          "x0": 0.23490999999999998,
          "x1": 0.23490999999999998,
          "y0": 43.35,
          "y1": 41.39999999999999
         },
         {
          "layer": "below",
          "line": {
           "color": "rgb(25,25,25)",
           "width": 1
          },
          "type": "line",
          "x0": 0.23490999999999998,
          "x1": 0.23496999999999998,
          "y0": 41.39999999999999,
          "y1": 41.39999999999999
         },
         {
          "layer": "below",
          "line": {
           "color": "rgb(25,25,25)",
           "width": 1
          },
          "type": "line",
          "x0": 0.23490999999999998,
          "x1": 0.23495,
          "y0": 43.35,
          "y1": 43.35
         },
         {
          "layer": "below",
          "line": {
           "color": "rgb(25,25,25)",
           "width": 1
          },
          "type": "line",
          "x0": 0.23495,
          "x1": 0.23495,
          "y0": 44,
          "y1": 42.7
         },
         {
          "layer": "below",
          "line": {
           "color": "rgb(25,25,25)",
           "width": 1
          },
          "type": "line",
          "x0": 0.23495,
          "x1": 0.23565,
          "y0": 42.7,
          "y1": 42.7
         },
         {
          "layer": "below",
          "line": {
           "color": "rgb(25,25,25)",
           "width": 1
          },
          "type": "line",
          "x0": 0.23495,
          "x1": 0.23514,
          "y0": 44,
          "y1": 44
         },
         {
          "layer": "below",
          "line": {
           "color": "rgb(25,25,25)",
           "width": 1
          },
          "type": "line",
          "x0": 0.23480999999999996,
          "x1": 0.23488999999999996,
          "y0": 45.949999999999996,
          "y1": 45.949999999999996
         },
         {
          "layer": "below",
          "line": {
           "color": "rgb(25,25,25)",
           "width": 1
          },
          "type": "line",
          "x0": 0.23488999999999996,
          "x1": 0.23488999999999996,
          "y0": 46.599999999999994,
          "y1": 45.3
         },
         {
          "layer": "below",
          "line": {
           "color": "rgb(25,25,25)",
           "width": 1
          },
          "type": "line",
          "x0": 0.23488999999999996,
          "x1": 0.23519999999999996,
          "y0": 45.3,
          "y1": 45.3
         },
         {
          "layer": "below",
          "line": {
           "color": "rgb(25,25,25)",
           "width": 1
          },
          "type": "line",
          "x0": 0.23488999999999996,
          "x1": 0.23502999999999996,
          "y0": 46.599999999999994,
          "y1": 46.599999999999994
         },
         {
          "layer": "below",
          "line": {
           "color": "rgb(25,25,25)",
           "width": 1
          },
          "type": "line",
          "x0": 0.23464999999999997,
          "x1": 0.23468999999999998,
          "y0": 49.11875,
          "y1": 49.11875
         },
         {
          "layer": "below",
          "line": {
           "color": "rgb(25,25,25)",
           "width": 1
          },
          "type": "line",
          "x0": 0.23468999999999998,
          "x1": 0.23468999999999998,
          "y0": 50.3375,
          "y1": 47.9
         },
         {
          "layer": "below",
          "line": {
           "color": "rgb(25,25,25)",
           "width": 1
          },
          "type": "line",
          "x0": 0.23468999999999998,
          "x1": 0.23515999999999998,
          "y0": 47.9,
          "y1": 47.9
         },
         {
          "layer": "below",
          "line": {
           "color": "rgb(25,25,25)",
           "width": 1
          },
          "type": "line",
          "x0": 0.23468999999999998,
          "x1": 0.23484,
          "y0": 50.3375,
          "y1": 50.3375
         },
         {
          "layer": "below",
          "line": {
           "color": "rgb(25,25,25)",
           "width": 1
          },
          "type": "line",
          "x0": 0.23484,
          "x1": 0.23484,
          "y0": 51.475,
          "y1": 49.199999999999996
         },
         {
          "layer": "below",
          "line": {
           "color": "rgb(25,25,25)",
           "width": 1
          },
          "type": "line",
          "x0": 0.23484,
          "x1": 0.23618,
          "y0": 49.199999999999996,
          "y1": 49.199999999999996
         },
         {
          "layer": "below",
          "line": {
           "color": "rgb(25,25,25)",
           "width": 1
          },
          "type": "line",
          "x0": 0.23484,
          "x1": 0.23496,
          "y0": 51.475,
          "y1": 51.475
         },
         {
          "layer": "below",
          "line": {
           "color": "rgb(25,25,25)",
           "width": 1
          },
          "type": "line",
          "x0": 0.23496,
          "x1": 0.23496,
          "y0": 52.45,
          "y1": 50.5
         },
         {
          "layer": "below",
          "line": {
           "color": "rgb(25,25,25)",
           "width": 1
          },
          "type": "line",
          "x0": 0.23496,
          "x1": 0.23518,
          "y0": 50.5,
          "y1": 50.5
         },
         {
          "layer": "below",
          "line": {
           "color": "rgb(25,25,25)",
           "width": 1
          },
          "type": "line",
          "x0": 0.23496,
          "x1": 0.23507,
          "y0": 52.45,
          "y1": 52.45
         },
         {
          "layer": "below",
          "line": {
           "color": "rgb(25,25,25)",
           "width": 1
          },
          "type": "line",
          "x0": 0.23507,
          "x1": 0.23507,
          "y0": 53.1,
          "y1": 51.8
         },
         {
          "layer": "below",
          "line": {
           "color": "rgb(25,25,25)",
           "width": 1
          },
          "type": "line",
          "x0": 0.23507,
          "x1": 0.23552,
          "y0": 51.8,
          "y1": 51.8
         },
         {
          "layer": "below",
          "line": {
           "color": "rgb(25,25,25)",
           "width": 1
          },
          "type": "line",
          "x0": 0.23507,
          "x1": 0.23578,
          "y0": 53.1,
          "y1": 53.1
         },
         {
          "layer": "below",
          "line": {
           "color": "rgb(25,25,25)",
           "width": 1
          },
          "type": "line",
          "x0": 0.23451999999999998,
          "x1": 0.23483999999999997,
          "y0": 54.4,
          "y1": 54.4
         },
         {
          "layer": "below",
          "line": {
           "color": "rgb(25,25,25)",
           "width": 1
          },
          "type": "line",
          "x0": 0.21427999999999997,
          "x1": 0.21940999999999997,
          "y0": 56.675,
          "y1": 56.675
         },
         {
          "layer": "below",
          "line": {
           "color": "rgb(25,25,25)",
           "width": 1
          },
          "type": "line",
          "x0": 0.21940999999999997,
          "x1": 0.21940999999999997,
          "y0": 57.65,
          "y1": 55.699999999999996
         },
         {
          "layer": "below",
          "line": {
           "color": "rgb(25,25,25)",
           "width": 1
          },
          "type": "line",
          "x0": 0.21940999999999997,
          "x1": 0.23731999999999998,
          "y0": 55.699999999999996,
          "y1": 55.699999999999996
         },
         {
          "layer": "below",
          "line": {
           "color": "rgb(25,25,25)",
           "width": 1
          },
          "type": "line",
          "x0": 0.21940999999999997,
          "x1": 0.22299999999999998,
          "y0": 57.65,
          "y1": 57.65
         },
         {
          "layer": "below",
          "line": {
           "color": "rgb(25,25,25)",
           "width": 1
          },
          "type": "line",
          "x0": 0.22299999999999998,
          "x1": 0.22299999999999998,
          "y0": 58.3,
          "y1": 57
         },
         {
          "layer": "below",
          "line": {
           "color": "rgb(25,25,25)",
           "width": 1
          },
          "type": "line",
          "x0": 0.22299999999999998,
          "x1": 0.24046999999999996,
          "y0": 57,
          "y1": 57
         },
         {
          "layer": "below",
          "line": {
           "color": "rgb(25,25,25)",
           "width": 1
          },
          "type": "line",
          "x0": 0.22299999999999998,
          "x1": 0.24027999999999997,
          "y0": 58.3,
          "y1": 58.3
         },
         {
          "layer": "below",
          "line": {
           "color": "rgb(25,25,25)",
           "width": 1
          },
          "type": "line",
          "x0": 0.13035,
          "x1": 0.15209999999999999,
          "y0": 66.08984375,
          "y1": 66.08984375
         },
         {
          "layer": "below",
          "line": {
           "color": "rgb(25,25,25)",
           "width": 1
          },
          "type": "line",
          "x0": 0.15209999999999999,
          "x1": 0.15209999999999999,
          "y0": 71.60468750000001,
          "y1": 60.575
         },
         {
          "layer": "below",
          "line": {
           "color": "rgb(25,25,25)",
           "width": 1
          },
          "type": "line",
          "x0": 0.15209999999999999,
          "x1": 0.7839,
          "y0": 60.575,
          "y1": 60.575
         },
         {
          "layer": "below",
          "line": {
           "color": "rgb(25,25,25)",
           "width": 1
          },
          "type": "line",
          "x0": 0.7839,
          "x1": 0.7839,
          "y0": 61.55,
          "y1": 59.6
         },
         {
          "layer": "below",
          "line": {
           "color": "rgb(25,25,25)",
           "width": 1
          },
          "type": "line",
          "x0": 0.7839,
          "x1": 0.91827,
          "y0": 59.6,
          "y1": 59.6
         },
         {
          "layer": "below",
          "line": {
           "color": "rgb(25,25,25)",
           "width": 1
          },
          "type": "line",
          "x0": 0.7839,
          "x1": 0.84233,
          "y0": 61.55,
          "y1": 61.55
         },
         {
          "layer": "below",
          "line": {
           "color": "rgb(25,25,25)",
           "width": 1
          },
          "type": "line",
          "x0": 0.84233,
          "x1": 0.84233,
          "y0": 62.199999999999996,
          "y1": 60.9
         },
         {
          "layer": "below",
          "line": {
           "color": "rgb(25,25,25)",
           "width": 1
          },
          "type": "line",
          "x0": 0.84233,
          "x1": 0.91834,
          "y0": 60.9,
          "y1": 60.9
         },
         {
          "layer": "below",
          "line": {
           "color": "rgb(25,25,25)",
           "width": 1
          },
          "type": "line",
          "x0": 0.84233,
          "x1": 0.92294,
          "y0": 62.199999999999996,
          "y1": 62.199999999999996
         },
         {
          "layer": "below",
          "line": {
           "color": "rgb(25,25,25)",
           "width": 1
          },
          "type": "line",
          "x0": 0.15209999999999999,
          "x1": 0.18558,
          "y0": 71.60468750000001,
          "y1": 71.60468750000001
         },
         {
          "layer": "below",
          "line": {
           "color": "rgb(25,25,25)",
           "width": 1
          },
          "type": "line",
          "x0": 0.18558,
          "x1": 0.18558,
          "y0": 77.59687500000001,
          "y1": 65.6125
         },
         {
          "layer": "below",
          "line": {
           "color": "rgb(25,25,25)",
           "width": 1
          },
          "type": "line",
          "x0": 0.18558,
          "x1": 0.241,
          "y0": 65.6125,
          "y1": 65.6125
         },
         {
          "layer": "below",
          "line": {
           "color": "rgb(25,25,25)",
           "width": 1
          },
          "type": "line",
          "x0": 0.241,
          "x1": 0.241,
          "y0": 67.07499999999999,
          "y1": 64.15
         },
         {
          "layer": "below",
          "line": {
           "color": "rgb(25,25,25)",
           "width": 1
          },
          "type": "line",
          "x0": 0.241,
          "x1": 0.24104,
          "y0": 64.15,
          "y1": 64.15
         },
         {
          "layer": "below",
          "line": {
           "color": "rgb(25,25,25)",
           "width": 1
          },
          "type": "line",
          "x0": 0.24104,
          "x1": 0.24104,
          "y0": 64.8,
          "y1": 63.5
         },
         {
          "layer": "below",
          "line": {
           "color": "rgb(25,25,25)",
           "width": 1
          },
          "type": "line",
          "x0": 0.24104,
          "x1": 0.24119000000000002,
          "y0": 63.5,
          "y1": 63.5
         },
         {
          "layer": "below",
          "line": {
           "color": "rgb(25,25,25)",
           "width": 1
          },
          "type": "line",
          "x0": 0.24104,
          "x1": 0.2411,
          "y0": 64.8,
          "y1": 64.8
         },
         {
          "layer": "below",
          "line": {
           "color": "rgb(25,25,25)",
           "width": 1
          },
          "type": "line",
          "x0": 0.241,
          "x1": 0.241,
          "y0": 67.07499999999999,
          "y1": 67.07499999999999
         },
         {
          "layer": "below",
          "line": {
           "color": "rgb(25,25,25)",
           "width": 1
          },
          "type": "line",
          "x0": 0.241,
          "x1": 0.241,
          "y0": 68.05,
          "y1": 66.1
         },
         {
          "layer": "below",
          "line": {
           "color": "rgb(25,25,25)",
           "width": 1
          },
          "type": "line",
          "x0": 0.241,
          "x1": 0.24115,
          "y0": 66.1,
          "y1": 66.1
         },
         {
          "layer": "below",
          "line": {
           "color": "rgb(25,25,25)",
           "width": 1
          },
          "type": "line",
          "x0": 0.241,
          "x1": 0.24104,
          "y0": 68.05,
          "y1": 68.05
         },
         {
          "layer": "below",
          "line": {
           "color": "rgb(25,25,25)",
           "width": 1
          },
          "type": "line",
          "x0": 0.24104,
          "x1": 0.24104,
          "y0": 68.69999999999999,
          "y1": 67.4
         },
         {
          "layer": "below",
          "line": {
           "color": "rgb(25,25,25)",
           "width": 1
          },
          "type": "line",
          "x0": 0.24104,
          "x1": 0.24129,
          "y0": 67.4,
          "y1": 67.4
         },
         {
          "layer": "below",
          "line": {
           "color": "rgb(25,25,25)",
           "width": 1
          },
          "type": "line",
          "x0": 0.24104,
          "x1": 0.24144000000000002,
          "y0": 68.69999999999999,
          "y1": 68.69999999999999
         },
         {
          "layer": "below",
          "line": {
           "color": "rgb(25,25,25)",
           "width": 1
          },
          "type": "line",
          "x0": 0.18558,
          "x1": 0.23898,
          "y0": 77.59687500000001,
          "y1": 77.59687500000001
         },
         {
          "layer": "below",
          "line": {
           "color": "rgb(25,25,25)",
           "width": 1
          },
          "type": "line",
          "x0": 0.23898,
          "x1": 0.23898,
          "y0": 83.24375,
          "y1": 71.95
         },
         {
          "layer": "below",
          "line": {
           "color": "rgb(25,25,25)",
           "width": 1
          },
          "type": "line",
          "x0": 0.23898,
          "x1": 0.24271,
          "y0": 71.95,
          "y1": 71.95
         },
         {
          "layer": "below",
          "line": {
           "color": "rgb(25,25,25)",
           "width": 1
          },
          "type": "line",
          "x0": 0.24271,
          "x1": 0.24271,
          "y0": 73.25,
          "y1": 70.65
         },
         {
          "layer": "below",
          "line": {
           "color": "rgb(25,25,25)",
           "width": 1
          },
          "type": "line",
          "x0": 0.24271,
          "x1": 0.25798,
          "y0": 70.65,
          "y1": 70.65
         },
         {
          "layer": "below",
          "line": {
           "color": "rgb(25,25,25)",
           "width": 1
          },
          "type": "line",
          "x0": 0.25798,
          "x1": 0.25798,
          "y0": 71.3,
          "y1": 70
         },
         {
          "layer": "below",
          "line": {
           "color": "rgb(25,25,25)",
           "width": 1
          },
          "type": "line",
          "x0": 0.25798,
          "x1": 0.25808,
          "y0": 70,
          "y1": 70
         },
         {
          "layer": "below",
          "line": {
           "color": "rgb(25,25,25)",
           "width": 1
          },
          "type": "line",
          "x0": 0.25798,
          "x1": 0.25859,
          "y0": 71.3,
          "y1": 71.3
         },
         {
          "layer": "below",
          "line": {
           "color": "rgb(25,25,25)",
           "width": 1
          },
          "type": "line",
          "x0": 0.24271,
          "x1": 0.24619000000000002,
          "y0": 73.25,
          "y1": 73.25
         },
         {
          "layer": "below",
          "line": {
           "color": "rgb(25,25,25)",
           "width": 1
          },
          "type": "line",
          "x0": 0.24619000000000002,
          "x1": 0.24619000000000002,
          "y0": 73.9,
          "y1": 72.6
         },
         {
          "layer": "below",
          "line": {
           "color": "rgb(25,25,25)",
           "width": 1
          },
          "type": "line",
          "x0": 0.24619000000000002,
          "x1": 0.26108000000000003,
          "y0": 72.6,
          "y1": 72.6
         },
         {
          "layer": "below",
          "line": {
           "color": "rgb(25,25,25)",
           "width": 1
          },
          "type": "line",
          "x0": 0.24619000000000002,
          "x1": 0.26208000000000004,
          "y0": 73.9,
          "y1": 73.9
         },
         {
          "layer": "below",
          "line": {
           "color": "rgb(25,25,25)",
           "width": 1
          },
          "type": "line",
          "x0": 0.23898,
          "x1": 0.24112,
          "y0": 83.24375,
          "y1": 83.24375
         },
         {
          "layer": "below",
          "line": {
           "color": "rgb(25,25,25)",
           "width": 1
          },
          "type": "line",
          "x0": 0.24112,
          "x1": 0.24112,
          "y0": 86.25,
          "y1": 80.2375
         },
         {
          "layer": "below",
          "line": {
           "color": "rgb(25,25,25)",
           "width": 1
          },
          "type": "line",
          "x0": 0.24112,
          "x1": 0.24189,
          "y0": 80.2375,
          "y1": 80.2375
         },
         {
          "layer": "below",
          "line": {
           "color": "rgb(25,25,25)",
           "width": 1
          },
          "type": "line",
          "x0": 0.24189,
          "x1": 0.24189,
          "y0": 82.8375,
          "y1": 77.63749999999999
         },
         {
          "layer": "below",
          "line": {
           "color": "rgb(25,25,25)",
           "width": 1
          },
          "type": "line",
          "x0": 0.24189,
          "x1": 0.24318,
          "y0": 77.63749999999999,
          "y1": 77.63749999999999
         },
         {
          "layer": "below",
          "line": {
           "color": "rgb(25,25,25)",
           "width": 1
          },
          "type": "line",
          "x0": 0.24318,
          "x1": 0.24318,
          "y0": 79.1,
          "y1": 76.175
         },
         {
          "layer": "below",
          "line": {
           "color": "rgb(25,25,25)",
           "width": 1
          },
          "type": "line",
          "x0": 0.24318,
          "x1": 0.24601,
          "y0": 76.175,
          "y1": 76.175
         },
         {
          "layer": "below",
          "line": {
           "color": "rgb(25,25,25)",
           "width": 1
          },
          "type": "line",
          "x0": 0.24601,
          "x1": 0.24601,
          "y0": 77.15,
          "y1": 75.19999999999999
         },
         {
          "layer": "below",
          "line": {
           "color": "rgb(25,25,25)",
           "width": 1
          },
          "type": "line",
          "x0": 0.24601,
          "x1": 0.26117,
          "y0": 75.19999999999999,
          "y1": 75.19999999999999
         },
         {
          "layer": "below",
          "line": {
           "color": "rgb(25,25,25)",
           "width": 1
          },
          "type": "line",
          "x0": 0.24601,
          "x1": 0.2606,
          "y0": 77.15,
          "y1": 77.15
         },
         {
          "layer": "below",
          "line": {
           "color": "rgb(25,25,25)",
           "width": 1
          },
          "type": "line",
          "x0": 0.2606,
          "x1": 0.2606,
          "y0": 77.8,
          "y1": 76.5
         },
         {
          "layer": "below",
          "line": {
           "color": "rgb(25,25,25)",
           "width": 1
          },
          "type": "line",
          "x0": 0.2606,
          "x1": 0.26083,
          "y0": 76.5,
          "y1": 76.5
         },
         {
          "layer": "below",
          "line": {
           "color": "rgb(25,25,25)",
           "width": 1
          },
          "type": "line",
          "x0": 0.2606,
          "x1": 0.26073,
          "y0": 77.8,
          "y1": 77.8
         },
         {
          "layer": "below",
          "line": {
           "color": "rgb(25,25,25)",
           "width": 1
          },
          "type": "line",
          "x0": 0.24318,
          "x1": 0.2602,
          "y0": 79.1,
          "y1": 79.1
         },
         {
          "layer": "below",
          "line": {
           "color": "rgb(25,25,25)",
           "width": 1
          },
          "type": "line",
          "x0": 0.24189,
          "x1": 0.24506999999999998,
          "y0": 82.8375,
          "y1": 82.8375
         },
         {
          "layer": "below",
          "line": {
           "color": "rgb(25,25,25)",
           "width": 1
          },
          "type": "line",
          "x0": 0.24506999999999998,
          "x1": 0.24506999999999998,
          "y0": 84.3,
          "y1": 81.375
         },
         {
          "layer": "below",
          "line": {
           "color": "rgb(25,25,25)",
           "width": 1
          },
          "type": "line",
          "x0": 0.24506999999999998,
          "x1": 0.25971,
          "y0": 81.375,
          "y1": 81.375
         },
         {
          "layer": "below",
          "line": {
           "color": "rgb(25,25,25)",
           "width": 1
          },
          "type": "line",
          "x0": 0.25971,
          "x1": 0.25971,
          "y0": 82.35,
          "y1": 80.4
         },
         {
          "layer": "below",
          "line": {
           "color": "rgb(25,25,25)",
           "width": 1
          },
          "type": "line",
          "x0": 0.25971,
          "x1": 0.25977,
          "y0": 80.4,
          "y1": 80.4
         },
         {
          "layer": "below",
          "line": {
           "color": "rgb(25,25,25)",
           "width": 1
          },
          "type": "line",
          "x0": 0.25971,
          "x1": 0.25973,
          "y0": 82.35,
          "y1": 82.35
         },
         {
          "layer": "below",
          "line": {
           "color": "rgb(25,25,25)",
           "width": 1
          },
          "type": "line",
          "x0": 0.25973,
          "x1": 0.25973,
          "y0": 83,
          "y1": 81.7
         },
         {
          "layer": "below",
          "line": {
           "color": "rgb(25,25,25)",
           "width": 1
          },
          "type": "line",
          "x0": 0.25973,
          "x1": 0.26003000000000004,
          "y0": 81.7,
          "y1": 81.7
         },
         {
          "layer": "below",
          "line": {
           "color": "rgb(25,25,25)",
           "width": 1
          },
          "type": "line",
          "x0": 0.25973,
          "x1": 0.26111,
          "y0": 83,
          "y1": 83
         },
         {
          "layer": "below",
          "line": {
           "color": "rgb(25,25,25)",
           "width": 1
          },
          "type": "line",
          "x0": 0.24506999999999998,
          "x1": 0.26244999999999996,
          "y0": 84.3,
          "y1": 84.3
         },
         {
          "layer": "below",
          "line": {
           "color": "rgb(25,25,25)",
           "width": 1
          },
          "type": "line",
          "x0": 0.24112,
          "x1": 0.24401,
          "y0": 86.25,
          "y1": 86.25
         },
         {
          "layer": "below",
          "line": {
           "color": "rgb(25,25,25)",
           "width": 1
          },
          "type": "line",
          "x0": 0.24401,
          "x1": 0.24401,
          "y0": 86.9,
          "y1": 85.6
         },
         {
          "layer": "below",
          "line": {
           "color": "rgb(25,25,25)",
           "width": 1
          },
          "type": "line",
          "x0": 0.24401,
          "x1": 0.25846,
          "y0": 85.6,
          "y1": 85.6
         },
         {
          "layer": "below",
          "line": {
           "color": "rgb(25,25,25)",
           "width": 1
          },
          "type": "line",
          "x0": 0.24401,
          "x1": 0.2614,
          "y0": 86.9,
          "y1": 86.9
         },
         {
          "layer": "below",
          "line": {
           "color": "rgb(25,25,25)",
           "width": 1
          },
          "type": "line",
          "x0": 0.012920000000000001,
          "x1": 0.022330000000000003,
          "y0": 90.3125,
          "y1": 90.3125
         },
         {
          "layer": "below",
          "line": {
           "color": "rgb(25,25,25)",
           "width": 1
          },
          "type": "line",
          "x0": 0.022330000000000003,
          "x1": 0.022330000000000003,
          "y0": 91.775,
          "y1": 88.85
         },
         {
          "layer": "below",
          "line": {
           "color": "rgb(25,25,25)",
           "width": 1
          },
          "type": "line",
          "x0": 0.022330000000000003,
          "x1": 0.04463,
          "y0": 88.85,
          "y1": 88.85
         },
         {
          "layer": "below",
          "line": {
           "color": "rgb(25,25,25)",
           "width": 1
          },
          "type": "line",
          "x0": 0.04463,
          "x1": 0.04463,
          "y0": 89.5,
          "y1": 88.2
         },
         {
          "layer": "below",
          "line": {
           "color": "rgb(25,25,25)",
           "width": 1
          },
          "type": "line",
          "x0": 0.04463,
          "x1": 0.045160000000000006,
          "y0": 88.2,
          "y1": 88.2
         },
         {
          "layer": "below",
          "line": {
           "color": "rgb(25,25,25)",
           "width": 1
          },
          "type": "line",
          "x0": 0.04463,
          "x1": 0.044680000000000004,
          "y0": 89.5,
          "y1": 89.5
         },
         {
          "layer": "below",
          "line": {
           "color": "rgb(25,25,25)",
           "width": 1
          },
          "type": "line",
          "x0": 0.022330000000000003,
          "x1": 0.04487000000000001,
          "y0": 91.775,
          "y1": 91.775
         },
         {
          "layer": "below",
          "line": {
           "color": "rgb(25,25,25)",
           "width": 1
          },
          "type": "line",
          "x0": 0.04487000000000001,
          "x1": 0.04487000000000001,
          "y0": 92.75,
          "y1": 90.8
         },
         {
          "layer": "below",
          "line": {
           "color": "rgb(25,25,25)",
           "width": 1
          },
          "type": "line",
          "x0": 0.04487000000000001,
          "x1": 0.045680000000000005,
          "y0": 90.8,
          "y1": 90.8
         },
         {
          "layer": "below",
          "line": {
           "color": "rgb(25,25,25)",
           "width": 1
          },
          "type": "line",
          "x0": 0.04487000000000001,
          "x1": 0.04487000000000001,
          "y0": 92.75,
          "y1": 92.75
         },
         {
          "layer": "below",
          "line": {
           "color": "rgb(25,25,25)",
           "width": 1
          },
          "type": "line",
          "x0": 0.04487000000000001,
          "x1": 0.04487000000000001,
          "y0": 93.4,
          "y1": 92.1
         },
         {
          "layer": "below",
          "line": {
           "color": "rgb(25,25,25)",
           "width": 1
          },
          "type": "line",
          "x0": 0.04487000000000001,
          "x1": 0.04508000000000001,
          "y0": 92.1,
          "y1": 92.1
         },
         {
          "layer": "below",
          "line": {
           "color": "rgb(25,25,25)",
           "width": 1
          },
          "type": "line",
          "x0": 0.04487000000000001,
          "x1": 0.044950000000000004,
          "y0": 93.4,
          "y1": 93.4
         },
         {
          "layer": "below",
          "line": {
           "color": "rgb(25,25,25)",
           "width": 1
          },
          "type": "line",
          "x0": 0.00893,
          "x1": 0.01397,
          "y0": 96.8125,
          "y1": 96.8125
         },
         {
          "layer": "below",
          "line": {
           "color": "rgb(25,25,25)",
           "width": 1
          },
          "type": "line",
          "x0": 0.01397,
          "x1": 0.01397,
          "y0": 98.275,
          "y1": 95.35
         },
         {
          "layer": "below",
          "line": {
           "color": "rgb(25,25,25)",
           "width": 1
          },
          "type": "line",
          "x0": 0.01397,
          "x1": 0.029759999999999998,
          "y0": 95.35,
          "y1": 95.35
         },
         {
          "layer": "below",
          "line": {
           "color": "rgb(25,25,25)",
           "width": 1
          },
          "type": "line",
          "x0": 0.029759999999999998,
          "x1": 0.029759999999999998,
          "y0": 96,
          "y1": 94.7
         },
         {
          "layer": "below",
          "line": {
           "color": "rgb(25,25,25)",
           "width": 1
          },
          "type": "line",
          "x0": 0.029759999999999998,
          "x1": 0.033339999999999995,
          "y0": 94.7,
          "y1": 94.7
         },
         {
          "layer": "below",
          "line": {
           "color": "rgb(25,25,25)",
           "width": 1
          },
          "type": "line",
          "x0": 0.029759999999999998,
          "x1": 0.02984,
          "y0": 96,
          "y1": 96
         },
         {
          "layer": "below",
          "line": {
           "color": "rgb(25,25,25)",
           "width": 1
          },
          "type": "line",
          "x0": 0.01397,
          "x1": 0.02685,
          "y0": 98.275,
          "y1": 98.275
         },
         {
          "layer": "below",
          "line": {
           "color": "rgb(25,25,25)",
           "width": 1
          },
          "type": "line",
          "x0": 0.02685,
          "x1": 0.02685,
          "y0": 99.25,
          "y1": 97.3
         },
         {
          "layer": "below",
          "line": {
           "color": "rgb(25,25,25)",
           "width": 1
          },
          "type": "line",
          "x0": 0.02685,
          "x1": 0.03094,
          "y0": 97.3,
          "y1": 97.3
         },
         {
          "layer": "below",
          "line": {
           "color": "rgb(25,25,25)",
           "width": 1
          },
          "type": "line",
          "x0": 0.02685,
          "x1": 0.030289999999999997,
          "y0": 99.25,
          "y1": 99.25
         },
         {
          "layer": "below",
          "line": {
           "color": "rgb(25,25,25)",
           "width": 1
          },
          "type": "line",
          "x0": 0.030289999999999997,
          "x1": 0.030289999999999997,
          "y0": 99.9,
          "y1": 98.6
         },
         {
          "layer": "below",
          "line": {
           "color": "rgb(25,25,25)",
           "width": 1
          },
          "type": "line",
          "x0": 0.030289999999999997,
          "x1": 0.03044,
          "y0": 98.6,
          "y1": 98.6
         },
         {
          "layer": "below",
          "line": {
           "color": "rgb(25,25,25)",
           "width": 1
          },
          "type": "line",
          "x0": 0.030289999999999997,
          "x1": 0.03035,
          "y0": 99.9,
          "y1": 99.9
         },
         {
          "layer": "below",
          "line": {
           "color": "rgb(25,25,25)",
           "width": 1
          },
          "type": "line",
          "x0": 0.0047,
          "x1": 0.00909,
          "y0": 103.3125,
          "y1": 103.3125
         },
         {
          "layer": "below",
          "line": {
           "color": "rgb(25,25,25)",
           "width": 1
          },
          "type": "line",
          "x0": 0.00909,
          "x1": 0.00909,
          "y0": 104.775,
          "y1": 101.85
         },
         {
          "layer": "below",
          "line": {
           "color": "rgb(25,25,25)",
           "width": 1
          },
          "type": "line",
          "x0": 0.00909,
          "x1": 0.02862,
          "y0": 101.85,
          "y1": 101.85
         },
         {
          "layer": "below",
          "line": {
           "color": "rgb(25,25,25)",
           "width": 1
          },
          "type": "line",
          "x0": 0.02862,
          "x1": 0.02862,
          "y0": 102.5,
          "y1": 101.2
         },
         {
          "layer": "below",
          "line": {
           "color": "rgb(25,25,25)",
           "width": 1
          },
          "type": "line",
          "x0": 0.02862,
          "x1": 0.02877,
          "y0": 101.2,
          "y1": 101.2
         },
         {
          "layer": "below",
          "line": {
           "color": "rgb(25,25,25)",
           "width": 1
          },
          "type": "line",
          "x0": 0.02862,
          "x1": 0.02922,
          "y0": 102.5,
          "y1": 102.5
         },
         {
          "layer": "below",
          "line": {
           "color": "rgb(25,25,25)",
           "width": 1
          },
          "type": "line",
          "x0": 0.00909,
          "x1": 0.02321,
          "y0": 104.775,
          "y1": 104.775
         },
         {
          "layer": "below",
          "line": {
           "color": "rgb(25,25,25)",
           "width": 1
          },
          "type": "line",
          "x0": 0.02321,
          "x1": 0.02321,
          "y0": 105.75,
          "y1": 103.8
         },
         {
          "layer": "below",
          "line": {
           "color": "rgb(25,25,25)",
           "width": 1
          },
          "type": "line",
          "x0": 0.02321,
          "x1": 0.023270000000000002,
          "y0": 103.8,
          "y1": 103.8
         },
         {
          "layer": "below",
          "line": {
           "color": "rgb(25,25,25)",
           "width": 1
          },
          "type": "line",
          "x0": 0.02321,
          "x1": 0.02323,
          "y0": 105.75,
          "y1": 105.75
         },
         {
          "layer": "below",
          "line": {
           "color": "rgb(25,25,25)",
           "width": 1
          },
          "type": "line",
          "x0": 0.02323,
          "x1": 0.02323,
          "y0": 106.4,
          "y1": 105.1
         },
         {
          "layer": "below",
          "line": {
           "color": "rgb(25,25,25)",
           "width": 1
          },
          "type": "line",
          "x0": 0.02323,
          "x1": 0.02346,
          "y0": 105.1,
          "y1": 105.1
         },
         {
          "layer": "below",
          "line": {
           "color": "rgb(25,25,25)",
           "width": 1
          },
          "type": "line",
          "x0": 0.02323,
          "x1": 0.0234,
          "y0": 106.4,
          "y1": 106.4
         },
         {
          "layer": "below",
          "line": {
           "color": "rgb(25,25,25)",
           "width": 1
          },
          "type": "line",
          "x0": 0.0025900000000000003,
          "x1": 0.00551,
          "y0": 108.35,
          "y1": 108.35
         },
         {
          "layer": "below",
          "line": {
           "color": "rgb(25,25,25)",
           "width": 1
          },
          "type": "line",
          "x0": 0.00551,
          "x1": 0.00551,
          "y0": 109,
          "y1": 107.7
         },
         {
          "layer": "below",
          "line": {
           "color": "rgb(25,25,25)",
           "width": 1
          },
          "type": "line",
          "x0": 0.00551,
          "x1": 0.02246,
          "y0": 107.7,
          "y1": 107.7
         },
         {
          "layer": "below",
          "line": {
           "color": "rgb(25,25,25)",
           "width": 1
          },
          "type": "line",
          "x0": 0.00551,
          "x1": 0.01939,
          "y0": 109,
          "y1": 109
         }
        ],
        "template": {
         "data": {
          "bar": [
           {
            "error_x": {
             "color": "#2a3f5f"
            },
            "error_y": {
             "color": "#2a3f5f"
            },
            "marker": {
             "line": {
              "color": "#E5ECF6",
              "width": 0.5
             },
             "pattern": {
              "fillmode": "overlay",
              "size": 10,
              "solidity": 0.2
             }
            },
            "type": "bar"
           }
          ],
          "barpolar": [
           {
            "marker": {
             "line": {
              "color": "#E5ECF6",
              "width": 0.5
             },
             "pattern": {
              "fillmode": "overlay",
              "size": 10,
              "solidity": 0.2
             }
            },
            "type": "barpolar"
           }
          ],
          "carpet": [
           {
            "aaxis": {
             "endlinecolor": "#2a3f5f",
             "gridcolor": "white",
             "linecolor": "white",
             "minorgridcolor": "white",
             "startlinecolor": "#2a3f5f"
            },
            "baxis": {
             "endlinecolor": "#2a3f5f",
             "gridcolor": "white",
             "linecolor": "white",
             "minorgridcolor": "white",
             "startlinecolor": "#2a3f5f"
            },
            "type": "carpet"
           }
          ],
          "choropleth": [
           {
            "colorbar": {
             "outlinewidth": 0,
             "ticks": ""
            },
            "type": "choropleth"
           }
          ],
          "contour": [
           {
            "colorbar": {
             "outlinewidth": 0,
             "ticks": ""
            },
            "colorscale": [
             [
              0,
              "#0d0887"
             ],
             [
              0.1111111111111111,
              "#46039f"
             ],
             [
              0.2222222222222222,
              "#7201a8"
             ],
             [
              0.3333333333333333,
              "#9c179e"
             ],
             [
              0.4444444444444444,
              "#bd3786"
             ],
             [
              0.5555555555555556,
              "#d8576b"
             ],
             [
              0.6666666666666666,
              "#ed7953"
             ],
             [
              0.7777777777777778,
              "#fb9f3a"
             ],
             [
              0.8888888888888888,
              "#fdca26"
             ],
             [
              1,
              "#f0f921"
             ]
            ],
            "type": "contour"
           }
          ],
          "contourcarpet": [
           {
            "colorbar": {
             "outlinewidth": 0,
             "ticks": ""
            },
            "type": "contourcarpet"
           }
          ],
          "heatmap": [
           {
            "colorbar": {
             "outlinewidth": 0,
             "ticks": ""
            },
            "colorscale": [
             [
              0,
              "#0d0887"
             ],
             [
              0.1111111111111111,
              "#46039f"
             ],
             [
              0.2222222222222222,
              "#7201a8"
             ],
             [
              0.3333333333333333,
              "#9c179e"
             ],
             [
              0.4444444444444444,
              "#bd3786"
             ],
             [
              0.5555555555555556,
              "#d8576b"
             ],
             [
              0.6666666666666666,
              "#ed7953"
             ],
             [
              0.7777777777777778,
              "#fb9f3a"
             ],
             [
              0.8888888888888888,
              "#fdca26"
             ],
             [
              1,
              "#f0f921"
             ]
            ],
            "type": "heatmap"
           }
          ],
          "heatmapgl": [
           {
            "colorbar": {
             "outlinewidth": 0,
             "ticks": ""
            },
            "colorscale": [
             [
              0,
              "#0d0887"
             ],
             [
              0.1111111111111111,
              "#46039f"
             ],
             [
              0.2222222222222222,
              "#7201a8"
             ],
             [
              0.3333333333333333,
              "#9c179e"
             ],
             [
              0.4444444444444444,
              "#bd3786"
             ],
             [
              0.5555555555555556,
              "#d8576b"
             ],
             [
              0.6666666666666666,
              "#ed7953"
             ],
             [
              0.7777777777777778,
              "#fb9f3a"
             ],
             [
              0.8888888888888888,
              "#fdca26"
             ],
             [
              1,
              "#f0f921"
             ]
            ],
            "type": "heatmapgl"
           }
          ],
          "histogram": [
           {
            "marker": {
             "pattern": {
              "fillmode": "overlay",
              "size": 10,
              "solidity": 0.2
             }
            },
            "type": "histogram"
           }
          ],
          "histogram2d": [
           {
            "colorbar": {
             "outlinewidth": 0,
             "ticks": ""
            },
            "colorscale": [
             [
              0,
              "#0d0887"
             ],
             [
              0.1111111111111111,
              "#46039f"
             ],
             [
              0.2222222222222222,
              "#7201a8"
             ],
             [
              0.3333333333333333,
              "#9c179e"
             ],
             [
              0.4444444444444444,
              "#bd3786"
             ],
             [
              0.5555555555555556,
              "#d8576b"
             ],
             [
              0.6666666666666666,
              "#ed7953"
             ],
             [
              0.7777777777777778,
              "#fb9f3a"
             ],
             [
              0.8888888888888888,
              "#fdca26"
             ],
             [
              1,
              "#f0f921"
             ]
            ],
            "type": "histogram2d"
           }
          ],
          "histogram2dcontour": [
           {
            "colorbar": {
             "outlinewidth": 0,
             "ticks": ""
            },
            "colorscale": [
             [
              0,
              "#0d0887"
             ],
             [
              0.1111111111111111,
              "#46039f"
             ],
             [
              0.2222222222222222,
              "#7201a8"
             ],
             [
              0.3333333333333333,
              "#9c179e"
             ],
             [
              0.4444444444444444,
              "#bd3786"
             ],
             [
              0.5555555555555556,
              "#d8576b"
             ],
             [
              0.6666666666666666,
              "#ed7953"
             ],
             [
              0.7777777777777778,
              "#fb9f3a"
             ],
             [
              0.8888888888888888,
              "#fdca26"
             ],
             [
              1,
              "#f0f921"
             ]
            ],
            "type": "histogram2dcontour"
           }
          ],
          "mesh3d": [
           {
            "colorbar": {
             "outlinewidth": 0,
             "ticks": ""
            },
            "type": "mesh3d"
           }
          ],
          "parcoords": [
           {
            "line": {
             "colorbar": {
              "outlinewidth": 0,
              "ticks": ""
             }
            },
            "type": "parcoords"
           }
          ],
          "pie": [
           {
            "automargin": true,
            "type": "pie"
           }
          ],
          "scatter": [
           {
            "fillpattern": {
             "fillmode": "overlay",
             "size": 10,
             "solidity": 0.2
            },
            "type": "scatter"
           }
          ],
          "scatter3d": [
           {
            "line": {
             "colorbar": {
              "outlinewidth": 0,
              "ticks": ""
             }
            },
            "marker": {
             "colorbar": {
              "outlinewidth": 0,
              "ticks": ""
             }
            },
            "type": "scatter3d"
           }
          ],
          "scattercarpet": [
           {
            "marker": {
             "colorbar": {
              "outlinewidth": 0,
              "ticks": ""
             }
            },
            "type": "scattercarpet"
           }
          ],
          "scattergeo": [
           {
            "marker": {
             "colorbar": {
              "outlinewidth": 0,
              "ticks": ""
             }
            },
            "type": "scattergeo"
           }
          ],
          "scattergl": [
           {
            "marker": {
             "colorbar": {
              "outlinewidth": 0,
              "ticks": ""
             }
            },
            "type": "scattergl"
           }
          ],
          "scattermapbox": [
           {
            "marker": {
             "colorbar": {
              "outlinewidth": 0,
              "ticks": ""
             }
            },
            "type": "scattermapbox"
           }
          ],
          "scatterpolar": [
           {
            "marker": {
             "colorbar": {
              "outlinewidth": 0,
              "ticks": ""
             }
            },
            "type": "scatterpolar"
           }
          ],
          "scatterpolargl": [
           {
            "marker": {
             "colorbar": {
              "outlinewidth": 0,
              "ticks": ""
             }
            },
            "type": "scatterpolargl"
           }
          ],
          "scatterternary": [
           {
            "marker": {
             "colorbar": {
              "outlinewidth": 0,
              "ticks": ""
             }
            },
            "type": "scatterternary"
           }
          ],
          "surface": [
           {
            "colorbar": {
             "outlinewidth": 0,
             "ticks": ""
            },
            "colorscale": [
             [
              0,
              "#0d0887"
             ],
             [
              0.1111111111111111,
              "#46039f"
             ],
             [
              0.2222222222222222,
              "#7201a8"
             ],
             [
              0.3333333333333333,
              "#9c179e"
             ],
             [
              0.4444444444444444,
              "#bd3786"
             ],
             [
              0.5555555555555556,
              "#d8576b"
             ],
             [
              0.6666666666666666,
              "#ed7953"
             ],
             [
              0.7777777777777778,
              "#fb9f3a"
             ],
             [
              0.8888888888888888,
              "#fdca26"
             ],
             [
              1,
              "#f0f921"
             ]
            ],
            "type": "surface"
           }
          ],
          "table": [
           {
            "cells": {
             "fill": {
              "color": "#EBF0F8"
             },
             "line": {
              "color": "white"
             }
            },
            "header": {
             "fill": {
              "color": "#C8D4E3"
             },
             "line": {
              "color": "white"
             }
            },
            "type": "table"
           }
          ]
         },
         "layout": {
          "annotationdefaults": {
           "arrowcolor": "#2a3f5f",
           "arrowhead": 0,
           "arrowwidth": 1
          },
          "autotypenumbers": "strict",
          "coloraxis": {
           "colorbar": {
            "outlinewidth": 0,
            "ticks": ""
           }
          },
          "colorscale": {
           "diverging": [
            [
             0,
             "#8e0152"
            ],
            [
             0.1,
             "#c51b7d"
            ],
            [
             0.2,
             "#de77ae"
            ],
            [
             0.3,
             "#f1b6da"
            ],
            [
             0.4,
             "#fde0ef"
            ],
            [
             0.5,
             "#f7f7f7"
            ],
            [
             0.6,
             "#e6f5d0"
            ],
            [
             0.7,
             "#b8e186"
            ],
            [
             0.8,
             "#7fbc41"
            ],
            [
             0.9,
             "#4d9221"
            ],
            [
             1,
             "#276419"
            ]
           ],
           "sequential": [
            [
             0,
             "#0d0887"
            ],
            [
             0.1111111111111111,
             "#46039f"
            ],
            [
             0.2222222222222222,
             "#7201a8"
            ],
            [
             0.3333333333333333,
             "#9c179e"
            ],
            [
             0.4444444444444444,
             "#bd3786"
            ],
            [
             0.5555555555555556,
             "#d8576b"
            ],
            [
             0.6666666666666666,
             "#ed7953"
            ],
            [
             0.7777777777777778,
             "#fb9f3a"
            ],
            [
             0.8888888888888888,
             "#fdca26"
            ],
            [
             1,
             "#f0f921"
            ]
           ],
           "sequentialminus": [
            [
             0,
             "#0d0887"
            ],
            [
             0.1111111111111111,
             "#46039f"
            ],
            [
             0.2222222222222222,
             "#7201a8"
            ],
            [
             0.3333333333333333,
             "#9c179e"
            ],
            [
             0.4444444444444444,
             "#bd3786"
            ],
            [
             0.5555555555555556,
             "#d8576b"
            ],
            [
             0.6666666666666666,
             "#ed7953"
            ],
            [
             0.7777777777777778,
             "#fb9f3a"
            ],
            [
             0.8888888888888888,
             "#fdca26"
            ],
            [
             1,
             "#f0f921"
            ]
           ]
          },
          "colorway": [
           "#636efa",
           "#EF553B",
           "#00cc96",
           "#ab63fa",
           "#FFA15A",
           "#19d3f3",
           "#FF6692",
           "#B6E880",
           "#FF97FF",
           "#FECB52"
          ],
          "font": {
           "color": "#2a3f5f"
          },
          "geo": {
           "bgcolor": "white",
           "lakecolor": "white",
           "landcolor": "#E5ECF6",
           "showlakes": true,
           "showland": true,
           "subunitcolor": "white"
          },
          "hoverlabel": {
           "align": "left"
          },
          "hovermode": "closest",
          "mapbox": {
           "style": "light"
          },
          "paper_bgcolor": "white",
          "plot_bgcolor": "#E5ECF6",
          "polar": {
           "angularaxis": {
            "gridcolor": "white",
            "linecolor": "white",
            "ticks": ""
           },
           "bgcolor": "#E5ECF6",
           "radialaxis": {
            "gridcolor": "white",
            "linecolor": "white",
            "ticks": ""
           }
          },
          "scene": {
           "xaxis": {
            "backgroundcolor": "#E5ECF6",
            "gridcolor": "white",
            "gridwidth": 2,
            "linecolor": "white",
            "showbackground": true,
            "ticks": "",
            "zerolinecolor": "white"
           },
           "yaxis": {
            "backgroundcolor": "#E5ECF6",
            "gridcolor": "white",
            "gridwidth": 2,
            "linecolor": "white",
            "showbackground": true,
            "ticks": "",
            "zerolinecolor": "white"
           },
           "zaxis": {
            "backgroundcolor": "#E5ECF6",
            "gridcolor": "white",
            "gridwidth": 2,
            "linecolor": "white",
            "showbackground": true,
            "ticks": "",
            "zerolinecolor": "white"
           }
          },
          "shapedefaults": {
           "line": {
            "color": "#2a3f5f"
           }
          },
          "ternary": {
           "aaxis": {
            "gridcolor": "white",
            "linecolor": "white",
            "ticks": ""
           },
           "baxis": {
            "gridcolor": "white",
            "linecolor": "white",
            "ticks": ""
           },
           "bgcolor": "#E5ECF6",
           "caxis": {
            "gridcolor": "white",
            "linecolor": "white",
            "ticks": ""
           }
          },
          "title": {
           "x": 0.05
          },
          "xaxis": {
           "automargin": true,
           "gridcolor": "white",
           "linecolor": "white",
           "ticks": "",
           "title": {
            "standoff": 15
           },
           "zerolinecolor": "white",
           "zerolinewidth": 2
          },
          "yaxis": {
           "automargin": true,
           "gridcolor": "white",
           "linecolor": "white",
           "ticks": "",
           "title": {
            "standoff": 15
           },
           "zerolinecolor": "white",
           "zerolinewidth": 2
          }
         }
        },
        "title": {
         "text": "My phylogenetic tree"
        },
        "width": 1000,
        "xaxis": {
         "title": {
          "text": "Branch Length"
         }
        },
        "yaxis": {
         "showgrid": false,
         "showline": false,
         "showticklabels": false,
         "title": {
          "text": ""
         },
         "zeroline": false
        }
       }
      }
     },
     "metadata": {},
     "output_type": "display_data"
    }
   ],
   "source": [
    "tree_plot1 = phyloworld.create_phylotree(tree, metadata, title = \"My phylogenetic tree\", include_confidence = False)\n",
    "tree_plot1.show()"
   ]
  },
  {
   "cell_type": "markdown",
   "metadata": {},
   "source": [
    "### Using random colors and adding confidence labels"
   ]
  },
  {
   "cell_type": "code",
   "execution_count": 6,
   "metadata": {},
   "outputs": [
    {
     "data": {
      "application/vnd.plotly.v1+json": {
       "config": {
        "plotlyServerURL": "https://plot.ly"
       },
       "data": [
        {
         "hoverinfo": "text",
         "marker": {
          "color": [
           "#a25b7c",
           "#a25b7c",
           "#a25b7c",
           "#a25b7c",
           "#310511",
           "#310511",
           "#1495c5",
           "#1495c5",
           "#1495c5",
           "#310511",
           "#310511",
           "#310511",
           "#310511",
           "#310511",
           "#310511",
           "#310511",
           "#310511",
           "#310511",
           "#310511",
           "#310511",
           "#310511",
           "#310511",
           "#310511",
           "#1495c5",
           "#310511",
           "#310511",
           "#1495c5",
           "#1495c5",
           "#310511",
           "#1495c5",
           "#310511",
           "#310511",
           "#310511",
           "#310511",
           "#1495c5",
           "#0ae43a",
           "#80c177",
           "#80c177",
           "#80c177",
           "#501795",
           "#74d3d7",
           "#501795",
           "#501795",
           "#501795",
           "#74d3d7",
           "#74d3d7",
           "#cb7e9d",
           "#cb7e9d",
           "#ebd03d",
           "#ebd03d",
           "#ebd03d",
           "#ebd03d",
           "#ebd03d",
           "#ebd03d",
           "#ebd03d",
           "#cb7e9d",
           "#cb7e9d",
           "#ebd03d",
           "#ebd03d",
           "#ebd03d",
           "#cb7e9d",
           "#8eff4a",
           "#74d3d7",
           "#cb7e9d",
           "#74d3d7",
           "#74d3d7",
           "#501795",
           "#74d3d7",
           "#74d3d7",
           "#74d3d7",
           "#c30908",
           "#c30908",
           "#c30908",
           "#6298c2",
           "#6298c2",
           "#7979ff",
           "#7979ff",
           "#7979ff",
           "#6298c2",
           "#6298c2",
           "#6298c2",
           "#6298c2",
           "#6298c2",
           "#310511",
           "#310511",
           "#6298c2",
           "#6298c2",
           "#6298c2",
           "#6298c2",
           "#6298c2",
           "#6298c2",
           "#6298c2",
           "#0ae43a",
           "#0ae43a",
           "#534857",
           "#534857",
           "#534857",
           "#0ae43a",
           "#0ae43a",
           "#534857",
           "#b8646a",
           "#b8646a",
           "#b8646a",
           "#b8646a",
           "#412c37",
           "#534857",
           "#412c37",
           "#b8646a",
           "#412c37"
          ],
          "size": 5
         },
         "mode": "markers",
         "name": "Countries",
         "text": [
          "Country: Canada<br>ID: GCF_001559195-1_ASM155919v2_genomic.fasta",
          "Country: Canada<br>ID: 2605_06072016_AXDK00-0",
          "Country: Canada<br>ID: 8605_07052018_AXDK00-0",
          "Country: Canada<br>ID: 8605_01062016_AXDK04-0",
          "Country: United States<br>ID: 4203_09102012_AXDK00-0",
          "Country: United States<br>ID: 3203_19092012_AXDK00-0",
          "Country: Mexico<br>ID: 3203_18042005_AXDK00-0",
          "Country: Mexico<br>ID: 3203_07022014_AXDK00-0",
          "Country: Mexico<br>ID: 3203_01011997_AXDK00-0",
          "Country: United States<br>ID: 1703_16032010_AXDK00-0",
          "Country: United States<br>ID: GCF_900475575-1_44257_A01_genomic.fasta",
          "Country: United States<br>ID: GCF_001457475-1_NCTC10807_genomic.fasta",
          "Country: United States<br>ID: 5803_17012011_AXDK00-0",
          "Country: United States<br>ID: GCF_000758265-1_ASM75826v1_genomic.fasta",
          "Country: United States<br>ID: 0903_06012012_AXDK00-0",
          "Country: United States<br>ID: 3504_09012015_AXDK00-0",
          "Country: United States<br>ID: 3504_20122013_AXDK00-0",
          "Country: United States<br>ID: 8404_11122013_AXDK00-1",
          "Country: United States<br>ID: 8404_11122013_AXDK00-0",
          "Country: United States<br>ID: 8404_13022014_AXDK00-0",
          "Country: United States<br>ID: 9403_30102009_AXDK00-0",
          "Country: United States<br>ID: 9403_29092004_AXDK00-0",
          "Country: United States<br>ID: 9403_05092016_AXDK00-0",
          "Country: Mexico<br>ID: 0604_30122003_AXDK00-0",
          "Country: United States<br>ID: 0703_23092011_AXDK00-0",
          "Country: United States<br>ID: 5204_15082016_AXDK03-0",
          "Country: Mexico<br>ID: 0610_26012012_AXDK00-0",
          "Country: Mexico<br>ID: 0610_14092016_AXDK00-0",
          "Country: United States<br>ID: 1903_01011996_AXDK00-0",
          "Country: Mexico<br>ID: 1903_27032006_AXDK00-0",
          "Country: United States<br>ID: 7603_04042014_AXDK00-0",
          "Country: United States<br>ID: 6203_02102006_AXDK00-0",
          "Country: United States<br>ID: 7603_18022011_AXDK00-0",
          "Country: United States<br>ID: 7603_19112008_AXDK00-0",
          "Country: Mexico<br>ID: 9704_12082016_AXDK00-0",
          "Country: Egypt<br>ID: 5611_13012017_AXDK00-0",
          "Country: Turkey<br>ID: 4703_01012000_AXDK00-0",
          "Country: Turkey<br>ID: 4703_16022007_AXDK00-0",
          "Country: Turkey<br>ID: 8511_07042017_AXDK00-0",
          "Country: Spain<br>ID: GCF_001558915-1_ASM155891v2_genomic.fasta",
          "Country: Italy<br>ID: 3403_27022012_AXDK00-0",
          "Country: Spain<br>ID: 5303_07102016_AXDK00-0",
          "Country: Spain<br>ID: 5604_28082007_AXDK00-0",
          "Country: Spain<br>ID: 5604_07102016_AXDK00-0",
          "Country: Italy<br>ID: 1903_16122011_AXDK00-0",
          "Country: Italy<br>ID: 1903_01092016_AXDK00-0",
          "Country: France<br>ID: 7703_19012017_AXDK00-0",
          "Country: France<br>ID: 7703_16032018_AXDK00-0",
          "Country: Poland<br>ID: 9603_28102003_AXDK00-0",
          "Country: Poland<br>ID: 9603_28112008_AXDK00-0",
          "Country: Poland<br>ID: 9503_27052014_AXDK00-0",
          "Country: Poland<br>ID: 9603_01042014_AXDK00-0",
          "Country: Poland<br>ID: 9503_04032011_AXDK00-0",
          "Country: Poland<br>ID: 9503_02012007_AXDK00-0",
          "Country: Poland<br>ID: 5303_14012004_AXDK00-0",
          "Country: France<br>ID: 3704_27062014_AXDK00-0",
          "Country: France<br>ID: 3704_08022008_AXDK00-0",
          "Country: Poland<br>ID: 4703_18022015_AXDK00-0",
          "Country: Poland<br>ID: 4203_09122014_AXDK00-0",
          "Country: Poland<br>ID: 5303_14102009_AXDK00-0",
          "Country: France<br>ID: 3704_26112003_AXDK00-0",
          "Country: Germany<br>ID: 8703_15032017_AXDK00-0",
          "Country: Italy<br>ID: 1705_30032007_AXDK00-0",
          "Country: France<br>ID: 6004_19062007_AXDK00-0",
          "Country: Italy<br>ID: 1705_21052013_AXDK00-0",
          "Country: Italy<br>ID: 1705_25012010_AXDK00-0",
          "Country: Spain<br>ID: 3403_06102003_AXDK00-0",
          "Country: Italy<br>ID: GCF_001051055-1_ASM105105v1_genomic.fasta",
          "Country: Italy<br>ID: 4104_02122014_AXDK00-0",
          "Country: Italy<br>ID: 7402_26022014_AXDK00-0",
          "Country: Lithuania<br>ID: GCF_000165835-1_ASM16583v1_genomic.fasta",
          "Country: Lithuania<br>ID: 2202_04012011_AXDK00-0",
          "Country: Lithuania<br>ID: 7603_01011997_AXDK00-0",
          "Country: Denmark<br>ID: 0802_04042005_AXDK00-0",
          "Country: Denmark<br>ID: 0802_18012008_AXDK00-0",
          "Country: Estonia<br>ID: 0603_08102003_AXDK00-0",
          "Country: Estonia<br>ID: 0603_03012007_AXDK00-0",
          "Country: Estonia<br>ID: 6203_24092018_AXDK00-0",
          "Country: Denmark<br>ID: 6004_30102015_AXDK00-0",
          "Country: Denmark<br>ID: 6604_17022016_AXDK00-0",
          "Country: Denmark<br>ID: 6203_12122015_AXDK00-0",
          "Country: Denmark<br>ID: 9704_29072010_AXDK00-0",
          "Country: Denmark<br>ID: GCF_001558755-2_ASM155875v2_genomic.fasta",
          "Country: United States<br>ID: 8504_05012016_AXDK02-1",
          "Country: United States<br>ID: 8504_05012016_AXDK02-0",
          "Country: Denmark<br>ID: 2005_03022017_AXDK00-0",
          "Country: Denmark<br>ID: 9902_01011996_AXDK00-0",
          "Country: Denmark<br>ID: 9902_26012009_AXDK00-0",
          "Country: Denmark<br>ID: 9902_01032004_AXDK00-0",
          "Country: Denmark<br>ID: 5103_07102016_AXDK00-0",
          "Country: Denmark<br>ID: 8104_29042011_AXDK00-0",
          "Country: Denmark<br>ID: 9203_01012000_AXDK00-0",
          "Country: Egypt<br>ID: 9203_13122011_AXDK00-0",
          "Country: Egypt<br>ID: 9203_08042016_AXDK00-0",
          "Country: Libya<br>ID: 6604_25012007_AXDK00-0",
          "Country: Libya<br>ID: 6804_08032006_AXDK00-0",
          "Country: Libya<br>ID: 6203_01012000_AXDK00-0",
          "Country: Egypt<br>ID: 1704_01011999_AXDK00-0",
          "Country: Egypt<br>ID: 1704_07022011_AXDK00-0",
          "Country: Libya<br>ID: 2103_11042016_AXDK00-0",
          "Country: Angola<br>ID: 8603_27082014_AXDK00-0",
          "Country: Angola<br>ID: 8603_03072008_AXDK00-0",
          "Country: Angola<br>ID: 0703_07082013_AXDK00-0",
          "Country: Angola<br>ID: 6402_27032017_AXDK00-0",
          "Country: Algeria<br>ID: 0803_01012000_AXDK00-0",
          "Country: Libya<br>ID: 0803_27042007_AXDK00-0",
          "Country: Algeria<br>ID: 0803_26042014_AXDK00-0",
          "Country: Angola<br>ID: 3004_24042007_AXDK00-0",
          "Country: Algeria<br>ID: 1700_04112013_AXDK00-0"
         ],
         "type": "scatter",
         "x": [
          0.01525,
          0.01972,
          0.019110000000000002,
          0.018170000000000002,
          0.01828,
          0.01796,
          0.01863,
          0.01937,
          0.01784,
          0.02128,
          0.02383,
          0.02378,
          0.01982,
          0.026500000000000003,
          0.023420000000000003,
          0.02535,
          0.025300000000000003,
          0.021890000000000003,
          0.02269,
          0.02199,
          0.02145,
          0.02138,
          0.021509999999999998,
          0.01608,
          0.01734,
          0.020860000000000004,
          0.01989,
          0.01983,
          0.018750000000000003,
          0.018680000000000002,
          0.02631,
          0.026180000000000002,
          0.02657,
          0.02646,
          0.02798,
          0.0963,
          0.14903000000000002,
          0.14897000000000002,
          0.13332,
          0.22905999999999999,
          0.23532999999999996,
          0.23500999999999997,
          0.23525999999999997,
          0.23601999999999998,
          0.23521999999999998,
          0.23542999999999997,
          0.23533999999999997,
          0.23534999999999998,
          0.23489999999999997,
          0.23485999999999999,
          0.23531999999999997,
          0.23509999999999998,
          0.23509999999999998,
          0.23498,
          0.23524999999999996,
          0.23505999999999996,
          0.23496999999999998,
          0.23565,
          0.23514,
          0.23519999999999996,
          0.23502999999999996,
          0.23515999999999998,
          0.23618,
          0.23518,
          0.23552,
          0.23578,
          0.23483999999999997,
          0.23731999999999998,
          0.24046999999999996,
          0.24027999999999997,
          0.91827,
          0.91834,
          0.92294,
          0.24119000000000002,
          0.2411,
          0.24115,
          0.24129,
          0.24144000000000002,
          0.25808,
          0.25859,
          0.26108000000000003,
          0.26208000000000004,
          0.26117,
          0.26083,
          0.26073,
          0.2602,
          0.25977,
          0.26003000000000004,
          0.26111,
          0.26244999999999996,
          0.25846,
          0.2614,
          0.045160000000000006,
          0.044680000000000004,
          0.045680000000000005,
          0.04508000000000001,
          0.044950000000000004,
          0.033339999999999995,
          0.02984,
          0.03094,
          0.03044,
          0.03035,
          0.02877,
          0.02922,
          0.023270000000000002,
          0.02346,
          0.0234,
          0.02246,
          0.01939
         ],
         "y": [
          -31.400000000000006,
          -30.099999999999994,
          -28.80000000000001,
          -27.5,
          -26.200000000000017,
          -24.900000000000006,
          -23.599999999999994,
          -22.30000000000001,
          -21,
          -19.700000000000017,
          -18.400000000000006,
          -17.10000000000001,
          -15.800000000000011,
          -14.5,
          -13.200000000000003,
          -11.900000000000006,
          -10.600000000000009,
          -9.299999999999997,
          -8,
          -6.700000000000003,
          -5.400000000000006,
          -4.1000000000000085,
          -2.799999999999997,
          -1.5,
          -0.20000000000000284,
          1.0999999999999943,
          2.3999999999999915,
          3.700000000000003,
          5,
          6.299999999999997,
          7.599999999999994,
          8.899999999999991,
          10.200000000000003,
          11.5,
          12.799999999999997,
          14.099999999999994,
          15.399999999999991,
          16.700000000000003,
          18,
          19.299999999999997,
          20.599999999999994,
          21.89999999999999,
          23.200000000000003,
          24.5,
          25.799999999999997,
          27.099999999999994,
          28.39999999999999,
          29.700000000000003,
          31,
          32.3,
          33.599999999999994,
          34.89999999999999,
          36.2,
          37.5,
          38.8,
          40.099999999999994,
          41.39999999999999,
          42.7,
          44,
          45.3,
          46.599999999999994,
          47.9,
          49.199999999999996,
          50.5,
          51.8,
          53.1,
          54.4,
          55.699999999999996,
          57,
          58.3,
          59.6,
          60.9,
          62.199999999999996,
          63.5,
          64.8,
          66.1,
          67.4,
          68.69999999999999,
          70,
          71.3,
          72.6,
          73.9,
          75.19999999999999,
          76.5,
          77.8,
          79.1,
          80.4,
          81.7,
          83,
          84.3,
          85.6,
          86.9,
          88.2,
          89.5,
          90.8,
          92.1,
          93.4,
          94.7,
          96,
          97.3,
          98.6,
          99.9,
          101.2,
          102.5,
          103.8,
          105.1,
          106.4,
          107.7,
          109
         ]
        }
       ],
       "layout": {
        "annotations": [
         {
          "align": "right",
          "bgcolor": "rgba(255, 255, 255, 0.7)",
          "bordercolor": "rgb(25,25,25)",
          "borderwidth": 1,
          "font": {
           "size": 6
          },
          "showarrow": false,
          "text": "0.81",
          "x": 0.00125,
          "xanchor": "right",
          "xref": "x",
          "y": -21.152343750000007,
          "yanchor": "bottom",
          "yref": "y"
         },
         {
          "align": "right",
          "bgcolor": "rgba(255, 255, 255, 0.7)",
          "bordercolor": "rgb(25,25,25)",
          "borderwidth": 1,
          "font": {
           "size": 6
          },
          "showarrow": false,
          "text": "1.00",
          "x": 0.00265,
          "xanchor": "right",
          "xref": "x",
          "y": -29.185937500000005,
          "yanchor": "bottom",
          "yref": "y"
         },
         {
          "align": "right",
          "bgcolor": "rgba(255, 255, 255, 0.7)",
          "bordercolor": "rgb(25,25,25)",
          "borderwidth": 1,
          "font": {
           "size": 6
          },
          "showarrow": false,
          "text": "0.48",
          "x": 0.00378,
          "xanchor": "right",
          "xref": "x",
          "y": -26.971875000000004,
          "yanchor": "bottom",
          "yref": "y"
         },
         {
          "align": "right",
          "bgcolor": "rgba(255, 255, 255, 0.7)",
          "bordercolor": "rgb(25,25,25)",
          "borderwidth": 1,
          "font": {
           "size": 6
          },
          "showarrow": false,
          "text": "1.00",
          "x": 0.00637,
          "xanchor": "right",
          "xref": "x",
          "y": -29.125,
          "yanchor": "bottom",
          "yref": "y"
         },
         {
          "align": "right",
          "bgcolor": "rgba(255, 255, 255, 0.7)",
          "bordercolor": "rgb(25,25,25)",
          "borderwidth": 1,
          "font": {
           "size": 6
          },
          "showarrow": false,
          "text": "1.00",
          "x": 0.0181,
          "xanchor": "right",
          "xref": "x",
          "y": -28.150000000000006,
          "yanchor": "bottom",
          "yref": "y"
         },
         {
          "align": "right",
          "bgcolor": "rgba(255, 255, 255, 0.7)",
          "bordercolor": "rgb(25,25,25)",
          "borderwidth": 1,
          "font": {
           "size": 6
          },
          "showarrow": false,
          "text": "1.00",
          "x": 0.01047,
          "xanchor": "right",
          "xref": "x",
          "y": -24.81875000000001,
          "yanchor": "bottom",
          "yref": "y"
         },
         {
          "align": "right",
          "bgcolor": "rgba(255, 255, 255, 0.7)",
          "bordercolor": "rgb(25,25,25)",
          "borderwidth": 1,
          "font": {
           "size": 6
          },
          "showarrow": false,
          "text": "1.00",
          "x": 0.01771,
          "xanchor": "right",
          "xref": "x",
          "y": -23.437500000000004,
          "yanchor": "bottom",
          "yref": "y"
         },
         {
          "align": "right",
          "bgcolor": "rgba(255, 255, 255, 0.7)",
          "bordercolor": "rgb(25,25,25)",
          "borderwidth": 1,
          "font": {
           "size": 6
          },
          "showarrow": false,
          "text": "0.79",
          "x": 0.01771,
          "xanchor": "right",
          "xref": "x",
          "y": -21.975,
          "yanchor": "bottom",
          "yref": "y"
         },
         {
          "align": "right",
          "bgcolor": "rgba(255, 255, 255, 0.7)",
          "bordercolor": "rgb(25,25,25)",
          "borderwidth": 1,
          "font": {
           "size": 6
          },
          "showarrow": false,
          "text": "0.95",
          "x": 0.01782,
          "xanchor": "right",
          "xref": "x",
          "y": -22.950000000000003,
          "yanchor": "bottom",
          "yref": "y"
         },
         {
          "align": "right",
          "bgcolor": "rgba(255, 255, 255, 0.7)",
          "bordercolor": "rgb(25,25,25)",
          "borderwidth": 1,
          "font": {
           "size": 6
          },
          "showarrow": false,
          "text": "1.00",
          "x": 0.00299,
          "xanchor": "right",
          "xref": "x",
          "y": -13.118750000000006,
          "yanchor": "bottom",
          "yref": "y"
         },
         {
          "align": "right",
          "bgcolor": "rgba(255, 255, 255, 0.7)",
          "bordercolor": "rgb(25,25,25)",
          "borderwidth": 1,
          "font": {
           "size": 6
          },
          "showarrow": false,
          "text": "1.00",
          "x": 0.00493,
          "xanchor": "right",
          "xref": "x",
          "y": -16.937500000000007,
          "yanchor": "bottom",
          "yref": "y"
         },
         {
          "align": "right",
          "bgcolor": "rgba(255, 255, 255, 0.7)",
          "bordercolor": "rgb(25,25,25)",
          "borderwidth": 1,
          "font": {
           "size": 6
          },
          "showarrow": false,
          "text": "1.00",
          "x": 0.008480000000000001,
          "xanchor": "right",
          "xref": "x",
          "y": -18.725000000000012,
          "yanchor": "bottom",
          "yref": "y"
         },
         {
          "align": "right",
          "bgcolor": "rgba(255, 255, 255, 0.7)",
          "bordercolor": "rgb(25,25,25)",
          "borderwidth": 1,
          "font": {
           "size": 6
          },
          "showarrow": false,
          "text": "1.00",
          "x": 0.02374,
          "xanchor": "right",
          "xref": "x",
          "y": -17.750000000000007,
          "yanchor": "bottom",
          "yref": "y"
         },
         {
          "align": "right",
          "bgcolor": "rgba(255, 255, 255, 0.7)",
          "bordercolor": "rgb(25,25,25)",
          "borderwidth": 1,
          "font": {
           "size": 6
          },
          "showarrow": false,
          "text": "0.98",
          "x": 0.00745,
          "xanchor": "right",
          "xref": "x",
          "y": -15.150000000000006,
          "yanchor": "bottom",
          "yref": "y"
         },
         {
          "align": "right",
          "bgcolor": "rgba(255, 255, 255, 0.7)",
          "bordercolor": "rgb(25,25,25)",
          "borderwidth": 1,
          "font": {
           "size": 6
          },
          "showarrow": false,
          "text": "1.00",
          "x": 0.0046700000000000005,
          "xanchor": "right",
          "xref": "x",
          "y": -9.300000000000004,
          "yanchor": "bottom",
          "yref": "y"
         },
         {
          "align": "right",
          "bgcolor": "rgba(255, 255, 255, 0.7)",
          "bordercolor": "rgb(25,25,25)",
          "borderwidth": 1,
          "font": {
           "size": 6
          },
          "showarrow": false,
          "text": "1.00",
          "x": 0.009420000000000001,
          "xanchor": "right",
          "xref": "x",
          "y": -12.225000000000005,
          "yanchor": "bottom",
          "yref": "y"
         },
         {
          "align": "right",
          "bgcolor": "rgba(255, 255, 255, 0.7)",
          "bordercolor": "rgb(25,25,25)",
          "borderwidth": 1,
          "font": {
           "size": 6
          },
          "showarrow": false,
          "text": "1.00",
          "x": 0.025240000000000002,
          "xanchor": "right",
          "xref": "x",
          "y": -11.250000000000007,
          "yanchor": "bottom",
          "yref": "y"
         },
         {
          "align": "right",
          "bgcolor": "rgba(255, 255, 255, 0.7)",
          "bordercolor": "rgb(25,25,25)",
          "borderwidth": 1,
          "font": {
           "size": 6
          },
          "showarrow": false,
          "text": "1.00",
          "x": 0.00783,
          "xanchor": "right",
          "xref": "x",
          "y": -6.375000000000002,
          "yanchor": "bottom",
          "yref": "y"
         },
         {
          "align": "right",
          "bgcolor": "rgba(255, 255, 255, 0.7)",
          "bordercolor": "rgb(25,25,25)",
          "borderwidth": 1,
          "font": {
           "size": 6
          },
          "showarrow": false,
          "text": "1.00",
          "x": 0.02176,
          "xanchor": "right",
          "xref": "x",
          "y": -8.325,
          "yanchor": "bottom",
          "yref": "y"
         },
         {
          "align": "right",
          "bgcolor": "rgba(255, 255, 255, 0.7)",
          "bordercolor": "rgb(25,25,25)",
          "borderwidth": 1,
          "font": {
           "size": 6
          },
          "showarrow": false,
          "text": "0.82",
          "x": 0.0218,
          "xanchor": "right",
          "xref": "x",
          "y": -7.350000000000001,
          "yanchor": "bottom",
          "yref": "y"
         },
         {
          "align": "right",
          "bgcolor": "rgba(255, 255, 255, 0.7)",
          "bordercolor": "rgb(25,25,25)",
          "borderwidth": 1,
          "font": {
           "size": 6
          },
          "showarrow": false,
          "text": "1.00",
          "x": 0.0213,
          "xanchor": "right",
          "xref": "x",
          "y": -4.425000000000004,
          "yanchor": "bottom",
          "yref": "y"
         },
         {
          "align": "right",
          "bgcolor": "rgba(255, 255, 255, 0.7)",
          "bordercolor": "rgb(25,25,25)",
          "borderwidth": 1,
          "font": {
           "size": 6
          },
          "showarrow": false,
          "text": "0.29",
          "x": 0.0213,
          "xanchor": "right",
          "xref": "x",
          "y": -3.450000000000003,
          "yanchor": "bottom",
          "yref": "y"
         },
         {
          "align": "right",
          "bgcolor": "rgba(255, 255, 255, 0.7)",
          "bordercolor": "rgb(25,25,25)",
          "borderwidth": 1,
          "font": {
           "size": 6
          },
          "showarrow": false,
          "text": "0.52",
          "x": 0.00099,
          "xanchor": "right",
          "xref": "x",
          "y": -0.5250000000000021,
          "yanchor": "bottom",
          "yref": "y"
         },
         {
          "align": "right",
          "bgcolor": "rgba(255, 255, 255, 0.7)",
          "bordercolor": "rgb(25,25,25)",
          "borderwidth": 1,
          "font": {
           "size": 6
          },
          "showarrow": false,
          "text": "1.00",
          "x": 0.004200000000000001,
          "xanchor": "right",
          "xref": "x",
          "y": 0.44999999999999574,
          "yanchor": "bottom",
          "yref": "y"
         },
         {
          "align": "right",
          "bgcolor": "rgba(255, 255, 255, 0.7)",
          "bordercolor": "rgb(25,25,25)",
          "borderwidth": 1,
          "font": {
           "size": 6
          },
          "showarrow": false,
          "text": "0.69",
          "x": 0.00102,
          "xanchor": "right",
          "xref": "x",
          "y": 47.59011721611023,
          "yanchor": "bottom",
          "yref": "y"
         },
         {
          "align": "right",
          "bgcolor": "rgba(255, 255, 255, 0.7)",
          "bordercolor": "rgb(25,25,25)",
          "borderwidth": 1,
          "font": {
           "size": 6
          },
          "showarrow": false,
          "text": "1.00",
          "x": 0.00435,
          "xanchor": "right",
          "xref": "x",
          "y": 4.349999999999998,
          "yanchor": "bottom",
          "yref": "y"
         },
         {
          "align": "right",
          "bgcolor": "rgba(255, 255, 255, 0.7)",
          "bordercolor": "rgb(25,25,25)",
          "borderwidth": 1,
          "font": {
           "size": 6
          },
          "showarrow": false,
          "text": "1.00",
          "x": 0.01966,
          "xanchor": "right",
          "xref": "x",
          "y": 3.049999999999997,
          "yanchor": "bottom",
          "yref": "y"
         },
         {
          "align": "right",
          "bgcolor": "rgba(255, 255, 255, 0.7)",
          "bordercolor": "rgb(25,25,25)",
          "borderwidth": 1,
          "font": {
           "size": 6
          },
          "showarrow": false,
          "text": "1.00",
          "x": 0.01845,
          "xanchor": "right",
          "xref": "x",
          "y": 5.649999999999999,
          "yanchor": "bottom",
          "yref": "y"
         },
         {
          "align": "right",
          "bgcolor": "rgba(255, 255, 255, 0.7)",
          "bordercolor": "rgb(25,25,25)",
          "borderwidth": 1,
          "font": {
           "size": 6
          },
          "showarrow": false,
          "text": "1.00",
          "x": 0.0025900000000000003,
          "xanchor": "right",
          "xref": "x",
          "y": 90.83023443222046,
          "yanchor": "bottom",
          "yref": "y"
         },
         {
          "align": "right",
          "bgcolor": "rgba(255, 255, 255, 0.7)",
          "bordercolor": "rgb(25,25,25)",
          "borderwidth": 1,
          "font": {
           "size": 6
          },
          "showarrow": false,
          "text": "1.00",
          "x": 0.0047,
          "xanchor": "right",
          "xref": "x",
          "y": 73.31046886444092,
          "yanchor": "bottom",
          "yref": "y"
         },
         {
          "align": "right",
          "bgcolor": "rgba(255, 255, 255, 0.7)",
          "bordercolor": "rgb(25,25,25)",
          "borderwidth": 1,
          "font": {
           "size": 6
          },
          "showarrow": false,
          "text": "0.20",
          "x": 0.00615,
          "xanchor": "right",
          "xref": "x",
          "y": 43.308437728881835,
          "yanchor": "bottom",
          "yref": "y"
         },
         {
          "align": "right",
          "bgcolor": "rgba(255, 255, 255, 0.7)",
          "bordercolor": "rgb(25,25,25)",
          "borderwidth": 1,
          "font": {
           "size": 6
          },
          "showarrow": false,
          "text": "1.00",
          "x": 0.010280000000000001,
          "xanchor": "right",
          "xref": "x",
          "y": 10.768749999999997,
          "yanchor": "bottom",
          "yref": "y"
         },
         {
          "align": "right",
          "bgcolor": "rgba(255, 255, 255, 0.7)",
          "bordercolor": "rgb(25,25,25)",
          "borderwidth": 1,
          "font": {
           "size": 6
          },
          "showarrow": false,
          "text": "1.00",
          "x": 0.02612,
          "xanchor": "right",
          "xref": "x",
          "y": 8.737499999999995,
          "yanchor": "bottom",
          "yref": "y"
         },
         {
          "align": "right",
          "bgcolor": "rgba(255, 255, 255, 0.7)",
          "bordercolor": "rgb(25,25,25)",
          "borderwidth": 1,
          "font": {
           "size": 6
          },
          "showarrow": false,
          "text": "0.16",
          "x": 0.02612,
          "xanchor": "right",
          "xref": "x",
          "y": 9.874999999999996,
          "yanchor": "bottom",
          "yref": "y"
         },
         {
          "align": "right",
          "bgcolor": "rgba(255, 255, 255, 0.7)",
          "bordercolor": "rgb(25,25,25)",
          "borderwidth": 1,
          "font": {
           "size": 6
          },
          "showarrow": false,
          "text": "0.59",
          "x": 0.02612,
          "xanchor": "right",
          "xref": "x",
          "y": 10.850000000000001,
          "yanchor": "bottom",
          "yref": "y"
         },
         {
          "align": "right",
          "bgcolor": "rgba(255, 255, 255, 0.7)",
          "bordercolor": "rgb(25,25,25)",
          "borderwidth": 1,
          "font": {
           "size": 6
          },
          "showarrow": false,
          "text": "1.00",
          "x": 0.00893,
          "xanchor": "right",
          "xref": "x",
          "y": 75.84812545776367,
          "yanchor": "bottom",
          "yref": "y"
         },
         {
          "align": "right",
          "bgcolor": "rgba(255, 255, 255, 0.7)",
          "bordercolor": "rgb(25,25,25)",
          "borderwidth": 1,
          "font": {
           "size": 6
          },
          "showarrow": false,
          "text": "0.96",
          "x": 0.012920000000000001,
          "xanchor": "right",
          "xref": "x",
          "y": 54.883750915527344,
          "yanchor": "bottom",
          "yref": "y"
         },
         {
          "align": "right",
          "bgcolor": "rgba(255, 255, 255, 0.7)",
          "bordercolor": "rgb(25,25,25)",
          "borderwidth": 1,
          "font": {
           "size": 6
          },
          "showarrow": false,
          "text": "1.00",
          "x": 0.04852,
          "xanchor": "right",
          "xref": "x",
          "y": 19.455001831054684,
          "yanchor": "bottom",
          "yref": "y"
         },
         {
          "align": "right",
          "bgcolor": "rgba(255, 255, 255, 0.7)",
          "bordercolor": "rgb(25,25,25)",
          "borderwidth": 1,
          "font": {
           "size": 6
          },
          "showarrow": false,
          "text": "1.00",
          "x": 0.05943,
          "xanchor": "right",
          "xref": "x",
          "y": 24.810003662109374,
          "yanchor": "bottom",
          "yref": "y"
         },
         {
          "align": "right",
          "bgcolor": "rgba(255, 255, 255, 0.7)",
          "bordercolor": "rgb(25,25,25)",
          "borderwidth": 1,
          "font": {
           "size": 6
          },
          "showarrow": false,
          "text": "1.00",
          "x": 0.14888,
          "xanchor": "right",
          "xref": "x",
          "y": 16.049999999999997,
          "yanchor": "bottom",
          "yref": "y"
         },
         {
          "align": "right",
          "bgcolor": "rgba(255, 255, 255, 0.7)",
          "bordercolor": "rgb(25,25,25)",
          "borderwidth": 1,
          "font": {
           "size": 6
          },
          "showarrow": false,
          "text": "1.00",
          "x": 0.07209,
          "xanchor": "right",
          "xref": "x",
          "y": 33.57000732421875,
          "yanchor": "bottom",
          "yref": "y"
         },
         {
          "align": "right",
          "bgcolor": "rgba(255, 255, 255, 0.7)",
          "bordercolor": "rgb(25,25,25)",
          "borderwidth": 1,
          "font": {
           "size": 6
          },
          "showarrow": false,
          "text": "1.00",
          "x": 0.13035,
          "xanchor": "right",
          "xref": "x",
          "y": 49.1400146484375,
          "yanchor": "bottom",
          "yref": "y"
         },
         {
          "align": "right",
          "bgcolor": "rgba(255, 255, 255, 0.7)",
          "bordercolor": "rgb(25,25,25)",
          "borderwidth": 1,
          "font": {
           "size": 6
          },
          "showarrow": false,
          "text": "1.00",
          "x": 0.20862999999999998,
          "xanchor": "right",
          "xref": "x",
          "y": 32.190185546875,
          "yanchor": "bottom",
          "yref": "y"
         },
         {
          "align": "right",
          "bgcolor": "rgba(255, 255, 255, 0.7)",
          "bordercolor": "rgb(25,25,25)",
          "borderwidth": 1,
          "font": {
           "size": 6
          },
          "showarrow": false,
          "text": "0.79",
          "x": 0.21427999999999997,
          "xanchor": "right",
          "xref": "x",
          "y": 45.080371093749996,
          "yanchor": "bottom",
          "yref": "y"
         },
         {
          "align": "right",
          "bgcolor": "rgba(255, 255, 255, 0.7)",
          "bordercolor": "rgb(25,25,25)",
          "borderwidth": 1,
          "font": {
           "size": 6
          },
          "showarrow": false,
          "text": "1.00",
          "x": 0.23450999999999997,
          "xanchor": "right",
          "xref": "x",
          "y": 33.485742187499994,
          "yanchor": "bottom",
          "yref": "y"
         },
         {
          "align": "right",
          "bgcolor": "rgba(255, 255, 255, 0.7)",
          "bordercolor": "rgb(25,25,25)",
          "borderwidth": 1,
          "font": {
           "size": 6
          },
          "showarrow": false,
          "text": "0.94",
          "x": 0.23458999999999997,
          "xanchor": "right",
          "xref": "x",
          "y": 21.249999999999993,
          "yanchor": "bottom",
          "yref": "y"
         },
         {
          "align": "right",
          "bgcolor": "rgba(255, 255, 255, 0.7)",
          "bordercolor": "rgb(25,25,25)",
          "borderwidth": 1,
          "font": {
           "size": 6
          },
          "showarrow": false,
          "text": "0.71",
          "x": 0.23451999999999998,
          "xanchor": "right",
          "xref": "x",
          "y": 45.721484375,
          "yanchor": "bottom",
          "yref": "y"
         },
         {
          "align": "right",
          "bgcolor": "rgba(255, 255, 255, 0.7)",
          "bordercolor": "rgb(25,25,25)",
          "borderwidth": 1,
          "font": {
           "size": 6
          },
          "showarrow": false,
          "text": "0.00",
          "x": 0.23451999999999998,
          "xanchor": "right",
          "xref": "x",
          "y": 37.04296875,
          "yanchor": "bottom",
          "yref": "y"
         },
         {
          "align": "right",
          "bgcolor": "rgba(255, 255, 255, 0.7)",
          "bordercolor": "rgb(25,25,25)",
          "borderwidth": 1,
          "font": {
           "size": 6
          },
          "showarrow": false,
          "text": "0.83",
          "x": 0.23451999999999998,
          "xanchor": "right",
          "xref": "x",
          "y": 28.928124999999998,
          "yanchor": "bottom",
          "yref": "y"
         },
         {
          "align": "right",
          "bgcolor": "rgba(255, 255, 255, 0.7)",
          "bordercolor": "rgb(25,25,25)",
          "borderwidth": 1,
          "font": {
           "size": 6
          },
          "showarrow": false,
          "text": "1.00",
          "x": 0.23468999999999998,
          "xanchor": "right",
          "xref": "x",
          "y": 25.393749999999997,
          "yanchor": "bottom",
          "yref": "y"
         },
         {
          "align": "right",
          "bgcolor": "rgba(255, 255, 255, 0.7)",
          "bordercolor": "rgb(25,25,25)",
          "borderwidth": 1,
          "font": {
           "size": 6
          },
          "showarrow": false,
          "text": "1.00",
          "x": 0.23489999999999997,
          "xanchor": "right",
          "xref": "x",
          "y": 23.85,
          "yanchor": "bottom",
          "yref": "y"
         },
         {
          "align": "right",
          "bgcolor": "rgba(255, 255, 255, 0.7)",
          "bordercolor": "rgb(25,25,25)",
          "borderwidth": 1,
          "font": {
           "size": 6
          },
          "showarrow": false,
          "text": "1.00",
          "x": 0.23485999999999999,
          "xanchor": "right",
          "xref": "x",
          "y": 26.937499999999996,
          "yanchor": "bottom",
          "yref": "y"
         },
         {
          "align": "right",
          "bgcolor": "rgba(255, 255, 255, 0.7)",
          "bordercolor": "rgb(25,25,25)",
          "borderwidth": 1,
          "font": {
           "size": 6
          },
          "showarrow": false,
          "text": "0.98",
          "x": 0.23493999999999998,
          "xanchor": "right",
          "xref": "x",
          "y": 28.074999999999996,
          "yanchor": "bottom",
          "yref": "y"
         },
         {
          "align": "right",
          "bgcolor": "rgba(255, 255, 255, 0.7)",
          "bordercolor": "rgb(25,25,25)",
          "borderwidth": 1,
          "font": {
           "size": 6
          },
          "showarrow": false,
          "text": "1.00",
          "x": 0.23512999999999998,
          "xanchor": "right",
          "xref": "x",
          "y": 29.049999999999997,
          "yanchor": "bottom",
          "yref": "y"
         },
         {
          "align": "right",
          "bgcolor": "rgba(255, 255, 255, 0.7)",
          "bordercolor": "rgb(25,25,25)",
          "borderwidth": 1,
          "font": {
           "size": 6
          },
          "showarrow": false,
          "text": "1.00",
          "x": 0.23473999999999998,
          "xanchor": "right",
          "xref": "x",
          "y": 32.4625,
          "yanchor": "bottom",
          "yref": "y"
         },
         {
          "align": "right",
          "bgcolor": "rgba(255, 255, 255, 0.7)",
          "bordercolor": "rgb(25,25,25)",
          "borderwidth": 1,
          "font": {
           "size": 6
          },
          "showarrow": false,
          "text": "0.90",
          "x": 0.23481999999999997,
          "xanchor": "right",
          "xref": "x",
          "y": 33.925,
          "yanchor": "bottom",
          "yref": "y"
         },
         {
          "align": "right",
          "bgcolor": "rgba(255, 255, 255, 0.7)",
          "bordercolor": "rgb(25,25,25)",
          "borderwidth": 1,
          "font": {
           "size": 6
          },
          "showarrow": false,
          "text": "0.63",
          "x": 0.23481999999999997,
          "xanchor": "right",
          "xref": "x",
          "y": 35.55,
          "yanchor": "bottom",
          "yref": "y"
         },
         {
          "align": "right",
          "bgcolor": "rgba(255, 255, 255, 0.7)",
          "bordercolor": "rgb(25,25,25)",
          "borderwidth": 1,
          "font": {
           "size": 6
          },
          "showarrow": false,
          "text": "0.42",
          "x": 0.23486999999999997,
          "xanchor": "right",
          "xref": "x",
          "y": 34.24999999999999,
          "yanchor": "bottom",
          "yref": "y"
         },
         {
          "align": "right",
          "bgcolor": "rgba(255, 255, 255, 0.7)",
          "bordercolor": "rgb(25,25,25)",
          "borderwidth": 1,
          "font": {
           "size": 6
          },
          "showarrow": false,
          "text": "0.09",
          "x": 0.23485999999999999,
          "xanchor": "right",
          "xref": "x",
          "y": 36.85,
          "yanchor": "bottom",
          "yref": "y"
         },
         {
          "align": "right",
          "bgcolor": "rgba(255, 255, 255, 0.7)",
          "bordercolor": "rgb(25,25,25)",
          "borderwidth": 1,
          "font": {
           "size": 6
          },
          "showarrow": false,
          "text": "0.99",
          "x": 0.23464999999999997,
          "xanchor": "right",
          "xref": "x",
          "y": 45.1578125,
          "yanchor": "bottom",
          "yref": "y"
         },
         {
          "align": "right",
          "bgcolor": "rgba(255, 255, 255, 0.7)",
          "bordercolor": "rgb(25,25,25)",
          "borderwidth": 1,
          "font": {
           "size": 6
          },
          "showarrow": false,
          "text": "0.99",
          "x": 0.23475999999999997,
          "xanchor": "right",
          "xref": "x",
          "y": 41.196875,
          "yanchor": "bottom",
          "yref": "y"
         },
         {
          "align": "right",
          "bgcolor": "rgba(255, 255, 255, 0.7)",
          "bordercolor": "rgb(25,25,25)",
          "borderwidth": 1,
          "font": {
           "size": 6
          },
          "showarrow": false,
          "text": "0.84",
          "x": 0.23480999999999996,
          "xanchor": "right",
          "xref": "x",
          "y": 43.59375,
          "yanchor": "bottom",
          "yref": "y"
         },
         {
          "align": "right",
          "bgcolor": "rgba(255, 255, 255, 0.7)",
          "bordercolor": "rgb(25,25,25)",
          "borderwidth": 1,
          "font": {
           "size": 6
          },
          "showarrow": false,
          "text": "0.92",
          "x": 0.23486999999999997,
          "xanchor": "right",
          "xref": "x",
          "y": 41.2375,
          "yanchor": "bottom",
          "yref": "y"
         },
         {
          "align": "right",
          "bgcolor": "rgba(255, 255, 255, 0.7)",
          "bordercolor": "rgb(25,25,25)",
          "borderwidth": 1,
          "font": {
           "size": 6
          },
          "showarrow": false,
          "text": "0.81",
          "x": 0.23490999999999998,
          "xanchor": "right",
          "xref": "x",
          "y": 42.375,
          "yanchor": "bottom",
          "yref": "y"
         },
         {
          "align": "right",
          "bgcolor": "rgba(255, 255, 255, 0.7)",
          "bordercolor": "rgb(25,25,25)",
          "borderwidth": 1,
          "font": {
           "size": 6
          },
          "showarrow": false,
          "text": "0.85",
          "x": 0.23495,
          "xanchor": "right",
          "xref": "x",
          "y": 43.35,
          "yanchor": "bottom",
          "yref": "y"
         },
         {
          "align": "right",
          "bgcolor": "rgba(255, 255, 255, 0.7)",
          "bordercolor": "rgb(25,25,25)",
          "borderwidth": 1,
          "font": {
           "size": 6
          },
          "showarrow": false,
          "text": "0.92",
          "x": 0.23488999999999996,
          "xanchor": "right",
          "xref": "x",
          "y": 45.949999999999996,
          "yanchor": "bottom",
          "yref": "y"
         },
         {
          "align": "right",
          "bgcolor": "rgba(255, 255, 255, 0.7)",
          "bordercolor": "rgb(25,25,25)",
          "borderwidth": 1,
          "font": {
           "size": 6
          },
          "showarrow": false,
          "text": "0.88",
          "x": 0.23468999999999998,
          "xanchor": "right",
          "xref": "x",
          "y": 49.11875,
          "yanchor": "bottom",
          "yref": "y"
         },
         {
          "align": "right",
          "bgcolor": "rgba(255, 255, 255, 0.7)",
          "bordercolor": "rgb(25,25,25)",
          "borderwidth": 1,
          "font": {
           "size": 6
          },
          "showarrow": false,
          "text": "1.00",
          "x": 0.23484,
          "xanchor": "right",
          "xref": "x",
          "y": 50.3375,
          "yanchor": "bottom",
          "yref": "y"
         },
         {
          "align": "right",
          "bgcolor": "rgba(255, 255, 255, 0.7)",
          "bordercolor": "rgb(25,25,25)",
          "borderwidth": 1,
          "font": {
           "size": 6
          },
          "showarrow": false,
          "text": "0.98",
          "x": 0.23496,
          "xanchor": "right",
          "xref": "x",
          "y": 51.475,
          "yanchor": "bottom",
          "yref": "y"
         },
         {
          "align": "right",
          "bgcolor": "rgba(255, 255, 255, 0.7)",
          "bordercolor": "rgb(25,25,25)",
          "borderwidth": 1,
          "font": {
           "size": 6
          },
          "showarrow": false,
          "text": "0.97",
          "x": 0.23507,
          "xanchor": "right",
          "xref": "x",
          "y": 52.45,
          "yanchor": "bottom",
          "yref": "y"
         },
         {
          "align": "right",
          "bgcolor": "rgba(255, 255, 255, 0.7)",
          "bordercolor": "rgb(25,25,25)",
          "borderwidth": 1,
          "font": {
           "size": 6
          },
          "showarrow": false,
          "text": "1.00",
          "x": 0.21940999999999997,
          "xanchor": "right",
          "xref": "x",
          "y": 56.675,
          "yanchor": "bottom",
          "yref": "y"
         },
         {
          "align": "right",
          "bgcolor": "rgba(255, 255, 255, 0.7)",
          "bordercolor": "rgb(25,25,25)",
          "borderwidth": 1,
          "font": {
           "size": 6
          },
          "showarrow": false,
          "text": "0.99",
          "x": 0.22299999999999998,
          "xanchor": "right",
          "xref": "x",
          "y": 57.65,
          "yanchor": "bottom",
          "yref": "y"
         },
         {
          "align": "right",
          "bgcolor": "rgba(255, 255, 255, 0.7)",
          "bordercolor": "rgb(25,25,25)",
          "borderwidth": 1,
          "font": {
           "size": 6
          },
          "showarrow": false,
          "text": "1.00",
          "x": 0.15209999999999999,
          "xanchor": "right",
          "xref": "x",
          "y": 66.08984375,
          "yanchor": "bottom",
          "yref": "y"
         },
         {
          "align": "right",
          "bgcolor": "rgba(255, 255, 255, 0.7)",
          "bordercolor": "rgb(25,25,25)",
          "borderwidth": 1,
          "font": {
           "size": 6
          },
          "showarrow": false,
          "text": "1.00",
          "x": 0.7839,
          "xanchor": "right",
          "xref": "x",
          "y": 60.575,
          "yanchor": "bottom",
          "yref": "y"
         },
         {
          "align": "right",
          "bgcolor": "rgba(255, 255, 255, 0.7)",
          "bordercolor": "rgb(25,25,25)",
          "borderwidth": 1,
          "font": {
           "size": 6
          },
          "showarrow": false,
          "text": "1.00",
          "x": 0.84233,
          "xanchor": "right",
          "xref": "x",
          "y": 61.55,
          "yanchor": "bottom",
          "yref": "y"
         },
         {
          "align": "right",
          "bgcolor": "rgba(255, 255, 255, 0.7)",
          "bordercolor": "rgb(25,25,25)",
          "borderwidth": 1,
          "font": {
           "size": 6
          },
          "showarrow": false,
          "text": "1.00",
          "x": 0.18558,
          "xanchor": "right",
          "xref": "x",
          "y": 71.60468750000001,
          "yanchor": "bottom",
          "yref": "y"
         },
         {
          "align": "right",
          "bgcolor": "rgba(255, 255, 255, 0.7)",
          "bordercolor": "rgb(25,25,25)",
          "borderwidth": 1,
          "font": {
           "size": 6
          },
          "showarrow": false,
          "text": "1.00",
          "x": 0.241,
          "xanchor": "right",
          "xref": "x",
          "y": 65.6125,
          "yanchor": "bottom",
          "yref": "y"
         },
         {
          "align": "right",
          "bgcolor": "rgba(255, 255, 255, 0.7)",
          "bordercolor": "rgb(25,25,25)",
          "borderwidth": 1,
          "font": {
           "size": 6
          },
          "showarrow": false,
          "text": "0.93",
          "x": 0.24104,
          "xanchor": "right",
          "xref": "x",
          "y": 64.15,
          "yanchor": "bottom",
          "yref": "y"
         },
         {
          "align": "right",
          "bgcolor": "rgba(255, 255, 255, 0.7)",
          "bordercolor": "rgb(25,25,25)",
          "borderwidth": 1,
          "font": {
           "size": 6
          },
          "showarrow": false,
          "text": "0.86",
          "x": 0.241,
          "xanchor": "right",
          "xref": "x",
          "y": 67.07499999999999,
          "yanchor": "bottom",
          "yref": "y"
         },
         {
          "align": "right",
          "bgcolor": "rgba(255, 255, 255, 0.7)",
          "bordercolor": "rgb(25,25,25)",
          "borderwidth": 1,
          "font": {
           "size": 6
          },
          "showarrow": false,
          "text": "0.28",
          "x": 0.24104,
          "xanchor": "right",
          "xref": "x",
          "y": 68.05,
          "yanchor": "bottom",
          "yref": "y"
         },
         {
          "align": "right",
          "bgcolor": "rgba(255, 255, 255, 0.7)",
          "bordercolor": "rgb(25,25,25)",
          "borderwidth": 1,
          "font": {
           "size": 6
          },
          "showarrow": false,
          "text": "1.00",
          "x": 0.23898,
          "xanchor": "right",
          "xref": "x",
          "y": 77.59687500000001,
          "yanchor": "bottom",
          "yref": "y"
         },
         {
          "align": "right",
          "bgcolor": "rgba(255, 255, 255, 0.7)",
          "bordercolor": "rgb(25,25,25)",
          "borderwidth": 1,
          "font": {
           "size": 6
          },
          "showarrow": false,
          "text": "1.00",
          "x": 0.24271,
          "xanchor": "right",
          "xref": "x",
          "y": 71.95,
          "yanchor": "bottom",
          "yref": "y"
         },
         {
          "align": "right",
          "bgcolor": "rgba(255, 255, 255, 0.7)",
          "bordercolor": "rgb(25,25,25)",
          "borderwidth": 1,
          "font": {
           "size": 6
          },
          "showarrow": false,
          "text": "1.00",
          "x": 0.25798,
          "xanchor": "right",
          "xref": "x",
          "y": 70.65,
          "yanchor": "bottom",
          "yref": "y"
         },
         {
          "align": "right",
          "bgcolor": "rgba(255, 255, 255, 0.7)",
          "bordercolor": "rgb(25,25,25)",
          "borderwidth": 1,
          "font": {
           "size": 6
          },
          "showarrow": false,
          "text": "0.87",
          "x": 0.24619000000000002,
          "xanchor": "right",
          "xref": "x",
          "y": 73.25,
          "yanchor": "bottom",
          "yref": "y"
         },
         {
          "align": "right",
          "bgcolor": "rgba(255, 255, 255, 0.7)",
          "bordercolor": "rgb(25,25,25)",
          "borderwidth": 1,
          "font": {
           "size": 6
          },
          "showarrow": false,
          "text": "1.00",
          "x": 0.24112,
          "xanchor": "right",
          "xref": "x",
          "y": 83.24375,
          "yanchor": "bottom",
          "yref": "y"
         },
         {
          "align": "right",
          "bgcolor": "rgba(255, 255, 255, 0.7)",
          "bordercolor": "rgb(25,25,25)",
          "borderwidth": 1,
          "font": {
           "size": 6
          },
          "showarrow": false,
          "text": "0.28",
          "x": 0.24189,
          "xanchor": "right",
          "xref": "x",
          "y": 80.2375,
          "yanchor": "bottom",
          "yref": "y"
         },
         {
          "align": "right",
          "bgcolor": "rgba(255, 255, 255, 0.7)",
          "bordercolor": "rgb(25,25,25)",
          "borderwidth": 1,
          "font": {
           "size": 6
          },
          "showarrow": false,
          "text": "0.94",
          "x": 0.24318,
          "xanchor": "right",
          "xref": "x",
          "y": 77.63749999999999,
          "yanchor": "bottom",
          "yref": "y"
         },
         {
          "align": "right",
          "bgcolor": "rgba(255, 255, 255, 0.7)",
          "bordercolor": "rgb(25,25,25)",
          "borderwidth": 1,
          "font": {
           "size": 6
          },
          "showarrow": false,
          "text": "0.96",
          "x": 0.24601,
          "xanchor": "right",
          "xref": "x",
          "y": 76.175,
          "yanchor": "bottom",
          "yref": "y"
         },
         {
          "align": "right",
          "bgcolor": "rgba(255, 255, 255, 0.7)",
          "bordercolor": "rgb(25,25,25)",
          "borderwidth": 1,
          "font": {
           "size": 6
          },
          "showarrow": false,
          "text": "1.00",
          "x": 0.2606,
          "xanchor": "right",
          "xref": "x",
          "y": 77.15,
          "yanchor": "bottom",
          "yref": "y"
         },
         {
          "align": "right",
          "bgcolor": "rgba(255, 255, 255, 0.7)",
          "bordercolor": "rgb(25,25,25)",
          "borderwidth": 1,
          "font": {
           "size": 6
          },
          "showarrow": false,
          "text": "1.00",
          "x": 0.24506999999999998,
          "xanchor": "right",
          "xref": "x",
          "y": 82.8375,
          "yanchor": "bottom",
          "yref": "y"
         },
         {
          "align": "right",
          "bgcolor": "rgba(255, 255, 255, 0.7)",
          "bordercolor": "rgb(25,25,25)",
          "borderwidth": 1,
          "font": {
           "size": 6
          },
          "showarrow": false,
          "text": "1.00",
          "x": 0.25971,
          "xanchor": "right",
          "xref": "x",
          "y": 81.375,
          "yanchor": "bottom",
          "yref": "y"
         },
         {
          "align": "right",
          "bgcolor": "rgba(255, 255, 255, 0.7)",
          "bordercolor": "rgb(25,25,25)",
          "borderwidth": 1,
          "font": {
           "size": 6
          },
          "showarrow": false,
          "text": "0.80",
          "x": 0.25973,
          "xanchor": "right",
          "xref": "x",
          "y": 82.35,
          "yanchor": "bottom",
          "yref": "y"
         },
         {
          "align": "right",
          "bgcolor": "rgba(255, 255, 255, 0.7)",
          "bordercolor": "rgb(25,25,25)",
          "borderwidth": 1,
          "font": {
           "size": 6
          },
          "showarrow": false,
          "text": "1.00",
          "x": 0.24401,
          "xanchor": "right",
          "xref": "x",
          "y": 86.25,
          "yanchor": "bottom",
          "yref": "y"
         },
         {
          "align": "right",
          "bgcolor": "rgba(255, 255, 255, 0.7)",
          "bordercolor": "rgb(25,25,25)",
          "borderwidth": 1,
          "font": {
           "size": 6
          },
          "showarrow": false,
          "text": "1.00",
          "x": 0.022330000000000003,
          "xanchor": "right",
          "xref": "x",
          "y": 90.3125,
          "yanchor": "bottom",
          "yref": "y"
         },
         {
          "align": "right",
          "bgcolor": "rgba(255, 255, 255, 0.7)",
          "bordercolor": "rgb(25,25,25)",
          "borderwidth": 1,
          "font": {
           "size": 6
          },
          "showarrow": false,
          "text": "1.00",
          "x": 0.04463,
          "xanchor": "right",
          "xref": "x",
          "y": 88.85,
          "yanchor": "bottom",
          "yref": "y"
         },
         {
          "align": "right",
          "bgcolor": "rgba(255, 255, 255, 0.7)",
          "bordercolor": "rgb(25,25,25)",
          "borderwidth": 1,
          "font": {
           "size": 6
          },
          "showarrow": false,
          "text": "1.00",
          "x": 0.04487000000000001,
          "xanchor": "right",
          "xref": "x",
          "y": 91.775,
          "yanchor": "bottom",
          "yref": "y"
         },
         {
          "align": "right",
          "bgcolor": "rgba(255, 255, 255, 0.7)",
          "bordercolor": "rgb(25,25,25)",
          "borderwidth": 1,
          "font": {
           "size": 6
          },
          "showarrow": false,
          "text": "0.85",
          "x": 0.04487000000000001,
          "xanchor": "right",
          "xref": "x",
          "y": 92.75,
          "yanchor": "bottom",
          "yref": "y"
         },
         {
          "align": "right",
          "bgcolor": "rgba(255, 255, 255, 0.7)",
          "bordercolor": "rgb(25,25,25)",
          "borderwidth": 1,
          "font": {
           "size": 6
          },
          "showarrow": false,
          "text": "1.00",
          "x": 0.01397,
          "xanchor": "right",
          "xref": "x",
          "y": 96.8125,
          "yanchor": "bottom",
          "yref": "y"
         },
         {
          "align": "right",
          "bgcolor": "rgba(255, 255, 255, 0.7)",
          "bordercolor": "rgb(25,25,25)",
          "borderwidth": 1,
          "font": {
           "size": 6
          },
          "showarrow": false,
          "text": "1.00",
          "x": 0.029759999999999998,
          "xanchor": "right",
          "xref": "x",
          "y": 95.35,
          "yanchor": "bottom",
          "yref": "y"
         },
         {
          "align": "right",
          "bgcolor": "rgba(255, 255, 255, 0.7)",
          "bordercolor": "rgb(25,25,25)",
          "borderwidth": 1,
          "font": {
           "size": 6
          },
          "showarrow": false,
          "text": "1.00",
          "x": 0.02685,
          "xanchor": "right",
          "xref": "x",
          "y": 98.275,
          "yanchor": "bottom",
          "yref": "y"
         },
         {
          "align": "right",
          "bgcolor": "rgba(255, 255, 255, 0.7)",
          "bordercolor": "rgb(25,25,25)",
          "borderwidth": 1,
          "font": {
           "size": 6
          },
          "showarrow": false,
          "text": "1.00",
          "x": 0.030289999999999997,
          "xanchor": "right",
          "xref": "x",
          "y": 99.25,
          "yanchor": "bottom",
          "yref": "y"
         },
         {
          "align": "right",
          "bgcolor": "rgba(255, 255, 255, 0.7)",
          "bordercolor": "rgb(25,25,25)",
          "borderwidth": 1,
          "font": {
           "size": 6
          },
          "showarrow": false,
          "text": "1.00",
          "x": 0.00909,
          "xanchor": "right",
          "xref": "x",
          "y": 103.3125,
          "yanchor": "bottom",
          "yref": "y"
         },
         {
          "align": "right",
          "bgcolor": "rgba(255, 255, 255, 0.7)",
          "bordercolor": "rgb(25,25,25)",
          "borderwidth": 1,
          "font": {
           "size": 6
          },
          "showarrow": false,
          "text": "1.00",
          "x": 0.02862,
          "xanchor": "right",
          "xref": "x",
          "y": 101.85,
          "yanchor": "bottom",
          "yref": "y"
         },
         {
          "align": "right",
          "bgcolor": "rgba(255, 255, 255, 0.7)",
          "bordercolor": "rgb(25,25,25)",
          "borderwidth": 1,
          "font": {
           "size": 6
          },
          "showarrow": false,
          "text": "1.00",
          "x": 0.02321,
          "xanchor": "right",
          "xref": "x",
          "y": 104.775,
          "yanchor": "bottom",
          "yref": "y"
         },
         {
          "align": "right",
          "bgcolor": "rgba(255, 255, 255, 0.7)",
          "bordercolor": "rgb(25,25,25)",
          "borderwidth": 1,
          "font": {
           "size": 6
          },
          "showarrow": false,
          "text": "0.71",
          "x": 0.02323,
          "xanchor": "right",
          "xref": "x",
          "y": 105.75,
          "yanchor": "bottom",
          "yref": "y"
         },
         {
          "align": "right",
          "bgcolor": "rgba(255, 255, 255, 0.7)",
          "bordercolor": "rgb(25,25,25)",
          "borderwidth": 1,
          "font": {
           "size": 6
          },
          "showarrow": false,
          "text": "1.00",
          "x": 0.00551,
          "xanchor": "right",
          "xref": "x",
          "y": 108.35,
          "yanchor": "bottom",
          "yref": "y"
         }
        ],
        "height": 600,
        "hovermode": "closest",
        "legend": {
         "x": 0,
         "y": 1
        },
        "paper_bgcolor": "rgba(0,0,0,0)",
        "plot_bgcolor": "rgb(250,250,250)",
        "shapes": [
         {
          "layer": "below",
          "line": {
           "color": "rgb(25,25,25)",
           "width": 1
          },
          "type": "line",
          "x0": 0,
          "x1": 0,
          "y0": 13.218886733055111,
          "y1": 13.218886733055111
         },
         {
          "layer": "below",
          "line": {
           "color": "rgb(25,25,25)",
           "width": 1
          },
          "type": "line",
          "x0": 0,
          "x1": 0,
          "y0": 47.59011721611023,
          "y1": -21.152343750000007
         },
         {
          "layer": "below",
          "line": {
           "color": "rgb(25,25,25)",
           "width": 1
          },
          "type": "line",
          "x0": 0,
          "x1": 0.00125,
          "y0": -21.152343750000007,
          "y1": -21.152343750000007
         },
         {
          "layer": "below",
          "line": {
           "color": "rgb(25,25,25)",
           "width": 1
          },
          "type": "line",
          "x0": 0.00125,
          "x1": 0.00125,
          "y0": -13.118750000000006,
          "y1": -29.185937500000005
         },
         {
          "layer": "below",
          "line": {
           "color": "rgb(25,25,25)",
           "width": 1
          },
          "type": "line",
          "x0": 0.00125,
          "x1": 0.00265,
          "y0": -29.185937500000005,
          "y1": -29.185937500000005
         },
         {
          "layer": "below",
          "line": {
           "color": "rgb(25,25,25)",
           "width": 1
          },
          "type": "line",
          "x0": 0.00265,
          "x1": 0.00265,
          "y0": -26.971875000000004,
          "y1": -31.400000000000006
         },
         {
          "layer": "below",
          "line": {
           "color": "rgb(25,25,25)",
           "width": 1
          },
          "type": "line",
          "x0": 0.00265,
          "x1": 0.01525,
          "y0": -31.400000000000006,
          "y1": -31.400000000000006
         },
         {
          "layer": "below",
          "line": {
           "color": "rgb(25,25,25)",
           "width": 1
          },
          "type": "line",
          "x0": 0.00265,
          "x1": 0.00378,
          "y0": -26.971875000000004,
          "y1": -26.971875000000004
         },
         {
          "layer": "below",
          "line": {
           "color": "rgb(25,25,25)",
           "width": 1
          },
          "type": "line",
          "x0": 0.00378,
          "x1": 0.00378,
          "y0": -24.81875000000001,
          "y1": -29.125
         },
         {
          "layer": "below",
          "line": {
           "color": "rgb(25,25,25)",
           "width": 1
          },
          "type": "line",
          "x0": 0.00378,
          "x1": 0.00637,
          "y0": -29.125,
          "y1": -29.125
         },
         {
          "layer": "below",
          "line": {
           "color": "rgb(25,25,25)",
           "width": 1
          },
          "type": "line",
          "x0": 0.00637,
          "x1": 0.00637,
          "y0": -28.150000000000006,
          "y1": -30.099999999999994
         },
         {
          "layer": "below",
          "line": {
           "color": "rgb(25,25,25)",
           "width": 1
          },
          "type": "line",
          "x0": 0.00637,
          "x1": 0.01972,
          "y0": -30.099999999999994,
          "y1": -30.099999999999994
         },
         {
          "layer": "below",
          "line": {
           "color": "rgb(25,25,25)",
           "width": 1
          },
          "type": "line",
          "x0": 0.00637,
          "x1": 0.0181,
          "y0": -28.150000000000006,
          "y1": -28.150000000000006
         },
         {
          "layer": "below",
          "line": {
           "color": "rgb(25,25,25)",
           "width": 1
          },
          "type": "line",
          "x0": 0.0181,
          "x1": 0.0181,
          "y0": -27.5,
          "y1": -28.80000000000001
         },
         {
          "layer": "below",
          "line": {
           "color": "rgb(25,25,25)",
           "width": 1
          },
          "type": "line",
          "x0": 0.0181,
          "x1": 0.019110000000000002,
          "y0": -28.80000000000001,
          "y1": -28.80000000000001
         },
         {
          "layer": "below",
          "line": {
           "color": "rgb(25,25,25)",
           "width": 1
          },
          "type": "line",
          "x0": 0.0181,
          "x1": 0.018170000000000002,
          "y0": -27.5,
          "y1": -27.5
         },
         {
          "layer": "below",
          "line": {
           "color": "rgb(25,25,25)",
           "width": 1
          },
          "type": "line",
          "x0": 0.00378,
          "x1": 0.01047,
          "y0": -24.81875000000001,
          "y1": -24.81875000000001
         },
         {
          "layer": "below",
          "line": {
           "color": "rgb(25,25,25)",
           "width": 1
          },
          "type": "line",
          "x0": 0.01047,
          "x1": 0.01047,
          "y0": -23.437500000000004,
          "y1": -26.200000000000017
         },
         {
          "layer": "below",
          "line": {
           "color": "rgb(25,25,25)",
           "width": 1
          },
          "type": "line",
          "x0": 0.01047,
          "x1": 0.01828,
          "y0": -26.200000000000017,
          "y1": -26.200000000000017
         },
         {
          "layer": "below",
          "line": {
           "color": "rgb(25,25,25)",
           "width": 1
          },
          "type": "line",
          "x0": 0.01047,
          "x1": 0.01771,
          "y0": -23.437500000000004,
          "y1": -23.437500000000004
         },
         {
          "layer": "below",
          "line": {
           "color": "rgb(25,25,25)",
           "width": 1
          },
          "type": "line",
          "x0": 0.01771,
          "x1": 0.01771,
          "y0": -21.975,
          "y1": -24.900000000000006
         },
         {
          "layer": "below",
          "line": {
           "color": "rgb(25,25,25)",
           "width": 1
          },
          "type": "line",
          "x0": 0.01771,
          "x1": 0.01796,
          "y0": -24.900000000000006,
          "y1": -24.900000000000006
         },
         {
          "layer": "below",
          "line": {
           "color": "rgb(25,25,25)",
           "width": 1
          },
          "type": "line",
          "x0": 0.01771,
          "x1": 0.01771,
          "y0": -21.975,
          "y1": -21.975
         },
         {
          "layer": "below",
          "line": {
           "color": "rgb(25,25,25)",
           "width": 1
          },
          "type": "line",
          "x0": 0.01771,
          "x1": 0.01771,
          "y0": -21,
          "y1": -22.950000000000003
         },
         {
          "layer": "below",
          "line": {
           "color": "rgb(25,25,25)",
           "width": 1
          },
          "type": "line",
          "x0": 0.01771,
          "x1": 0.01782,
          "y0": -22.950000000000003,
          "y1": -22.950000000000003
         },
         {
          "layer": "below",
          "line": {
           "color": "rgb(25,25,25)",
           "width": 1
          },
          "type": "line",
          "x0": 0.01782,
          "x1": 0.01782,
          "y0": -22.30000000000001,
          "y1": -23.599999999999994
         },
         {
          "layer": "below",
          "line": {
           "color": "rgb(25,25,25)",
           "width": 1
          },
          "type": "line",
          "x0": 0.01782,
          "x1": 0.01863,
          "y0": -23.599999999999994,
          "y1": -23.599999999999994
         },
         {
          "layer": "below",
          "line": {
           "color": "rgb(25,25,25)",
           "width": 1
          },
          "type": "line",
          "x0": 0.01782,
          "x1": 0.01937,
          "y0": -22.30000000000001,
          "y1": -22.30000000000001
         },
         {
          "layer": "below",
          "line": {
           "color": "rgb(25,25,25)",
           "width": 1
          },
          "type": "line",
          "x0": 0.01771,
          "x1": 0.01784,
          "y0": -21,
          "y1": -21
         },
         {
          "layer": "below",
          "line": {
           "color": "rgb(25,25,25)",
           "width": 1
          },
          "type": "line",
          "x0": 0.00125,
          "x1": 0.00299,
          "y0": -13.118750000000006,
          "y1": -13.118750000000006
         },
         {
          "layer": "below",
          "line": {
           "color": "rgb(25,25,25)",
           "width": 1
          },
          "type": "line",
          "x0": 0.00299,
          "x1": 0.00299,
          "y0": -9.300000000000004,
          "y1": -16.937500000000007
         },
         {
          "layer": "below",
          "line": {
           "color": "rgb(25,25,25)",
           "width": 1
          },
          "type": "line",
          "x0": 0.00299,
          "x1": 0.00493,
          "y0": -16.937500000000007,
          "y1": -16.937500000000007
         },
         {
          "layer": "below",
          "line": {
           "color": "rgb(25,25,25)",
           "width": 1
          },
          "type": "line",
          "x0": 0.00493,
          "x1": 0.00493,
          "y0": -15.150000000000006,
          "y1": -18.725000000000012
         },
         {
          "layer": "below",
          "line": {
           "color": "rgb(25,25,25)",
           "width": 1
          },
          "type": "line",
          "x0": 0.00493,
          "x1": 0.008480000000000001,
          "y0": -18.725000000000012,
          "y1": -18.725000000000012
         },
         {
          "layer": "below",
          "line": {
           "color": "rgb(25,25,25)",
           "width": 1
          },
          "type": "line",
          "x0": 0.008480000000000001,
          "x1": 0.008480000000000001,
          "y0": -17.750000000000007,
          "y1": -19.700000000000017
         },
         {
          "layer": "below",
          "line": {
           "color": "rgb(25,25,25)",
           "width": 1
          },
          "type": "line",
          "x0": 0.008480000000000001,
          "x1": 0.02128,
          "y0": -19.700000000000017,
          "y1": -19.700000000000017
         },
         {
          "layer": "below",
          "line": {
           "color": "rgb(25,25,25)",
           "width": 1
          },
          "type": "line",
          "x0": 0.008480000000000001,
          "x1": 0.02374,
          "y0": -17.750000000000007,
          "y1": -17.750000000000007
         },
         {
          "layer": "below",
          "line": {
           "color": "rgb(25,25,25)",
           "width": 1
          },
          "type": "line",
          "x0": 0.02374,
          "x1": 0.02374,
          "y0": -17.10000000000001,
          "y1": -18.400000000000006
         },
         {
          "layer": "below",
          "line": {
           "color": "rgb(25,25,25)",
           "width": 1
          },
          "type": "line",
          "x0": 0.02374,
          "x1": 0.02383,
          "y0": -18.400000000000006,
          "y1": -18.400000000000006
         },
         {
          "layer": "below",
          "line": {
           "color": "rgb(25,25,25)",
           "width": 1
          },
          "type": "line",
          "x0": 0.02374,
          "x1": 0.02378,
          "y0": -17.10000000000001,
          "y1": -17.10000000000001
         },
         {
          "layer": "below",
          "line": {
           "color": "rgb(25,25,25)",
           "width": 1
          },
          "type": "line",
          "x0": 0.00493,
          "x1": 0.00745,
          "y0": -15.150000000000006,
          "y1": -15.150000000000006
         },
         {
          "layer": "below",
          "line": {
           "color": "rgb(25,25,25)",
           "width": 1
          },
          "type": "line",
          "x0": 0.00745,
          "x1": 0.00745,
          "y0": -14.5,
          "y1": -15.800000000000011
         },
         {
          "layer": "below",
          "line": {
           "color": "rgb(25,25,25)",
           "width": 1
          },
          "type": "line",
          "x0": 0.00745,
          "x1": 0.01982,
          "y0": -15.800000000000011,
          "y1": -15.800000000000011
         },
         {
          "layer": "below",
          "line": {
           "color": "rgb(25,25,25)",
           "width": 1
          },
          "type": "line",
          "x0": 0.00745,
          "x1": 0.026500000000000003,
          "y0": -14.5,
          "y1": -14.5
         },
         {
          "layer": "below",
          "line": {
           "color": "rgb(25,25,25)",
           "width": 1
          },
          "type": "line",
          "x0": 0.00299,
          "x1": 0.0046700000000000005,
          "y0": -9.300000000000004,
          "y1": -9.300000000000004
         },
         {
          "layer": "below",
          "line": {
           "color": "rgb(25,25,25)",
           "width": 1
          },
          "type": "line",
          "x0": 0.0046700000000000005,
          "x1": 0.0046700000000000005,
          "y0": -6.375000000000002,
          "y1": -12.225000000000005
         },
         {
          "layer": "below",
          "line": {
           "color": "rgb(25,25,25)",
           "width": 1
          },
          "type": "line",
          "x0": 0.0046700000000000005,
          "x1": 0.009420000000000001,
          "y0": -12.225000000000005,
          "y1": -12.225000000000005
         },
         {
          "layer": "below",
          "line": {
           "color": "rgb(25,25,25)",
           "width": 1
          },
          "type": "line",
          "x0": 0.009420000000000001,
          "x1": 0.009420000000000001,
          "y0": -11.250000000000007,
          "y1": -13.200000000000003
         },
         {
          "layer": "below",
          "line": {
           "color": "rgb(25,25,25)",
           "width": 1
          },
          "type": "line",
          "x0": 0.009420000000000001,
          "x1": 0.023420000000000003,
          "y0": -13.200000000000003,
          "y1": -13.200000000000003
         },
         {
          "layer": "below",
          "line": {
           "color": "rgb(25,25,25)",
           "width": 1
          },
          "type": "line",
          "x0": 0.009420000000000001,
          "x1": 0.025240000000000002,
          "y0": -11.250000000000007,
          "y1": -11.250000000000007
         },
         {
          "layer": "below",
          "line": {
           "color": "rgb(25,25,25)",
           "width": 1
          },
          "type": "line",
          "x0": 0.025240000000000002,
          "x1": 0.025240000000000002,
          "y0": -10.600000000000009,
          "y1": -11.900000000000006
         },
         {
          "layer": "below",
          "line": {
           "color": "rgb(25,25,25)",
           "width": 1
          },
          "type": "line",
          "x0": 0.025240000000000002,
          "x1": 0.02535,
          "y0": -11.900000000000006,
          "y1": -11.900000000000006
         },
         {
          "layer": "below",
          "line": {
           "color": "rgb(25,25,25)",
           "width": 1
          },
          "type": "line",
          "x0": 0.025240000000000002,
          "x1": 0.025300000000000003,
          "y0": -10.600000000000009,
          "y1": -10.600000000000009
         },
         {
          "layer": "below",
          "line": {
           "color": "rgb(25,25,25)",
           "width": 1
          },
          "type": "line",
          "x0": 0.0046700000000000005,
          "x1": 0.00783,
          "y0": -6.375000000000002,
          "y1": -6.375000000000002
         },
         {
          "layer": "below",
          "line": {
           "color": "rgb(25,25,25)",
           "width": 1
          },
          "type": "line",
          "x0": 0.00783,
          "x1": 0.00783,
          "y0": -4.425000000000004,
          "y1": -8.325
         },
         {
          "layer": "below",
          "line": {
           "color": "rgb(25,25,25)",
           "width": 1
          },
          "type": "line",
          "x0": 0.00783,
          "x1": 0.02176,
          "y0": -8.325,
          "y1": -8.325
         },
         {
          "layer": "below",
          "line": {
           "color": "rgb(25,25,25)",
           "width": 1
          },
          "type": "line",
          "x0": 0.02176,
          "x1": 0.02176,
          "y0": -7.350000000000001,
          "y1": -9.299999999999997
         },
         {
          "layer": "below",
          "line": {
           "color": "rgb(25,25,25)",
           "width": 1
          },
          "type": "line",
          "x0": 0.02176,
          "x1": 0.021890000000000003,
          "y0": -9.299999999999997,
          "y1": -9.299999999999997
         },
         {
          "layer": "below",
          "line": {
           "color": "rgb(25,25,25)",
           "width": 1
          },
          "type": "line",
          "x0": 0.02176,
          "x1": 0.0218,
          "y0": -7.350000000000001,
          "y1": -7.350000000000001
         },
         {
          "layer": "below",
          "line": {
           "color": "rgb(25,25,25)",
           "width": 1
          },
          "type": "line",
          "x0": 0.0218,
          "x1": 0.0218,
          "y0": -6.700000000000003,
          "y1": -8
         },
         {
          "layer": "below",
          "line": {
           "color": "rgb(25,25,25)",
           "width": 1
          },
          "type": "line",
          "x0": 0.0218,
          "x1": 0.02269,
          "y0": -8,
          "y1": -8
         },
         {
          "layer": "below",
          "line": {
           "color": "rgb(25,25,25)",
           "width": 1
          },
          "type": "line",
          "x0": 0.0218,
          "x1": 0.02199,
          "y0": -6.700000000000003,
          "y1": -6.700000000000003
         },
         {
          "layer": "below",
          "line": {
           "color": "rgb(25,25,25)",
           "width": 1
          },
          "type": "line",
          "x0": 0.00783,
          "x1": 0.0213,
          "y0": -4.425000000000004,
          "y1": -4.425000000000004
         },
         {
          "layer": "below",
          "line": {
           "color": "rgb(25,25,25)",
           "width": 1
          },
          "type": "line",
          "x0": 0.0213,
          "x1": 0.0213,
          "y0": -3.450000000000003,
          "y1": -5.400000000000006
         },
         {
          "layer": "below",
          "line": {
           "color": "rgb(25,25,25)",
           "width": 1
          },
          "type": "line",
          "x0": 0.0213,
          "x1": 0.02145,
          "y0": -5.400000000000006,
          "y1": -5.400000000000006
         },
         {
          "layer": "below",
          "line": {
           "color": "rgb(25,25,25)",
           "width": 1
          },
          "type": "line",
          "x0": 0.0213,
          "x1": 0.0213,
          "y0": -3.450000000000003,
          "y1": -3.450000000000003
         },
         {
          "layer": "below",
          "line": {
           "color": "rgb(25,25,25)",
           "width": 1
          },
          "type": "line",
          "x0": 0.0213,
          "x1": 0.0213,
          "y0": -2.799999999999997,
          "y1": -4.1000000000000085
         },
         {
          "layer": "below",
          "line": {
           "color": "rgb(25,25,25)",
           "width": 1
          },
          "type": "line",
          "x0": 0.0213,
          "x1": 0.02138,
          "y0": -4.1000000000000085,
          "y1": -4.1000000000000085
         },
         {
          "layer": "below",
          "line": {
           "color": "rgb(25,25,25)",
           "width": 1
          },
          "type": "line",
          "x0": 0.0213,
          "x1": 0.021509999999999998,
          "y0": -2.799999999999997,
          "y1": -2.799999999999997
         },
         {
          "layer": "below",
          "line": {
           "color": "rgb(25,25,25)",
           "width": 1
          },
          "type": "line",
          "x0": 0,
          "x1": 0.00099,
          "y0": -0.5250000000000021,
          "y1": -0.5250000000000021
         },
         {
          "layer": "below",
          "line": {
           "color": "rgb(25,25,25)",
           "width": 1
          },
          "type": "line",
          "x0": 0.00099,
          "x1": 0.00099,
          "y0": 0.44999999999999574,
          "y1": -1.5
         },
         {
          "layer": "below",
          "line": {
           "color": "rgb(25,25,25)",
           "width": 1
          },
          "type": "line",
          "x0": 0.00099,
          "x1": 0.01608,
          "y0": -1.5,
          "y1": -1.5
         },
         {
          "layer": "below",
          "line": {
           "color": "rgb(25,25,25)",
           "width": 1
          },
          "type": "line",
          "x0": 0.00099,
          "x1": 0.004200000000000001,
          "y0": 0.44999999999999574,
          "y1": 0.44999999999999574
         },
         {
          "layer": "below",
          "line": {
           "color": "rgb(25,25,25)",
           "width": 1
          },
          "type": "line",
          "x0": 0.004200000000000001,
          "x1": 0.004200000000000001,
          "y0": 1.0999999999999943,
          "y1": -0.20000000000000284
         },
         {
          "layer": "below",
          "line": {
           "color": "rgb(25,25,25)",
           "width": 1
          },
          "type": "line",
          "x0": 0.004200000000000001,
          "x1": 0.01734,
          "y0": -0.20000000000000284,
          "y1": -0.20000000000000284
         },
         {
          "layer": "below",
          "line": {
           "color": "rgb(25,25,25)",
           "width": 1
          },
          "type": "line",
          "x0": 0.004200000000000001,
          "x1": 0.020860000000000004,
          "y0": 1.0999999999999943,
          "y1": 1.0999999999999943
         },
         {
          "layer": "below",
          "line": {
           "color": "rgb(25,25,25)",
           "width": 1
          },
          "type": "line",
          "x0": 0,
          "x1": 0.00102,
          "y0": 47.59011721611023,
          "y1": 47.59011721611023
         },
         {
          "layer": "below",
          "line": {
           "color": "rgb(25,25,25)",
           "width": 1
          },
          "type": "line",
          "x0": 0.00102,
          "x1": 0.00102,
          "y0": 90.83023443222046,
          "y1": 4.349999999999998
         },
         {
          "layer": "below",
          "line": {
           "color": "rgb(25,25,25)",
           "width": 1
          },
          "type": "line",
          "x0": 0.00102,
          "x1": 0.00435,
          "y0": 4.349999999999998,
          "y1": 4.349999999999998
         },
         {
          "layer": "below",
          "line": {
           "color": "rgb(25,25,25)",
           "width": 1
          },
          "type": "line",
          "x0": 0.00435,
          "x1": 0.00435,
          "y0": 5.649999999999999,
          "y1": 3.049999999999997
         },
         {
          "layer": "below",
          "line": {
           "color": "rgb(25,25,25)",
           "width": 1
          },
          "type": "line",
          "x0": 0.00435,
          "x1": 0.01966,
          "y0": 3.049999999999997,
          "y1": 3.049999999999997
         },
         {
          "layer": "below",
          "line": {
           "color": "rgb(25,25,25)",
           "width": 1
          },
          "type": "line",
          "x0": 0.01966,
          "x1": 0.01966,
          "y0": 3.700000000000003,
          "y1": 2.3999999999999915
         },
         {
          "layer": "below",
          "line": {
           "color": "rgb(25,25,25)",
           "width": 1
          },
          "type": "line",
          "x0": 0.01966,
          "x1": 0.01989,
          "y0": 2.3999999999999915,
          "y1": 2.3999999999999915
         },
         {
          "layer": "below",
          "line": {
           "color": "rgb(25,25,25)",
           "width": 1
          },
          "type": "line",
          "x0": 0.01966,
          "x1": 0.01983,
          "y0": 3.700000000000003,
          "y1": 3.700000000000003
         },
         {
          "layer": "below",
          "line": {
           "color": "rgb(25,25,25)",
           "width": 1
          },
          "type": "line",
          "x0": 0.00435,
          "x1": 0.01845,
          "y0": 5.649999999999999,
          "y1": 5.649999999999999
         },
         {
          "layer": "below",
          "line": {
           "color": "rgb(25,25,25)",
           "width": 1
          },
          "type": "line",
          "x0": 0.01845,
          "x1": 0.01845,
          "y0": 6.299999999999997,
          "y1": 5
         },
         {
          "layer": "below",
          "line": {
           "color": "rgb(25,25,25)",
           "width": 1
          },
          "type": "line",
          "x0": 0.01845,
          "x1": 0.018750000000000003,
          "y0": 5,
          "y1": 5
         },
         {
          "layer": "below",
          "line": {
           "color": "rgb(25,25,25)",
           "width": 1
          },
          "type": "line",
          "x0": 0.01845,
          "x1": 0.018680000000000002,
          "y0": 6.299999999999997,
          "y1": 6.299999999999997
         },
         {
          "layer": "below",
          "line": {
           "color": "rgb(25,25,25)",
           "width": 1
          },
          "type": "line",
          "x0": 0.00102,
          "x1": 0.0025900000000000003,
          "y0": 90.83023443222046,
          "y1": 90.83023443222046
         },
         {
          "layer": "below",
          "line": {
           "color": "rgb(25,25,25)",
           "width": 1
          },
          "type": "line",
          "x0": 0.0025900000000000003,
          "x1": 0.0025900000000000003,
          "y0": 108.35,
          "y1": 73.31046886444092
         },
         {
          "layer": "below",
          "line": {
           "color": "rgb(25,25,25)",
           "width": 1
          },
          "type": "line",
          "x0": 0.0025900000000000003,
          "x1": 0.0047,
          "y0": 73.31046886444092,
          "y1": 73.31046886444092
         },
         {
          "layer": "below",
          "line": {
           "color": "rgb(25,25,25)",
           "width": 1
          },
          "type": "line",
          "x0": 0.0047,
          "x1": 0.0047,
          "y0": 103.3125,
          "y1": 43.308437728881835
         },
         {
          "layer": "below",
          "line": {
           "color": "rgb(25,25,25)",
           "width": 1
          },
          "type": "line",
          "x0": 0.0047,
          "x1": 0.00615,
          "y0": 43.308437728881835,
          "y1": 43.308437728881835
         },
         {
          "layer": "below",
          "line": {
           "color": "rgb(25,25,25)",
           "width": 1
          },
          "type": "line",
          "x0": 0.00615,
          "x1": 0.00615,
          "y0": 75.84812545776367,
          "y1": 10.768749999999997
         },
         {
          "layer": "below",
          "line": {
           "color": "rgb(25,25,25)",
           "width": 1
          },
          "type": "line",
          "x0": 0.00615,
          "x1": 0.010280000000000001,
          "y0": 10.768749999999997,
          "y1": 10.768749999999997
         },
         {
          "layer": "below",
          "line": {
           "color": "rgb(25,25,25)",
           "width": 1
          },
          "type": "line",
          "x0": 0.010280000000000001,
          "x1": 0.010280000000000001,
          "y0": 12.799999999999997,
          "y1": 8.737499999999995
         },
         {
          "layer": "below",
          "line": {
           "color": "rgb(25,25,25)",
           "width": 1
          },
          "type": "line",
          "x0": 0.010280000000000001,
          "x1": 0.02612,
          "y0": 8.737499999999995,
          "y1": 8.737499999999995
         },
         {
          "layer": "below",
          "line": {
           "color": "rgb(25,25,25)",
           "width": 1
          },
          "type": "line",
          "x0": 0.02612,
          "x1": 0.02612,
          "y0": 9.874999999999996,
          "y1": 7.599999999999994
         },
         {
          "layer": "below",
          "line": {
           "color": "rgb(25,25,25)",
           "width": 1
          },
          "type": "line",
          "x0": 0.02612,
          "x1": 0.02631,
          "y0": 7.599999999999994,
          "y1": 7.599999999999994
         },
         {
          "layer": "below",
          "line": {
           "color": "rgb(25,25,25)",
           "width": 1
          },
          "type": "line",
          "x0": 0.02612,
          "x1": 0.02612,
          "y0": 9.874999999999996,
          "y1": 9.874999999999996
         },
         {
          "layer": "below",
          "line": {
           "color": "rgb(25,25,25)",
           "width": 1
          },
          "type": "line",
          "x0": 0.02612,
          "x1": 0.02612,
          "y0": 10.850000000000001,
          "y1": 8.899999999999991
         },
         {
          "layer": "below",
          "line": {
           "color": "rgb(25,25,25)",
           "width": 1
          },
          "type": "line",
          "x0": 0.02612,
          "x1": 0.026180000000000002,
          "y0": 8.899999999999991,
          "y1": 8.899999999999991
         },
         {
          "layer": "below",
          "line": {
           "color": "rgb(25,25,25)",
           "width": 1
          },
          "type": "line",
          "x0": 0.02612,
          "x1": 0.02612,
          "y0": 10.850000000000001,
          "y1": 10.850000000000001
         },
         {
          "layer": "below",
          "line": {
           "color": "rgb(25,25,25)",
           "width": 1
          },
          "type": "line",
          "x0": 0.02612,
          "x1": 0.02612,
          "y0": 11.5,
          "y1": 10.200000000000003
         },
         {
          "layer": "below",
          "line": {
           "color": "rgb(25,25,25)",
           "width": 1
          },
          "type": "line",
          "x0": 0.02612,
          "x1": 0.02657,
          "y0": 10.200000000000003,
          "y1": 10.200000000000003
         },
         {
          "layer": "below",
          "line": {
           "color": "rgb(25,25,25)",
           "width": 1
          },
          "type": "line",
          "x0": 0.02612,
          "x1": 0.02646,
          "y0": 11.5,
          "y1": 11.5
         },
         {
          "layer": "below",
          "line": {
           "color": "rgb(25,25,25)",
           "width": 1
          },
          "type": "line",
          "x0": 0.010280000000000001,
          "x1": 0.02798,
          "y0": 12.799999999999997,
          "y1": 12.799999999999997
         },
         {
          "layer": "below",
          "line": {
           "color": "rgb(25,25,25)",
           "width": 1
          },
          "type": "line",
          "x0": 0.00615,
          "x1": 0.00893,
          "y0": 75.84812545776367,
          "y1": 75.84812545776367
         },
         {
          "layer": "below",
          "line": {
           "color": "rgb(25,25,25)",
           "width": 1
          },
          "type": "line",
          "x0": 0.00893,
          "x1": 0.00893,
          "y0": 96.8125,
          "y1": 54.883750915527344
         },
         {
          "layer": "below",
          "line": {
           "color": "rgb(25,25,25)",
           "width": 1
          },
          "type": "line",
          "x0": 0.00893,
          "x1": 0.012920000000000001,
          "y0": 54.883750915527344,
          "y1": 54.883750915527344
         },
         {
          "layer": "below",
          "line": {
           "color": "rgb(25,25,25)",
           "width": 1
          },
          "type": "line",
          "x0": 0.012920000000000001,
          "x1": 0.012920000000000001,
          "y0": 90.3125,
          "y1": 19.455001831054684
         },
         {
          "layer": "below",
          "line": {
           "color": "rgb(25,25,25)",
           "width": 1
          },
          "type": "line",
          "x0": 0.012920000000000001,
          "x1": 0.04852,
          "y0": 19.455001831054684,
          "y1": 19.455001831054684
         },
         {
          "layer": "below",
          "line": {
           "color": "rgb(25,25,25)",
           "width": 1
          },
          "type": "line",
          "x0": 0.04852,
          "x1": 0.04852,
          "y0": 24.810003662109374,
          "y1": 14.099999999999994
         },
         {
          "layer": "below",
          "line": {
           "color": "rgb(25,25,25)",
           "width": 1
          },
          "type": "line",
          "x0": 0.04852,
          "x1": 0.0963,
          "y0": 14.099999999999994,
          "y1": 14.099999999999994
         },
         {
          "layer": "below",
          "line": {
           "color": "rgb(25,25,25)",
           "width": 1
          },
          "type": "line",
          "x0": 0.04852,
          "x1": 0.05943,
          "y0": 24.810003662109374,
          "y1": 24.810003662109374
         },
         {
          "layer": "below",
          "line": {
           "color": "rgb(25,25,25)",
           "width": 1
          },
          "type": "line",
          "x0": 0.05943,
          "x1": 0.05943,
          "y0": 33.57000732421875,
          "y1": 16.049999999999997
         },
         {
          "layer": "below",
          "line": {
           "color": "rgb(25,25,25)",
           "width": 1
          },
          "type": "line",
          "x0": 0.05943,
          "x1": 0.14888,
          "y0": 16.049999999999997,
          "y1": 16.049999999999997
         },
         {
          "layer": "below",
          "line": {
           "color": "rgb(25,25,25)",
           "width": 1
          },
          "type": "line",
          "x0": 0.14888,
          "x1": 0.14888,
          "y0": 16.700000000000003,
          "y1": 15.399999999999991
         },
         {
          "layer": "below",
          "line": {
           "color": "rgb(25,25,25)",
           "width": 1
          },
          "type": "line",
          "x0": 0.14888,
          "x1": 0.14903000000000002,
          "y0": 15.399999999999991,
          "y1": 15.399999999999991
         },
         {
          "layer": "below",
          "line": {
           "color": "rgb(25,25,25)",
           "width": 1
          },
          "type": "line",
          "x0": 0.14888,
          "x1": 0.14897000000000002,
          "y0": 16.700000000000003,
          "y1": 16.700000000000003
         },
         {
          "layer": "below",
          "line": {
           "color": "rgb(25,25,25)",
           "width": 1
          },
          "type": "line",
          "x0": 0.05943,
          "x1": 0.07209,
          "y0": 33.57000732421875,
          "y1": 33.57000732421875
         },
         {
          "layer": "below",
          "line": {
           "color": "rgb(25,25,25)",
           "width": 1
          },
          "type": "line",
          "x0": 0.07209,
          "x1": 0.07209,
          "y0": 49.1400146484375,
          "y1": 18
         },
         {
          "layer": "below",
          "line": {
           "color": "rgb(25,25,25)",
           "width": 1
          },
          "type": "line",
          "x0": 0.07209,
          "x1": 0.13332,
          "y0": 18,
          "y1": 18
         },
         {
          "layer": "below",
          "line": {
           "color": "rgb(25,25,25)",
           "width": 1
          },
          "type": "line",
          "x0": 0.07209,
          "x1": 0.13035,
          "y0": 49.1400146484375,
          "y1": 49.1400146484375
         },
         {
          "layer": "below",
          "line": {
           "color": "rgb(25,25,25)",
           "width": 1
          },
          "type": "line",
          "x0": 0.13035,
          "x1": 0.13035,
          "y0": 66.08984375,
          "y1": 32.190185546875
         },
         {
          "layer": "below",
          "line": {
           "color": "rgb(25,25,25)",
           "width": 1
          },
          "type": "line",
          "x0": 0.13035,
          "x1": 0.20862999999999998,
          "y0": 32.190185546875,
          "y1": 32.190185546875
         },
         {
          "layer": "below",
          "line": {
           "color": "rgb(25,25,25)",
           "width": 1
          },
          "type": "line",
          "x0": 0.20862999999999998,
          "x1": 0.20862999999999998,
          "y0": 45.080371093749996,
          "y1": 19.299999999999997
         },
         {
          "layer": "below",
          "line": {
           "color": "rgb(25,25,25)",
           "width": 1
          },
          "type": "line",
          "x0": 0.20862999999999998,
          "x1": 0.22905999999999999,
          "y0": 19.299999999999997,
          "y1": 19.299999999999997
         },
         {
          "layer": "below",
          "line": {
           "color": "rgb(25,25,25)",
           "width": 1
          },
          "type": "line",
          "x0": 0.20862999999999998,
          "x1": 0.21427999999999997,
          "y0": 45.080371093749996,
          "y1": 45.080371093749996
         },
         {
          "layer": "below",
          "line": {
           "color": "rgb(25,25,25)",
           "width": 1
          },
          "type": "line",
          "x0": 0.21427999999999997,
          "x1": 0.21427999999999997,
          "y0": 56.675,
          "y1": 33.485742187499994
         },
         {
          "layer": "below",
          "line": {
           "color": "rgb(25,25,25)",
           "width": 1
          },
          "type": "line",
          "x0": 0.21427999999999997,
          "x1": 0.23450999999999997,
          "y0": 33.485742187499994,
          "y1": 33.485742187499994
         },
         {
          "layer": "below",
          "line": {
           "color": "rgb(25,25,25)",
           "width": 1
          },
          "type": "line",
          "x0": 0.23450999999999997,
          "x1": 0.23450999999999997,
          "y0": 45.721484375,
          "y1": 21.249999999999993
         },
         {
          "layer": "below",
          "line": {
           "color": "rgb(25,25,25)",
           "width": 1
          },
          "type": "line",
          "x0": 0.23450999999999997,
          "x1": 0.23458999999999997,
          "y0": 21.249999999999993,
          "y1": 21.249999999999993
         },
         {
          "layer": "below",
          "line": {
           "color": "rgb(25,25,25)",
           "width": 1
          },
          "type": "line",
          "x0": 0.23458999999999997,
          "x1": 0.23458999999999997,
          "y0": 21.89999999999999,
          "y1": 20.599999999999994
         },
         {
          "layer": "below",
          "line": {
           "color": "rgb(25,25,25)",
           "width": 1
          },
          "type": "line",
          "x0": 0.23458999999999997,
          "x1": 0.23532999999999996,
          "y0": 20.599999999999994,
          "y1": 20.599999999999994
         },
         {
          "layer": "below",
          "line": {
           "color": "rgb(25,25,25)",
           "width": 1
          },
          "type": "line",
          "x0": 0.23458999999999997,
          "x1": 0.23500999999999997,
          "y0": 21.89999999999999,
          "y1": 21.89999999999999
         },
         {
          "layer": "below",
          "line": {
           "color": "rgb(25,25,25)",
           "width": 1
          },
          "type": "line",
          "x0": 0.23450999999999997,
          "x1": 0.23451999999999998,
          "y0": 45.721484375,
          "y1": 45.721484375
         },
         {
          "layer": "below",
          "line": {
           "color": "rgb(25,25,25)",
           "width": 1
          },
          "type": "line",
          "x0": 0.23451999999999998,
          "x1": 0.23451999999999998,
          "y0": 54.4,
          "y1": 37.04296875
         },
         {
          "layer": "below",
          "line": {
           "color": "rgb(25,25,25)",
           "width": 1
          },
          "type": "line",
          "x0": 0.23451999999999998,
          "x1": 0.23451999999999998,
          "y0": 37.04296875,
          "y1": 37.04296875
         },
         {
          "layer": "below",
          "line": {
           "color": "rgb(25,25,25)",
           "width": 1
          },
          "type": "line",
          "x0": 0.23451999999999998,
          "x1": 0.23451999999999998,
          "y0": 45.1578125,
          "y1": 28.928124999999998
         },
         {
          "layer": "below",
          "line": {
           "color": "rgb(25,25,25)",
           "width": 1
          },
          "type": "line",
          "x0": 0.23451999999999998,
          "x1": 0.23451999999999998,
          "y0": 28.928124999999998,
          "y1": 28.928124999999998
         },
         {
          "layer": "below",
          "line": {
           "color": "rgb(25,25,25)",
           "width": 1
          },
          "type": "line",
          "x0": 0.23451999999999998,
          "x1": 0.23451999999999998,
          "y0": 32.4625,
          "y1": 25.393749999999997
         },
         {
          "layer": "below",
          "line": {
           "color": "rgb(25,25,25)",
           "width": 1
          },
          "type": "line",
          "x0": 0.23451999999999998,
          "x1": 0.23468999999999998,
          "y0": 25.393749999999997,
          "y1": 25.393749999999997
         },
         {
          "layer": "below",
          "line": {
           "color": "rgb(25,25,25)",
           "width": 1
          },
          "type": "line",
          "x0": 0.23468999999999998,
          "x1": 0.23468999999999998,
          "y0": 26.937499999999996,
          "y1": 23.85
         },
         {
          "layer": "below",
          "line": {
           "color": "rgb(25,25,25)",
           "width": 1
          },
          "type": "line",
          "x0": 0.23468999999999998,
          "x1": 0.23489999999999997,
          "y0": 23.85,
          "y1": 23.85
         },
         {
          "layer": "below",
          "line": {
           "color": "rgb(25,25,25)",
           "width": 1
          },
          "type": "line",
          "x0": 0.23489999999999997,
          "x1": 0.23489999999999997,
          "y0": 24.5,
          "y1": 23.200000000000003
         },
         {
          "layer": "below",
          "line": {
           "color": "rgb(25,25,25)",
           "width": 1
          },
          "type": "line",
          "x0": 0.23489999999999997,
          "x1": 0.23525999999999997,
          "y0": 23.200000000000003,
          "y1": 23.200000000000003
         },
         {
          "layer": "below",
          "line": {
           "color": "rgb(25,25,25)",
           "width": 1
          },
          "type": "line",
          "x0": 0.23489999999999997,
          "x1": 0.23601999999999998,
          "y0": 24.5,
          "y1": 24.5
         },
         {
          "layer": "below",
          "line": {
           "color": "rgb(25,25,25)",
           "width": 1
          },
          "type": "line",
          "x0": 0.23468999999999998,
          "x1": 0.23485999999999999,
          "y0": 26.937499999999996,
          "y1": 26.937499999999996
         },
         {
          "layer": "below",
          "line": {
           "color": "rgb(25,25,25)",
           "width": 1
          },
          "type": "line",
          "x0": 0.23485999999999999,
          "x1": 0.23485999999999999,
          "y0": 28.074999999999996,
          "y1": 25.799999999999997
         },
         {
          "layer": "below",
          "line": {
           "color": "rgb(25,25,25)",
           "width": 1
          },
          "type": "line",
          "x0": 0.23485999999999999,
          "x1": 0.23521999999999998,
          "y0": 25.799999999999997,
          "y1": 25.799999999999997
         },
         {
          "layer": "below",
          "line": {
           "color": "rgb(25,25,25)",
           "width": 1
          },
          "type": "line",
          "x0": 0.23485999999999999,
          "x1": 0.23493999999999998,
          "y0": 28.074999999999996,
          "y1": 28.074999999999996
         },
         {
          "layer": "below",
          "line": {
           "color": "rgb(25,25,25)",
           "width": 1
          },
          "type": "line",
          "x0": 0.23493999999999998,
          "x1": 0.23493999999999998,
          "y0": 29.049999999999997,
          "y1": 27.099999999999994
         },
         {
          "layer": "below",
          "line": {
           "color": "rgb(25,25,25)",
           "width": 1
          },
          "type": "line",
          "x0": 0.23493999999999998,
          "x1": 0.23542999999999997,
          "y0": 27.099999999999994,
          "y1": 27.099999999999994
         },
         {
          "layer": "below",
          "line": {
           "color": "rgb(25,25,25)",
           "width": 1
          },
          "type": "line",
          "x0": 0.23493999999999998,
          "x1": 0.23512999999999998,
          "y0": 29.049999999999997,
          "y1": 29.049999999999997
         },
         {
          "layer": "below",
          "line": {
           "color": "rgb(25,25,25)",
           "width": 1
          },
          "type": "line",
          "x0": 0.23512999999999998,
          "x1": 0.23512999999999998,
          "y0": 29.700000000000003,
          "y1": 28.39999999999999
         },
         {
          "layer": "below",
          "line": {
           "color": "rgb(25,25,25)",
           "width": 1
          },
          "type": "line",
          "x0": 0.23512999999999998,
          "x1": 0.23533999999999997,
          "y0": 28.39999999999999,
          "y1": 28.39999999999999
         },
         {
          "layer": "below",
          "line": {
           "color": "rgb(25,25,25)",
           "width": 1
          },
          "type": "line",
          "x0": 0.23512999999999998,
          "x1": 0.23534999999999998,
          "y0": 29.700000000000003,
          "y1": 29.700000000000003
         },
         {
          "layer": "below",
          "line": {
           "color": "rgb(25,25,25)",
           "width": 1
          },
          "type": "line",
          "x0": 0.23451999999999998,
          "x1": 0.23473999999999998,
          "y0": 32.4625,
          "y1": 32.4625
         },
         {
          "layer": "below",
          "line": {
           "color": "rgb(25,25,25)",
           "width": 1
          },
          "type": "line",
          "x0": 0.23473999999999998,
          "x1": 0.23473999999999998,
          "y0": 33.925,
          "y1": 31
         },
         {
          "layer": "below",
          "line": {
           "color": "rgb(25,25,25)",
           "width": 1
          },
          "type": "line",
          "x0": 0.23473999999999998,
          "x1": 0.23489999999999997,
          "y0": 31,
          "y1": 31
         },
         {
          "layer": "below",
          "line": {
           "color": "rgb(25,25,25)",
           "width": 1
          },
          "type": "line",
          "x0": 0.23473999999999998,
          "x1": 0.23481999999999997,
          "y0": 33.925,
          "y1": 33.925
         },
         {
          "layer": "below",
          "line": {
           "color": "rgb(25,25,25)",
           "width": 1
          },
          "type": "line",
          "x0": 0.23481999999999997,
          "x1": 0.23481999999999997,
          "y0": 35.55,
          "y1": 32.3
         },
         {
          "layer": "below",
          "line": {
           "color": "rgb(25,25,25)",
           "width": 1
          },
          "type": "line",
          "x0": 0.23481999999999997,
          "x1": 0.23485999999999999,
          "y0": 32.3,
          "y1": 32.3
         },
         {
          "layer": "below",
          "line": {
           "color": "rgb(25,25,25)",
           "width": 1
          },
          "type": "line",
          "x0": 0.23481999999999997,
          "x1": 0.23481999999999997,
          "y0": 35.55,
          "y1": 35.55
         },
         {
          "layer": "below",
          "line": {
           "color": "rgb(25,25,25)",
           "width": 1
          },
          "type": "line",
          "x0": 0.23481999999999997,
          "x1": 0.23481999999999997,
          "y0": 36.85,
          "y1": 34.24999999999999
         },
         {
          "layer": "below",
          "line": {
           "color": "rgb(25,25,25)",
           "width": 1
          },
          "type": "line",
          "x0": 0.23481999999999997,
          "x1": 0.23486999999999997,
          "y0": 34.24999999999999,
          "y1": 34.24999999999999
         },
         {
          "layer": "below",
          "line": {
           "color": "rgb(25,25,25)",
           "width": 1
          },
          "type": "line",
          "x0": 0.23486999999999997,
          "x1": 0.23486999999999997,
          "y0": 34.89999999999999,
          "y1": 33.599999999999994
         },
         {
          "layer": "below",
          "line": {
           "color": "rgb(25,25,25)",
           "width": 1
          },
          "type": "line",
          "x0": 0.23486999999999997,
          "x1": 0.23531999999999997,
          "y0": 33.599999999999994,
          "y1": 33.599999999999994
         },
         {
          "layer": "below",
          "line": {
           "color": "rgb(25,25,25)",
           "width": 1
          },
          "type": "line",
          "x0": 0.23486999999999997,
          "x1": 0.23509999999999998,
          "y0": 34.89999999999999,
          "y1": 34.89999999999999
         },
         {
          "layer": "below",
          "line": {
           "color": "rgb(25,25,25)",
           "width": 1
          },
          "type": "line",
          "x0": 0.23481999999999997,
          "x1": 0.23485999999999999,
          "y0": 36.85,
          "y1": 36.85
         },
         {
          "layer": "below",
          "line": {
           "color": "rgb(25,25,25)",
           "width": 1
          },
          "type": "line",
          "x0": 0.23485999999999999,
          "x1": 0.23485999999999999,
          "y0": 37.5,
          "y1": 36.2
         },
         {
          "layer": "below",
          "line": {
           "color": "rgb(25,25,25)",
           "width": 1
          },
          "type": "line",
          "x0": 0.23485999999999999,
          "x1": 0.23509999999999998,
          "y0": 36.2,
          "y1": 36.2
         },
         {
          "layer": "below",
          "line": {
           "color": "rgb(25,25,25)",
           "width": 1
          },
          "type": "line",
          "x0": 0.23485999999999999,
          "x1": 0.23498,
          "y0": 37.5,
          "y1": 37.5
         },
         {
          "layer": "below",
          "line": {
           "color": "rgb(25,25,25)",
           "width": 1
          },
          "type": "line",
          "x0": 0.23451999999999998,
          "x1": 0.23464999999999997,
          "y0": 45.1578125,
          "y1": 45.1578125
         },
         {
          "layer": "below",
          "line": {
           "color": "rgb(25,25,25)",
           "width": 1
          },
          "type": "line",
          "x0": 0.23464999999999997,
          "x1": 0.23464999999999997,
          "y0": 49.11875,
          "y1": 41.196875
         },
         {
          "layer": "below",
          "line": {
           "color": "rgb(25,25,25)",
           "width": 1
          },
          "type": "line",
          "x0": 0.23464999999999997,
          "x1": 0.23475999999999997,
          "y0": 41.196875,
          "y1": 41.196875
         },
         {
          "layer": "below",
          "line": {
           "color": "rgb(25,25,25)",
           "width": 1
          },
          "type": "line",
          "x0": 0.23475999999999997,
          "x1": 0.23475999999999997,
          "y0": 43.59375,
          "y1": 38.8
         },
         {
          "layer": "below",
          "line": {
           "color": "rgb(25,25,25)",
           "width": 1
          },
          "type": "line",
          "x0": 0.23475999999999997,
          "x1": 0.23524999999999996,
          "y0": 38.8,
          "y1": 38.8
         },
         {
          "layer": "below",
          "line": {
           "color": "rgb(25,25,25)",
           "width": 1
          },
          "type": "line",
          "x0": 0.23475999999999997,
          "x1": 0.23480999999999996,
          "y0": 43.59375,
          "y1": 43.59375
         },
         {
          "layer": "below",
          "line": {
           "color": "rgb(25,25,25)",
           "width": 1
          },
          "type": "line",
          "x0": 0.23480999999999996,
          "x1": 0.23480999999999996,
          "y0": 45.949999999999996,
          "y1": 41.2375
         },
         {
          "layer": "below",
          "line": {
           "color": "rgb(25,25,25)",
           "width": 1
          },
          "type": "line",
          "x0": 0.23480999999999996,
          "x1": 0.23486999999999997,
          "y0": 41.2375,
          "y1": 41.2375
         },
         {
          "layer": "below",
          "line": {
           "color": "rgb(25,25,25)",
           "width": 1
          },
          "type": "line",
          "x0": 0.23486999999999997,
          "x1": 0.23486999999999997,
          "y0": 42.375,
          "y1": 40.099999999999994
         },
         {
          "layer": "below",
          "line": {
           "color": "rgb(25,25,25)",
           "width": 1
          },
          "type": "line",
          "x0": 0.23486999999999997,
          "x1": 0.23505999999999996,
          "y0": 40.099999999999994,
          "y1": 40.099999999999994
         },
         {
          "layer": "below",
          "line": {
           "color": "rgb(25,25,25)",
           "width": 1
          },
          "type": "line",
          "x0": 0.23486999999999997,
          "x1": 0.23490999999999998,
          "y0": 42.375,
          "y1": 42.375
         },
         {
          "layer": "below",
          "line": {
           "color": "rgb(25,25,25)",
           "width": 1
          },
          "type": "line",
          "x0": 0.23490999999999998,
          "x1": 0.23490999999999998,
          "y0": 43.35,
          "y1": 41.39999999999999
         },
         {
          "layer": "below",
          "line": {
           "color": "rgb(25,25,25)",
           "width": 1
          },
          "type": "line",
          "x0": 0.23490999999999998,
          "x1": 0.23496999999999998,
          "y0": 41.39999999999999,
          "y1": 41.39999999999999
         },
         {
          "layer": "below",
          "line": {
           "color": "rgb(25,25,25)",
           "width": 1
          },
          "type": "line",
          "x0": 0.23490999999999998,
          "x1": 0.23495,
          "y0": 43.35,
          "y1": 43.35
         },
         {
          "layer": "below",
          "line": {
           "color": "rgb(25,25,25)",
           "width": 1
          },
          "type": "line",
          "x0": 0.23495,
          "x1": 0.23495,
          "y0": 44,
          "y1": 42.7
         },
         {
          "layer": "below",
          "line": {
           "color": "rgb(25,25,25)",
           "width": 1
          },
          "type": "line",
          "x0": 0.23495,
          "x1": 0.23565,
          "y0": 42.7,
          "y1": 42.7
         },
         {
          "layer": "below",
          "line": {
           "color": "rgb(25,25,25)",
           "width": 1
          },
          "type": "line",
          "x0": 0.23495,
          "x1": 0.23514,
          "y0": 44,
          "y1": 44
         },
         {
          "layer": "below",
          "line": {
           "color": "rgb(25,25,25)",
           "width": 1
          },
          "type": "line",
          "x0": 0.23480999999999996,
          "x1": 0.23488999999999996,
          "y0": 45.949999999999996,
          "y1": 45.949999999999996
         },
         {
          "layer": "below",
          "line": {
           "color": "rgb(25,25,25)",
           "width": 1
          },
          "type": "line",
          "x0": 0.23488999999999996,
          "x1": 0.23488999999999996,
          "y0": 46.599999999999994,
          "y1": 45.3
         },
         {
          "layer": "below",
          "line": {
           "color": "rgb(25,25,25)",
           "width": 1
          },
          "type": "line",
          "x0": 0.23488999999999996,
          "x1": 0.23519999999999996,
          "y0": 45.3,
          "y1": 45.3
         },
         {
          "layer": "below",
          "line": {
           "color": "rgb(25,25,25)",
           "width": 1
          },
          "type": "line",
          "x0": 0.23488999999999996,
          "x1": 0.23502999999999996,
          "y0": 46.599999999999994,
          "y1": 46.599999999999994
         },
         {
          "layer": "below",
          "line": {
           "color": "rgb(25,25,25)",
           "width": 1
          },
          "type": "line",
          "x0": 0.23464999999999997,
          "x1": 0.23468999999999998,
          "y0": 49.11875,
          "y1": 49.11875
         },
         {
          "layer": "below",
          "line": {
           "color": "rgb(25,25,25)",
           "width": 1
          },
          "type": "line",
          "x0": 0.23468999999999998,
          "x1": 0.23468999999999998,
          "y0": 50.3375,
          "y1": 47.9
         },
         {
          "layer": "below",
          "line": {
           "color": "rgb(25,25,25)",
           "width": 1
          },
          "type": "line",
          "x0": 0.23468999999999998,
          "x1": 0.23515999999999998,
          "y0": 47.9,
          "y1": 47.9
         },
         {
          "layer": "below",
          "line": {
           "color": "rgb(25,25,25)",
           "width": 1
          },
          "type": "line",
          "x0": 0.23468999999999998,
          "x1": 0.23484,
          "y0": 50.3375,
          "y1": 50.3375
         },
         {
          "layer": "below",
          "line": {
           "color": "rgb(25,25,25)",
           "width": 1
          },
          "type": "line",
          "x0": 0.23484,
          "x1": 0.23484,
          "y0": 51.475,
          "y1": 49.199999999999996
         },
         {
          "layer": "below",
          "line": {
           "color": "rgb(25,25,25)",
           "width": 1
          },
          "type": "line",
          "x0": 0.23484,
          "x1": 0.23618,
          "y0": 49.199999999999996,
          "y1": 49.199999999999996
         },
         {
          "layer": "below",
          "line": {
           "color": "rgb(25,25,25)",
           "width": 1
          },
          "type": "line",
          "x0": 0.23484,
          "x1": 0.23496,
          "y0": 51.475,
          "y1": 51.475
         },
         {
          "layer": "below",
          "line": {
           "color": "rgb(25,25,25)",
           "width": 1
          },
          "type": "line",
          "x0": 0.23496,
          "x1": 0.23496,
          "y0": 52.45,
          "y1": 50.5
         },
         {
          "layer": "below",
          "line": {
           "color": "rgb(25,25,25)",
           "width": 1
          },
          "type": "line",
          "x0": 0.23496,
          "x1": 0.23518,
          "y0": 50.5,
          "y1": 50.5
         },
         {
          "layer": "below",
          "line": {
           "color": "rgb(25,25,25)",
           "width": 1
          },
          "type": "line",
          "x0": 0.23496,
          "x1": 0.23507,
          "y0": 52.45,
          "y1": 52.45
         },
         {
          "layer": "below",
          "line": {
           "color": "rgb(25,25,25)",
           "width": 1
          },
          "type": "line",
          "x0": 0.23507,
          "x1": 0.23507,
          "y0": 53.1,
          "y1": 51.8
         },
         {
          "layer": "below",
          "line": {
           "color": "rgb(25,25,25)",
           "width": 1
          },
          "type": "line",
          "x0": 0.23507,
          "x1": 0.23552,
          "y0": 51.8,
          "y1": 51.8
         },
         {
          "layer": "below",
          "line": {
           "color": "rgb(25,25,25)",
           "width": 1
          },
          "type": "line",
          "x0": 0.23507,
          "x1": 0.23578,
          "y0": 53.1,
          "y1": 53.1
         },
         {
          "layer": "below",
          "line": {
           "color": "rgb(25,25,25)",
           "width": 1
          },
          "type": "line",
          "x0": 0.23451999999999998,
          "x1": 0.23483999999999997,
          "y0": 54.4,
          "y1": 54.4
         },
         {
          "layer": "below",
          "line": {
           "color": "rgb(25,25,25)",
           "width": 1
          },
          "type": "line",
          "x0": 0.21427999999999997,
          "x1": 0.21940999999999997,
          "y0": 56.675,
          "y1": 56.675
         },
         {
          "layer": "below",
          "line": {
           "color": "rgb(25,25,25)",
           "width": 1
          },
          "type": "line",
          "x0": 0.21940999999999997,
          "x1": 0.21940999999999997,
          "y0": 57.65,
          "y1": 55.699999999999996
         },
         {
          "layer": "below",
          "line": {
           "color": "rgb(25,25,25)",
           "width": 1
          },
          "type": "line",
          "x0": 0.21940999999999997,
          "x1": 0.23731999999999998,
          "y0": 55.699999999999996,
          "y1": 55.699999999999996
         },
         {
          "layer": "below",
          "line": {
           "color": "rgb(25,25,25)",
           "width": 1
          },
          "type": "line",
          "x0": 0.21940999999999997,
          "x1": 0.22299999999999998,
          "y0": 57.65,
          "y1": 57.65
         },
         {
          "layer": "below",
          "line": {
           "color": "rgb(25,25,25)",
           "width": 1
          },
          "type": "line",
          "x0": 0.22299999999999998,
          "x1": 0.22299999999999998,
          "y0": 58.3,
          "y1": 57
         },
         {
          "layer": "below",
          "line": {
           "color": "rgb(25,25,25)",
           "width": 1
          },
          "type": "line",
          "x0": 0.22299999999999998,
          "x1": 0.24046999999999996,
          "y0": 57,
          "y1": 57
         },
         {
          "layer": "below",
          "line": {
           "color": "rgb(25,25,25)",
           "width": 1
          },
          "type": "line",
          "x0": 0.22299999999999998,
          "x1": 0.24027999999999997,
          "y0": 58.3,
          "y1": 58.3
         },
         {
          "layer": "below",
          "line": {
           "color": "rgb(25,25,25)",
           "width": 1
          },
          "type": "line",
          "x0": 0.13035,
          "x1": 0.15209999999999999,
          "y0": 66.08984375,
          "y1": 66.08984375
         },
         {
          "layer": "below",
          "line": {
           "color": "rgb(25,25,25)",
           "width": 1
          },
          "type": "line",
          "x0": 0.15209999999999999,
          "x1": 0.15209999999999999,
          "y0": 71.60468750000001,
          "y1": 60.575
         },
         {
          "layer": "below",
          "line": {
           "color": "rgb(25,25,25)",
           "width": 1
          },
          "type": "line",
          "x0": 0.15209999999999999,
          "x1": 0.7839,
          "y0": 60.575,
          "y1": 60.575
         },
         {
          "layer": "below",
          "line": {
           "color": "rgb(25,25,25)",
           "width": 1
          },
          "type": "line",
          "x0": 0.7839,
          "x1": 0.7839,
          "y0": 61.55,
          "y1": 59.6
         },
         {
          "layer": "below",
          "line": {
           "color": "rgb(25,25,25)",
           "width": 1
          },
          "type": "line",
          "x0": 0.7839,
          "x1": 0.91827,
          "y0": 59.6,
          "y1": 59.6
         },
         {
          "layer": "below",
          "line": {
           "color": "rgb(25,25,25)",
           "width": 1
          },
          "type": "line",
          "x0": 0.7839,
          "x1": 0.84233,
          "y0": 61.55,
          "y1": 61.55
         },
         {
          "layer": "below",
          "line": {
           "color": "rgb(25,25,25)",
           "width": 1
          },
          "type": "line",
          "x0": 0.84233,
          "x1": 0.84233,
          "y0": 62.199999999999996,
          "y1": 60.9
         },
         {
          "layer": "below",
          "line": {
           "color": "rgb(25,25,25)",
           "width": 1
          },
          "type": "line",
          "x0": 0.84233,
          "x1": 0.91834,
          "y0": 60.9,
          "y1": 60.9
         },
         {
          "layer": "below",
          "line": {
           "color": "rgb(25,25,25)",
           "width": 1
          },
          "type": "line",
          "x0": 0.84233,
          "x1": 0.92294,
          "y0": 62.199999999999996,
          "y1": 62.199999999999996
         },
         {
          "layer": "below",
          "line": {
           "color": "rgb(25,25,25)",
           "width": 1
          },
          "type": "line",
          "x0": 0.15209999999999999,
          "x1": 0.18558,
          "y0": 71.60468750000001,
          "y1": 71.60468750000001
         },
         {
          "layer": "below",
          "line": {
           "color": "rgb(25,25,25)",
           "width": 1
          },
          "type": "line",
          "x0": 0.18558,
          "x1": 0.18558,
          "y0": 77.59687500000001,
          "y1": 65.6125
         },
         {
          "layer": "below",
          "line": {
           "color": "rgb(25,25,25)",
           "width": 1
          },
          "type": "line",
          "x0": 0.18558,
          "x1": 0.241,
          "y0": 65.6125,
          "y1": 65.6125
         },
         {
          "layer": "below",
          "line": {
           "color": "rgb(25,25,25)",
           "width": 1
          },
          "type": "line",
          "x0": 0.241,
          "x1": 0.241,
          "y0": 67.07499999999999,
          "y1": 64.15
         },
         {
          "layer": "below",
          "line": {
           "color": "rgb(25,25,25)",
           "width": 1
          },
          "type": "line",
          "x0": 0.241,
          "x1": 0.24104,
          "y0": 64.15,
          "y1": 64.15
         },
         {
          "layer": "below",
          "line": {
           "color": "rgb(25,25,25)",
           "width": 1
          },
          "type": "line",
          "x0": 0.24104,
          "x1": 0.24104,
          "y0": 64.8,
          "y1": 63.5
         },
         {
          "layer": "below",
          "line": {
           "color": "rgb(25,25,25)",
           "width": 1
          },
          "type": "line",
          "x0": 0.24104,
          "x1": 0.24119000000000002,
          "y0": 63.5,
          "y1": 63.5
         },
         {
          "layer": "below",
          "line": {
           "color": "rgb(25,25,25)",
           "width": 1
          },
          "type": "line",
          "x0": 0.24104,
          "x1": 0.2411,
          "y0": 64.8,
          "y1": 64.8
         },
         {
          "layer": "below",
          "line": {
           "color": "rgb(25,25,25)",
           "width": 1
          },
          "type": "line",
          "x0": 0.241,
          "x1": 0.241,
          "y0": 67.07499999999999,
          "y1": 67.07499999999999
         },
         {
          "layer": "below",
          "line": {
           "color": "rgb(25,25,25)",
           "width": 1
          },
          "type": "line",
          "x0": 0.241,
          "x1": 0.241,
          "y0": 68.05,
          "y1": 66.1
         },
         {
          "layer": "below",
          "line": {
           "color": "rgb(25,25,25)",
           "width": 1
          },
          "type": "line",
          "x0": 0.241,
          "x1": 0.24115,
          "y0": 66.1,
          "y1": 66.1
         },
         {
          "layer": "below",
          "line": {
           "color": "rgb(25,25,25)",
           "width": 1
          },
          "type": "line",
          "x0": 0.241,
          "x1": 0.24104,
          "y0": 68.05,
          "y1": 68.05
         },
         {
          "layer": "below",
          "line": {
           "color": "rgb(25,25,25)",
           "width": 1
          },
          "type": "line",
          "x0": 0.24104,
          "x1": 0.24104,
          "y0": 68.69999999999999,
          "y1": 67.4
         },
         {
          "layer": "below",
          "line": {
           "color": "rgb(25,25,25)",
           "width": 1
          },
          "type": "line",
          "x0": 0.24104,
          "x1": 0.24129,
          "y0": 67.4,
          "y1": 67.4
         },
         {
          "layer": "below",
          "line": {
           "color": "rgb(25,25,25)",
           "width": 1
          },
          "type": "line",
          "x0": 0.24104,
          "x1": 0.24144000000000002,
          "y0": 68.69999999999999,
          "y1": 68.69999999999999
         },
         {
          "layer": "below",
          "line": {
           "color": "rgb(25,25,25)",
           "width": 1
          },
          "type": "line",
          "x0": 0.18558,
          "x1": 0.23898,
          "y0": 77.59687500000001,
          "y1": 77.59687500000001
         },
         {
          "layer": "below",
          "line": {
           "color": "rgb(25,25,25)",
           "width": 1
          },
          "type": "line",
          "x0": 0.23898,
          "x1": 0.23898,
          "y0": 83.24375,
          "y1": 71.95
         },
         {
          "layer": "below",
          "line": {
           "color": "rgb(25,25,25)",
           "width": 1
          },
          "type": "line",
          "x0": 0.23898,
          "x1": 0.24271,
          "y0": 71.95,
          "y1": 71.95
         },
         {
          "layer": "below",
          "line": {
           "color": "rgb(25,25,25)",
           "width": 1
          },
          "type": "line",
          "x0": 0.24271,
          "x1": 0.24271,
          "y0": 73.25,
          "y1": 70.65
         },
         {
          "layer": "below",
          "line": {
           "color": "rgb(25,25,25)",
           "width": 1
          },
          "type": "line",
          "x0": 0.24271,
          "x1": 0.25798,
          "y0": 70.65,
          "y1": 70.65
         },
         {
          "layer": "below",
          "line": {
           "color": "rgb(25,25,25)",
           "width": 1
          },
          "type": "line",
          "x0": 0.25798,
          "x1": 0.25798,
          "y0": 71.3,
          "y1": 70
         },
         {
          "layer": "below",
          "line": {
           "color": "rgb(25,25,25)",
           "width": 1
          },
          "type": "line",
          "x0": 0.25798,
          "x1": 0.25808,
          "y0": 70,
          "y1": 70
         },
         {
          "layer": "below",
          "line": {
           "color": "rgb(25,25,25)",
           "width": 1
          },
          "type": "line",
          "x0": 0.25798,
          "x1": 0.25859,
          "y0": 71.3,
          "y1": 71.3
         },
         {
          "layer": "below",
          "line": {
           "color": "rgb(25,25,25)",
           "width": 1
          },
          "type": "line",
          "x0": 0.24271,
          "x1": 0.24619000000000002,
          "y0": 73.25,
          "y1": 73.25
         },
         {
          "layer": "below",
          "line": {
           "color": "rgb(25,25,25)",
           "width": 1
          },
          "type": "line",
          "x0": 0.24619000000000002,
          "x1": 0.24619000000000002,
          "y0": 73.9,
          "y1": 72.6
         },
         {
          "layer": "below",
          "line": {
           "color": "rgb(25,25,25)",
           "width": 1
          },
          "type": "line",
          "x0": 0.24619000000000002,
          "x1": 0.26108000000000003,
          "y0": 72.6,
          "y1": 72.6
         },
         {
          "layer": "below",
          "line": {
           "color": "rgb(25,25,25)",
           "width": 1
          },
          "type": "line",
          "x0": 0.24619000000000002,
          "x1": 0.26208000000000004,
          "y0": 73.9,
          "y1": 73.9
         },
         {
          "layer": "below",
          "line": {
           "color": "rgb(25,25,25)",
           "width": 1
          },
          "type": "line",
          "x0": 0.23898,
          "x1": 0.24112,
          "y0": 83.24375,
          "y1": 83.24375
         },
         {
          "layer": "below",
          "line": {
           "color": "rgb(25,25,25)",
           "width": 1
          },
          "type": "line",
          "x0": 0.24112,
          "x1": 0.24112,
          "y0": 86.25,
          "y1": 80.2375
         },
         {
          "layer": "below",
          "line": {
           "color": "rgb(25,25,25)",
           "width": 1
          },
          "type": "line",
          "x0": 0.24112,
          "x1": 0.24189,
          "y0": 80.2375,
          "y1": 80.2375
         },
         {
          "layer": "below",
          "line": {
           "color": "rgb(25,25,25)",
           "width": 1
          },
          "type": "line",
          "x0": 0.24189,
          "x1": 0.24189,
          "y0": 82.8375,
          "y1": 77.63749999999999
         },
         {
          "layer": "below",
          "line": {
           "color": "rgb(25,25,25)",
           "width": 1
          },
          "type": "line",
          "x0": 0.24189,
          "x1": 0.24318,
          "y0": 77.63749999999999,
          "y1": 77.63749999999999
         },
         {
          "layer": "below",
          "line": {
           "color": "rgb(25,25,25)",
           "width": 1
          },
          "type": "line",
          "x0": 0.24318,
          "x1": 0.24318,
          "y0": 79.1,
          "y1": 76.175
         },
         {
          "layer": "below",
          "line": {
           "color": "rgb(25,25,25)",
           "width": 1
          },
          "type": "line",
          "x0": 0.24318,
          "x1": 0.24601,
          "y0": 76.175,
          "y1": 76.175
         },
         {
          "layer": "below",
          "line": {
           "color": "rgb(25,25,25)",
           "width": 1
          },
          "type": "line",
          "x0": 0.24601,
          "x1": 0.24601,
          "y0": 77.15,
          "y1": 75.19999999999999
         },
         {
          "layer": "below",
          "line": {
           "color": "rgb(25,25,25)",
           "width": 1
          },
          "type": "line",
          "x0": 0.24601,
          "x1": 0.26117,
          "y0": 75.19999999999999,
          "y1": 75.19999999999999
         },
         {
          "layer": "below",
          "line": {
           "color": "rgb(25,25,25)",
           "width": 1
          },
          "type": "line",
          "x0": 0.24601,
          "x1": 0.2606,
          "y0": 77.15,
          "y1": 77.15
         },
         {
          "layer": "below",
          "line": {
           "color": "rgb(25,25,25)",
           "width": 1
          },
          "type": "line",
          "x0": 0.2606,
          "x1": 0.2606,
          "y0": 77.8,
          "y1": 76.5
         },
         {
          "layer": "below",
          "line": {
           "color": "rgb(25,25,25)",
           "width": 1
          },
          "type": "line",
          "x0": 0.2606,
          "x1": 0.26083,
          "y0": 76.5,
          "y1": 76.5
         },
         {
          "layer": "below",
          "line": {
           "color": "rgb(25,25,25)",
           "width": 1
          },
          "type": "line",
          "x0": 0.2606,
          "x1": 0.26073,
          "y0": 77.8,
          "y1": 77.8
         },
         {
          "layer": "below",
          "line": {
           "color": "rgb(25,25,25)",
           "width": 1
          },
          "type": "line",
          "x0": 0.24318,
          "x1": 0.2602,
          "y0": 79.1,
          "y1": 79.1
         },
         {
          "layer": "below",
          "line": {
           "color": "rgb(25,25,25)",
           "width": 1
          },
          "type": "line",
          "x0": 0.24189,
          "x1": 0.24506999999999998,
          "y0": 82.8375,
          "y1": 82.8375
         },
         {
          "layer": "below",
          "line": {
           "color": "rgb(25,25,25)",
           "width": 1
          },
          "type": "line",
          "x0": 0.24506999999999998,
          "x1": 0.24506999999999998,
          "y0": 84.3,
          "y1": 81.375
         },
         {
          "layer": "below",
          "line": {
           "color": "rgb(25,25,25)",
           "width": 1
          },
          "type": "line",
          "x0": 0.24506999999999998,
          "x1": 0.25971,
          "y0": 81.375,
          "y1": 81.375
         },
         {
          "layer": "below",
          "line": {
           "color": "rgb(25,25,25)",
           "width": 1
          },
          "type": "line",
          "x0": 0.25971,
          "x1": 0.25971,
          "y0": 82.35,
          "y1": 80.4
         },
         {
          "layer": "below",
          "line": {
           "color": "rgb(25,25,25)",
           "width": 1
          },
          "type": "line",
          "x0": 0.25971,
          "x1": 0.25977,
          "y0": 80.4,
          "y1": 80.4
         },
         {
          "layer": "below",
          "line": {
           "color": "rgb(25,25,25)",
           "width": 1
          },
          "type": "line",
          "x0": 0.25971,
          "x1": 0.25973,
          "y0": 82.35,
          "y1": 82.35
         },
         {
          "layer": "below",
          "line": {
           "color": "rgb(25,25,25)",
           "width": 1
          },
          "type": "line",
          "x0": 0.25973,
          "x1": 0.25973,
          "y0": 83,
          "y1": 81.7
         },
         {
          "layer": "below",
          "line": {
           "color": "rgb(25,25,25)",
           "width": 1
          },
          "type": "line",
          "x0": 0.25973,
          "x1": 0.26003000000000004,
          "y0": 81.7,
          "y1": 81.7
         },
         {
          "layer": "below",
          "line": {
           "color": "rgb(25,25,25)",
           "width": 1
          },
          "type": "line",
          "x0": 0.25973,
          "x1": 0.26111,
          "y0": 83,
          "y1": 83
         },
         {
          "layer": "below",
          "line": {
           "color": "rgb(25,25,25)",
           "width": 1
          },
          "type": "line",
          "x0": 0.24506999999999998,
          "x1": 0.26244999999999996,
          "y0": 84.3,
          "y1": 84.3
         },
         {
          "layer": "below",
          "line": {
           "color": "rgb(25,25,25)",
           "width": 1
          },
          "type": "line",
          "x0": 0.24112,
          "x1": 0.24401,
          "y0": 86.25,
          "y1": 86.25
         },
         {
          "layer": "below",
          "line": {
           "color": "rgb(25,25,25)",
           "width": 1
          },
          "type": "line",
          "x0": 0.24401,
          "x1": 0.24401,
          "y0": 86.9,
          "y1": 85.6
         },
         {
          "layer": "below",
          "line": {
           "color": "rgb(25,25,25)",
           "width": 1
          },
          "type": "line",
          "x0": 0.24401,
          "x1": 0.25846,
          "y0": 85.6,
          "y1": 85.6
         },
         {
          "layer": "below",
          "line": {
           "color": "rgb(25,25,25)",
           "width": 1
          },
          "type": "line",
          "x0": 0.24401,
          "x1": 0.2614,
          "y0": 86.9,
          "y1": 86.9
         },
         {
          "layer": "below",
          "line": {
           "color": "rgb(25,25,25)",
           "width": 1
          },
          "type": "line",
          "x0": 0.012920000000000001,
          "x1": 0.022330000000000003,
          "y0": 90.3125,
          "y1": 90.3125
         },
         {
          "layer": "below",
          "line": {
           "color": "rgb(25,25,25)",
           "width": 1
          },
          "type": "line",
          "x0": 0.022330000000000003,
          "x1": 0.022330000000000003,
          "y0": 91.775,
          "y1": 88.85
         },
         {
          "layer": "below",
          "line": {
           "color": "rgb(25,25,25)",
           "width": 1
          },
          "type": "line",
          "x0": 0.022330000000000003,
          "x1": 0.04463,
          "y0": 88.85,
          "y1": 88.85
         },
         {
          "layer": "below",
          "line": {
           "color": "rgb(25,25,25)",
           "width": 1
          },
          "type": "line",
          "x0": 0.04463,
          "x1": 0.04463,
          "y0": 89.5,
          "y1": 88.2
         },
         {
          "layer": "below",
          "line": {
           "color": "rgb(25,25,25)",
           "width": 1
          },
          "type": "line",
          "x0": 0.04463,
          "x1": 0.045160000000000006,
          "y0": 88.2,
          "y1": 88.2
         },
         {
          "layer": "below",
          "line": {
           "color": "rgb(25,25,25)",
           "width": 1
          },
          "type": "line",
          "x0": 0.04463,
          "x1": 0.044680000000000004,
          "y0": 89.5,
          "y1": 89.5
         },
         {
          "layer": "below",
          "line": {
           "color": "rgb(25,25,25)",
           "width": 1
          },
          "type": "line",
          "x0": 0.022330000000000003,
          "x1": 0.04487000000000001,
          "y0": 91.775,
          "y1": 91.775
         },
         {
          "layer": "below",
          "line": {
           "color": "rgb(25,25,25)",
           "width": 1
          },
          "type": "line",
          "x0": 0.04487000000000001,
          "x1": 0.04487000000000001,
          "y0": 92.75,
          "y1": 90.8
         },
         {
          "layer": "below",
          "line": {
           "color": "rgb(25,25,25)",
           "width": 1
          },
          "type": "line",
          "x0": 0.04487000000000001,
          "x1": 0.045680000000000005,
          "y0": 90.8,
          "y1": 90.8
         },
         {
          "layer": "below",
          "line": {
           "color": "rgb(25,25,25)",
           "width": 1
          },
          "type": "line",
          "x0": 0.04487000000000001,
          "x1": 0.04487000000000001,
          "y0": 92.75,
          "y1": 92.75
         },
         {
          "layer": "below",
          "line": {
           "color": "rgb(25,25,25)",
           "width": 1
          },
          "type": "line",
          "x0": 0.04487000000000001,
          "x1": 0.04487000000000001,
          "y0": 93.4,
          "y1": 92.1
         },
         {
          "layer": "below",
          "line": {
           "color": "rgb(25,25,25)",
           "width": 1
          },
          "type": "line",
          "x0": 0.04487000000000001,
          "x1": 0.04508000000000001,
          "y0": 92.1,
          "y1": 92.1
         },
         {
          "layer": "below",
          "line": {
           "color": "rgb(25,25,25)",
           "width": 1
          },
          "type": "line",
          "x0": 0.04487000000000001,
          "x1": 0.044950000000000004,
          "y0": 93.4,
          "y1": 93.4
         },
         {
          "layer": "below",
          "line": {
           "color": "rgb(25,25,25)",
           "width": 1
          },
          "type": "line",
          "x0": 0.00893,
          "x1": 0.01397,
          "y0": 96.8125,
          "y1": 96.8125
         },
         {
          "layer": "below",
          "line": {
           "color": "rgb(25,25,25)",
           "width": 1
          },
          "type": "line",
          "x0": 0.01397,
          "x1": 0.01397,
          "y0": 98.275,
          "y1": 95.35
         },
         {
          "layer": "below",
          "line": {
           "color": "rgb(25,25,25)",
           "width": 1
          },
          "type": "line",
          "x0": 0.01397,
          "x1": 0.029759999999999998,
          "y0": 95.35,
          "y1": 95.35
         },
         {
          "layer": "below",
          "line": {
           "color": "rgb(25,25,25)",
           "width": 1
          },
          "type": "line",
          "x0": 0.029759999999999998,
          "x1": 0.029759999999999998,
          "y0": 96,
          "y1": 94.7
         },
         {
          "layer": "below",
          "line": {
           "color": "rgb(25,25,25)",
           "width": 1
          },
          "type": "line",
          "x0": 0.029759999999999998,
          "x1": 0.033339999999999995,
          "y0": 94.7,
          "y1": 94.7
         },
         {
          "layer": "below",
          "line": {
           "color": "rgb(25,25,25)",
           "width": 1
          },
          "type": "line",
          "x0": 0.029759999999999998,
          "x1": 0.02984,
          "y0": 96,
          "y1": 96
         },
         {
          "layer": "below",
          "line": {
           "color": "rgb(25,25,25)",
           "width": 1
          },
          "type": "line",
          "x0": 0.01397,
          "x1": 0.02685,
          "y0": 98.275,
          "y1": 98.275
         },
         {
          "layer": "below",
          "line": {
           "color": "rgb(25,25,25)",
           "width": 1
          },
          "type": "line",
          "x0": 0.02685,
          "x1": 0.02685,
          "y0": 99.25,
          "y1": 97.3
         },
         {
          "layer": "below",
          "line": {
           "color": "rgb(25,25,25)",
           "width": 1
          },
          "type": "line",
          "x0": 0.02685,
          "x1": 0.03094,
          "y0": 97.3,
          "y1": 97.3
         },
         {
          "layer": "below",
          "line": {
           "color": "rgb(25,25,25)",
           "width": 1
          },
          "type": "line",
          "x0": 0.02685,
          "x1": 0.030289999999999997,
          "y0": 99.25,
          "y1": 99.25
         },
         {
          "layer": "below",
          "line": {
           "color": "rgb(25,25,25)",
           "width": 1
          },
          "type": "line",
          "x0": 0.030289999999999997,
          "x1": 0.030289999999999997,
          "y0": 99.9,
          "y1": 98.6
         },
         {
          "layer": "below",
          "line": {
           "color": "rgb(25,25,25)",
           "width": 1
          },
          "type": "line",
          "x0": 0.030289999999999997,
          "x1": 0.03044,
          "y0": 98.6,
          "y1": 98.6
         },
         {
          "layer": "below",
          "line": {
           "color": "rgb(25,25,25)",
           "width": 1
          },
          "type": "line",
          "x0": 0.030289999999999997,
          "x1": 0.03035,
          "y0": 99.9,
          "y1": 99.9
         },
         {
          "layer": "below",
          "line": {
           "color": "rgb(25,25,25)",
           "width": 1
          },
          "type": "line",
          "x0": 0.0047,
          "x1": 0.00909,
          "y0": 103.3125,
          "y1": 103.3125
         },
         {
          "layer": "below",
          "line": {
           "color": "rgb(25,25,25)",
           "width": 1
          },
          "type": "line",
          "x0": 0.00909,
          "x1": 0.00909,
          "y0": 104.775,
          "y1": 101.85
         },
         {
          "layer": "below",
          "line": {
           "color": "rgb(25,25,25)",
           "width": 1
          },
          "type": "line",
          "x0": 0.00909,
          "x1": 0.02862,
          "y0": 101.85,
          "y1": 101.85
         },
         {
          "layer": "below",
          "line": {
           "color": "rgb(25,25,25)",
           "width": 1
          },
          "type": "line",
          "x0": 0.02862,
          "x1": 0.02862,
          "y0": 102.5,
          "y1": 101.2
         },
         {
          "layer": "below",
          "line": {
           "color": "rgb(25,25,25)",
           "width": 1
          },
          "type": "line",
          "x0": 0.02862,
          "x1": 0.02877,
          "y0": 101.2,
          "y1": 101.2
         },
         {
          "layer": "below",
          "line": {
           "color": "rgb(25,25,25)",
           "width": 1
          },
          "type": "line",
          "x0": 0.02862,
          "x1": 0.02922,
          "y0": 102.5,
          "y1": 102.5
         },
         {
          "layer": "below",
          "line": {
           "color": "rgb(25,25,25)",
           "width": 1
          },
          "type": "line",
          "x0": 0.00909,
          "x1": 0.02321,
          "y0": 104.775,
          "y1": 104.775
         },
         {
          "layer": "below",
          "line": {
           "color": "rgb(25,25,25)",
           "width": 1
          },
          "type": "line",
          "x0": 0.02321,
          "x1": 0.02321,
          "y0": 105.75,
          "y1": 103.8
         },
         {
          "layer": "below",
          "line": {
           "color": "rgb(25,25,25)",
           "width": 1
          },
          "type": "line",
          "x0": 0.02321,
          "x1": 0.023270000000000002,
          "y0": 103.8,
          "y1": 103.8
         },
         {
          "layer": "below",
          "line": {
           "color": "rgb(25,25,25)",
           "width": 1
          },
          "type": "line",
          "x0": 0.02321,
          "x1": 0.02323,
          "y0": 105.75,
          "y1": 105.75
         },
         {
          "layer": "below",
          "line": {
           "color": "rgb(25,25,25)",
           "width": 1
          },
          "type": "line",
          "x0": 0.02323,
          "x1": 0.02323,
          "y0": 106.4,
          "y1": 105.1
         },
         {
          "layer": "below",
          "line": {
           "color": "rgb(25,25,25)",
           "width": 1
          },
          "type": "line",
          "x0": 0.02323,
          "x1": 0.02346,
          "y0": 105.1,
          "y1": 105.1
         },
         {
          "layer": "below",
          "line": {
           "color": "rgb(25,25,25)",
           "width": 1
          },
          "type": "line",
          "x0": 0.02323,
          "x1": 0.0234,
          "y0": 106.4,
          "y1": 106.4
         },
         {
          "layer": "below",
          "line": {
           "color": "rgb(25,25,25)",
           "width": 1
          },
          "type": "line",
          "x0": 0.0025900000000000003,
          "x1": 0.00551,
          "y0": 108.35,
          "y1": 108.35
         },
         {
          "layer": "below",
          "line": {
           "color": "rgb(25,25,25)",
           "width": 1
          },
          "type": "line",
          "x0": 0.00551,
          "x1": 0.00551,
          "y0": 109,
          "y1": 107.7
         },
         {
          "layer": "below",
          "line": {
           "color": "rgb(25,25,25)",
           "width": 1
          },
          "type": "line",
          "x0": 0.00551,
          "x1": 0.02246,
          "y0": 107.7,
          "y1": 107.7
         },
         {
          "layer": "below",
          "line": {
           "color": "rgb(25,25,25)",
           "width": 1
          },
          "type": "line",
          "x0": 0.00551,
          "x1": 0.01939,
          "y0": 109,
          "y1": 109
         }
        ],
        "template": {
         "data": {
          "bar": [
           {
            "error_x": {
             "color": "#2a3f5f"
            },
            "error_y": {
             "color": "#2a3f5f"
            },
            "marker": {
             "line": {
              "color": "#E5ECF6",
              "width": 0.5
             },
             "pattern": {
              "fillmode": "overlay",
              "size": 10,
              "solidity": 0.2
             }
            },
            "type": "bar"
           }
          ],
          "barpolar": [
           {
            "marker": {
             "line": {
              "color": "#E5ECF6",
              "width": 0.5
             },
             "pattern": {
              "fillmode": "overlay",
              "size": 10,
              "solidity": 0.2
             }
            },
            "type": "barpolar"
           }
          ],
          "carpet": [
           {
            "aaxis": {
             "endlinecolor": "#2a3f5f",
             "gridcolor": "white",
             "linecolor": "white",
             "minorgridcolor": "white",
             "startlinecolor": "#2a3f5f"
            },
            "baxis": {
             "endlinecolor": "#2a3f5f",
             "gridcolor": "white",
             "linecolor": "white",
             "minorgridcolor": "white",
             "startlinecolor": "#2a3f5f"
            },
            "type": "carpet"
           }
          ],
          "choropleth": [
           {
            "colorbar": {
             "outlinewidth": 0,
             "ticks": ""
            },
            "type": "choropleth"
           }
          ],
          "contour": [
           {
            "colorbar": {
             "outlinewidth": 0,
             "ticks": ""
            },
            "colorscale": [
             [
              0,
              "#0d0887"
             ],
             [
              0.1111111111111111,
              "#46039f"
             ],
             [
              0.2222222222222222,
              "#7201a8"
             ],
             [
              0.3333333333333333,
              "#9c179e"
             ],
             [
              0.4444444444444444,
              "#bd3786"
             ],
             [
              0.5555555555555556,
              "#d8576b"
             ],
             [
              0.6666666666666666,
              "#ed7953"
             ],
             [
              0.7777777777777778,
              "#fb9f3a"
             ],
             [
              0.8888888888888888,
              "#fdca26"
             ],
             [
              1,
              "#f0f921"
             ]
            ],
            "type": "contour"
           }
          ],
          "contourcarpet": [
           {
            "colorbar": {
             "outlinewidth": 0,
             "ticks": ""
            },
            "type": "contourcarpet"
           }
          ],
          "heatmap": [
           {
            "colorbar": {
             "outlinewidth": 0,
             "ticks": ""
            },
            "colorscale": [
             [
              0,
              "#0d0887"
             ],
             [
              0.1111111111111111,
              "#46039f"
             ],
             [
              0.2222222222222222,
              "#7201a8"
             ],
             [
              0.3333333333333333,
              "#9c179e"
             ],
             [
              0.4444444444444444,
              "#bd3786"
             ],
             [
              0.5555555555555556,
              "#d8576b"
             ],
             [
              0.6666666666666666,
              "#ed7953"
             ],
             [
              0.7777777777777778,
              "#fb9f3a"
             ],
             [
              0.8888888888888888,
              "#fdca26"
             ],
             [
              1,
              "#f0f921"
             ]
            ],
            "type": "heatmap"
           }
          ],
          "heatmapgl": [
           {
            "colorbar": {
             "outlinewidth": 0,
             "ticks": ""
            },
            "colorscale": [
             [
              0,
              "#0d0887"
             ],
             [
              0.1111111111111111,
              "#46039f"
             ],
             [
              0.2222222222222222,
              "#7201a8"
             ],
             [
              0.3333333333333333,
              "#9c179e"
             ],
             [
              0.4444444444444444,
              "#bd3786"
             ],
             [
              0.5555555555555556,
              "#d8576b"
             ],
             [
              0.6666666666666666,
              "#ed7953"
             ],
             [
              0.7777777777777778,
              "#fb9f3a"
             ],
             [
              0.8888888888888888,
              "#fdca26"
             ],
             [
              1,
              "#f0f921"
             ]
            ],
            "type": "heatmapgl"
           }
          ],
          "histogram": [
           {
            "marker": {
             "pattern": {
              "fillmode": "overlay",
              "size": 10,
              "solidity": 0.2
             }
            },
            "type": "histogram"
           }
          ],
          "histogram2d": [
           {
            "colorbar": {
             "outlinewidth": 0,
             "ticks": ""
            },
            "colorscale": [
             [
              0,
              "#0d0887"
             ],
             [
              0.1111111111111111,
              "#46039f"
             ],
             [
              0.2222222222222222,
              "#7201a8"
             ],
             [
              0.3333333333333333,
              "#9c179e"
             ],
             [
              0.4444444444444444,
              "#bd3786"
             ],
             [
              0.5555555555555556,
              "#d8576b"
             ],
             [
              0.6666666666666666,
              "#ed7953"
             ],
             [
              0.7777777777777778,
              "#fb9f3a"
             ],
             [
              0.8888888888888888,
              "#fdca26"
             ],
             [
              1,
              "#f0f921"
             ]
            ],
            "type": "histogram2d"
           }
          ],
          "histogram2dcontour": [
           {
            "colorbar": {
             "outlinewidth": 0,
             "ticks": ""
            },
            "colorscale": [
             [
              0,
              "#0d0887"
             ],
             [
              0.1111111111111111,
              "#46039f"
             ],
             [
              0.2222222222222222,
              "#7201a8"
             ],
             [
              0.3333333333333333,
              "#9c179e"
             ],
             [
              0.4444444444444444,
              "#bd3786"
             ],
             [
              0.5555555555555556,
              "#d8576b"
             ],
             [
              0.6666666666666666,
              "#ed7953"
             ],
             [
              0.7777777777777778,
              "#fb9f3a"
             ],
             [
              0.8888888888888888,
              "#fdca26"
             ],
             [
              1,
              "#f0f921"
             ]
            ],
            "type": "histogram2dcontour"
           }
          ],
          "mesh3d": [
           {
            "colorbar": {
             "outlinewidth": 0,
             "ticks": ""
            },
            "type": "mesh3d"
           }
          ],
          "parcoords": [
           {
            "line": {
             "colorbar": {
              "outlinewidth": 0,
              "ticks": ""
             }
            },
            "type": "parcoords"
           }
          ],
          "pie": [
           {
            "automargin": true,
            "type": "pie"
           }
          ],
          "scatter": [
           {
            "fillpattern": {
             "fillmode": "overlay",
             "size": 10,
             "solidity": 0.2
            },
            "type": "scatter"
           }
          ],
          "scatter3d": [
           {
            "line": {
             "colorbar": {
              "outlinewidth": 0,
              "ticks": ""
             }
            },
            "marker": {
             "colorbar": {
              "outlinewidth": 0,
              "ticks": ""
             }
            },
            "type": "scatter3d"
           }
          ],
          "scattercarpet": [
           {
            "marker": {
             "colorbar": {
              "outlinewidth": 0,
              "ticks": ""
             }
            },
            "type": "scattercarpet"
           }
          ],
          "scattergeo": [
           {
            "marker": {
             "colorbar": {
              "outlinewidth": 0,
              "ticks": ""
             }
            },
            "type": "scattergeo"
           }
          ],
          "scattergl": [
           {
            "marker": {
             "colorbar": {
              "outlinewidth": 0,
              "ticks": ""
             }
            },
            "type": "scattergl"
           }
          ],
          "scattermapbox": [
           {
            "marker": {
             "colorbar": {
              "outlinewidth": 0,
              "ticks": ""
             }
            },
            "type": "scattermapbox"
           }
          ],
          "scatterpolar": [
           {
            "marker": {
             "colorbar": {
              "outlinewidth": 0,
              "ticks": ""
             }
            },
            "type": "scatterpolar"
           }
          ],
          "scatterpolargl": [
           {
            "marker": {
             "colorbar": {
              "outlinewidth": 0,
              "ticks": ""
             }
            },
            "type": "scatterpolargl"
           }
          ],
          "scatterternary": [
           {
            "marker": {
             "colorbar": {
              "outlinewidth": 0,
              "ticks": ""
             }
            },
            "type": "scatterternary"
           }
          ],
          "surface": [
           {
            "colorbar": {
             "outlinewidth": 0,
             "ticks": ""
            },
            "colorscale": [
             [
              0,
              "#0d0887"
             ],
             [
              0.1111111111111111,
              "#46039f"
             ],
             [
              0.2222222222222222,
              "#7201a8"
             ],
             [
              0.3333333333333333,
              "#9c179e"
             ],
             [
              0.4444444444444444,
              "#bd3786"
             ],
             [
              0.5555555555555556,
              "#d8576b"
             ],
             [
              0.6666666666666666,
              "#ed7953"
             ],
             [
              0.7777777777777778,
              "#fb9f3a"
             ],
             [
              0.8888888888888888,
              "#fdca26"
             ],
             [
              1,
              "#f0f921"
             ]
            ],
            "type": "surface"
           }
          ],
          "table": [
           {
            "cells": {
             "fill": {
              "color": "#EBF0F8"
             },
             "line": {
              "color": "white"
             }
            },
            "header": {
             "fill": {
              "color": "#C8D4E3"
             },
             "line": {
              "color": "white"
             }
            },
            "type": "table"
           }
          ]
         },
         "layout": {
          "annotationdefaults": {
           "arrowcolor": "#2a3f5f",
           "arrowhead": 0,
           "arrowwidth": 1
          },
          "autotypenumbers": "strict",
          "coloraxis": {
           "colorbar": {
            "outlinewidth": 0,
            "ticks": ""
           }
          },
          "colorscale": {
           "diverging": [
            [
             0,
             "#8e0152"
            ],
            [
             0.1,
             "#c51b7d"
            ],
            [
             0.2,
             "#de77ae"
            ],
            [
             0.3,
             "#f1b6da"
            ],
            [
             0.4,
             "#fde0ef"
            ],
            [
             0.5,
             "#f7f7f7"
            ],
            [
             0.6,
             "#e6f5d0"
            ],
            [
             0.7,
             "#b8e186"
            ],
            [
             0.8,
             "#7fbc41"
            ],
            [
             0.9,
             "#4d9221"
            ],
            [
             1,
             "#276419"
            ]
           ],
           "sequential": [
            [
             0,
             "#0d0887"
            ],
            [
             0.1111111111111111,
             "#46039f"
            ],
            [
             0.2222222222222222,
             "#7201a8"
            ],
            [
             0.3333333333333333,
             "#9c179e"
            ],
            [
             0.4444444444444444,
             "#bd3786"
            ],
            [
             0.5555555555555556,
             "#d8576b"
            ],
            [
             0.6666666666666666,
             "#ed7953"
            ],
            [
             0.7777777777777778,
             "#fb9f3a"
            ],
            [
             0.8888888888888888,
             "#fdca26"
            ],
            [
             1,
             "#f0f921"
            ]
           ],
           "sequentialminus": [
            [
             0,
             "#0d0887"
            ],
            [
             0.1111111111111111,
             "#46039f"
            ],
            [
             0.2222222222222222,
             "#7201a8"
            ],
            [
             0.3333333333333333,
             "#9c179e"
            ],
            [
             0.4444444444444444,
             "#bd3786"
            ],
            [
             0.5555555555555556,
             "#d8576b"
            ],
            [
             0.6666666666666666,
             "#ed7953"
            ],
            [
             0.7777777777777778,
             "#fb9f3a"
            ],
            [
             0.8888888888888888,
             "#fdca26"
            ],
            [
             1,
             "#f0f921"
            ]
           ]
          },
          "colorway": [
           "#636efa",
           "#EF553B",
           "#00cc96",
           "#ab63fa",
           "#FFA15A",
           "#19d3f3",
           "#FF6692",
           "#B6E880",
           "#FF97FF",
           "#FECB52"
          ],
          "font": {
           "color": "#2a3f5f"
          },
          "geo": {
           "bgcolor": "white",
           "lakecolor": "white",
           "landcolor": "#E5ECF6",
           "showlakes": true,
           "showland": true,
           "subunitcolor": "white"
          },
          "hoverlabel": {
           "align": "left"
          },
          "hovermode": "closest",
          "mapbox": {
           "style": "light"
          },
          "paper_bgcolor": "white",
          "plot_bgcolor": "#E5ECF6",
          "polar": {
           "angularaxis": {
            "gridcolor": "white",
            "linecolor": "white",
            "ticks": ""
           },
           "bgcolor": "#E5ECF6",
           "radialaxis": {
            "gridcolor": "white",
            "linecolor": "white",
            "ticks": ""
           }
          },
          "scene": {
           "xaxis": {
            "backgroundcolor": "#E5ECF6",
            "gridcolor": "white",
            "gridwidth": 2,
            "linecolor": "white",
            "showbackground": true,
            "ticks": "",
            "zerolinecolor": "white"
           },
           "yaxis": {
            "backgroundcolor": "#E5ECF6",
            "gridcolor": "white",
            "gridwidth": 2,
            "linecolor": "white",
            "showbackground": true,
            "ticks": "",
            "zerolinecolor": "white"
           },
           "zaxis": {
            "backgroundcolor": "#E5ECF6",
            "gridcolor": "white",
            "gridwidth": 2,
            "linecolor": "white",
            "showbackground": true,
            "ticks": "",
            "zerolinecolor": "white"
           }
          },
          "shapedefaults": {
           "line": {
            "color": "#2a3f5f"
           }
          },
          "ternary": {
           "aaxis": {
            "gridcolor": "white",
            "linecolor": "white",
            "ticks": ""
           },
           "baxis": {
            "gridcolor": "white",
            "linecolor": "white",
            "ticks": ""
           },
           "bgcolor": "#E5ECF6",
           "caxis": {
            "gridcolor": "white",
            "linecolor": "white",
            "ticks": ""
           }
          },
          "title": {
           "x": 0.05
          },
          "xaxis": {
           "automargin": true,
           "gridcolor": "white",
           "linecolor": "white",
           "ticks": "",
           "title": {
            "standoff": 15
           },
           "zerolinecolor": "white",
           "zerolinewidth": 2
          },
          "yaxis": {
           "automargin": true,
           "gridcolor": "white",
           "linecolor": "white",
           "ticks": "",
           "title": {
            "standoff": 15
           },
           "zerolinecolor": "white",
           "zerolinewidth": 2
          }
         }
        },
        "title": {
         "text": "My phylogenetic tree with confidence"
        },
        "width": 1000,
        "xaxis": {
         "title": {
          "text": "Branch Length"
         }
        },
        "yaxis": {
         "showgrid": false,
         "showline": false,
         "showticklabels": false,
         "title": {
          "text": ""
         },
         "zeroline": false
        }
       }
      }
     },
     "metadata": {},
     "output_type": "display_data"
    }
   ],
   "source": [
    "tree_plot2 = phyloworld.create_phylotree(tree, metadata, title = \"My phylogenetic tree with confidence\", include_confidence = True)\n",
    "tree_plot2.show()"
   ]
  },
  {
   "cell_type": "markdown",
   "metadata": {},
   "source": [
    "### Using custom colors\n",
    "\n",
    "If you're experiencing issues with random colors not suiting your preferences, and you wish to maintain a consistent color scheme in your publication, consider specifying your preferred colors. For instance, if you're a passionate fan of the color pink, you can supply a list of RGB color codes corresponding to your chosen shades. "
   ]
  },
  {
   "cell_type": "code",
   "execution_count": 7,
   "metadata": {},
   "outputs": [
    {
     "data": {
      "application/vnd.plotly.v1+json": {
       "config": {
        "plotlyServerURL": "https://plot.ly"
       },
       "data": [
        {
         "hoverinfo": "text",
         "marker": {
          "color": [
           "rgb(255, 255, 255)",
           "rgb(255, 255, 255)",
           "rgb(255, 255, 255)",
           "rgb(255, 255, 255)",
           "rgb(255, 105, 180)",
           "rgb(255, 105, 180)",
           "rgb(255, 182, 193)",
           "rgb(255, 182, 193)",
           "rgb(255, 182, 193)",
           "rgb(255, 105, 180)",
           "rgb(255, 105, 180)",
           "rgb(255, 105, 180)",
           "rgb(255, 105, 180)",
           "rgb(255, 105, 180)",
           "rgb(255, 105, 180)",
           "rgb(255, 105, 180)",
           "rgb(255, 105, 180)",
           "rgb(255, 105, 180)",
           "rgb(255, 105, 180)",
           "rgb(255, 105, 180)",
           "rgb(255, 105, 180)",
           "rgb(255, 105, 180)",
           "rgb(255, 105, 180)",
           "rgb(255, 182, 193)",
           "rgb(255, 105, 180)",
           "rgb(255, 105, 180)",
           "rgb(255, 182, 193)",
           "rgb(255, 182, 193)",
           "rgb(255, 105, 180)",
           "rgb(255, 182, 193)",
           "rgb(255, 105, 180)",
           "rgb(255, 105, 180)",
           "rgb(255, 105, 180)",
           "rgb(255, 105, 180)",
           "rgb(255, 182, 193)",
           "rgb(255, 250, 250)",
           "rgb(255, 215, 215)",
           "rgb(255, 215, 215)",
           "rgb(255, 215, 215)",
           "rgb(255, 192, 203)",
           "rgb(255, 69, 0)",
           "rgb(255, 192, 203)",
           "rgb(255, 192, 203)",
           "rgb(255, 192, 203)",
           "rgb(255, 69, 0)",
           "rgb(255, 69, 0)",
           "rgb(255, 230, 230)",
           "rgb(255, 230, 230)",
           "rgb(255, 200, 200)",
           "rgb(255, 200, 200)",
           "rgb(255, 200, 200)",
           "rgb(255, 200, 200)",
           "rgb(255, 200, 200)",
           "rgb(255, 200, 200)",
           "rgb(255, 200, 200)",
           "rgb(255, 230, 230)",
           "rgb(255, 230, 230)",
           "rgb(255, 200, 200)",
           "rgb(255, 200, 200)",
           "rgb(255, 200, 200)",
           "rgb(255, 230, 230)",
           "rgb(255, 240, 240)",
           "rgb(255, 69, 0)",
           "rgb(255, 230, 230)",
           "rgb(255, 69, 0)",
           "rgb(255, 69, 0)",
           "rgb(255, 192, 203)",
           "rgb(255, 69, 0)",
           "rgb(255, 69, 0)",
           "rgb(255, 69, 0)",
           "rgb(255, 160, 122)",
           "rgb(255, 160, 122)",
           "rgb(255, 160, 122)",
           "rgb(255, 174, 185)",
           "rgb(255, 174, 185)",
           "rgb(255, 20, 147)",
           "rgb(255, 20, 147)",
           "rgb(255, 20, 147)",
           "rgb(255, 174, 185)",
           "rgb(255, 174, 185)",
           "rgb(255, 174, 185)",
           "rgb(255, 174, 185)",
           "rgb(255, 174, 185)",
           "rgb(255, 105, 180)",
           "rgb(255, 105, 180)",
           "rgb(255, 174, 185)",
           "rgb(255, 174, 185)",
           "rgb(255, 174, 185)",
           "rgb(255, 174, 185)",
           "rgb(255, 174, 185)",
           "rgb(255, 174, 185)",
           "rgb(255, 174, 185)",
           "rgb(255, 250, 250)",
           "rgb(255, 250, 250)",
           "rgb(255, 192, 203)",
           "rgb(255, 192, 203)",
           "rgb(255, 192, 203)",
           "rgb(255, 250, 250)",
           "rgb(255, 250, 250)",
           "rgb(255, 192, 203)",
           "rgb(255, 99, 71)",
           "rgb(255, 99, 71)",
           "rgb(255, 99, 71)",
           "rgb(255, 99, 71)",
           "rgb(255, 182, 193)",
           "rgb(255, 192, 203)",
           "rgb(255, 182, 193)",
           "rgb(255, 99, 71)",
           "rgb(255, 182, 193)"
          ],
          "size": 5
         },
         "mode": "markers",
         "name": "Countries",
         "text": [
          "Country: Canada<br>ID: GCF_001559195-1_ASM155919v2_genomic.fasta",
          "Country: Canada<br>ID: 2605_06072016_AXDK00-0",
          "Country: Canada<br>ID: 8605_07052018_AXDK00-0",
          "Country: Canada<br>ID: 8605_01062016_AXDK04-0",
          "Country: United States<br>ID: 4203_09102012_AXDK00-0",
          "Country: United States<br>ID: 3203_19092012_AXDK00-0",
          "Country: Mexico<br>ID: 3203_18042005_AXDK00-0",
          "Country: Mexico<br>ID: 3203_07022014_AXDK00-0",
          "Country: Mexico<br>ID: 3203_01011997_AXDK00-0",
          "Country: United States<br>ID: 1703_16032010_AXDK00-0",
          "Country: United States<br>ID: GCF_900475575-1_44257_A01_genomic.fasta",
          "Country: United States<br>ID: GCF_001457475-1_NCTC10807_genomic.fasta",
          "Country: United States<br>ID: 5803_17012011_AXDK00-0",
          "Country: United States<br>ID: GCF_000758265-1_ASM75826v1_genomic.fasta",
          "Country: United States<br>ID: 0903_06012012_AXDK00-0",
          "Country: United States<br>ID: 3504_09012015_AXDK00-0",
          "Country: United States<br>ID: 3504_20122013_AXDK00-0",
          "Country: United States<br>ID: 8404_11122013_AXDK00-1",
          "Country: United States<br>ID: 8404_11122013_AXDK00-0",
          "Country: United States<br>ID: 8404_13022014_AXDK00-0",
          "Country: United States<br>ID: 9403_30102009_AXDK00-0",
          "Country: United States<br>ID: 9403_29092004_AXDK00-0",
          "Country: United States<br>ID: 9403_05092016_AXDK00-0",
          "Country: Mexico<br>ID: 0604_30122003_AXDK00-0",
          "Country: United States<br>ID: 0703_23092011_AXDK00-0",
          "Country: United States<br>ID: 5204_15082016_AXDK03-0",
          "Country: Mexico<br>ID: 0610_26012012_AXDK00-0",
          "Country: Mexico<br>ID: 0610_14092016_AXDK00-0",
          "Country: United States<br>ID: 1903_01011996_AXDK00-0",
          "Country: Mexico<br>ID: 1903_27032006_AXDK00-0",
          "Country: United States<br>ID: 7603_04042014_AXDK00-0",
          "Country: United States<br>ID: 6203_02102006_AXDK00-0",
          "Country: United States<br>ID: 7603_18022011_AXDK00-0",
          "Country: United States<br>ID: 7603_19112008_AXDK00-0",
          "Country: Mexico<br>ID: 9704_12082016_AXDK00-0",
          "Country: Egypt<br>ID: 5611_13012017_AXDK00-0",
          "Country: Turkey<br>ID: 4703_01012000_AXDK00-0",
          "Country: Turkey<br>ID: 4703_16022007_AXDK00-0",
          "Country: Turkey<br>ID: 8511_07042017_AXDK00-0",
          "Country: Spain<br>ID: GCF_001558915-1_ASM155891v2_genomic.fasta",
          "Country: Italy<br>ID: 3403_27022012_AXDK00-0",
          "Country: Spain<br>ID: 5303_07102016_AXDK00-0",
          "Country: Spain<br>ID: 5604_28082007_AXDK00-0",
          "Country: Spain<br>ID: 5604_07102016_AXDK00-0",
          "Country: Italy<br>ID: 1903_16122011_AXDK00-0",
          "Country: Italy<br>ID: 1903_01092016_AXDK00-0",
          "Country: France<br>ID: 7703_19012017_AXDK00-0",
          "Country: France<br>ID: 7703_16032018_AXDK00-0",
          "Country: Poland<br>ID: 9603_28102003_AXDK00-0",
          "Country: Poland<br>ID: 9603_28112008_AXDK00-0",
          "Country: Poland<br>ID: 9503_27052014_AXDK00-0",
          "Country: Poland<br>ID: 9603_01042014_AXDK00-0",
          "Country: Poland<br>ID: 9503_04032011_AXDK00-0",
          "Country: Poland<br>ID: 9503_02012007_AXDK00-0",
          "Country: Poland<br>ID: 5303_14012004_AXDK00-0",
          "Country: France<br>ID: 3704_27062014_AXDK00-0",
          "Country: France<br>ID: 3704_08022008_AXDK00-0",
          "Country: Poland<br>ID: 4703_18022015_AXDK00-0",
          "Country: Poland<br>ID: 4203_09122014_AXDK00-0",
          "Country: Poland<br>ID: 5303_14102009_AXDK00-0",
          "Country: France<br>ID: 3704_26112003_AXDK00-0",
          "Country: Germany<br>ID: 8703_15032017_AXDK00-0",
          "Country: Italy<br>ID: 1705_30032007_AXDK00-0",
          "Country: France<br>ID: 6004_19062007_AXDK00-0",
          "Country: Italy<br>ID: 1705_21052013_AXDK00-0",
          "Country: Italy<br>ID: 1705_25012010_AXDK00-0",
          "Country: Spain<br>ID: 3403_06102003_AXDK00-0",
          "Country: Italy<br>ID: GCF_001051055-1_ASM105105v1_genomic.fasta",
          "Country: Italy<br>ID: 4104_02122014_AXDK00-0",
          "Country: Italy<br>ID: 7402_26022014_AXDK00-0",
          "Country: Lithuania<br>ID: GCF_000165835-1_ASM16583v1_genomic.fasta",
          "Country: Lithuania<br>ID: 2202_04012011_AXDK00-0",
          "Country: Lithuania<br>ID: 7603_01011997_AXDK00-0",
          "Country: Denmark<br>ID: 0802_04042005_AXDK00-0",
          "Country: Denmark<br>ID: 0802_18012008_AXDK00-0",
          "Country: Estonia<br>ID: 0603_08102003_AXDK00-0",
          "Country: Estonia<br>ID: 0603_03012007_AXDK00-0",
          "Country: Estonia<br>ID: 6203_24092018_AXDK00-0",
          "Country: Denmark<br>ID: 6004_30102015_AXDK00-0",
          "Country: Denmark<br>ID: 6604_17022016_AXDK00-0",
          "Country: Denmark<br>ID: 6203_12122015_AXDK00-0",
          "Country: Denmark<br>ID: 9704_29072010_AXDK00-0",
          "Country: Denmark<br>ID: GCF_001558755-2_ASM155875v2_genomic.fasta",
          "Country: United States<br>ID: 8504_05012016_AXDK02-1",
          "Country: United States<br>ID: 8504_05012016_AXDK02-0",
          "Country: Denmark<br>ID: 2005_03022017_AXDK00-0",
          "Country: Denmark<br>ID: 9902_01011996_AXDK00-0",
          "Country: Denmark<br>ID: 9902_26012009_AXDK00-0",
          "Country: Denmark<br>ID: 9902_01032004_AXDK00-0",
          "Country: Denmark<br>ID: 5103_07102016_AXDK00-0",
          "Country: Denmark<br>ID: 8104_29042011_AXDK00-0",
          "Country: Denmark<br>ID: 9203_01012000_AXDK00-0",
          "Country: Egypt<br>ID: 9203_13122011_AXDK00-0",
          "Country: Egypt<br>ID: 9203_08042016_AXDK00-0",
          "Country: Libya<br>ID: 6604_25012007_AXDK00-0",
          "Country: Libya<br>ID: 6804_08032006_AXDK00-0",
          "Country: Libya<br>ID: 6203_01012000_AXDK00-0",
          "Country: Egypt<br>ID: 1704_01011999_AXDK00-0",
          "Country: Egypt<br>ID: 1704_07022011_AXDK00-0",
          "Country: Libya<br>ID: 2103_11042016_AXDK00-0",
          "Country: Angola<br>ID: 8603_27082014_AXDK00-0",
          "Country: Angola<br>ID: 8603_03072008_AXDK00-0",
          "Country: Angola<br>ID: 0703_07082013_AXDK00-0",
          "Country: Angola<br>ID: 6402_27032017_AXDK00-0",
          "Country: Algeria<br>ID: 0803_01012000_AXDK00-0",
          "Country: Libya<br>ID: 0803_27042007_AXDK00-0",
          "Country: Algeria<br>ID: 0803_26042014_AXDK00-0",
          "Country: Angola<br>ID: 3004_24042007_AXDK00-0",
          "Country: Algeria<br>ID: 1700_04112013_AXDK00-0"
         ],
         "type": "scatter",
         "x": [
          0.01525,
          0.01972,
          0.019110000000000002,
          0.018170000000000002,
          0.01828,
          0.01796,
          0.01863,
          0.01937,
          0.01784,
          0.02128,
          0.02383,
          0.02378,
          0.01982,
          0.026500000000000003,
          0.023420000000000003,
          0.02535,
          0.025300000000000003,
          0.021890000000000003,
          0.02269,
          0.02199,
          0.02145,
          0.02138,
          0.021509999999999998,
          0.01608,
          0.01734,
          0.020860000000000004,
          0.01989,
          0.01983,
          0.018750000000000003,
          0.018680000000000002,
          0.02631,
          0.026180000000000002,
          0.02657,
          0.02646,
          0.02798,
          0.0963,
          0.14903000000000002,
          0.14897000000000002,
          0.13332,
          0.22905999999999999,
          0.23532999999999996,
          0.23500999999999997,
          0.23525999999999997,
          0.23601999999999998,
          0.23521999999999998,
          0.23542999999999997,
          0.23533999999999997,
          0.23534999999999998,
          0.23489999999999997,
          0.23485999999999999,
          0.23531999999999997,
          0.23509999999999998,
          0.23509999999999998,
          0.23498,
          0.23524999999999996,
          0.23505999999999996,
          0.23496999999999998,
          0.23565,
          0.23514,
          0.23519999999999996,
          0.23502999999999996,
          0.23515999999999998,
          0.23618,
          0.23518,
          0.23552,
          0.23578,
          0.23483999999999997,
          0.23731999999999998,
          0.24046999999999996,
          0.24027999999999997,
          0.91827,
          0.91834,
          0.92294,
          0.24119000000000002,
          0.2411,
          0.24115,
          0.24129,
          0.24144000000000002,
          0.25808,
          0.25859,
          0.26108000000000003,
          0.26208000000000004,
          0.26117,
          0.26083,
          0.26073,
          0.2602,
          0.25977,
          0.26003000000000004,
          0.26111,
          0.26244999999999996,
          0.25846,
          0.2614,
          0.045160000000000006,
          0.044680000000000004,
          0.045680000000000005,
          0.04508000000000001,
          0.044950000000000004,
          0.033339999999999995,
          0.02984,
          0.03094,
          0.03044,
          0.03035,
          0.02877,
          0.02922,
          0.023270000000000002,
          0.02346,
          0.0234,
          0.02246,
          0.01939
         ],
         "y": [
          -31.400000000000006,
          -30.099999999999994,
          -28.80000000000001,
          -27.5,
          -26.200000000000017,
          -24.900000000000006,
          -23.599999999999994,
          -22.30000000000001,
          -21,
          -19.700000000000017,
          -18.400000000000006,
          -17.10000000000001,
          -15.800000000000011,
          -14.5,
          -13.200000000000003,
          -11.900000000000006,
          -10.600000000000009,
          -9.299999999999997,
          -8,
          -6.700000000000003,
          -5.400000000000006,
          -4.1000000000000085,
          -2.799999999999997,
          -1.5,
          -0.20000000000000284,
          1.0999999999999943,
          2.3999999999999915,
          3.700000000000003,
          5,
          6.299999999999997,
          7.599999999999994,
          8.899999999999991,
          10.200000000000003,
          11.5,
          12.799999999999997,
          14.099999999999994,
          15.399999999999991,
          16.700000000000003,
          18,
          19.299999999999997,
          20.599999999999994,
          21.89999999999999,
          23.200000000000003,
          24.5,
          25.799999999999997,
          27.099999999999994,
          28.39999999999999,
          29.700000000000003,
          31,
          32.3,
          33.599999999999994,
          34.89999999999999,
          36.2,
          37.5,
          38.8,
          40.099999999999994,
          41.39999999999999,
          42.7,
          44,
          45.3,
          46.599999999999994,
          47.9,
          49.199999999999996,
          50.5,
          51.8,
          53.1,
          54.4,
          55.699999999999996,
          57,
          58.3,
          59.6,
          60.9,
          62.199999999999996,
          63.5,
          64.8,
          66.1,
          67.4,
          68.69999999999999,
          70,
          71.3,
          72.6,
          73.9,
          75.19999999999999,
          76.5,
          77.8,
          79.1,
          80.4,
          81.7,
          83,
          84.3,
          85.6,
          86.9,
          88.2,
          89.5,
          90.8,
          92.1,
          93.4,
          94.7,
          96,
          97.3,
          98.6,
          99.9,
          101.2,
          102.5,
          103.8,
          105.1,
          106.4,
          107.7,
          109
         ]
        }
       ],
       "layout": {
        "height": 600,
        "hovermode": "closest",
        "legend": {
         "x": 0,
         "y": 1
        },
        "paper_bgcolor": "rgba(0,0,0,0)",
        "plot_bgcolor": "rgb(250,250,250)",
        "shapes": [
         {
          "layer": "below",
          "line": {
           "color": "rgb(25,25,25)",
           "width": 1
          },
          "type": "line",
          "x0": 0,
          "x1": 0,
          "y0": 13.218886733055111,
          "y1": 13.218886733055111
         },
         {
          "layer": "below",
          "line": {
           "color": "rgb(25,25,25)",
           "width": 1
          },
          "type": "line",
          "x0": 0,
          "x1": 0,
          "y0": 47.59011721611023,
          "y1": -21.152343750000007
         },
         {
          "layer": "below",
          "line": {
           "color": "rgb(25,25,25)",
           "width": 1
          },
          "type": "line",
          "x0": 0,
          "x1": 0.00125,
          "y0": -21.152343750000007,
          "y1": -21.152343750000007
         },
         {
          "layer": "below",
          "line": {
           "color": "rgb(25,25,25)",
           "width": 1
          },
          "type": "line",
          "x0": 0.00125,
          "x1": 0.00125,
          "y0": -13.118750000000006,
          "y1": -29.185937500000005
         },
         {
          "layer": "below",
          "line": {
           "color": "rgb(25,25,25)",
           "width": 1
          },
          "type": "line",
          "x0": 0.00125,
          "x1": 0.00265,
          "y0": -29.185937500000005,
          "y1": -29.185937500000005
         },
         {
          "layer": "below",
          "line": {
           "color": "rgb(25,25,25)",
           "width": 1
          },
          "type": "line",
          "x0": 0.00265,
          "x1": 0.00265,
          "y0": -26.971875000000004,
          "y1": -31.400000000000006
         },
         {
          "layer": "below",
          "line": {
           "color": "rgb(25,25,25)",
           "width": 1
          },
          "type": "line",
          "x0": 0.00265,
          "x1": 0.01525,
          "y0": -31.400000000000006,
          "y1": -31.400000000000006
         },
         {
          "layer": "below",
          "line": {
           "color": "rgb(25,25,25)",
           "width": 1
          },
          "type": "line",
          "x0": 0.00265,
          "x1": 0.00378,
          "y0": -26.971875000000004,
          "y1": -26.971875000000004
         },
         {
          "layer": "below",
          "line": {
           "color": "rgb(25,25,25)",
           "width": 1
          },
          "type": "line",
          "x0": 0.00378,
          "x1": 0.00378,
          "y0": -24.81875000000001,
          "y1": -29.125
         },
         {
          "layer": "below",
          "line": {
           "color": "rgb(25,25,25)",
           "width": 1
          },
          "type": "line",
          "x0": 0.00378,
          "x1": 0.00637,
          "y0": -29.125,
          "y1": -29.125
         },
         {
          "layer": "below",
          "line": {
           "color": "rgb(25,25,25)",
           "width": 1
          },
          "type": "line",
          "x0": 0.00637,
          "x1": 0.00637,
          "y0": -28.150000000000006,
          "y1": -30.099999999999994
         },
         {
          "layer": "below",
          "line": {
           "color": "rgb(25,25,25)",
           "width": 1
          },
          "type": "line",
          "x0": 0.00637,
          "x1": 0.01972,
          "y0": -30.099999999999994,
          "y1": -30.099999999999994
         },
         {
          "layer": "below",
          "line": {
           "color": "rgb(25,25,25)",
           "width": 1
          },
          "type": "line",
          "x0": 0.00637,
          "x1": 0.0181,
          "y0": -28.150000000000006,
          "y1": -28.150000000000006
         },
         {
          "layer": "below",
          "line": {
           "color": "rgb(25,25,25)",
           "width": 1
          },
          "type": "line",
          "x0": 0.0181,
          "x1": 0.0181,
          "y0": -27.5,
          "y1": -28.80000000000001
         },
         {
          "layer": "below",
          "line": {
           "color": "rgb(25,25,25)",
           "width": 1
          },
          "type": "line",
          "x0": 0.0181,
          "x1": 0.019110000000000002,
          "y0": -28.80000000000001,
          "y1": -28.80000000000001
         },
         {
          "layer": "below",
          "line": {
           "color": "rgb(25,25,25)",
           "width": 1
          },
          "type": "line",
          "x0": 0.0181,
          "x1": 0.018170000000000002,
          "y0": -27.5,
          "y1": -27.5
         },
         {
          "layer": "below",
          "line": {
           "color": "rgb(25,25,25)",
           "width": 1
          },
          "type": "line",
          "x0": 0.00378,
          "x1": 0.01047,
          "y0": -24.81875000000001,
          "y1": -24.81875000000001
         },
         {
          "layer": "below",
          "line": {
           "color": "rgb(25,25,25)",
           "width": 1
          },
          "type": "line",
          "x0": 0.01047,
          "x1": 0.01047,
          "y0": -23.437500000000004,
          "y1": -26.200000000000017
         },
         {
          "layer": "below",
          "line": {
           "color": "rgb(25,25,25)",
           "width": 1
          },
          "type": "line",
          "x0": 0.01047,
          "x1": 0.01828,
          "y0": -26.200000000000017,
          "y1": -26.200000000000017
         },
         {
          "layer": "below",
          "line": {
           "color": "rgb(25,25,25)",
           "width": 1
          },
          "type": "line",
          "x0": 0.01047,
          "x1": 0.01771,
          "y0": -23.437500000000004,
          "y1": -23.437500000000004
         },
         {
          "layer": "below",
          "line": {
           "color": "rgb(25,25,25)",
           "width": 1
          },
          "type": "line",
          "x0": 0.01771,
          "x1": 0.01771,
          "y0": -21.975,
          "y1": -24.900000000000006
         },
         {
          "layer": "below",
          "line": {
           "color": "rgb(25,25,25)",
           "width": 1
          },
          "type": "line",
          "x0": 0.01771,
          "x1": 0.01796,
          "y0": -24.900000000000006,
          "y1": -24.900000000000006
         },
         {
          "layer": "below",
          "line": {
           "color": "rgb(25,25,25)",
           "width": 1
          },
          "type": "line",
          "x0": 0.01771,
          "x1": 0.01771,
          "y0": -21.975,
          "y1": -21.975
         },
         {
          "layer": "below",
          "line": {
           "color": "rgb(25,25,25)",
           "width": 1
          },
          "type": "line",
          "x0": 0.01771,
          "x1": 0.01771,
          "y0": -21,
          "y1": -22.950000000000003
         },
         {
          "layer": "below",
          "line": {
           "color": "rgb(25,25,25)",
           "width": 1
          },
          "type": "line",
          "x0": 0.01771,
          "x1": 0.01782,
          "y0": -22.950000000000003,
          "y1": -22.950000000000003
         },
         {
          "layer": "below",
          "line": {
           "color": "rgb(25,25,25)",
           "width": 1
          },
          "type": "line",
          "x0": 0.01782,
          "x1": 0.01782,
          "y0": -22.30000000000001,
          "y1": -23.599999999999994
         },
         {
          "layer": "below",
          "line": {
           "color": "rgb(25,25,25)",
           "width": 1
          },
          "type": "line",
          "x0": 0.01782,
          "x1": 0.01863,
          "y0": -23.599999999999994,
          "y1": -23.599999999999994
         },
         {
          "layer": "below",
          "line": {
           "color": "rgb(25,25,25)",
           "width": 1
          },
          "type": "line",
          "x0": 0.01782,
          "x1": 0.01937,
          "y0": -22.30000000000001,
          "y1": -22.30000000000001
         },
         {
          "layer": "below",
          "line": {
           "color": "rgb(25,25,25)",
           "width": 1
          },
          "type": "line",
          "x0": 0.01771,
          "x1": 0.01784,
          "y0": -21,
          "y1": -21
         },
         {
          "layer": "below",
          "line": {
           "color": "rgb(25,25,25)",
           "width": 1
          },
          "type": "line",
          "x0": 0.00125,
          "x1": 0.00299,
          "y0": -13.118750000000006,
          "y1": -13.118750000000006
         },
         {
          "layer": "below",
          "line": {
           "color": "rgb(25,25,25)",
           "width": 1
          },
          "type": "line",
          "x0": 0.00299,
          "x1": 0.00299,
          "y0": -9.300000000000004,
          "y1": -16.937500000000007
         },
         {
          "layer": "below",
          "line": {
           "color": "rgb(25,25,25)",
           "width": 1
          },
          "type": "line",
          "x0": 0.00299,
          "x1": 0.00493,
          "y0": -16.937500000000007,
          "y1": -16.937500000000007
         },
         {
          "layer": "below",
          "line": {
           "color": "rgb(25,25,25)",
           "width": 1
          },
          "type": "line",
          "x0": 0.00493,
          "x1": 0.00493,
          "y0": -15.150000000000006,
          "y1": -18.725000000000012
         },
         {
          "layer": "below",
          "line": {
           "color": "rgb(25,25,25)",
           "width": 1
          },
          "type": "line",
          "x0": 0.00493,
          "x1": 0.008480000000000001,
          "y0": -18.725000000000012,
          "y1": -18.725000000000012
         },
         {
          "layer": "below",
          "line": {
           "color": "rgb(25,25,25)",
           "width": 1
          },
          "type": "line",
          "x0": 0.008480000000000001,
          "x1": 0.008480000000000001,
          "y0": -17.750000000000007,
          "y1": -19.700000000000017
         },
         {
          "layer": "below",
          "line": {
           "color": "rgb(25,25,25)",
           "width": 1
          },
          "type": "line",
          "x0": 0.008480000000000001,
          "x1": 0.02128,
          "y0": -19.700000000000017,
          "y1": -19.700000000000017
         },
         {
          "layer": "below",
          "line": {
           "color": "rgb(25,25,25)",
           "width": 1
          },
          "type": "line",
          "x0": 0.008480000000000001,
          "x1": 0.02374,
          "y0": -17.750000000000007,
          "y1": -17.750000000000007
         },
         {
          "layer": "below",
          "line": {
           "color": "rgb(25,25,25)",
           "width": 1
          },
          "type": "line",
          "x0": 0.02374,
          "x1": 0.02374,
          "y0": -17.10000000000001,
          "y1": -18.400000000000006
         },
         {
          "layer": "below",
          "line": {
           "color": "rgb(25,25,25)",
           "width": 1
          },
          "type": "line",
          "x0": 0.02374,
          "x1": 0.02383,
          "y0": -18.400000000000006,
          "y1": -18.400000000000006
         },
         {
          "layer": "below",
          "line": {
           "color": "rgb(25,25,25)",
           "width": 1
          },
          "type": "line",
          "x0": 0.02374,
          "x1": 0.02378,
          "y0": -17.10000000000001,
          "y1": -17.10000000000001
         },
         {
          "layer": "below",
          "line": {
           "color": "rgb(25,25,25)",
           "width": 1
          },
          "type": "line",
          "x0": 0.00493,
          "x1": 0.00745,
          "y0": -15.150000000000006,
          "y1": -15.150000000000006
         },
         {
          "layer": "below",
          "line": {
           "color": "rgb(25,25,25)",
           "width": 1
          },
          "type": "line",
          "x0": 0.00745,
          "x1": 0.00745,
          "y0": -14.5,
          "y1": -15.800000000000011
         },
         {
          "layer": "below",
          "line": {
           "color": "rgb(25,25,25)",
           "width": 1
          },
          "type": "line",
          "x0": 0.00745,
          "x1": 0.01982,
          "y0": -15.800000000000011,
          "y1": -15.800000000000011
         },
         {
          "layer": "below",
          "line": {
           "color": "rgb(25,25,25)",
           "width": 1
          },
          "type": "line",
          "x0": 0.00745,
          "x1": 0.026500000000000003,
          "y0": -14.5,
          "y1": -14.5
         },
         {
          "layer": "below",
          "line": {
           "color": "rgb(25,25,25)",
           "width": 1
          },
          "type": "line",
          "x0": 0.00299,
          "x1": 0.0046700000000000005,
          "y0": -9.300000000000004,
          "y1": -9.300000000000004
         },
         {
          "layer": "below",
          "line": {
           "color": "rgb(25,25,25)",
           "width": 1
          },
          "type": "line",
          "x0": 0.0046700000000000005,
          "x1": 0.0046700000000000005,
          "y0": -6.375000000000002,
          "y1": -12.225000000000005
         },
         {
          "layer": "below",
          "line": {
           "color": "rgb(25,25,25)",
           "width": 1
          },
          "type": "line",
          "x0": 0.0046700000000000005,
          "x1": 0.009420000000000001,
          "y0": -12.225000000000005,
          "y1": -12.225000000000005
         },
         {
          "layer": "below",
          "line": {
           "color": "rgb(25,25,25)",
           "width": 1
          },
          "type": "line",
          "x0": 0.009420000000000001,
          "x1": 0.009420000000000001,
          "y0": -11.250000000000007,
          "y1": -13.200000000000003
         },
         {
          "layer": "below",
          "line": {
           "color": "rgb(25,25,25)",
           "width": 1
          },
          "type": "line",
          "x0": 0.009420000000000001,
          "x1": 0.023420000000000003,
          "y0": -13.200000000000003,
          "y1": -13.200000000000003
         },
         {
          "layer": "below",
          "line": {
           "color": "rgb(25,25,25)",
           "width": 1
          },
          "type": "line",
          "x0": 0.009420000000000001,
          "x1": 0.025240000000000002,
          "y0": -11.250000000000007,
          "y1": -11.250000000000007
         },
         {
          "layer": "below",
          "line": {
           "color": "rgb(25,25,25)",
           "width": 1
          },
          "type": "line",
          "x0": 0.025240000000000002,
          "x1": 0.025240000000000002,
          "y0": -10.600000000000009,
          "y1": -11.900000000000006
         },
         {
          "layer": "below",
          "line": {
           "color": "rgb(25,25,25)",
           "width": 1
          },
          "type": "line",
          "x0": 0.025240000000000002,
          "x1": 0.02535,
          "y0": -11.900000000000006,
          "y1": -11.900000000000006
         },
         {
          "layer": "below",
          "line": {
           "color": "rgb(25,25,25)",
           "width": 1
          },
          "type": "line",
          "x0": 0.025240000000000002,
          "x1": 0.025300000000000003,
          "y0": -10.600000000000009,
          "y1": -10.600000000000009
         },
         {
          "layer": "below",
          "line": {
           "color": "rgb(25,25,25)",
           "width": 1
          },
          "type": "line",
          "x0": 0.0046700000000000005,
          "x1": 0.00783,
          "y0": -6.375000000000002,
          "y1": -6.375000000000002
         },
         {
          "layer": "below",
          "line": {
           "color": "rgb(25,25,25)",
           "width": 1
          },
          "type": "line",
          "x0": 0.00783,
          "x1": 0.00783,
          "y0": -4.425000000000004,
          "y1": -8.325
         },
         {
          "layer": "below",
          "line": {
           "color": "rgb(25,25,25)",
           "width": 1
          },
          "type": "line",
          "x0": 0.00783,
          "x1": 0.02176,
          "y0": -8.325,
          "y1": -8.325
         },
         {
          "layer": "below",
          "line": {
           "color": "rgb(25,25,25)",
           "width": 1
          },
          "type": "line",
          "x0": 0.02176,
          "x1": 0.02176,
          "y0": -7.350000000000001,
          "y1": -9.299999999999997
         },
         {
          "layer": "below",
          "line": {
           "color": "rgb(25,25,25)",
           "width": 1
          },
          "type": "line",
          "x0": 0.02176,
          "x1": 0.021890000000000003,
          "y0": -9.299999999999997,
          "y1": -9.299999999999997
         },
         {
          "layer": "below",
          "line": {
           "color": "rgb(25,25,25)",
           "width": 1
          },
          "type": "line",
          "x0": 0.02176,
          "x1": 0.0218,
          "y0": -7.350000000000001,
          "y1": -7.350000000000001
         },
         {
          "layer": "below",
          "line": {
           "color": "rgb(25,25,25)",
           "width": 1
          },
          "type": "line",
          "x0": 0.0218,
          "x1": 0.0218,
          "y0": -6.700000000000003,
          "y1": -8
         },
         {
          "layer": "below",
          "line": {
           "color": "rgb(25,25,25)",
           "width": 1
          },
          "type": "line",
          "x0": 0.0218,
          "x1": 0.02269,
          "y0": -8,
          "y1": -8
         },
         {
          "layer": "below",
          "line": {
           "color": "rgb(25,25,25)",
           "width": 1
          },
          "type": "line",
          "x0": 0.0218,
          "x1": 0.02199,
          "y0": -6.700000000000003,
          "y1": -6.700000000000003
         },
         {
          "layer": "below",
          "line": {
           "color": "rgb(25,25,25)",
           "width": 1
          },
          "type": "line",
          "x0": 0.00783,
          "x1": 0.0213,
          "y0": -4.425000000000004,
          "y1": -4.425000000000004
         },
         {
          "layer": "below",
          "line": {
           "color": "rgb(25,25,25)",
           "width": 1
          },
          "type": "line",
          "x0": 0.0213,
          "x1": 0.0213,
          "y0": -3.450000000000003,
          "y1": -5.400000000000006
         },
         {
          "layer": "below",
          "line": {
           "color": "rgb(25,25,25)",
           "width": 1
          },
          "type": "line",
          "x0": 0.0213,
          "x1": 0.02145,
          "y0": -5.400000000000006,
          "y1": -5.400000000000006
         },
         {
          "layer": "below",
          "line": {
           "color": "rgb(25,25,25)",
           "width": 1
          },
          "type": "line",
          "x0": 0.0213,
          "x1": 0.0213,
          "y0": -3.450000000000003,
          "y1": -3.450000000000003
         },
         {
          "layer": "below",
          "line": {
           "color": "rgb(25,25,25)",
           "width": 1
          },
          "type": "line",
          "x0": 0.0213,
          "x1": 0.0213,
          "y0": -2.799999999999997,
          "y1": -4.1000000000000085
         },
         {
          "layer": "below",
          "line": {
           "color": "rgb(25,25,25)",
           "width": 1
          },
          "type": "line",
          "x0": 0.0213,
          "x1": 0.02138,
          "y0": -4.1000000000000085,
          "y1": -4.1000000000000085
         },
         {
          "layer": "below",
          "line": {
           "color": "rgb(25,25,25)",
           "width": 1
          },
          "type": "line",
          "x0": 0.0213,
          "x1": 0.021509999999999998,
          "y0": -2.799999999999997,
          "y1": -2.799999999999997
         },
         {
          "layer": "below",
          "line": {
           "color": "rgb(25,25,25)",
           "width": 1
          },
          "type": "line",
          "x0": 0,
          "x1": 0.00099,
          "y0": -0.5250000000000021,
          "y1": -0.5250000000000021
         },
         {
          "layer": "below",
          "line": {
           "color": "rgb(25,25,25)",
           "width": 1
          },
          "type": "line",
          "x0": 0.00099,
          "x1": 0.00099,
          "y0": 0.44999999999999574,
          "y1": -1.5
         },
         {
          "layer": "below",
          "line": {
           "color": "rgb(25,25,25)",
           "width": 1
          },
          "type": "line",
          "x0": 0.00099,
          "x1": 0.01608,
          "y0": -1.5,
          "y1": -1.5
         },
         {
          "layer": "below",
          "line": {
           "color": "rgb(25,25,25)",
           "width": 1
          },
          "type": "line",
          "x0": 0.00099,
          "x1": 0.004200000000000001,
          "y0": 0.44999999999999574,
          "y1": 0.44999999999999574
         },
         {
          "layer": "below",
          "line": {
           "color": "rgb(25,25,25)",
           "width": 1
          },
          "type": "line",
          "x0": 0.004200000000000001,
          "x1": 0.004200000000000001,
          "y0": 1.0999999999999943,
          "y1": -0.20000000000000284
         },
         {
          "layer": "below",
          "line": {
           "color": "rgb(25,25,25)",
           "width": 1
          },
          "type": "line",
          "x0": 0.004200000000000001,
          "x1": 0.01734,
          "y0": -0.20000000000000284,
          "y1": -0.20000000000000284
         },
         {
          "layer": "below",
          "line": {
           "color": "rgb(25,25,25)",
           "width": 1
          },
          "type": "line",
          "x0": 0.004200000000000001,
          "x1": 0.020860000000000004,
          "y0": 1.0999999999999943,
          "y1": 1.0999999999999943
         },
         {
          "layer": "below",
          "line": {
           "color": "rgb(25,25,25)",
           "width": 1
          },
          "type": "line",
          "x0": 0,
          "x1": 0.00102,
          "y0": 47.59011721611023,
          "y1": 47.59011721611023
         },
         {
          "layer": "below",
          "line": {
           "color": "rgb(25,25,25)",
           "width": 1
          },
          "type": "line",
          "x0": 0.00102,
          "x1": 0.00102,
          "y0": 90.83023443222046,
          "y1": 4.349999999999998
         },
         {
          "layer": "below",
          "line": {
           "color": "rgb(25,25,25)",
           "width": 1
          },
          "type": "line",
          "x0": 0.00102,
          "x1": 0.00435,
          "y0": 4.349999999999998,
          "y1": 4.349999999999998
         },
         {
          "layer": "below",
          "line": {
           "color": "rgb(25,25,25)",
           "width": 1
          },
          "type": "line",
          "x0": 0.00435,
          "x1": 0.00435,
          "y0": 5.649999999999999,
          "y1": 3.049999999999997
         },
         {
          "layer": "below",
          "line": {
           "color": "rgb(25,25,25)",
           "width": 1
          },
          "type": "line",
          "x0": 0.00435,
          "x1": 0.01966,
          "y0": 3.049999999999997,
          "y1": 3.049999999999997
         },
         {
          "layer": "below",
          "line": {
           "color": "rgb(25,25,25)",
           "width": 1
          },
          "type": "line",
          "x0": 0.01966,
          "x1": 0.01966,
          "y0": 3.700000000000003,
          "y1": 2.3999999999999915
         },
         {
          "layer": "below",
          "line": {
           "color": "rgb(25,25,25)",
           "width": 1
          },
          "type": "line",
          "x0": 0.01966,
          "x1": 0.01989,
          "y0": 2.3999999999999915,
          "y1": 2.3999999999999915
         },
         {
          "layer": "below",
          "line": {
           "color": "rgb(25,25,25)",
           "width": 1
          },
          "type": "line",
          "x0": 0.01966,
          "x1": 0.01983,
          "y0": 3.700000000000003,
          "y1": 3.700000000000003
         },
         {
          "layer": "below",
          "line": {
           "color": "rgb(25,25,25)",
           "width": 1
          },
          "type": "line",
          "x0": 0.00435,
          "x1": 0.01845,
          "y0": 5.649999999999999,
          "y1": 5.649999999999999
         },
         {
          "layer": "below",
          "line": {
           "color": "rgb(25,25,25)",
           "width": 1
          },
          "type": "line",
          "x0": 0.01845,
          "x1": 0.01845,
          "y0": 6.299999999999997,
          "y1": 5
         },
         {
          "layer": "below",
          "line": {
           "color": "rgb(25,25,25)",
           "width": 1
          },
          "type": "line",
          "x0": 0.01845,
          "x1": 0.018750000000000003,
          "y0": 5,
          "y1": 5
         },
         {
          "layer": "below",
          "line": {
           "color": "rgb(25,25,25)",
           "width": 1
          },
          "type": "line",
          "x0": 0.01845,
          "x1": 0.018680000000000002,
          "y0": 6.299999999999997,
          "y1": 6.299999999999997
         },
         {
          "layer": "below",
          "line": {
           "color": "rgb(25,25,25)",
           "width": 1
          },
          "type": "line",
          "x0": 0.00102,
          "x1": 0.0025900000000000003,
          "y0": 90.83023443222046,
          "y1": 90.83023443222046
         },
         {
          "layer": "below",
          "line": {
           "color": "rgb(25,25,25)",
           "width": 1
          },
          "type": "line",
          "x0": 0.0025900000000000003,
          "x1": 0.0025900000000000003,
          "y0": 108.35,
          "y1": 73.31046886444092
         },
         {
          "layer": "below",
          "line": {
           "color": "rgb(25,25,25)",
           "width": 1
          },
          "type": "line",
          "x0": 0.0025900000000000003,
          "x1": 0.0047,
          "y0": 73.31046886444092,
          "y1": 73.31046886444092
         },
         {
          "layer": "below",
          "line": {
           "color": "rgb(25,25,25)",
           "width": 1
          },
          "type": "line",
          "x0": 0.0047,
          "x1": 0.0047,
          "y0": 103.3125,
          "y1": 43.308437728881835
         },
         {
          "layer": "below",
          "line": {
           "color": "rgb(25,25,25)",
           "width": 1
          },
          "type": "line",
          "x0": 0.0047,
          "x1": 0.00615,
          "y0": 43.308437728881835,
          "y1": 43.308437728881835
         },
         {
          "layer": "below",
          "line": {
           "color": "rgb(25,25,25)",
           "width": 1
          },
          "type": "line",
          "x0": 0.00615,
          "x1": 0.00615,
          "y0": 75.84812545776367,
          "y1": 10.768749999999997
         },
         {
          "layer": "below",
          "line": {
           "color": "rgb(25,25,25)",
           "width": 1
          },
          "type": "line",
          "x0": 0.00615,
          "x1": 0.010280000000000001,
          "y0": 10.768749999999997,
          "y1": 10.768749999999997
         },
         {
          "layer": "below",
          "line": {
           "color": "rgb(25,25,25)",
           "width": 1
          },
          "type": "line",
          "x0": 0.010280000000000001,
          "x1": 0.010280000000000001,
          "y0": 12.799999999999997,
          "y1": 8.737499999999995
         },
         {
          "layer": "below",
          "line": {
           "color": "rgb(25,25,25)",
           "width": 1
          },
          "type": "line",
          "x0": 0.010280000000000001,
          "x1": 0.02612,
          "y0": 8.737499999999995,
          "y1": 8.737499999999995
         },
         {
          "layer": "below",
          "line": {
           "color": "rgb(25,25,25)",
           "width": 1
          },
          "type": "line",
          "x0": 0.02612,
          "x1": 0.02612,
          "y0": 9.874999999999996,
          "y1": 7.599999999999994
         },
         {
          "layer": "below",
          "line": {
           "color": "rgb(25,25,25)",
           "width": 1
          },
          "type": "line",
          "x0": 0.02612,
          "x1": 0.02631,
          "y0": 7.599999999999994,
          "y1": 7.599999999999994
         },
         {
          "layer": "below",
          "line": {
           "color": "rgb(25,25,25)",
           "width": 1
          },
          "type": "line",
          "x0": 0.02612,
          "x1": 0.02612,
          "y0": 9.874999999999996,
          "y1": 9.874999999999996
         },
         {
          "layer": "below",
          "line": {
           "color": "rgb(25,25,25)",
           "width": 1
          },
          "type": "line",
          "x0": 0.02612,
          "x1": 0.02612,
          "y0": 10.850000000000001,
          "y1": 8.899999999999991
         },
         {
          "layer": "below",
          "line": {
           "color": "rgb(25,25,25)",
           "width": 1
          },
          "type": "line",
          "x0": 0.02612,
          "x1": 0.026180000000000002,
          "y0": 8.899999999999991,
          "y1": 8.899999999999991
         },
         {
          "layer": "below",
          "line": {
           "color": "rgb(25,25,25)",
           "width": 1
          },
          "type": "line",
          "x0": 0.02612,
          "x1": 0.02612,
          "y0": 10.850000000000001,
          "y1": 10.850000000000001
         },
         {
          "layer": "below",
          "line": {
           "color": "rgb(25,25,25)",
           "width": 1
          },
          "type": "line",
          "x0": 0.02612,
          "x1": 0.02612,
          "y0": 11.5,
          "y1": 10.200000000000003
         },
         {
          "layer": "below",
          "line": {
           "color": "rgb(25,25,25)",
           "width": 1
          },
          "type": "line",
          "x0": 0.02612,
          "x1": 0.02657,
          "y0": 10.200000000000003,
          "y1": 10.200000000000003
         },
         {
          "layer": "below",
          "line": {
           "color": "rgb(25,25,25)",
           "width": 1
          },
          "type": "line",
          "x0": 0.02612,
          "x1": 0.02646,
          "y0": 11.5,
          "y1": 11.5
         },
         {
          "layer": "below",
          "line": {
           "color": "rgb(25,25,25)",
           "width": 1
          },
          "type": "line",
          "x0": 0.010280000000000001,
          "x1": 0.02798,
          "y0": 12.799999999999997,
          "y1": 12.799999999999997
         },
         {
          "layer": "below",
          "line": {
           "color": "rgb(25,25,25)",
           "width": 1
          },
          "type": "line",
          "x0": 0.00615,
          "x1": 0.00893,
          "y0": 75.84812545776367,
          "y1": 75.84812545776367
         },
         {
          "layer": "below",
          "line": {
           "color": "rgb(25,25,25)",
           "width": 1
          },
          "type": "line",
          "x0": 0.00893,
          "x1": 0.00893,
          "y0": 96.8125,
          "y1": 54.883750915527344
         },
         {
          "layer": "below",
          "line": {
           "color": "rgb(25,25,25)",
           "width": 1
          },
          "type": "line",
          "x0": 0.00893,
          "x1": 0.012920000000000001,
          "y0": 54.883750915527344,
          "y1": 54.883750915527344
         },
         {
          "layer": "below",
          "line": {
           "color": "rgb(25,25,25)",
           "width": 1
          },
          "type": "line",
          "x0": 0.012920000000000001,
          "x1": 0.012920000000000001,
          "y0": 90.3125,
          "y1": 19.455001831054684
         },
         {
          "layer": "below",
          "line": {
           "color": "rgb(25,25,25)",
           "width": 1
          },
          "type": "line",
          "x0": 0.012920000000000001,
          "x1": 0.04852,
          "y0": 19.455001831054684,
          "y1": 19.455001831054684
         },
         {
          "layer": "below",
          "line": {
           "color": "rgb(25,25,25)",
           "width": 1
          },
          "type": "line",
          "x0": 0.04852,
          "x1": 0.04852,
          "y0": 24.810003662109374,
          "y1": 14.099999999999994
         },
         {
          "layer": "below",
          "line": {
           "color": "rgb(25,25,25)",
           "width": 1
          },
          "type": "line",
          "x0": 0.04852,
          "x1": 0.0963,
          "y0": 14.099999999999994,
          "y1": 14.099999999999994
         },
         {
          "layer": "below",
          "line": {
           "color": "rgb(25,25,25)",
           "width": 1
          },
          "type": "line",
          "x0": 0.04852,
          "x1": 0.05943,
          "y0": 24.810003662109374,
          "y1": 24.810003662109374
         },
         {
          "layer": "below",
          "line": {
           "color": "rgb(25,25,25)",
           "width": 1
          },
          "type": "line",
          "x0": 0.05943,
          "x1": 0.05943,
          "y0": 33.57000732421875,
          "y1": 16.049999999999997
         },
         {
          "layer": "below",
          "line": {
           "color": "rgb(25,25,25)",
           "width": 1
          },
          "type": "line",
          "x0": 0.05943,
          "x1": 0.14888,
          "y0": 16.049999999999997,
          "y1": 16.049999999999997
         },
         {
          "layer": "below",
          "line": {
           "color": "rgb(25,25,25)",
           "width": 1
          },
          "type": "line",
          "x0": 0.14888,
          "x1": 0.14888,
          "y0": 16.700000000000003,
          "y1": 15.399999999999991
         },
         {
          "layer": "below",
          "line": {
           "color": "rgb(25,25,25)",
           "width": 1
          },
          "type": "line",
          "x0": 0.14888,
          "x1": 0.14903000000000002,
          "y0": 15.399999999999991,
          "y1": 15.399999999999991
         },
         {
          "layer": "below",
          "line": {
           "color": "rgb(25,25,25)",
           "width": 1
          },
          "type": "line",
          "x0": 0.14888,
          "x1": 0.14897000000000002,
          "y0": 16.700000000000003,
          "y1": 16.700000000000003
         },
         {
          "layer": "below",
          "line": {
           "color": "rgb(25,25,25)",
           "width": 1
          },
          "type": "line",
          "x0": 0.05943,
          "x1": 0.07209,
          "y0": 33.57000732421875,
          "y1": 33.57000732421875
         },
         {
          "layer": "below",
          "line": {
           "color": "rgb(25,25,25)",
           "width": 1
          },
          "type": "line",
          "x0": 0.07209,
          "x1": 0.07209,
          "y0": 49.1400146484375,
          "y1": 18
         },
         {
          "layer": "below",
          "line": {
           "color": "rgb(25,25,25)",
           "width": 1
          },
          "type": "line",
          "x0": 0.07209,
          "x1": 0.13332,
          "y0": 18,
          "y1": 18
         },
         {
          "layer": "below",
          "line": {
           "color": "rgb(25,25,25)",
           "width": 1
          },
          "type": "line",
          "x0": 0.07209,
          "x1": 0.13035,
          "y0": 49.1400146484375,
          "y1": 49.1400146484375
         },
         {
          "layer": "below",
          "line": {
           "color": "rgb(25,25,25)",
           "width": 1
          },
          "type": "line",
          "x0": 0.13035,
          "x1": 0.13035,
          "y0": 66.08984375,
          "y1": 32.190185546875
         },
         {
          "layer": "below",
          "line": {
           "color": "rgb(25,25,25)",
           "width": 1
          },
          "type": "line",
          "x0": 0.13035,
          "x1": 0.20862999999999998,
          "y0": 32.190185546875,
          "y1": 32.190185546875
         },
         {
          "layer": "below",
          "line": {
           "color": "rgb(25,25,25)",
           "width": 1
          },
          "type": "line",
          "x0": 0.20862999999999998,
          "x1": 0.20862999999999998,
          "y0": 45.080371093749996,
          "y1": 19.299999999999997
         },
         {
          "layer": "below",
          "line": {
           "color": "rgb(25,25,25)",
           "width": 1
          },
          "type": "line",
          "x0": 0.20862999999999998,
          "x1": 0.22905999999999999,
          "y0": 19.299999999999997,
          "y1": 19.299999999999997
         },
         {
          "layer": "below",
          "line": {
           "color": "rgb(25,25,25)",
           "width": 1
          },
          "type": "line",
          "x0": 0.20862999999999998,
          "x1": 0.21427999999999997,
          "y0": 45.080371093749996,
          "y1": 45.080371093749996
         },
         {
          "layer": "below",
          "line": {
           "color": "rgb(25,25,25)",
           "width": 1
          },
          "type": "line",
          "x0": 0.21427999999999997,
          "x1": 0.21427999999999997,
          "y0": 56.675,
          "y1": 33.485742187499994
         },
         {
          "layer": "below",
          "line": {
           "color": "rgb(25,25,25)",
           "width": 1
          },
          "type": "line",
          "x0": 0.21427999999999997,
          "x1": 0.23450999999999997,
          "y0": 33.485742187499994,
          "y1": 33.485742187499994
         },
         {
          "layer": "below",
          "line": {
           "color": "rgb(25,25,25)",
           "width": 1
          },
          "type": "line",
          "x0": 0.23450999999999997,
          "x1": 0.23450999999999997,
          "y0": 45.721484375,
          "y1": 21.249999999999993
         },
         {
          "layer": "below",
          "line": {
           "color": "rgb(25,25,25)",
           "width": 1
          },
          "type": "line",
          "x0": 0.23450999999999997,
          "x1": 0.23458999999999997,
          "y0": 21.249999999999993,
          "y1": 21.249999999999993
         },
         {
          "layer": "below",
          "line": {
           "color": "rgb(25,25,25)",
           "width": 1
          },
          "type": "line",
          "x0": 0.23458999999999997,
          "x1": 0.23458999999999997,
          "y0": 21.89999999999999,
          "y1": 20.599999999999994
         },
         {
          "layer": "below",
          "line": {
           "color": "rgb(25,25,25)",
           "width": 1
          },
          "type": "line",
          "x0": 0.23458999999999997,
          "x1": 0.23532999999999996,
          "y0": 20.599999999999994,
          "y1": 20.599999999999994
         },
         {
          "layer": "below",
          "line": {
           "color": "rgb(25,25,25)",
           "width": 1
          },
          "type": "line",
          "x0": 0.23458999999999997,
          "x1": 0.23500999999999997,
          "y0": 21.89999999999999,
          "y1": 21.89999999999999
         },
         {
          "layer": "below",
          "line": {
           "color": "rgb(25,25,25)",
           "width": 1
          },
          "type": "line",
          "x0": 0.23450999999999997,
          "x1": 0.23451999999999998,
          "y0": 45.721484375,
          "y1": 45.721484375
         },
         {
          "layer": "below",
          "line": {
           "color": "rgb(25,25,25)",
           "width": 1
          },
          "type": "line",
          "x0": 0.23451999999999998,
          "x1": 0.23451999999999998,
          "y0": 54.4,
          "y1": 37.04296875
         },
         {
          "layer": "below",
          "line": {
           "color": "rgb(25,25,25)",
           "width": 1
          },
          "type": "line",
          "x0": 0.23451999999999998,
          "x1": 0.23451999999999998,
          "y0": 37.04296875,
          "y1": 37.04296875
         },
         {
          "layer": "below",
          "line": {
           "color": "rgb(25,25,25)",
           "width": 1
          },
          "type": "line",
          "x0": 0.23451999999999998,
          "x1": 0.23451999999999998,
          "y0": 45.1578125,
          "y1": 28.928124999999998
         },
         {
          "layer": "below",
          "line": {
           "color": "rgb(25,25,25)",
           "width": 1
          },
          "type": "line",
          "x0": 0.23451999999999998,
          "x1": 0.23451999999999998,
          "y0": 28.928124999999998,
          "y1": 28.928124999999998
         },
         {
          "layer": "below",
          "line": {
           "color": "rgb(25,25,25)",
           "width": 1
          },
          "type": "line",
          "x0": 0.23451999999999998,
          "x1": 0.23451999999999998,
          "y0": 32.4625,
          "y1": 25.393749999999997
         },
         {
          "layer": "below",
          "line": {
           "color": "rgb(25,25,25)",
           "width": 1
          },
          "type": "line",
          "x0": 0.23451999999999998,
          "x1": 0.23468999999999998,
          "y0": 25.393749999999997,
          "y1": 25.393749999999997
         },
         {
          "layer": "below",
          "line": {
           "color": "rgb(25,25,25)",
           "width": 1
          },
          "type": "line",
          "x0": 0.23468999999999998,
          "x1": 0.23468999999999998,
          "y0": 26.937499999999996,
          "y1": 23.85
         },
         {
          "layer": "below",
          "line": {
           "color": "rgb(25,25,25)",
           "width": 1
          },
          "type": "line",
          "x0": 0.23468999999999998,
          "x1": 0.23489999999999997,
          "y0": 23.85,
          "y1": 23.85
         },
         {
          "layer": "below",
          "line": {
           "color": "rgb(25,25,25)",
           "width": 1
          },
          "type": "line",
          "x0": 0.23489999999999997,
          "x1": 0.23489999999999997,
          "y0": 24.5,
          "y1": 23.200000000000003
         },
         {
          "layer": "below",
          "line": {
           "color": "rgb(25,25,25)",
           "width": 1
          },
          "type": "line",
          "x0": 0.23489999999999997,
          "x1": 0.23525999999999997,
          "y0": 23.200000000000003,
          "y1": 23.200000000000003
         },
         {
          "layer": "below",
          "line": {
           "color": "rgb(25,25,25)",
           "width": 1
          },
          "type": "line",
          "x0": 0.23489999999999997,
          "x1": 0.23601999999999998,
          "y0": 24.5,
          "y1": 24.5
         },
         {
          "layer": "below",
          "line": {
           "color": "rgb(25,25,25)",
           "width": 1
          },
          "type": "line",
          "x0": 0.23468999999999998,
          "x1": 0.23485999999999999,
          "y0": 26.937499999999996,
          "y1": 26.937499999999996
         },
         {
          "layer": "below",
          "line": {
           "color": "rgb(25,25,25)",
           "width": 1
          },
          "type": "line",
          "x0": 0.23485999999999999,
          "x1": 0.23485999999999999,
          "y0": 28.074999999999996,
          "y1": 25.799999999999997
         },
         {
          "layer": "below",
          "line": {
           "color": "rgb(25,25,25)",
           "width": 1
          },
          "type": "line",
          "x0": 0.23485999999999999,
          "x1": 0.23521999999999998,
          "y0": 25.799999999999997,
          "y1": 25.799999999999997
         },
         {
          "layer": "below",
          "line": {
           "color": "rgb(25,25,25)",
           "width": 1
          },
          "type": "line",
          "x0": 0.23485999999999999,
          "x1": 0.23493999999999998,
          "y0": 28.074999999999996,
          "y1": 28.074999999999996
         },
         {
          "layer": "below",
          "line": {
           "color": "rgb(25,25,25)",
           "width": 1
          },
          "type": "line",
          "x0": 0.23493999999999998,
          "x1": 0.23493999999999998,
          "y0": 29.049999999999997,
          "y1": 27.099999999999994
         },
         {
          "layer": "below",
          "line": {
           "color": "rgb(25,25,25)",
           "width": 1
          },
          "type": "line",
          "x0": 0.23493999999999998,
          "x1": 0.23542999999999997,
          "y0": 27.099999999999994,
          "y1": 27.099999999999994
         },
         {
          "layer": "below",
          "line": {
           "color": "rgb(25,25,25)",
           "width": 1
          },
          "type": "line",
          "x0": 0.23493999999999998,
          "x1": 0.23512999999999998,
          "y0": 29.049999999999997,
          "y1": 29.049999999999997
         },
         {
          "layer": "below",
          "line": {
           "color": "rgb(25,25,25)",
           "width": 1
          },
          "type": "line",
          "x0": 0.23512999999999998,
          "x1": 0.23512999999999998,
          "y0": 29.700000000000003,
          "y1": 28.39999999999999
         },
         {
          "layer": "below",
          "line": {
           "color": "rgb(25,25,25)",
           "width": 1
          },
          "type": "line",
          "x0": 0.23512999999999998,
          "x1": 0.23533999999999997,
          "y0": 28.39999999999999,
          "y1": 28.39999999999999
         },
         {
          "layer": "below",
          "line": {
           "color": "rgb(25,25,25)",
           "width": 1
          },
          "type": "line",
          "x0": 0.23512999999999998,
          "x1": 0.23534999999999998,
          "y0": 29.700000000000003,
          "y1": 29.700000000000003
         },
         {
          "layer": "below",
          "line": {
           "color": "rgb(25,25,25)",
           "width": 1
          },
          "type": "line",
          "x0": 0.23451999999999998,
          "x1": 0.23473999999999998,
          "y0": 32.4625,
          "y1": 32.4625
         },
         {
          "layer": "below",
          "line": {
           "color": "rgb(25,25,25)",
           "width": 1
          },
          "type": "line",
          "x0": 0.23473999999999998,
          "x1": 0.23473999999999998,
          "y0": 33.925,
          "y1": 31
         },
         {
          "layer": "below",
          "line": {
           "color": "rgb(25,25,25)",
           "width": 1
          },
          "type": "line",
          "x0": 0.23473999999999998,
          "x1": 0.23489999999999997,
          "y0": 31,
          "y1": 31
         },
         {
          "layer": "below",
          "line": {
           "color": "rgb(25,25,25)",
           "width": 1
          },
          "type": "line",
          "x0": 0.23473999999999998,
          "x1": 0.23481999999999997,
          "y0": 33.925,
          "y1": 33.925
         },
         {
          "layer": "below",
          "line": {
           "color": "rgb(25,25,25)",
           "width": 1
          },
          "type": "line",
          "x0": 0.23481999999999997,
          "x1": 0.23481999999999997,
          "y0": 35.55,
          "y1": 32.3
         },
         {
          "layer": "below",
          "line": {
           "color": "rgb(25,25,25)",
           "width": 1
          },
          "type": "line",
          "x0": 0.23481999999999997,
          "x1": 0.23485999999999999,
          "y0": 32.3,
          "y1": 32.3
         },
         {
          "layer": "below",
          "line": {
           "color": "rgb(25,25,25)",
           "width": 1
          },
          "type": "line",
          "x0": 0.23481999999999997,
          "x1": 0.23481999999999997,
          "y0": 35.55,
          "y1": 35.55
         },
         {
          "layer": "below",
          "line": {
           "color": "rgb(25,25,25)",
           "width": 1
          },
          "type": "line",
          "x0": 0.23481999999999997,
          "x1": 0.23481999999999997,
          "y0": 36.85,
          "y1": 34.24999999999999
         },
         {
          "layer": "below",
          "line": {
           "color": "rgb(25,25,25)",
           "width": 1
          },
          "type": "line",
          "x0": 0.23481999999999997,
          "x1": 0.23486999999999997,
          "y0": 34.24999999999999,
          "y1": 34.24999999999999
         },
         {
          "layer": "below",
          "line": {
           "color": "rgb(25,25,25)",
           "width": 1
          },
          "type": "line",
          "x0": 0.23486999999999997,
          "x1": 0.23486999999999997,
          "y0": 34.89999999999999,
          "y1": 33.599999999999994
         },
         {
          "layer": "below",
          "line": {
           "color": "rgb(25,25,25)",
           "width": 1
          },
          "type": "line",
          "x0": 0.23486999999999997,
          "x1": 0.23531999999999997,
          "y0": 33.599999999999994,
          "y1": 33.599999999999994
         },
         {
          "layer": "below",
          "line": {
           "color": "rgb(25,25,25)",
           "width": 1
          },
          "type": "line",
          "x0": 0.23486999999999997,
          "x1": 0.23509999999999998,
          "y0": 34.89999999999999,
          "y1": 34.89999999999999
         },
         {
          "layer": "below",
          "line": {
           "color": "rgb(25,25,25)",
           "width": 1
          },
          "type": "line",
          "x0": 0.23481999999999997,
          "x1": 0.23485999999999999,
          "y0": 36.85,
          "y1": 36.85
         },
         {
          "layer": "below",
          "line": {
           "color": "rgb(25,25,25)",
           "width": 1
          },
          "type": "line",
          "x0": 0.23485999999999999,
          "x1": 0.23485999999999999,
          "y0": 37.5,
          "y1": 36.2
         },
         {
          "layer": "below",
          "line": {
           "color": "rgb(25,25,25)",
           "width": 1
          },
          "type": "line",
          "x0": 0.23485999999999999,
          "x1": 0.23509999999999998,
          "y0": 36.2,
          "y1": 36.2
         },
         {
          "layer": "below",
          "line": {
           "color": "rgb(25,25,25)",
           "width": 1
          },
          "type": "line",
          "x0": 0.23485999999999999,
          "x1": 0.23498,
          "y0": 37.5,
          "y1": 37.5
         },
         {
          "layer": "below",
          "line": {
           "color": "rgb(25,25,25)",
           "width": 1
          },
          "type": "line",
          "x0": 0.23451999999999998,
          "x1": 0.23464999999999997,
          "y0": 45.1578125,
          "y1": 45.1578125
         },
         {
          "layer": "below",
          "line": {
           "color": "rgb(25,25,25)",
           "width": 1
          },
          "type": "line",
          "x0": 0.23464999999999997,
          "x1": 0.23464999999999997,
          "y0": 49.11875,
          "y1": 41.196875
         },
         {
          "layer": "below",
          "line": {
           "color": "rgb(25,25,25)",
           "width": 1
          },
          "type": "line",
          "x0": 0.23464999999999997,
          "x1": 0.23475999999999997,
          "y0": 41.196875,
          "y1": 41.196875
         },
         {
          "layer": "below",
          "line": {
           "color": "rgb(25,25,25)",
           "width": 1
          },
          "type": "line",
          "x0": 0.23475999999999997,
          "x1": 0.23475999999999997,
          "y0": 43.59375,
          "y1": 38.8
         },
         {
          "layer": "below",
          "line": {
           "color": "rgb(25,25,25)",
           "width": 1
          },
          "type": "line",
          "x0": 0.23475999999999997,
          "x1": 0.23524999999999996,
          "y0": 38.8,
          "y1": 38.8
         },
         {
          "layer": "below",
          "line": {
           "color": "rgb(25,25,25)",
           "width": 1
          },
          "type": "line",
          "x0": 0.23475999999999997,
          "x1": 0.23480999999999996,
          "y0": 43.59375,
          "y1": 43.59375
         },
         {
          "layer": "below",
          "line": {
           "color": "rgb(25,25,25)",
           "width": 1
          },
          "type": "line",
          "x0": 0.23480999999999996,
          "x1": 0.23480999999999996,
          "y0": 45.949999999999996,
          "y1": 41.2375
         },
         {
          "layer": "below",
          "line": {
           "color": "rgb(25,25,25)",
           "width": 1
          },
          "type": "line",
          "x0": 0.23480999999999996,
          "x1": 0.23486999999999997,
          "y0": 41.2375,
          "y1": 41.2375
         },
         {
          "layer": "below",
          "line": {
           "color": "rgb(25,25,25)",
           "width": 1
          },
          "type": "line",
          "x0": 0.23486999999999997,
          "x1": 0.23486999999999997,
          "y0": 42.375,
          "y1": 40.099999999999994
         },
         {
          "layer": "below",
          "line": {
           "color": "rgb(25,25,25)",
           "width": 1
          },
          "type": "line",
          "x0": 0.23486999999999997,
          "x1": 0.23505999999999996,
          "y0": 40.099999999999994,
          "y1": 40.099999999999994
         },
         {
          "layer": "below",
          "line": {
           "color": "rgb(25,25,25)",
           "width": 1
          },
          "type": "line",
          "x0": 0.23486999999999997,
          "x1": 0.23490999999999998,
          "y0": 42.375,
          "y1": 42.375
         },
         {
          "layer": "below",
          "line": {
           "color": "rgb(25,25,25)",
           "width": 1
          },
          "type": "line",
          "x0": 0.23490999999999998,
          "x1": 0.23490999999999998,
          "y0": 43.35,
          "y1": 41.39999999999999
         },
         {
          "layer": "below",
          "line": {
           "color": "rgb(25,25,25)",
           "width": 1
          },
          "type": "line",
          "x0": 0.23490999999999998,
          "x1": 0.23496999999999998,
          "y0": 41.39999999999999,
          "y1": 41.39999999999999
         },
         {
          "layer": "below",
          "line": {
           "color": "rgb(25,25,25)",
           "width": 1
          },
          "type": "line",
          "x0": 0.23490999999999998,
          "x1": 0.23495,
          "y0": 43.35,
          "y1": 43.35
         },
         {
          "layer": "below",
          "line": {
           "color": "rgb(25,25,25)",
           "width": 1
          },
          "type": "line",
          "x0": 0.23495,
          "x1": 0.23495,
          "y0": 44,
          "y1": 42.7
         },
         {
          "layer": "below",
          "line": {
           "color": "rgb(25,25,25)",
           "width": 1
          },
          "type": "line",
          "x0": 0.23495,
          "x1": 0.23565,
          "y0": 42.7,
          "y1": 42.7
         },
         {
          "layer": "below",
          "line": {
           "color": "rgb(25,25,25)",
           "width": 1
          },
          "type": "line",
          "x0": 0.23495,
          "x1": 0.23514,
          "y0": 44,
          "y1": 44
         },
         {
          "layer": "below",
          "line": {
           "color": "rgb(25,25,25)",
           "width": 1
          },
          "type": "line",
          "x0": 0.23480999999999996,
          "x1": 0.23488999999999996,
          "y0": 45.949999999999996,
          "y1": 45.949999999999996
         },
         {
          "layer": "below",
          "line": {
           "color": "rgb(25,25,25)",
           "width": 1
          },
          "type": "line",
          "x0": 0.23488999999999996,
          "x1": 0.23488999999999996,
          "y0": 46.599999999999994,
          "y1": 45.3
         },
         {
          "layer": "below",
          "line": {
           "color": "rgb(25,25,25)",
           "width": 1
          },
          "type": "line",
          "x0": 0.23488999999999996,
          "x1": 0.23519999999999996,
          "y0": 45.3,
          "y1": 45.3
         },
         {
          "layer": "below",
          "line": {
           "color": "rgb(25,25,25)",
           "width": 1
          },
          "type": "line",
          "x0": 0.23488999999999996,
          "x1": 0.23502999999999996,
          "y0": 46.599999999999994,
          "y1": 46.599999999999994
         },
         {
          "layer": "below",
          "line": {
           "color": "rgb(25,25,25)",
           "width": 1
          },
          "type": "line",
          "x0": 0.23464999999999997,
          "x1": 0.23468999999999998,
          "y0": 49.11875,
          "y1": 49.11875
         },
         {
          "layer": "below",
          "line": {
           "color": "rgb(25,25,25)",
           "width": 1
          },
          "type": "line",
          "x0": 0.23468999999999998,
          "x1": 0.23468999999999998,
          "y0": 50.3375,
          "y1": 47.9
         },
         {
          "layer": "below",
          "line": {
           "color": "rgb(25,25,25)",
           "width": 1
          },
          "type": "line",
          "x0": 0.23468999999999998,
          "x1": 0.23515999999999998,
          "y0": 47.9,
          "y1": 47.9
         },
         {
          "layer": "below",
          "line": {
           "color": "rgb(25,25,25)",
           "width": 1
          },
          "type": "line",
          "x0": 0.23468999999999998,
          "x1": 0.23484,
          "y0": 50.3375,
          "y1": 50.3375
         },
         {
          "layer": "below",
          "line": {
           "color": "rgb(25,25,25)",
           "width": 1
          },
          "type": "line",
          "x0": 0.23484,
          "x1": 0.23484,
          "y0": 51.475,
          "y1": 49.199999999999996
         },
         {
          "layer": "below",
          "line": {
           "color": "rgb(25,25,25)",
           "width": 1
          },
          "type": "line",
          "x0": 0.23484,
          "x1": 0.23618,
          "y0": 49.199999999999996,
          "y1": 49.199999999999996
         },
         {
          "layer": "below",
          "line": {
           "color": "rgb(25,25,25)",
           "width": 1
          },
          "type": "line",
          "x0": 0.23484,
          "x1": 0.23496,
          "y0": 51.475,
          "y1": 51.475
         },
         {
          "layer": "below",
          "line": {
           "color": "rgb(25,25,25)",
           "width": 1
          },
          "type": "line",
          "x0": 0.23496,
          "x1": 0.23496,
          "y0": 52.45,
          "y1": 50.5
         },
         {
          "layer": "below",
          "line": {
           "color": "rgb(25,25,25)",
           "width": 1
          },
          "type": "line",
          "x0": 0.23496,
          "x1": 0.23518,
          "y0": 50.5,
          "y1": 50.5
         },
         {
          "layer": "below",
          "line": {
           "color": "rgb(25,25,25)",
           "width": 1
          },
          "type": "line",
          "x0": 0.23496,
          "x1": 0.23507,
          "y0": 52.45,
          "y1": 52.45
         },
         {
          "layer": "below",
          "line": {
           "color": "rgb(25,25,25)",
           "width": 1
          },
          "type": "line",
          "x0": 0.23507,
          "x1": 0.23507,
          "y0": 53.1,
          "y1": 51.8
         },
         {
          "layer": "below",
          "line": {
           "color": "rgb(25,25,25)",
           "width": 1
          },
          "type": "line",
          "x0": 0.23507,
          "x1": 0.23552,
          "y0": 51.8,
          "y1": 51.8
         },
         {
          "layer": "below",
          "line": {
           "color": "rgb(25,25,25)",
           "width": 1
          },
          "type": "line",
          "x0": 0.23507,
          "x1": 0.23578,
          "y0": 53.1,
          "y1": 53.1
         },
         {
          "layer": "below",
          "line": {
           "color": "rgb(25,25,25)",
           "width": 1
          },
          "type": "line",
          "x0": 0.23451999999999998,
          "x1": 0.23483999999999997,
          "y0": 54.4,
          "y1": 54.4
         },
         {
          "layer": "below",
          "line": {
           "color": "rgb(25,25,25)",
           "width": 1
          },
          "type": "line",
          "x0": 0.21427999999999997,
          "x1": 0.21940999999999997,
          "y0": 56.675,
          "y1": 56.675
         },
         {
          "layer": "below",
          "line": {
           "color": "rgb(25,25,25)",
           "width": 1
          },
          "type": "line",
          "x0": 0.21940999999999997,
          "x1": 0.21940999999999997,
          "y0": 57.65,
          "y1": 55.699999999999996
         },
         {
          "layer": "below",
          "line": {
           "color": "rgb(25,25,25)",
           "width": 1
          },
          "type": "line",
          "x0": 0.21940999999999997,
          "x1": 0.23731999999999998,
          "y0": 55.699999999999996,
          "y1": 55.699999999999996
         },
         {
          "layer": "below",
          "line": {
           "color": "rgb(25,25,25)",
           "width": 1
          },
          "type": "line",
          "x0": 0.21940999999999997,
          "x1": 0.22299999999999998,
          "y0": 57.65,
          "y1": 57.65
         },
         {
          "layer": "below",
          "line": {
           "color": "rgb(25,25,25)",
           "width": 1
          },
          "type": "line",
          "x0": 0.22299999999999998,
          "x1": 0.22299999999999998,
          "y0": 58.3,
          "y1": 57
         },
         {
          "layer": "below",
          "line": {
           "color": "rgb(25,25,25)",
           "width": 1
          },
          "type": "line",
          "x0": 0.22299999999999998,
          "x1": 0.24046999999999996,
          "y0": 57,
          "y1": 57
         },
         {
          "layer": "below",
          "line": {
           "color": "rgb(25,25,25)",
           "width": 1
          },
          "type": "line",
          "x0": 0.22299999999999998,
          "x1": 0.24027999999999997,
          "y0": 58.3,
          "y1": 58.3
         },
         {
          "layer": "below",
          "line": {
           "color": "rgb(25,25,25)",
           "width": 1
          },
          "type": "line",
          "x0": 0.13035,
          "x1": 0.15209999999999999,
          "y0": 66.08984375,
          "y1": 66.08984375
         },
         {
          "layer": "below",
          "line": {
           "color": "rgb(25,25,25)",
           "width": 1
          },
          "type": "line",
          "x0": 0.15209999999999999,
          "x1": 0.15209999999999999,
          "y0": 71.60468750000001,
          "y1": 60.575
         },
         {
          "layer": "below",
          "line": {
           "color": "rgb(25,25,25)",
           "width": 1
          },
          "type": "line",
          "x0": 0.15209999999999999,
          "x1": 0.7839,
          "y0": 60.575,
          "y1": 60.575
         },
         {
          "layer": "below",
          "line": {
           "color": "rgb(25,25,25)",
           "width": 1
          },
          "type": "line",
          "x0": 0.7839,
          "x1": 0.7839,
          "y0": 61.55,
          "y1": 59.6
         },
         {
          "layer": "below",
          "line": {
           "color": "rgb(25,25,25)",
           "width": 1
          },
          "type": "line",
          "x0": 0.7839,
          "x1": 0.91827,
          "y0": 59.6,
          "y1": 59.6
         },
         {
          "layer": "below",
          "line": {
           "color": "rgb(25,25,25)",
           "width": 1
          },
          "type": "line",
          "x0": 0.7839,
          "x1": 0.84233,
          "y0": 61.55,
          "y1": 61.55
         },
         {
          "layer": "below",
          "line": {
           "color": "rgb(25,25,25)",
           "width": 1
          },
          "type": "line",
          "x0": 0.84233,
          "x1": 0.84233,
          "y0": 62.199999999999996,
          "y1": 60.9
         },
         {
          "layer": "below",
          "line": {
           "color": "rgb(25,25,25)",
           "width": 1
          },
          "type": "line",
          "x0": 0.84233,
          "x1": 0.91834,
          "y0": 60.9,
          "y1": 60.9
         },
         {
          "layer": "below",
          "line": {
           "color": "rgb(25,25,25)",
           "width": 1
          },
          "type": "line",
          "x0": 0.84233,
          "x1": 0.92294,
          "y0": 62.199999999999996,
          "y1": 62.199999999999996
         },
         {
          "layer": "below",
          "line": {
           "color": "rgb(25,25,25)",
           "width": 1
          },
          "type": "line",
          "x0": 0.15209999999999999,
          "x1": 0.18558,
          "y0": 71.60468750000001,
          "y1": 71.60468750000001
         },
         {
          "layer": "below",
          "line": {
           "color": "rgb(25,25,25)",
           "width": 1
          },
          "type": "line",
          "x0": 0.18558,
          "x1": 0.18558,
          "y0": 77.59687500000001,
          "y1": 65.6125
         },
         {
          "layer": "below",
          "line": {
           "color": "rgb(25,25,25)",
           "width": 1
          },
          "type": "line",
          "x0": 0.18558,
          "x1": 0.241,
          "y0": 65.6125,
          "y1": 65.6125
         },
         {
          "layer": "below",
          "line": {
           "color": "rgb(25,25,25)",
           "width": 1
          },
          "type": "line",
          "x0": 0.241,
          "x1": 0.241,
          "y0": 67.07499999999999,
          "y1": 64.15
         },
         {
          "layer": "below",
          "line": {
           "color": "rgb(25,25,25)",
           "width": 1
          },
          "type": "line",
          "x0": 0.241,
          "x1": 0.24104,
          "y0": 64.15,
          "y1": 64.15
         },
         {
          "layer": "below",
          "line": {
           "color": "rgb(25,25,25)",
           "width": 1
          },
          "type": "line",
          "x0": 0.24104,
          "x1": 0.24104,
          "y0": 64.8,
          "y1": 63.5
         },
         {
          "layer": "below",
          "line": {
           "color": "rgb(25,25,25)",
           "width": 1
          },
          "type": "line",
          "x0": 0.24104,
          "x1": 0.24119000000000002,
          "y0": 63.5,
          "y1": 63.5
         },
         {
          "layer": "below",
          "line": {
           "color": "rgb(25,25,25)",
           "width": 1
          },
          "type": "line",
          "x0": 0.24104,
          "x1": 0.2411,
          "y0": 64.8,
          "y1": 64.8
         },
         {
          "layer": "below",
          "line": {
           "color": "rgb(25,25,25)",
           "width": 1
          },
          "type": "line",
          "x0": 0.241,
          "x1": 0.241,
          "y0": 67.07499999999999,
          "y1": 67.07499999999999
         },
         {
          "layer": "below",
          "line": {
           "color": "rgb(25,25,25)",
           "width": 1
          },
          "type": "line",
          "x0": 0.241,
          "x1": 0.241,
          "y0": 68.05,
          "y1": 66.1
         },
         {
          "layer": "below",
          "line": {
           "color": "rgb(25,25,25)",
           "width": 1
          },
          "type": "line",
          "x0": 0.241,
          "x1": 0.24115,
          "y0": 66.1,
          "y1": 66.1
         },
         {
          "layer": "below",
          "line": {
           "color": "rgb(25,25,25)",
           "width": 1
          },
          "type": "line",
          "x0": 0.241,
          "x1": 0.24104,
          "y0": 68.05,
          "y1": 68.05
         },
         {
          "layer": "below",
          "line": {
           "color": "rgb(25,25,25)",
           "width": 1
          },
          "type": "line",
          "x0": 0.24104,
          "x1": 0.24104,
          "y0": 68.69999999999999,
          "y1": 67.4
         },
         {
          "layer": "below",
          "line": {
           "color": "rgb(25,25,25)",
           "width": 1
          },
          "type": "line",
          "x0": 0.24104,
          "x1": 0.24129,
          "y0": 67.4,
          "y1": 67.4
         },
         {
          "layer": "below",
          "line": {
           "color": "rgb(25,25,25)",
           "width": 1
          },
          "type": "line",
          "x0": 0.24104,
          "x1": 0.24144000000000002,
          "y0": 68.69999999999999,
          "y1": 68.69999999999999
         },
         {
          "layer": "below",
          "line": {
           "color": "rgb(25,25,25)",
           "width": 1
          },
          "type": "line",
          "x0": 0.18558,
          "x1": 0.23898,
          "y0": 77.59687500000001,
          "y1": 77.59687500000001
         },
         {
          "layer": "below",
          "line": {
           "color": "rgb(25,25,25)",
           "width": 1
          },
          "type": "line",
          "x0": 0.23898,
          "x1": 0.23898,
          "y0": 83.24375,
          "y1": 71.95
         },
         {
          "layer": "below",
          "line": {
           "color": "rgb(25,25,25)",
           "width": 1
          },
          "type": "line",
          "x0": 0.23898,
          "x1": 0.24271,
          "y0": 71.95,
          "y1": 71.95
         },
         {
          "layer": "below",
          "line": {
           "color": "rgb(25,25,25)",
           "width": 1
          },
          "type": "line",
          "x0": 0.24271,
          "x1": 0.24271,
          "y0": 73.25,
          "y1": 70.65
         },
         {
          "layer": "below",
          "line": {
           "color": "rgb(25,25,25)",
           "width": 1
          },
          "type": "line",
          "x0": 0.24271,
          "x1": 0.25798,
          "y0": 70.65,
          "y1": 70.65
         },
         {
          "layer": "below",
          "line": {
           "color": "rgb(25,25,25)",
           "width": 1
          },
          "type": "line",
          "x0": 0.25798,
          "x1": 0.25798,
          "y0": 71.3,
          "y1": 70
         },
         {
          "layer": "below",
          "line": {
           "color": "rgb(25,25,25)",
           "width": 1
          },
          "type": "line",
          "x0": 0.25798,
          "x1": 0.25808,
          "y0": 70,
          "y1": 70
         },
         {
          "layer": "below",
          "line": {
           "color": "rgb(25,25,25)",
           "width": 1
          },
          "type": "line",
          "x0": 0.25798,
          "x1": 0.25859,
          "y0": 71.3,
          "y1": 71.3
         },
         {
          "layer": "below",
          "line": {
           "color": "rgb(25,25,25)",
           "width": 1
          },
          "type": "line",
          "x0": 0.24271,
          "x1": 0.24619000000000002,
          "y0": 73.25,
          "y1": 73.25
         },
         {
          "layer": "below",
          "line": {
           "color": "rgb(25,25,25)",
           "width": 1
          },
          "type": "line",
          "x0": 0.24619000000000002,
          "x1": 0.24619000000000002,
          "y0": 73.9,
          "y1": 72.6
         },
         {
          "layer": "below",
          "line": {
           "color": "rgb(25,25,25)",
           "width": 1
          },
          "type": "line",
          "x0": 0.24619000000000002,
          "x1": 0.26108000000000003,
          "y0": 72.6,
          "y1": 72.6
         },
         {
          "layer": "below",
          "line": {
           "color": "rgb(25,25,25)",
           "width": 1
          },
          "type": "line",
          "x0": 0.24619000000000002,
          "x1": 0.26208000000000004,
          "y0": 73.9,
          "y1": 73.9
         },
         {
          "layer": "below",
          "line": {
           "color": "rgb(25,25,25)",
           "width": 1
          },
          "type": "line",
          "x0": 0.23898,
          "x1": 0.24112,
          "y0": 83.24375,
          "y1": 83.24375
         },
         {
          "layer": "below",
          "line": {
           "color": "rgb(25,25,25)",
           "width": 1
          },
          "type": "line",
          "x0": 0.24112,
          "x1": 0.24112,
          "y0": 86.25,
          "y1": 80.2375
         },
         {
          "layer": "below",
          "line": {
           "color": "rgb(25,25,25)",
           "width": 1
          },
          "type": "line",
          "x0": 0.24112,
          "x1": 0.24189,
          "y0": 80.2375,
          "y1": 80.2375
         },
         {
          "layer": "below",
          "line": {
           "color": "rgb(25,25,25)",
           "width": 1
          },
          "type": "line",
          "x0": 0.24189,
          "x1": 0.24189,
          "y0": 82.8375,
          "y1": 77.63749999999999
         },
         {
          "layer": "below",
          "line": {
           "color": "rgb(25,25,25)",
           "width": 1
          },
          "type": "line",
          "x0": 0.24189,
          "x1": 0.24318,
          "y0": 77.63749999999999,
          "y1": 77.63749999999999
         },
         {
          "layer": "below",
          "line": {
           "color": "rgb(25,25,25)",
           "width": 1
          },
          "type": "line",
          "x0": 0.24318,
          "x1": 0.24318,
          "y0": 79.1,
          "y1": 76.175
         },
         {
          "layer": "below",
          "line": {
           "color": "rgb(25,25,25)",
           "width": 1
          },
          "type": "line",
          "x0": 0.24318,
          "x1": 0.24601,
          "y0": 76.175,
          "y1": 76.175
         },
         {
          "layer": "below",
          "line": {
           "color": "rgb(25,25,25)",
           "width": 1
          },
          "type": "line",
          "x0": 0.24601,
          "x1": 0.24601,
          "y0": 77.15,
          "y1": 75.19999999999999
         },
         {
          "layer": "below",
          "line": {
           "color": "rgb(25,25,25)",
           "width": 1
          },
          "type": "line",
          "x0": 0.24601,
          "x1": 0.26117,
          "y0": 75.19999999999999,
          "y1": 75.19999999999999
         },
         {
          "layer": "below",
          "line": {
           "color": "rgb(25,25,25)",
           "width": 1
          },
          "type": "line",
          "x0": 0.24601,
          "x1": 0.2606,
          "y0": 77.15,
          "y1": 77.15
         },
         {
          "layer": "below",
          "line": {
           "color": "rgb(25,25,25)",
           "width": 1
          },
          "type": "line",
          "x0": 0.2606,
          "x1": 0.2606,
          "y0": 77.8,
          "y1": 76.5
         },
         {
          "layer": "below",
          "line": {
           "color": "rgb(25,25,25)",
           "width": 1
          },
          "type": "line",
          "x0": 0.2606,
          "x1": 0.26083,
          "y0": 76.5,
          "y1": 76.5
         },
         {
          "layer": "below",
          "line": {
           "color": "rgb(25,25,25)",
           "width": 1
          },
          "type": "line",
          "x0": 0.2606,
          "x1": 0.26073,
          "y0": 77.8,
          "y1": 77.8
         },
         {
          "layer": "below",
          "line": {
           "color": "rgb(25,25,25)",
           "width": 1
          },
          "type": "line",
          "x0": 0.24318,
          "x1": 0.2602,
          "y0": 79.1,
          "y1": 79.1
         },
         {
          "layer": "below",
          "line": {
           "color": "rgb(25,25,25)",
           "width": 1
          },
          "type": "line",
          "x0": 0.24189,
          "x1": 0.24506999999999998,
          "y0": 82.8375,
          "y1": 82.8375
         },
         {
          "layer": "below",
          "line": {
           "color": "rgb(25,25,25)",
           "width": 1
          },
          "type": "line",
          "x0": 0.24506999999999998,
          "x1": 0.24506999999999998,
          "y0": 84.3,
          "y1": 81.375
         },
         {
          "layer": "below",
          "line": {
           "color": "rgb(25,25,25)",
           "width": 1
          },
          "type": "line",
          "x0": 0.24506999999999998,
          "x1": 0.25971,
          "y0": 81.375,
          "y1": 81.375
         },
         {
          "layer": "below",
          "line": {
           "color": "rgb(25,25,25)",
           "width": 1
          },
          "type": "line",
          "x0": 0.25971,
          "x1": 0.25971,
          "y0": 82.35,
          "y1": 80.4
         },
         {
          "layer": "below",
          "line": {
           "color": "rgb(25,25,25)",
           "width": 1
          },
          "type": "line",
          "x0": 0.25971,
          "x1": 0.25977,
          "y0": 80.4,
          "y1": 80.4
         },
         {
          "layer": "below",
          "line": {
           "color": "rgb(25,25,25)",
           "width": 1
          },
          "type": "line",
          "x0": 0.25971,
          "x1": 0.25973,
          "y0": 82.35,
          "y1": 82.35
         },
         {
          "layer": "below",
          "line": {
           "color": "rgb(25,25,25)",
           "width": 1
          },
          "type": "line",
          "x0": 0.25973,
          "x1": 0.25973,
          "y0": 83,
          "y1": 81.7
         },
         {
          "layer": "below",
          "line": {
           "color": "rgb(25,25,25)",
           "width": 1
          },
          "type": "line",
          "x0": 0.25973,
          "x1": 0.26003000000000004,
          "y0": 81.7,
          "y1": 81.7
         },
         {
          "layer": "below",
          "line": {
           "color": "rgb(25,25,25)",
           "width": 1
          },
          "type": "line",
          "x0": 0.25973,
          "x1": 0.26111,
          "y0": 83,
          "y1": 83
         },
         {
          "layer": "below",
          "line": {
           "color": "rgb(25,25,25)",
           "width": 1
          },
          "type": "line",
          "x0": 0.24506999999999998,
          "x1": 0.26244999999999996,
          "y0": 84.3,
          "y1": 84.3
         },
         {
          "layer": "below",
          "line": {
           "color": "rgb(25,25,25)",
           "width": 1
          },
          "type": "line",
          "x0": 0.24112,
          "x1": 0.24401,
          "y0": 86.25,
          "y1": 86.25
         },
         {
          "layer": "below",
          "line": {
           "color": "rgb(25,25,25)",
           "width": 1
          },
          "type": "line",
          "x0": 0.24401,
          "x1": 0.24401,
          "y0": 86.9,
          "y1": 85.6
         },
         {
          "layer": "below",
          "line": {
           "color": "rgb(25,25,25)",
           "width": 1
          },
          "type": "line",
          "x0": 0.24401,
          "x1": 0.25846,
          "y0": 85.6,
          "y1": 85.6
         },
         {
          "layer": "below",
          "line": {
           "color": "rgb(25,25,25)",
           "width": 1
          },
          "type": "line",
          "x0": 0.24401,
          "x1": 0.2614,
          "y0": 86.9,
          "y1": 86.9
         },
         {
          "layer": "below",
          "line": {
           "color": "rgb(25,25,25)",
           "width": 1
          },
          "type": "line",
          "x0": 0.012920000000000001,
          "x1": 0.022330000000000003,
          "y0": 90.3125,
          "y1": 90.3125
         },
         {
          "layer": "below",
          "line": {
           "color": "rgb(25,25,25)",
           "width": 1
          },
          "type": "line",
          "x0": 0.022330000000000003,
          "x1": 0.022330000000000003,
          "y0": 91.775,
          "y1": 88.85
         },
         {
          "layer": "below",
          "line": {
           "color": "rgb(25,25,25)",
           "width": 1
          },
          "type": "line",
          "x0": 0.022330000000000003,
          "x1": 0.04463,
          "y0": 88.85,
          "y1": 88.85
         },
         {
          "layer": "below",
          "line": {
           "color": "rgb(25,25,25)",
           "width": 1
          },
          "type": "line",
          "x0": 0.04463,
          "x1": 0.04463,
          "y0": 89.5,
          "y1": 88.2
         },
         {
          "layer": "below",
          "line": {
           "color": "rgb(25,25,25)",
           "width": 1
          },
          "type": "line",
          "x0": 0.04463,
          "x1": 0.045160000000000006,
          "y0": 88.2,
          "y1": 88.2
         },
         {
          "layer": "below",
          "line": {
           "color": "rgb(25,25,25)",
           "width": 1
          },
          "type": "line",
          "x0": 0.04463,
          "x1": 0.044680000000000004,
          "y0": 89.5,
          "y1": 89.5
         },
         {
          "layer": "below",
          "line": {
           "color": "rgb(25,25,25)",
           "width": 1
          },
          "type": "line",
          "x0": 0.022330000000000003,
          "x1": 0.04487000000000001,
          "y0": 91.775,
          "y1": 91.775
         },
         {
          "layer": "below",
          "line": {
           "color": "rgb(25,25,25)",
           "width": 1
          },
          "type": "line",
          "x0": 0.04487000000000001,
          "x1": 0.04487000000000001,
          "y0": 92.75,
          "y1": 90.8
         },
         {
          "layer": "below",
          "line": {
           "color": "rgb(25,25,25)",
           "width": 1
          },
          "type": "line",
          "x0": 0.04487000000000001,
          "x1": 0.045680000000000005,
          "y0": 90.8,
          "y1": 90.8
         },
         {
          "layer": "below",
          "line": {
           "color": "rgb(25,25,25)",
           "width": 1
          },
          "type": "line",
          "x0": 0.04487000000000001,
          "x1": 0.04487000000000001,
          "y0": 92.75,
          "y1": 92.75
         },
         {
          "layer": "below",
          "line": {
           "color": "rgb(25,25,25)",
           "width": 1
          },
          "type": "line",
          "x0": 0.04487000000000001,
          "x1": 0.04487000000000001,
          "y0": 93.4,
          "y1": 92.1
         },
         {
          "layer": "below",
          "line": {
           "color": "rgb(25,25,25)",
           "width": 1
          },
          "type": "line",
          "x0": 0.04487000000000001,
          "x1": 0.04508000000000001,
          "y0": 92.1,
          "y1": 92.1
         },
         {
          "layer": "below",
          "line": {
           "color": "rgb(25,25,25)",
           "width": 1
          },
          "type": "line",
          "x0": 0.04487000000000001,
          "x1": 0.044950000000000004,
          "y0": 93.4,
          "y1": 93.4
         },
         {
          "layer": "below",
          "line": {
           "color": "rgb(25,25,25)",
           "width": 1
          },
          "type": "line",
          "x0": 0.00893,
          "x1": 0.01397,
          "y0": 96.8125,
          "y1": 96.8125
         },
         {
          "layer": "below",
          "line": {
           "color": "rgb(25,25,25)",
           "width": 1
          },
          "type": "line",
          "x0": 0.01397,
          "x1": 0.01397,
          "y0": 98.275,
          "y1": 95.35
         },
         {
          "layer": "below",
          "line": {
           "color": "rgb(25,25,25)",
           "width": 1
          },
          "type": "line",
          "x0": 0.01397,
          "x1": 0.029759999999999998,
          "y0": 95.35,
          "y1": 95.35
         },
         {
          "layer": "below",
          "line": {
           "color": "rgb(25,25,25)",
           "width": 1
          },
          "type": "line",
          "x0": 0.029759999999999998,
          "x1": 0.029759999999999998,
          "y0": 96,
          "y1": 94.7
         },
         {
          "layer": "below",
          "line": {
           "color": "rgb(25,25,25)",
           "width": 1
          },
          "type": "line",
          "x0": 0.029759999999999998,
          "x1": 0.033339999999999995,
          "y0": 94.7,
          "y1": 94.7
         },
         {
          "layer": "below",
          "line": {
           "color": "rgb(25,25,25)",
           "width": 1
          },
          "type": "line",
          "x0": 0.029759999999999998,
          "x1": 0.02984,
          "y0": 96,
          "y1": 96
         },
         {
          "layer": "below",
          "line": {
           "color": "rgb(25,25,25)",
           "width": 1
          },
          "type": "line",
          "x0": 0.01397,
          "x1": 0.02685,
          "y0": 98.275,
          "y1": 98.275
         },
         {
          "layer": "below",
          "line": {
           "color": "rgb(25,25,25)",
           "width": 1
          },
          "type": "line",
          "x0": 0.02685,
          "x1": 0.02685,
          "y0": 99.25,
          "y1": 97.3
         },
         {
          "layer": "below",
          "line": {
           "color": "rgb(25,25,25)",
           "width": 1
          },
          "type": "line",
          "x0": 0.02685,
          "x1": 0.03094,
          "y0": 97.3,
          "y1": 97.3
         },
         {
          "layer": "below",
          "line": {
           "color": "rgb(25,25,25)",
           "width": 1
          },
          "type": "line",
          "x0": 0.02685,
          "x1": 0.030289999999999997,
          "y0": 99.25,
          "y1": 99.25
         },
         {
          "layer": "below",
          "line": {
           "color": "rgb(25,25,25)",
           "width": 1
          },
          "type": "line",
          "x0": 0.030289999999999997,
          "x1": 0.030289999999999997,
          "y0": 99.9,
          "y1": 98.6
         },
         {
          "layer": "below",
          "line": {
           "color": "rgb(25,25,25)",
           "width": 1
          },
          "type": "line",
          "x0": 0.030289999999999997,
          "x1": 0.03044,
          "y0": 98.6,
          "y1": 98.6
         },
         {
          "layer": "below",
          "line": {
           "color": "rgb(25,25,25)",
           "width": 1
          },
          "type": "line",
          "x0": 0.030289999999999997,
          "x1": 0.03035,
          "y0": 99.9,
          "y1": 99.9
         },
         {
          "layer": "below",
          "line": {
           "color": "rgb(25,25,25)",
           "width": 1
          },
          "type": "line",
          "x0": 0.0047,
          "x1": 0.00909,
          "y0": 103.3125,
          "y1": 103.3125
         },
         {
          "layer": "below",
          "line": {
           "color": "rgb(25,25,25)",
           "width": 1
          },
          "type": "line",
          "x0": 0.00909,
          "x1": 0.00909,
          "y0": 104.775,
          "y1": 101.85
         },
         {
          "layer": "below",
          "line": {
           "color": "rgb(25,25,25)",
           "width": 1
          },
          "type": "line",
          "x0": 0.00909,
          "x1": 0.02862,
          "y0": 101.85,
          "y1": 101.85
         },
         {
          "layer": "below",
          "line": {
           "color": "rgb(25,25,25)",
           "width": 1
          },
          "type": "line",
          "x0": 0.02862,
          "x1": 0.02862,
          "y0": 102.5,
          "y1": 101.2
         },
         {
          "layer": "below",
          "line": {
           "color": "rgb(25,25,25)",
           "width": 1
          },
          "type": "line",
          "x0": 0.02862,
          "x1": 0.02877,
          "y0": 101.2,
          "y1": 101.2
         },
         {
          "layer": "below",
          "line": {
           "color": "rgb(25,25,25)",
           "width": 1
          },
          "type": "line",
          "x0": 0.02862,
          "x1": 0.02922,
          "y0": 102.5,
          "y1": 102.5
         },
         {
          "layer": "below",
          "line": {
           "color": "rgb(25,25,25)",
           "width": 1
          },
          "type": "line",
          "x0": 0.00909,
          "x1": 0.02321,
          "y0": 104.775,
          "y1": 104.775
         },
         {
          "layer": "below",
          "line": {
           "color": "rgb(25,25,25)",
           "width": 1
          },
          "type": "line",
          "x0": 0.02321,
          "x1": 0.02321,
          "y0": 105.75,
          "y1": 103.8
         },
         {
          "layer": "below",
          "line": {
           "color": "rgb(25,25,25)",
           "width": 1
          },
          "type": "line",
          "x0": 0.02321,
          "x1": 0.023270000000000002,
          "y0": 103.8,
          "y1": 103.8
         },
         {
          "layer": "below",
          "line": {
           "color": "rgb(25,25,25)",
           "width": 1
          },
          "type": "line",
          "x0": 0.02321,
          "x1": 0.02323,
          "y0": 105.75,
          "y1": 105.75
         },
         {
          "layer": "below",
          "line": {
           "color": "rgb(25,25,25)",
           "width": 1
          },
          "type": "line",
          "x0": 0.02323,
          "x1": 0.02323,
          "y0": 106.4,
          "y1": 105.1
         },
         {
          "layer": "below",
          "line": {
           "color": "rgb(25,25,25)",
           "width": 1
          },
          "type": "line",
          "x0": 0.02323,
          "x1": 0.02346,
          "y0": 105.1,
          "y1": 105.1
         },
         {
          "layer": "below",
          "line": {
           "color": "rgb(25,25,25)",
           "width": 1
          },
          "type": "line",
          "x0": 0.02323,
          "x1": 0.0234,
          "y0": 106.4,
          "y1": 106.4
         },
         {
          "layer": "below",
          "line": {
           "color": "rgb(25,25,25)",
           "width": 1
          },
          "type": "line",
          "x0": 0.0025900000000000003,
          "x1": 0.00551,
          "y0": 108.35,
          "y1": 108.35
         },
         {
          "layer": "below",
          "line": {
           "color": "rgb(25,25,25)",
           "width": 1
          },
          "type": "line",
          "x0": 0.00551,
          "x1": 0.00551,
          "y0": 109,
          "y1": 107.7
         },
         {
          "layer": "below",
          "line": {
           "color": "rgb(25,25,25)",
           "width": 1
          },
          "type": "line",
          "x0": 0.00551,
          "x1": 0.02246,
          "y0": 107.7,
          "y1": 107.7
         },
         {
          "layer": "below",
          "line": {
           "color": "rgb(25,25,25)",
           "width": 1
          },
          "type": "line",
          "x0": 0.00551,
          "x1": 0.01939,
          "y0": 109,
          "y1": 109
         }
        ],
        "template": {
         "data": {
          "bar": [
           {
            "error_x": {
             "color": "#2a3f5f"
            },
            "error_y": {
             "color": "#2a3f5f"
            },
            "marker": {
             "line": {
              "color": "#E5ECF6",
              "width": 0.5
             },
             "pattern": {
              "fillmode": "overlay",
              "size": 10,
              "solidity": 0.2
             }
            },
            "type": "bar"
           }
          ],
          "barpolar": [
           {
            "marker": {
             "line": {
              "color": "#E5ECF6",
              "width": 0.5
             },
             "pattern": {
              "fillmode": "overlay",
              "size": 10,
              "solidity": 0.2
             }
            },
            "type": "barpolar"
           }
          ],
          "carpet": [
           {
            "aaxis": {
             "endlinecolor": "#2a3f5f",
             "gridcolor": "white",
             "linecolor": "white",
             "minorgridcolor": "white",
             "startlinecolor": "#2a3f5f"
            },
            "baxis": {
             "endlinecolor": "#2a3f5f",
             "gridcolor": "white",
             "linecolor": "white",
             "minorgridcolor": "white",
             "startlinecolor": "#2a3f5f"
            },
            "type": "carpet"
           }
          ],
          "choropleth": [
           {
            "colorbar": {
             "outlinewidth": 0,
             "ticks": ""
            },
            "type": "choropleth"
           }
          ],
          "contour": [
           {
            "colorbar": {
             "outlinewidth": 0,
             "ticks": ""
            },
            "colorscale": [
             [
              0,
              "#0d0887"
             ],
             [
              0.1111111111111111,
              "#46039f"
             ],
             [
              0.2222222222222222,
              "#7201a8"
             ],
             [
              0.3333333333333333,
              "#9c179e"
             ],
             [
              0.4444444444444444,
              "#bd3786"
             ],
             [
              0.5555555555555556,
              "#d8576b"
             ],
             [
              0.6666666666666666,
              "#ed7953"
             ],
             [
              0.7777777777777778,
              "#fb9f3a"
             ],
             [
              0.8888888888888888,
              "#fdca26"
             ],
             [
              1,
              "#f0f921"
             ]
            ],
            "type": "contour"
           }
          ],
          "contourcarpet": [
           {
            "colorbar": {
             "outlinewidth": 0,
             "ticks": ""
            },
            "type": "contourcarpet"
           }
          ],
          "heatmap": [
           {
            "colorbar": {
             "outlinewidth": 0,
             "ticks": ""
            },
            "colorscale": [
             [
              0,
              "#0d0887"
             ],
             [
              0.1111111111111111,
              "#46039f"
             ],
             [
              0.2222222222222222,
              "#7201a8"
             ],
             [
              0.3333333333333333,
              "#9c179e"
             ],
             [
              0.4444444444444444,
              "#bd3786"
             ],
             [
              0.5555555555555556,
              "#d8576b"
             ],
             [
              0.6666666666666666,
              "#ed7953"
             ],
             [
              0.7777777777777778,
              "#fb9f3a"
             ],
             [
              0.8888888888888888,
              "#fdca26"
             ],
             [
              1,
              "#f0f921"
             ]
            ],
            "type": "heatmap"
           }
          ],
          "heatmapgl": [
           {
            "colorbar": {
             "outlinewidth": 0,
             "ticks": ""
            },
            "colorscale": [
             [
              0,
              "#0d0887"
             ],
             [
              0.1111111111111111,
              "#46039f"
             ],
             [
              0.2222222222222222,
              "#7201a8"
             ],
             [
              0.3333333333333333,
              "#9c179e"
             ],
             [
              0.4444444444444444,
              "#bd3786"
             ],
             [
              0.5555555555555556,
              "#d8576b"
             ],
             [
              0.6666666666666666,
              "#ed7953"
             ],
             [
              0.7777777777777778,
              "#fb9f3a"
             ],
             [
              0.8888888888888888,
              "#fdca26"
             ],
             [
              1,
              "#f0f921"
             ]
            ],
            "type": "heatmapgl"
           }
          ],
          "histogram": [
           {
            "marker": {
             "pattern": {
              "fillmode": "overlay",
              "size": 10,
              "solidity": 0.2
             }
            },
            "type": "histogram"
           }
          ],
          "histogram2d": [
           {
            "colorbar": {
             "outlinewidth": 0,
             "ticks": ""
            },
            "colorscale": [
             [
              0,
              "#0d0887"
             ],
             [
              0.1111111111111111,
              "#46039f"
             ],
             [
              0.2222222222222222,
              "#7201a8"
             ],
             [
              0.3333333333333333,
              "#9c179e"
             ],
             [
              0.4444444444444444,
              "#bd3786"
             ],
             [
              0.5555555555555556,
              "#d8576b"
             ],
             [
              0.6666666666666666,
              "#ed7953"
             ],
             [
              0.7777777777777778,
              "#fb9f3a"
             ],
             [
              0.8888888888888888,
              "#fdca26"
             ],
             [
              1,
              "#f0f921"
             ]
            ],
            "type": "histogram2d"
           }
          ],
          "histogram2dcontour": [
           {
            "colorbar": {
             "outlinewidth": 0,
             "ticks": ""
            },
            "colorscale": [
             [
              0,
              "#0d0887"
             ],
             [
              0.1111111111111111,
              "#46039f"
             ],
             [
              0.2222222222222222,
              "#7201a8"
             ],
             [
              0.3333333333333333,
              "#9c179e"
             ],
             [
              0.4444444444444444,
              "#bd3786"
             ],
             [
              0.5555555555555556,
              "#d8576b"
             ],
             [
              0.6666666666666666,
              "#ed7953"
             ],
             [
              0.7777777777777778,
              "#fb9f3a"
             ],
             [
              0.8888888888888888,
              "#fdca26"
             ],
             [
              1,
              "#f0f921"
             ]
            ],
            "type": "histogram2dcontour"
           }
          ],
          "mesh3d": [
           {
            "colorbar": {
             "outlinewidth": 0,
             "ticks": ""
            },
            "type": "mesh3d"
           }
          ],
          "parcoords": [
           {
            "line": {
             "colorbar": {
              "outlinewidth": 0,
              "ticks": ""
             }
            },
            "type": "parcoords"
           }
          ],
          "pie": [
           {
            "automargin": true,
            "type": "pie"
           }
          ],
          "scatter": [
           {
            "fillpattern": {
             "fillmode": "overlay",
             "size": 10,
             "solidity": 0.2
            },
            "type": "scatter"
           }
          ],
          "scatter3d": [
           {
            "line": {
             "colorbar": {
              "outlinewidth": 0,
              "ticks": ""
             }
            },
            "marker": {
             "colorbar": {
              "outlinewidth": 0,
              "ticks": ""
             }
            },
            "type": "scatter3d"
           }
          ],
          "scattercarpet": [
           {
            "marker": {
             "colorbar": {
              "outlinewidth": 0,
              "ticks": ""
             }
            },
            "type": "scattercarpet"
           }
          ],
          "scattergeo": [
           {
            "marker": {
             "colorbar": {
              "outlinewidth": 0,
              "ticks": ""
             }
            },
            "type": "scattergeo"
           }
          ],
          "scattergl": [
           {
            "marker": {
             "colorbar": {
              "outlinewidth": 0,
              "ticks": ""
             }
            },
            "type": "scattergl"
           }
          ],
          "scattermapbox": [
           {
            "marker": {
             "colorbar": {
              "outlinewidth": 0,
              "ticks": ""
             }
            },
            "type": "scattermapbox"
           }
          ],
          "scatterpolar": [
           {
            "marker": {
             "colorbar": {
              "outlinewidth": 0,
              "ticks": ""
             }
            },
            "type": "scatterpolar"
           }
          ],
          "scatterpolargl": [
           {
            "marker": {
             "colorbar": {
              "outlinewidth": 0,
              "ticks": ""
             }
            },
            "type": "scatterpolargl"
           }
          ],
          "scatterternary": [
           {
            "marker": {
             "colorbar": {
              "outlinewidth": 0,
              "ticks": ""
             }
            },
            "type": "scatterternary"
           }
          ],
          "surface": [
           {
            "colorbar": {
             "outlinewidth": 0,
             "ticks": ""
            },
            "colorscale": [
             [
              0,
              "#0d0887"
             ],
             [
              0.1111111111111111,
              "#46039f"
             ],
             [
              0.2222222222222222,
              "#7201a8"
             ],
             [
              0.3333333333333333,
              "#9c179e"
             ],
             [
              0.4444444444444444,
              "#bd3786"
             ],
             [
              0.5555555555555556,
              "#d8576b"
             ],
             [
              0.6666666666666666,
              "#ed7953"
             ],
             [
              0.7777777777777778,
              "#fb9f3a"
             ],
             [
              0.8888888888888888,
              "#fdca26"
             ],
             [
              1,
              "#f0f921"
             ]
            ],
            "type": "surface"
           }
          ],
          "table": [
           {
            "cells": {
             "fill": {
              "color": "#EBF0F8"
             },
             "line": {
              "color": "white"
             }
            },
            "header": {
             "fill": {
              "color": "#C8D4E3"
             },
             "line": {
              "color": "white"
             }
            },
            "type": "table"
           }
          ]
         },
         "layout": {
          "annotationdefaults": {
           "arrowcolor": "#2a3f5f",
           "arrowhead": 0,
           "arrowwidth": 1
          },
          "autotypenumbers": "strict",
          "coloraxis": {
           "colorbar": {
            "outlinewidth": 0,
            "ticks": ""
           }
          },
          "colorscale": {
           "diverging": [
            [
             0,
             "#8e0152"
            ],
            [
             0.1,
             "#c51b7d"
            ],
            [
             0.2,
             "#de77ae"
            ],
            [
             0.3,
             "#f1b6da"
            ],
            [
             0.4,
             "#fde0ef"
            ],
            [
             0.5,
             "#f7f7f7"
            ],
            [
             0.6,
             "#e6f5d0"
            ],
            [
             0.7,
             "#b8e186"
            ],
            [
             0.8,
             "#7fbc41"
            ],
            [
             0.9,
             "#4d9221"
            ],
            [
             1,
             "#276419"
            ]
           ],
           "sequential": [
            [
             0,
             "#0d0887"
            ],
            [
             0.1111111111111111,
             "#46039f"
            ],
            [
             0.2222222222222222,
             "#7201a8"
            ],
            [
             0.3333333333333333,
             "#9c179e"
            ],
            [
             0.4444444444444444,
             "#bd3786"
            ],
            [
             0.5555555555555556,
             "#d8576b"
            ],
            [
             0.6666666666666666,
             "#ed7953"
            ],
            [
             0.7777777777777778,
             "#fb9f3a"
            ],
            [
             0.8888888888888888,
             "#fdca26"
            ],
            [
             1,
             "#f0f921"
            ]
           ],
           "sequentialminus": [
            [
             0,
             "#0d0887"
            ],
            [
             0.1111111111111111,
             "#46039f"
            ],
            [
             0.2222222222222222,
             "#7201a8"
            ],
            [
             0.3333333333333333,
             "#9c179e"
            ],
            [
             0.4444444444444444,
             "#bd3786"
            ],
            [
             0.5555555555555556,
             "#d8576b"
            ],
            [
             0.6666666666666666,
             "#ed7953"
            ],
            [
             0.7777777777777778,
             "#fb9f3a"
            ],
            [
             0.8888888888888888,
             "#fdca26"
            ],
            [
             1,
             "#f0f921"
            ]
           ]
          },
          "colorway": [
           "#636efa",
           "#EF553B",
           "#00cc96",
           "#ab63fa",
           "#FFA15A",
           "#19d3f3",
           "#FF6692",
           "#B6E880",
           "#FF97FF",
           "#FECB52"
          ],
          "font": {
           "color": "#2a3f5f"
          },
          "geo": {
           "bgcolor": "white",
           "lakecolor": "white",
           "landcolor": "#E5ECF6",
           "showlakes": true,
           "showland": true,
           "subunitcolor": "white"
          },
          "hoverlabel": {
           "align": "left"
          },
          "hovermode": "closest",
          "mapbox": {
           "style": "light"
          },
          "paper_bgcolor": "white",
          "plot_bgcolor": "#E5ECF6",
          "polar": {
           "angularaxis": {
            "gridcolor": "white",
            "linecolor": "white",
            "ticks": ""
           },
           "bgcolor": "#E5ECF6",
           "radialaxis": {
            "gridcolor": "white",
            "linecolor": "white",
            "ticks": ""
           }
          },
          "scene": {
           "xaxis": {
            "backgroundcolor": "#E5ECF6",
            "gridcolor": "white",
            "gridwidth": 2,
            "linecolor": "white",
            "showbackground": true,
            "ticks": "",
            "zerolinecolor": "white"
           },
           "yaxis": {
            "backgroundcolor": "#E5ECF6",
            "gridcolor": "white",
            "gridwidth": 2,
            "linecolor": "white",
            "showbackground": true,
            "ticks": "",
            "zerolinecolor": "white"
           },
           "zaxis": {
            "backgroundcolor": "#E5ECF6",
            "gridcolor": "white",
            "gridwidth": 2,
            "linecolor": "white",
            "showbackground": true,
            "ticks": "",
            "zerolinecolor": "white"
           }
          },
          "shapedefaults": {
           "line": {
            "color": "#2a3f5f"
           }
          },
          "ternary": {
           "aaxis": {
            "gridcolor": "white",
            "linecolor": "white",
            "ticks": ""
           },
           "baxis": {
            "gridcolor": "white",
            "linecolor": "white",
            "ticks": ""
           },
           "bgcolor": "#E5ECF6",
           "caxis": {
            "gridcolor": "white",
            "linecolor": "white",
            "ticks": ""
           }
          },
          "title": {
           "x": 0.05
          },
          "xaxis": {
           "automargin": true,
           "gridcolor": "white",
           "linecolor": "white",
           "ticks": "",
           "title": {
            "standoff": 15
           },
           "zerolinecolor": "white",
           "zerolinewidth": 2
          },
          "yaxis": {
           "automargin": true,
           "gridcolor": "white",
           "linecolor": "white",
           "ticks": "",
           "title": {
            "standoff": 15
           },
           "zerolinecolor": "white",
           "zerolinewidth": 2
          }
         }
        },
        "title": {
         "text": "My pink phylogenetic tree"
        },
        "width": 1000,
        "xaxis": {
         "title": {
          "text": "Branch Length"
         }
        },
        "yaxis": {
         "showgrid": false,
         "showline": false,
         "showticklabels": false,
         "title": {
          "text": ""
         },
         "zeroline": false
        }
       }
      }
     },
     "metadata": {},
     "output_type": "display_data"
    }
   ],
   "source": [
    "MY_COLORS =  [\n",
    "    \"rgb(255, 182, 193)\", \"rgb(255, 174, 185)\", \"rgb(255, 160, 122)\", \"rgb(255, 99, 71)\",\n",
    "    \"rgb(255, 69, 0)\", \"rgb(255, 20, 147)\", \"rgb(255, 105, 180)\", \"rgb(255, 192, 203)\",\n",
    "    \"rgb(255, 182, 193)\", \"rgb(255, 192, 203)\", \"rgb(255, 200, 200)\", \"rgb(255, 215, 215)\",\n",
    "    \"rgb(255, 230, 230)\", \"rgb(255, 240, 240)\", \"rgb(255, 250, 250)\",\"rgb(255, 255, 255)\"\n",
    "]\n",
    "tree_plot3 = phyloworld.create_phylotree(tree, metadata,\n",
    "                                         title = \"My pink phylogenetic tree\",\n",
    "                                         colors = MY_COLORS,\n",
    "                                         include_confidence=False)\n",
    "tree_plot3.show()"
   ]
  },
  {
   "cell_type": "markdown",
   "metadata": {},
   "source": [
    "## Generate world map plot\n",
    "\n",
    "### Plot choropleth world map"
   ]
  },
  {
   "cell_type": "code",
   "execution_count": 8,
   "metadata": {},
   "outputs": [
    {
     "data": {
      "application/vnd.plotly.v1+json": {
       "config": {
        "plotlyServerURL": "https://plot.ly"
       },
       "data": [
        {
         "colorbar": {
          "ticktext": [],
          "tickvals": [],
          "title": {
           "text": ""
          }
         },
         "colorscale": [
          [
           0,
           "#412c37"
          ],
          [
           1,
           "#412c37"
          ]
         ],
         "hoverinfo": "text",
         "locationmode": "country names",
         "locations": [
          "Algeria"
         ],
         "showscale": false,
         "text": "Country: Algeria<br>ID(s): 1700_04112013_AXDK00-0<br>0803_01012000_AXDK00-0<br>0803_26042014_AXDK00-0",
         "type": "choropleth",
         "z": [
          1
         ]
        },
        {
         "colorbar": {
          "ticktext": [],
          "tickvals": [],
          "title": {
           "text": ""
          }
         },
         "colorscale": [
          [
           0,
           "#6298c2"
          ],
          [
           1,
           "#6298c2"
          ]
         ],
         "hoverinfo": "text",
         "locationmode": "country names",
         "locations": [
          "Denmark"
         ],
         "showscale": false,
         "text": "Country: Denmark<br>ID(s): 0802_04042005_AXDK00-0<br>0802_18012008_AXDK00-0<br>9902_01011996_AXDK00-0<br>9902_01032004_AXDK00-0<br>9902_26012009_AXDK00-0<br>5103_07102016_AXDK00-0<br>6203_12122015_AXDK00-0<br>9203_01012000_AXDK00-0<br>6004_30102015_AXDK00-0<br>6604_17022016_AXDK00-0<br>8104_29042011_AXDK00-0<br>9704_29072010_AXDK00-0<br>2005_03022017_AXDK00-0<br>GCF_001558755-2_ASM155875v2_genomic.fasta",
         "type": "choropleth",
         "z": [
          1
         ]
        },
        {
         "colorbar": {
          "ticktext": [],
          "tickvals": [],
          "title": {
           "text": ""
          }
         },
         "colorscale": [
          [
           0,
           "#c30908"
          ],
          [
           1,
           "#c30908"
          ]
         ],
         "hoverinfo": "text",
         "locationmode": "country names",
         "locations": [
          "Lithuania"
         ],
         "showscale": false,
         "text": "Country: Lithuania<br>ID(s): 2202_04012011_AXDK00-0<br>7603_01011997_AXDK00-0<br>GCF_000165835-1_ASM16583v1_genomic.fasta",
         "type": "choropleth",
         "z": [
          1
         ]
        },
        {
         "colorbar": {
          "ticktext": [],
          "tickvals": [],
          "title": {
           "text": ""
          }
         },
         "colorscale": [
          [
           0,
           "#b8646a"
          ],
          [
           1,
           "#b8646a"
          ]
         ],
         "hoverinfo": "text",
         "locationmode": "country names",
         "locations": [
          "Angola"
         ],
         "showscale": false,
         "text": "Country: Angola<br>ID(s): 6402_27032017_AXDK00-0<br>0703_07082013_AXDK00-0<br>8603_03072008_AXDK00-0<br>8603_27082014_AXDK00-0<br>3004_24042007_AXDK00-0",
         "type": "choropleth",
         "z": [
          1
         ]
        },
        {
         "colorbar": {
          "ticktext": [],
          "tickvals": [],
          "title": {
           "text": ""
          }
         },
         "colorscale": [
          [
           0,
           "#74d3d7"
          ],
          [
           1,
           "#74d3d7"
          ]
         ],
         "hoverinfo": "text",
         "locationmode": "country names",
         "locations": [
          "Italy"
         ],
         "showscale": false,
         "text": "Country: Italy<br>ID(s): 7402_26022014_AXDK00-0<br>1903_01092016_AXDK00-0<br>1903_16122011_AXDK00-0<br>3403_27022012_AXDK00-0<br>4104_02122014_AXDK00-0<br>1705_21052013_AXDK00-0<br>1705_25012010_AXDK00-0<br>1705_30032007_AXDK00-0<br>GCF_001051055-1_ASM105105v1_genomic.fasta",
         "type": "choropleth",
         "z": [
          1
         ]
        },
        {
         "colorbar": {
          "ticktext": [],
          "tickvals": [],
          "title": {
           "text": ""
          }
         },
         "colorscale": [
          [
           0,
           "#7979ff"
          ],
          [
           1,
           "#7979ff"
          ]
         ],
         "hoverinfo": "text",
         "locationmode": "country names",
         "locations": [
          "Estonia"
         ],
         "showscale": false,
         "text": "Country: Estonia<br>ID(s): 0603_03012007_AXDK00-0<br>0603_08102003_AXDK00-0<br>6203_24092018_AXDK00-0",
         "type": "choropleth",
         "z": [
          1
         ]
        },
        {
         "colorbar": {
          "ticktext": [],
          "tickvals": [],
          "title": {
           "text": ""
          }
         },
         "colorscale": [
          [
           0,
           "#310511"
          ],
          [
           1,
           "#310511"
          ]
         ],
         "hoverinfo": "text",
         "locationmode": "country names",
         "locations": [
          "United States"
         ],
         "showscale": false,
         "text": "Country: United States<br>ID(s): 0703_23092011_AXDK00-0<br>0903_06012012_AXDK00-0<br>1703_16032010_AXDK00-0<br>1903_01011996_AXDK00-0<br>3203_19092012_AXDK00-0<br>4203_09102012_AXDK00-0<br>5803_17012011_AXDK00-0<br>6203_02102006_AXDK00-0<br>7603_04042014_AXDK00-0<br>7603_18022011_AXDK00-0<br>7603_19112008_AXDK00-0<br>9403_05092016_AXDK00-0<br>9403_29092004_AXDK00-0<br>9403_30102009_AXDK00-0<br>3504_09012015_AXDK00-0<br>3504_20122013_AXDK00-0<br>5204_15082016_AXDK03-0<br>8404_11122013_AXDK00-0<br>8404_11122013_AXDK00-1<br>8404_13022014_AXDK00-0<br>8504_05012016_AXDK02-0<br>8504_05012016_AXDK02-1<br>GCF_000758265-1_ASM75826v1_genomic.fasta<br>GCF_001457475-1_NCTC10807_genomic.fasta<br>GCF_900475575-1_44257_A01_genomic.fasta",
         "type": "choropleth",
         "z": [
          1
         ]
        },
        {
         "colorbar": {
          "ticktext": [],
          "tickvals": [],
          "title": {
           "text": ""
          }
         },
         "colorscale": [
          [
           0,
           "#534857"
          ],
          [
           1,
           "#534857"
          ]
         ],
         "hoverinfo": "text",
         "locationmode": "country names",
         "locations": [
          "Libya"
         ],
         "showscale": false,
         "text": "Country: Libya<br>ID(s): 0803_27042007_AXDK00-0<br>2103_11042016_AXDK00-0<br>6203_01012000_AXDK00-0<br>6604_25012007_AXDK00-0<br>6804_08032006_AXDK00-0",
         "type": "choropleth",
         "z": [
          1
         ]
        },
        {
         "colorbar": {
          "ticktext": [],
          "tickvals": [],
          "title": {
           "text": ""
          }
         },
         "colorscale": [
          [
           0,
           "#1495c5"
          ],
          [
           1,
           "#1495c5"
          ]
         ],
         "hoverinfo": "text",
         "locationmode": "country names",
         "locations": [
          "Mexico"
         ],
         "showscale": false,
         "text": "Country: Mexico<br>ID(s): 1903_27032006_AXDK00-0<br>3203_01011997_AXDK00-0<br>3203_07022014_AXDK00-0<br>3203_18042005_AXDK00-0<br>0604_30122003_AXDK00-0<br>9704_12082016_AXDK00-0<br>0610_14092016_AXDK00-0<br>0610_26012012_AXDK00-0",
         "type": "choropleth",
         "z": [
          1
         ]
        },
        {
         "colorbar": {
          "ticktext": [],
          "tickvals": [],
          "title": {
           "text": ""
          }
         },
         "colorscale": [
          [
           0,
           "#501795"
          ],
          [
           1,
           "#501795"
          ]
         ],
         "hoverinfo": "text",
         "locationmode": "country names",
         "locations": [
          "Spain"
         ],
         "showscale": false,
         "text": "Country: Spain<br>ID(s): 3403_06102003_AXDK00-0<br>5303_07102016_AXDK00-0<br>5604_07102016_AXDK00-0<br>5604_28082007_AXDK00-0<br>GCF_001558915-1_ASM155891v2_genomic.fasta",
         "type": "choropleth",
         "z": [
          1
         ]
        },
        {
         "colorbar": {
          "ticktext": [],
          "tickvals": [],
          "title": {
           "text": ""
          }
         },
         "colorscale": [
          [
           0,
           "#ebd03d"
          ],
          [
           1,
           "#ebd03d"
          ]
         ],
         "hoverinfo": "text",
         "locationmode": "country names",
         "locations": [
          "Poland"
         ],
         "showscale": false,
         "text": "Country: Poland<br>ID(s): 4203_09122014_AXDK00-0<br>4703_18022015_AXDK00-0<br>5303_14012004_AXDK00-0<br>5303_14102009_AXDK00-0<br>9503_02012007_AXDK00-0<br>9503_04032011_AXDK00-0<br>9503_27052014_AXDK00-0<br>9603_01042014_AXDK00-0<br>9603_28102003_AXDK00-0<br>9603_28112008_AXDK00-0",
         "type": "choropleth",
         "z": [
          1
         ]
        },
        {
         "colorbar": {
          "ticktext": [],
          "tickvals": [],
          "title": {
           "text": ""
          }
         },
         "colorscale": [
          [
           0,
           "#80c177"
          ],
          [
           1,
           "#80c177"
          ]
         ],
         "hoverinfo": "text",
         "locationmode": "country names",
         "locations": [
          "Turkey"
         ],
         "showscale": false,
         "text": "Country: Turkey<br>ID(s): 4703_01012000_AXDK00-0<br>4703_16022007_AXDK00-0<br>8511_07042017_AXDK00-0",
         "type": "choropleth",
         "z": [
          1
         ]
        },
        {
         "colorbar": {
          "ticktext": [],
          "tickvals": [],
          "title": {
           "text": ""
          }
         },
         "colorscale": [
          [
           0,
           "#cb7e9d"
          ],
          [
           1,
           "#cb7e9d"
          ]
         ],
         "hoverinfo": "text",
         "locationmode": "country names",
         "locations": [
          "France"
         ],
         "showscale": false,
         "text": "Country: France<br>ID(s): 7703_16032018_AXDK00-0<br>7703_19012017_AXDK00-0<br>3704_08022008_AXDK00-0<br>3704_26112003_AXDK00-0<br>3704_27062014_AXDK00-0<br>6004_19062007_AXDK00-0",
         "type": "choropleth",
         "z": [
          1
         ]
        },
        {
         "colorbar": {
          "ticktext": [],
          "tickvals": [],
          "title": {
           "text": ""
          }
         },
         "colorscale": [
          [
           0,
           "#8eff4a"
          ],
          [
           1,
           "#8eff4a"
          ]
         ],
         "hoverinfo": "text",
         "locationmode": "country names",
         "locations": [
          "Germany"
         ],
         "showscale": false,
         "text": "Country: Germany<br>ID(s): 8703_15032017_AXDK00-0",
         "type": "choropleth",
         "z": [
          1
         ]
        },
        {
         "colorbar": {
          "ticktext": [],
          "tickvals": [],
          "title": {
           "text": ""
          }
         },
         "colorscale": [
          [
           0,
           "#0ae43a"
          ],
          [
           1,
           "#0ae43a"
          ]
         ],
         "hoverinfo": "text",
         "locationmode": "country names",
         "locations": [
          "Egypt"
         ],
         "showscale": false,
         "text": "Country: Egypt<br>ID(s): 9203_08042016_AXDK00-0<br>9203_13122011_AXDK00-0<br>1704_01011999_AXDK00-0<br>1704_07022011_AXDK00-0<br>5611_13012017_AXDK00-0",
         "type": "choropleth",
         "z": [
          1
         ]
        },
        {
         "colorbar": {
          "ticktext": [],
          "tickvals": [],
          "title": {
           "text": ""
          }
         },
         "colorscale": [
          [
           0,
           "#a25b7c"
          ],
          [
           1,
           "#a25b7c"
          ]
         ],
         "hoverinfo": "text",
         "locationmode": "country names",
         "locations": [
          "Canada"
         ],
         "showscale": false,
         "text": "Country: Canada<br>ID(s): 2605_06072016_AXDK00-0<br>8605_01062016_AXDK04-0<br>8605_07052018_AXDK00-0<br>GCF_001559195-1_ASM155919v2_genomic.fasta",
         "type": "choropleth",
         "z": [
          1
         ]
        }
       ],
       "layout": {
        "geo": {
         "coastlinecolor": "rgb(255, 255, 255)",
         "countrycolor": "rgb(0, 0, 0)",
         "countrywidth": 0.5,
         "landcolor": "rgb(217, 217, 217)",
         "lataxis": {
          "range": [
           -90,
           90
          ]
         },
         "lonaxis": {
          "range": [
           -180,
           180
          ]
         },
         "resolution": 110,
         "showcoastlines": true,
         "showcountries": true,
         "showland": true
        },
        "height": 600,
        "template": {
         "data": {
          "bar": [
           {
            "error_x": {
             "color": "#2a3f5f"
            },
            "error_y": {
             "color": "#2a3f5f"
            },
            "marker": {
             "line": {
              "color": "#E5ECF6",
              "width": 0.5
             },
             "pattern": {
              "fillmode": "overlay",
              "size": 10,
              "solidity": 0.2
             }
            },
            "type": "bar"
           }
          ],
          "barpolar": [
           {
            "marker": {
             "line": {
              "color": "#E5ECF6",
              "width": 0.5
             },
             "pattern": {
              "fillmode": "overlay",
              "size": 10,
              "solidity": 0.2
             }
            },
            "type": "barpolar"
           }
          ],
          "carpet": [
           {
            "aaxis": {
             "endlinecolor": "#2a3f5f",
             "gridcolor": "white",
             "linecolor": "white",
             "minorgridcolor": "white",
             "startlinecolor": "#2a3f5f"
            },
            "baxis": {
             "endlinecolor": "#2a3f5f",
             "gridcolor": "white",
             "linecolor": "white",
             "minorgridcolor": "white",
             "startlinecolor": "#2a3f5f"
            },
            "type": "carpet"
           }
          ],
          "choropleth": [
           {
            "colorbar": {
             "outlinewidth": 0,
             "ticks": ""
            },
            "type": "choropleth"
           }
          ],
          "contour": [
           {
            "colorbar": {
             "outlinewidth": 0,
             "ticks": ""
            },
            "colorscale": [
             [
              0,
              "#0d0887"
             ],
             [
              0.1111111111111111,
              "#46039f"
             ],
             [
              0.2222222222222222,
              "#7201a8"
             ],
             [
              0.3333333333333333,
              "#9c179e"
             ],
             [
              0.4444444444444444,
              "#bd3786"
             ],
             [
              0.5555555555555556,
              "#d8576b"
             ],
             [
              0.6666666666666666,
              "#ed7953"
             ],
             [
              0.7777777777777778,
              "#fb9f3a"
             ],
             [
              0.8888888888888888,
              "#fdca26"
             ],
             [
              1,
              "#f0f921"
             ]
            ],
            "type": "contour"
           }
          ],
          "contourcarpet": [
           {
            "colorbar": {
             "outlinewidth": 0,
             "ticks": ""
            },
            "type": "contourcarpet"
           }
          ],
          "heatmap": [
           {
            "colorbar": {
             "outlinewidth": 0,
             "ticks": ""
            },
            "colorscale": [
             [
              0,
              "#0d0887"
             ],
             [
              0.1111111111111111,
              "#46039f"
             ],
             [
              0.2222222222222222,
              "#7201a8"
             ],
             [
              0.3333333333333333,
              "#9c179e"
             ],
             [
              0.4444444444444444,
              "#bd3786"
             ],
             [
              0.5555555555555556,
              "#d8576b"
             ],
             [
              0.6666666666666666,
              "#ed7953"
             ],
             [
              0.7777777777777778,
              "#fb9f3a"
             ],
             [
              0.8888888888888888,
              "#fdca26"
             ],
             [
              1,
              "#f0f921"
             ]
            ],
            "type": "heatmap"
           }
          ],
          "heatmapgl": [
           {
            "colorbar": {
             "outlinewidth": 0,
             "ticks": ""
            },
            "colorscale": [
             [
              0,
              "#0d0887"
             ],
             [
              0.1111111111111111,
              "#46039f"
             ],
             [
              0.2222222222222222,
              "#7201a8"
             ],
             [
              0.3333333333333333,
              "#9c179e"
             ],
             [
              0.4444444444444444,
              "#bd3786"
             ],
             [
              0.5555555555555556,
              "#d8576b"
             ],
             [
              0.6666666666666666,
              "#ed7953"
             ],
             [
              0.7777777777777778,
              "#fb9f3a"
             ],
             [
              0.8888888888888888,
              "#fdca26"
             ],
             [
              1,
              "#f0f921"
             ]
            ],
            "type": "heatmapgl"
           }
          ],
          "histogram": [
           {
            "marker": {
             "pattern": {
              "fillmode": "overlay",
              "size": 10,
              "solidity": 0.2
             }
            },
            "type": "histogram"
           }
          ],
          "histogram2d": [
           {
            "colorbar": {
             "outlinewidth": 0,
             "ticks": ""
            },
            "colorscale": [
             [
              0,
              "#0d0887"
             ],
             [
              0.1111111111111111,
              "#46039f"
             ],
             [
              0.2222222222222222,
              "#7201a8"
             ],
             [
              0.3333333333333333,
              "#9c179e"
             ],
             [
              0.4444444444444444,
              "#bd3786"
             ],
             [
              0.5555555555555556,
              "#d8576b"
             ],
             [
              0.6666666666666666,
              "#ed7953"
             ],
             [
              0.7777777777777778,
              "#fb9f3a"
             ],
             [
              0.8888888888888888,
              "#fdca26"
             ],
             [
              1,
              "#f0f921"
             ]
            ],
            "type": "histogram2d"
           }
          ],
          "histogram2dcontour": [
           {
            "colorbar": {
             "outlinewidth": 0,
             "ticks": ""
            },
            "colorscale": [
             [
              0,
              "#0d0887"
             ],
             [
              0.1111111111111111,
              "#46039f"
             ],
             [
              0.2222222222222222,
              "#7201a8"
             ],
             [
              0.3333333333333333,
              "#9c179e"
             ],
             [
              0.4444444444444444,
              "#bd3786"
             ],
             [
              0.5555555555555556,
              "#d8576b"
             ],
             [
              0.6666666666666666,
              "#ed7953"
             ],
             [
              0.7777777777777778,
              "#fb9f3a"
             ],
             [
              0.8888888888888888,
              "#fdca26"
             ],
             [
              1,
              "#f0f921"
             ]
            ],
            "type": "histogram2dcontour"
           }
          ],
          "mesh3d": [
           {
            "colorbar": {
             "outlinewidth": 0,
             "ticks": ""
            },
            "type": "mesh3d"
           }
          ],
          "parcoords": [
           {
            "line": {
             "colorbar": {
              "outlinewidth": 0,
              "ticks": ""
             }
            },
            "type": "parcoords"
           }
          ],
          "pie": [
           {
            "automargin": true,
            "type": "pie"
           }
          ],
          "scatter": [
           {
            "fillpattern": {
             "fillmode": "overlay",
             "size": 10,
             "solidity": 0.2
            },
            "type": "scatter"
           }
          ],
          "scatter3d": [
           {
            "line": {
             "colorbar": {
              "outlinewidth": 0,
              "ticks": ""
             }
            },
            "marker": {
             "colorbar": {
              "outlinewidth": 0,
              "ticks": ""
             }
            },
            "type": "scatter3d"
           }
          ],
          "scattercarpet": [
           {
            "marker": {
             "colorbar": {
              "outlinewidth": 0,
              "ticks": ""
             }
            },
            "type": "scattercarpet"
           }
          ],
          "scattergeo": [
           {
            "marker": {
             "colorbar": {
              "outlinewidth": 0,
              "ticks": ""
             }
            },
            "type": "scattergeo"
           }
          ],
          "scattergl": [
           {
            "marker": {
             "colorbar": {
              "outlinewidth": 0,
              "ticks": ""
             }
            },
            "type": "scattergl"
           }
          ],
          "scattermapbox": [
           {
            "marker": {
             "colorbar": {
              "outlinewidth": 0,
              "ticks": ""
             }
            },
            "type": "scattermapbox"
           }
          ],
          "scatterpolar": [
           {
            "marker": {
             "colorbar": {
              "outlinewidth": 0,
              "ticks": ""
             }
            },
            "type": "scatterpolar"
           }
          ],
          "scatterpolargl": [
           {
            "marker": {
             "colorbar": {
              "outlinewidth": 0,
              "ticks": ""
             }
            },
            "type": "scatterpolargl"
           }
          ],
          "scatterternary": [
           {
            "marker": {
             "colorbar": {
              "outlinewidth": 0,
              "ticks": ""
             }
            },
            "type": "scatterternary"
           }
          ],
          "surface": [
           {
            "colorbar": {
             "outlinewidth": 0,
             "ticks": ""
            },
            "colorscale": [
             [
              0,
              "#0d0887"
             ],
             [
              0.1111111111111111,
              "#46039f"
             ],
             [
              0.2222222222222222,
              "#7201a8"
             ],
             [
              0.3333333333333333,
              "#9c179e"
             ],
             [
              0.4444444444444444,
              "#bd3786"
             ],
             [
              0.5555555555555556,
              "#d8576b"
             ],
             [
              0.6666666666666666,
              "#ed7953"
             ],
             [
              0.7777777777777778,
              "#fb9f3a"
             ],
             [
              0.8888888888888888,
              "#fdca26"
             ],
             [
              1,
              "#f0f921"
             ]
            ],
            "type": "surface"
           }
          ],
          "table": [
           {
            "cells": {
             "fill": {
              "color": "#EBF0F8"
             },
             "line": {
              "color": "white"
             }
            },
            "header": {
             "fill": {
              "color": "#C8D4E3"
             },
             "line": {
              "color": "white"
             }
            },
            "type": "table"
           }
          ]
         },
         "layout": {
          "annotationdefaults": {
           "arrowcolor": "#2a3f5f",
           "arrowhead": 0,
           "arrowwidth": 1
          },
          "autotypenumbers": "strict",
          "coloraxis": {
           "colorbar": {
            "outlinewidth": 0,
            "ticks": ""
           }
          },
          "colorscale": {
           "diverging": [
            [
             0,
             "#8e0152"
            ],
            [
             0.1,
             "#c51b7d"
            ],
            [
             0.2,
             "#de77ae"
            ],
            [
             0.3,
             "#f1b6da"
            ],
            [
             0.4,
             "#fde0ef"
            ],
            [
             0.5,
             "#f7f7f7"
            ],
            [
             0.6,
             "#e6f5d0"
            ],
            [
             0.7,
             "#b8e186"
            ],
            [
             0.8,
             "#7fbc41"
            ],
            [
             0.9,
             "#4d9221"
            ],
            [
             1,
             "#276419"
            ]
           ],
           "sequential": [
            [
             0,
             "#0d0887"
            ],
            [
             0.1111111111111111,
             "#46039f"
            ],
            [
             0.2222222222222222,
             "#7201a8"
            ],
            [
             0.3333333333333333,
             "#9c179e"
            ],
            [
             0.4444444444444444,
             "#bd3786"
            ],
            [
             0.5555555555555556,
             "#d8576b"
            ],
            [
             0.6666666666666666,
             "#ed7953"
            ],
            [
             0.7777777777777778,
             "#fb9f3a"
            ],
            [
             0.8888888888888888,
             "#fdca26"
            ],
            [
             1,
             "#f0f921"
            ]
           ],
           "sequentialminus": [
            [
             0,
             "#0d0887"
            ],
            [
             0.1111111111111111,
             "#46039f"
            ],
            [
             0.2222222222222222,
             "#7201a8"
            ],
            [
             0.3333333333333333,
             "#9c179e"
            ],
            [
             0.4444444444444444,
             "#bd3786"
            ],
            [
             0.5555555555555556,
             "#d8576b"
            ],
            [
             0.6666666666666666,
             "#ed7953"
            ],
            [
             0.7777777777777778,
             "#fb9f3a"
            ],
            [
             0.8888888888888888,
             "#fdca26"
            ],
            [
             1,
             "#f0f921"
            ]
           ]
          },
          "colorway": [
           "#636efa",
           "#EF553B",
           "#00cc96",
           "#ab63fa",
           "#FFA15A",
           "#19d3f3",
           "#FF6692",
           "#B6E880",
           "#FF97FF",
           "#FECB52"
          ],
          "font": {
           "color": "#2a3f5f"
          },
          "geo": {
           "bgcolor": "white",
           "lakecolor": "white",
           "landcolor": "#E5ECF6",
           "showlakes": true,
           "showland": true,
           "subunitcolor": "white"
          },
          "hoverlabel": {
           "align": "left"
          },
          "hovermode": "closest",
          "mapbox": {
           "style": "light"
          },
          "paper_bgcolor": "white",
          "plot_bgcolor": "#E5ECF6",
          "polar": {
           "angularaxis": {
            "gridcolor": "white",
            "linecolor": "white",
            "ticks": ""
           },
           "bgcolor": "#E5ECF6",
           "radialaxis": {
            "gridcolor": "white",
            "linecolor": "white",
            "ticks": ""
           }
          },
          "scene": {
           "xaxis": {
            "backgroundcolor": "#E5ECF6",
            "gridcolor": "white",
            "gridwidth": 2,
            "linecolor": "white",
            "showbackground": true,
            "ticks": "",
            "zerolinecolor": "white"
           },
           "yaxis": {
            "backgroundcolor": "#E5ECF6",
            "gridcolor": "white",
            "gridwidth": 2,
            "linecolor": "white",
            "showbackground": true,
            "ticks": "",
            "zerolinecolor": "white"
           },
           "zaxis": {
            "backgroundcolor": "#E5ECF6",
            "gridcolor": "white",
            "gridwidth": 2,
            "linecolor": "white",
            "showbackground": true,
            "ticks": "",
            "zerolinecolor": "white"
           }
          },
          "shapedefaults": {
           "line": {
            "color": "#2a3f5f"
           }
          },
          "ternary": {
           "aaxis": {
            "gridcolor": "white",
            "linecolor": "white",
            "ticks": ""
           },
           "baxis": {
            "gridcolor": "white",
            "linecolor": "white",
            "ticks": ""
           },
           "bgcolor": "#E5ECF6",
           "caxis": {
            "gridcolor": "white",
            "linecolor": "white",
            "ticks": ""
           }
          },
          "title": {
           "x": 0.05
          },
          "xaxis": {
           "automargin": true,
           "gridcolor": "white",
           "linecolor": "white",
           "ticks": "",
           "title": {
            "standoff": 15
           },
           "zerolinecolor": "white",
           "zerolinewidth": 2
          },
          "yaxis": {
           "automargin": true,
           "gridcolor": "white",
           "linecolor": "white",
           "ticks": "",
           "title": {
            "standoff": 15
           },
           "zerolinecolor": "white",
           "zerolinewidth": 2
          }
         }
        },
        "title": {
         "text": "My world map (Choropleth)"
        },
        "width": 1000
       }
      }
     },
     "metadata": {},
     "output_type": "display_data"
    }
   ],
   "source": [
    "world_map_fig = phyloworld.create_world_map(metadata_with_coordinates, \n",
    "                                            title=\"My world map (Choropleth)\")\n",
    "world_map_fig.show()"
   ]
  },
  {
   "cell_type": "markdown",
   "metadata": {},
   "source": [
    "### Plot scatter plot map"
   ]
  },
  {
   "cell_type": "code",
   "execution_count": 9,
   "metadata": {},
   "outputs": [
    {
     "data": {
      "application/vnd.plotly.v1+json": {
       "config": {
        "plotlyServerURL": "https://plot.ly"
       },
       "data": [
        {
         "hoverinfo": "text",
         "lat": [
          28.0000272,
          28.0000272,
          28.0000272
         ],
         "lon": [
          2.9999825,
          2.9999825,
          2.9999825
         ],
         "marker": {
          "color": "#412c37",
          "opacity": 0.8,
          "size": 5
         },
         "mode": "markers",
         "showlegend": false,
         "text": "Country: Algeria<br>ID(s): 1700_04112013_AXDK00-0<br>0803_01012000_AXDK00-0<br>0803_26042014_AXDK00-0",
         "type": "scattergeo"
        },
        {
         "hoverinfo": "text",
         "lat": [
          55.670249,
          55.670249,
          55.670249,
          55.670249,
          55.670249,
          55.670249,
          55.670249,
          55.670249,
          55.670249,
          55.670249,
          55.670249,
          55.670249,
          55.670249,
          55.670249
         ],
         "lon": [
          10.3333283,
          10.3333283,
          10.3333283,
          10.3333283,
          10.3333283,
          10.3333283,
          10.3333283,
          10.3333283,
          10.3333283,
          10.3333283,
          10.3333283,
          10.3333283,
          10.3333283,
          10.3333283
         ],
         "marker": {
          "color": "#6298c2",
          "opacity": 0.8,
          "size": 5
         },
         "mode": "markers",
         "showlegend": false,
         "text": "Country: Denmark<br>ID(s): 0802_04042005_AXDK00-0<br>0802_18012008_AXDK00-0<br>9902_01011996_AXDK00-0<br>9902_01032004_AXDK00-0<br>9902_26012009_AXDK00-0<br>5103_07102016_AXDK00-0<br>6203_12122015_AXDK00-0<br>9203_01012000_AXDK00-0<br>6004_30102015_AXDK00-0<br>6604_17022016_AXDK00-0<br>8104_29042011_AXDK00-0<br>9704_29072010_AXDK00-0<br>2005_03022017_AXDK00-0<br>GCF_001558755-2_ASM155875v2_genomic.fasta",
         "type": "scattergeo"
        },
        {
         "hoverinfo": "text",
         "lat": [
          55.3500003,
          55.3500003,
          55.3500003
         ],
         "lon": [
          23.7499997,
          23.7499997,
          23.7499997
         ],
         "marker": {
          "color": "#c30908",
          "opacity": 0.8,
          "size": 5
         },
         "mode": "markers",
         "showlegend": false,
         "text": "Country: Lithuania<br>ID(s): 2202_04012011_AXDK00-0<br>7603_01011997_AXDK00-0<br>GCF_000165835-1_ASM16583v1_genomic.fasta",
         "type": "scattergeo"
        },
        {
         "hoverinfo": "text",
         "lat": [
          -11.8775768,
          -11.8775768,
          -11.8775768,
          -11.8775768,
          -11.8775768
         ],
         "lon": [
          17.5691241,
          17.5691241,
          17.5691241,
          17.5691241,
          17.5691241
         ],
         "marker": {
          "color": "#b8646a",
          "opacity": 0.8,
          "size": 5
         },
         "mode": "markers",
         "showlegend": false,
         "text": "Country: Angola<br>ID(s): 6402_27032017_AXDK00-0<br>0703_07082013_AXDK00-0<br>8603_03072008_AXDK00-0<br>8603_27082014_AXDK00-0<br>3004_24042007_AXDK00-0",
         "type": "scattergeo"
        },
        {
         "hoverinfo": "text",
         "lat": [
          42.6384261,
          42.6384261,
          42.6384261,
          42.6384261,
          42.6384261,
          42.6384261,
          42.6384261,
          42.6384261,
          42.6384261
         ],
         "lon": [
          12.674297,
          12.674297,
          12.674297,
          12.674297,
          12.674297,
          12.674297,
          12.674297,
          12.674297,
          12.674297
         ],
         "marker": {
          "color": "#74d3d7",
          "opacity": 0.8,
          "size": 5
         },
         "mode": "markers",
         "showlegend": false,
         "text": "Country: Italy<br>ID(s): 7402_26022014_AXDK00-0<br>1903_01092016_AXDK00-0<br>1903_16122011_AXDK00-0<br>3403_27022012_AXDK00-0<br>4104_02122014_AXDK00-0<br>1705_21052013_AXDK00-0<br>1705_25012010_AXDK00-0<br>1705_30032007_AXDK00-0<br>GCF_001051055-1_ASM105105v1_genomic.fasta",
         "type": "scattergeo"
        },
        {
         "hoverinfo": "text",
         "lat": [
          58.7523778,
          58.7523778,
          58.7523778
         ],
         "lon": [
          25.3319078,
          25.3319078,
          25.3319078
         ],
         "marker": {
          "color": "#7979ff",
          "opacity": 0.8,
          "size": 5
         },
         "mode": "markers",
         "showlegend": false,
         "text": "Country: Estonia<br>ID(s): 0603_03012007_AXDK00-0<br>0603_08102003_AXDK00-0<br>6203_24092018_AXDK00-0",
         "type": "scattergeo"
        },
        {
         "hoverinfo": "text",
         "lat": [
          39.7837304,
          39.7837304,
          39.7837304,
          39.7837304,
          39.7837304,
          39.7837304,
          39.7837304,
          39.7837304,
          39.7837304,
          39.7837304,
          39.7837304,
          39.7837304,
          39.7837304,
          39.7837304,
          39.7837304,
          39.7837304,
          39.7837304,
          39.7837304,
          39.7837304,
          39.7837304,
          39.7837304,
          39.7837304,
          39.7837304,
          39.7837304,
          39.7837304
         ],
         "lon": [
          -100.445882,
          -100.445882,
          -100.445882,
          -100.445882,
          -100.445882,
          -100.445882,
          -100.445882,
          -100.445882,
          -100.445882,
          -100.445882,
          -100.445882,
          -100.445882,
          -100.445882,
          -100.445882,
          -100.445882,
          -100.445882,
          -100.445882,
          -100.445882,
          -100.445882,
          -100.445882,
          -100.445882,
          -100.445882,
          -100.445882,
          -100.445882,
          -100.445882
         ],
         "marker": {
          "color": "#310511",
          "opacity": 0.8,
          "size": 5
         },
         "mode": "markers",
         "showlegend": false,
         "text": "Country: United States<br>ID(s): 0703_23092011_AXDK00-0<br>0903_06012012_AXDK00-0<br>1703_16032010_AXDK00-0<br>1903_01011996_AXDK00-0<br>3203_19092012_AXDK00-0<br>4203_09102012_AXDK00-0<br>5803_17012011_AXDK00-0<br>6203_02102006_AXDK00-0<br>7603_04042014_AXDK00-0<br>7603_18022011_AXDK00-0<br>7603_19112008_AXDK00-0<br>9403_05092016_AXDK00-0<br>9403_29092004_AXDK00-0<br>9403_30102009_AXDK00-0<br>3504_09012015_AXDK00-0<br>3504_20122013_AXDK00-0<br>5204_15082016_AXDK03-0<br>8404_11122013_AXDK00-0<br>8404_11122013_AXDK00-1<br>8404_13022014_AXDK00-0<br>8504_05012016_AXDK02-0<br>8504_05012016_AXDK02-1<br>GCF_000758265-1_ASM75826v1_genomic.fasta<br>GCF_001457475-1_NCTC10807_genomic.fasta<br>GCF_900475575-1_44257_A01_genomic.fasta",
         "type": "scattergeo"
        },
        {
         "hoverinfo": "text",
         "lat": [
          26.8234472,
          26.8234472,
          26.8234472,
          26.8234472,
          26.8234472
         ],
         "lon": [
          18.1236723,
          18.1236723,
          18.1236723,
          18.1236723,
          18.1236723
         ],
         "marker": {
          "color": "#534857",
          "opacity": 0.8,
          "size": 5
         },
         "mode": "markers",
         "showlegend": false,
         "text": "Country: Libya<br>ID(s): 0803_27042007_AXDK00-0<br>2103_11042016_AXDK00-0<br>6203_01012000_AXDK00-0<br>6604_25012007_AXDK00-0<br>6804_08032006_AXDK00-0",
         "type": "scattergeo"
        },
        {
         "hoverinfo": "text",
         "lat": [
          23.6585116,
          23.6585116,
          23.6585116,
          23.6585116,
          23.6585116,
          23.6585116,
          23.6585116,
          23.6585116
         ],
         "lon": [
          -102.0077097,
          -102.0077097,
          -102.0077097,
          -102.0077097,
          -102.0077097,
          -102.0077097,
          -102.0077097,
          -102.0077097
         ],
         "marker": {
          "color": "#1495c5",
          "opacity": 0.8,
          "size": 5
         },
         "mode": "markers",
         "showlegend": false,
         "text": "Country: Mexico<br>ID(s): 1903_27032006_AXDK00-0<br>3203_01011997_AXDK00-0<br>3203_07022014_AXDK00-0<br>3203_18042005_AXDK00-0<br>0604_30122003_AXDK00-0<br>9704_12082016_AXDK00-0<br>0610_14092016_AXDK00-0<br>0610_26012012_AXDK00-0",
         "type": "scattergeo"
        },
        {
         "hoverinfo": "text",
         "lat": [
          39.3260685,
          39.3260685,
          39.3260685,
          39.3260685,
          39.3260685
         ],
         "lon": [
          -4.8379791,
          -4.8379791,
          -4.8379791,
          -4.8379791,
          -4.8379791
         ],
         "marker": {
          "color": "#501795",
          "opacity": 0.8,
          "size": 5
         },
         "mode": "markers",
         "showlegend": false,
         "text": "Country: Spain<br>ID(s): 3403_06102003_AXDK00-0<br>5303_07102016_AXDK00-0<br>5604_07102016_AXDK00-0<br>5604_28082007_AXDK00-0<br>GCF_001558915-1_ASM155891v2_genomic.fasta",
         "type": "scattergeo"
        },
        {
         "hoverinfo": "text",
         "lat": [
          52.215933,
          52.215933,
          52.215933,
          52.215933,
          52.215933,
          52.215933,
          52.215933,
          52.215933,
          52.215933,
          52.215933
         ],
         "lon": [
          19.134422,
          19.134422,
          19.134422,
          19.134422,
          19.134422,
          19.134422,
          19.134422,
          19.134422,
          19.134422,
          19.134422
         ],
         "marker": {
          "color": "#ebd03d",
          "opacity": 0.8,
          "size": 5
         },
         "mode": "markers",
         "showlegend": false,
         "text": "Country: Poland<br>ID(s): 4203_09122014_AXDK00-0<br>4703_18022015_AXDK00-0<br>5303_14012004_AXDK00-0<br>5303_14102009_AXDK00-0<br>9503_02012007_AXDK00-0<br>9503_04032011_AXDK00-0<br>9503_27052014_AXDK00-0<br>9603_01042014_AXDK00-0<br>9603_28102003_AXDK00-0<br>9603_28112008_AXDK00-0",
         "type": "scattergeo"
        },
        {
         "hoverinfo": "text",
         "lat": [
          38.9597594,
          38.9597594,
          38.9597594
         ],
         "lon": [
          34.9249653,
          34.9249653,
          34.9249653
         ],
         "marker": {
          "color": "#80c177",
          "opacity": 0.8,
          "size": 5
         },
         "mode": "markers",
         "showlegend": false,
         "text": "Country: Turkey<br>ID(s): 4703_01012000_AXDK00-0<br>4703_16022007_AXDK00-0<br>8511_07042017_AXDK00-0",
         "type": "scattergeo"
        },
        {
         "hoverinfo": "text",
         "lat": [
          46.603354,
          46.603354,
          46.603354,
          46.603354,
          46.603354,
          46.603354
         ],
         "lon": [
          1.8883335,
          1.8883335,
          1.8883335,
          1.8883335,
          1.8883335,
          1.8883335
         ],
         "marker": {
          "color": "#cb7e9d",
          "opacity": 0.8,
          "size": 5
         },
         "mode": "markers",
         "showlegend": false,
         "text": "Country: France<br>ID(s): 7703_16032018_AXDK00-0<br>7703_19012017_AXDK00-0<br>3704_08022008_AXDK00-0<br>3704_26112003_AXDK00-0<br>3704_27062014_AXDK00-0<br>6004_19062007_AXDK00-0",
         "type": "scattergeo"
        },
        {
         "hoverinfo": "text",
         "lat": [
          51.1638175
         ],
         "lon": [
          10.4478313
         ],
         "marker": {
          "color": "#8eff4a",
          "opacity": 0.8,
          "size": 5
         },
         "mode": "markers",
         "showlegend": false,
         "text": "Country: Germany<br>ID(s): 8703_15032017_AXDK00-0",
         "type": "scattergeo"
        },
        {
         "hoverinfo": "text",
         "lat": [
          26.2540493,
          26.2540493,
          26.2540493,
          26.2540493,
          26.2540493
         ],
         "lon": [
          29.2675469,
          29.2675469,
          29.2675469,
          29.2675469,
          29.2675469
         ],
         "marker": {
          "color": "#0ae43a",
          "opacity": 0.8,
          "size": 5
         },
         "mode": "markers",
         "showlegend": false,
         "text": "Country: Egypt<br>ID(s): 9203_08042016_AXDK00-0<br>9203_13122011_AXDK00-0<br>1704_01011999_AXDK00-0<br>1704_07022011_AXDK00-0<br>5611_13012017_AXDK00-0",
         "type": "scattergeo"
        },
        {
         "hoverinfo": "text",
         "lat": [
          61.0666922,
          61.0666922,
          61.0666922,
          61.0666922
         ],
         "lon": [
          -107.991707,
          -107.991707,
          -107.991707,
          -107.991707
         ],
         "marker": {
          "color": "#a25b7c",
          "opacity": 0.8,
          "size": 5
         },
         "mode": "markers",
         "showlegend": false,
         "text": "Country: Canada<br>ID(s): 2605_06072016_AXDK00-0<br>8605_01062016_AXDK04-0<br>8605_07052018_AXDK00-0<br>GCF_001559195-1_ASM155919v2_genomic.fasta",
         "type": "scattergeo"
        }
       ],
       "layout": {
        "geo": {
         "coastlinecolor": "rgb(255, 255, 255)",
         "countrycolor": "rgb(0, 0, 0)",
         "countrywidth": 0.5,
         "landcolor": "rgb(217, 217, 217)",
         "lataxis": {
          "range": [
           -90,
           90
          ]
         },
         "lonaxis": {
          "range": [
           -180,
           180
          ]
         },
         "resolution": 110,
         "showcoastlines": true,
         "showcountries": true,
         "showland": true
        },
        "height": 600,
        "template": {
         "data": {
          "bar": [
           {
            "error_x": {
             "color": "#2a3f5f"
            },
            "error_y": {
             "color": "#2a3f5f"
            },
            "marker": {
             "line": {
              "color": "#E5ECF6",
              "width": 0.5
             },
             "pattern": {
              "fillmode": "overlay",
              "size": 10,
              "solidity": 0.2
             }
            },
            "type": "bar"
           }
          ],
          "barpolar": [
           {
            "marker": {
             "line": {
              "color": "#E5ECF6",
              "width": 0.5
             },
             "pattern": {
              "fillmode": "overlay",
              "size": 10,
              "solidity": 0.2
             }
            },
            "type": "barpolar"
           }
          ],
          "carpet": [
           {
            "aaxis": {
             "endlinecolor": "#2a3f5f",
             "gridcolor": "white",
             "linecolor": "white",
             "minorgridcolor": "white",
             "startlinecolor": "#2a3f5f"
            },
            "baxis": {
             "endlinecolor": "#2a3f5f",
             "gridcolor": "white",
             "linecolor": "white",
             "minorgridcolor": "white",
             "startlinecolor": "#2a3f5f"
            },
            "type": "carpet"
           }
          ],
          "choropleth": [
           {
            "colorbar": {
             "outlinewidth": 0,
             "ticks": ""
            },
            "type": "choropleth"
           }
          ],
          "contour": [
           {
            "colorbar": {
             "outlinewidth": 0,
             "ticks": ""
            },
            "colorscale": [
             [
              0,
              "#0d0887"
             ],
             [
              0.1111111111111111,
              "#46039f"
             ],
             [
              0.2222222222222222,
              "#7201a8"
             ],
             [
              0.3333333333333333,
              "#9c179e"
             ],
             [
              0.4444444444444444,
              "#bd3786"
             ],
             [
              0.5555555555555556,
              "#d8576b"
             ],
             [
              0.6666666666666666,
              "#ed7953"
             ],
             [
              0.7777777777777778,
              "#fb9f3a"
             ],
             [
              0.8888888888888888,
              "#fdca26"
             ],
             [
              1,
              "#f0f921"
             ]
            ],
            "type": "contour"
           }
          ],
          "contourcarpet": [
           {
            "colorbar": {
             "outlinewidth": 0,
             "ticks": ""
            },
            "type": "contourcarpet"
           }
          ],
          "heatmap": [
           {
            "colorbar": {
             "outlinewidth": 0,
             "ticks": ""
            },
            "colorscale": [
             [
              0,
              "#0d0887"
             ],
             [
              0.1111111111111111,
              "#46039f"
             ],
             [
              0.2222222222222222,
              "#7201a8"
             ],
             [
              0.3333333333333333,
              "#9c179e"
             ],
             [
              0.4444444444444444,
              "#bd3786"
             ],
             [
              0.5555555555555556,
              "#d8576b"
             ],
             [
              0.6666666666666666,
              "#ed7953"
             ],
             [
              0.7777777777777778,
              "#fb9f3a"
             ],
             [
              0.8888888888888888,
              "#fdca26"
             ],
             [
              1,
              "#f0f921"
             ]
            ],
            "type": "heatmap"
           }
          ],
          "heatmapgl": [
           {
            "colorbar": {
             "outlinewidth": 0,
             "ticks": ""
            },
            "colorscale": [
             [
              0,
              "#0d0887"
             ],
             [
              0.1111111111111111,
              "#46039f"
             ],
             [
              0.2222222222222222,
              "#7201a8"
             ],
             [
              0.3333333333333333,
              "#9c179e"
             ],
             [
              0.4444444444444444,
              "#bd3786"
             ],
             [
              0.5555555555555556,
              "#d8576b"
             ],
             [
              0.6666666666666666,
              "#ed7953"
             ],
             [
              0.7777777777777778,
              "#fb9f3a"
             ],
             [
              0.8888888888888888,
              "#fdca26"
             ],
             [
              1,
              "#f0f921"
             ]
            ],
            "type": "heatmapgl"
           }
          ],
          "histogram": [
           {
            "marker": {
             "pattern": {
              "fillmode": "overlay",
              "size": 10,
              "solidity": 0.2
             }
            },
            "type": "histogram"
           }
          ],
          "histogram2d": [
           {
            "colorbar": {
             "outlinewidth": 0,
             "ticks": ""
            },
            "colorscale": [
             [
              0,
              "#0d0887"
             ],
             [
              0.1111111111111111,
              "#46039f"
             ],
             [
              0.2222222222222222,
              "#7201a8"
             ],
             [
              0.3333333333333333,
              "#9c179e"
             ],
             [
              0.4444444444444444,
              "#bd3786"
             ],
             [
              0.5555555555555556,
              "#d8576b"
             ],
             [
              0.6666666666666666,
              "#ed7953"
             ],
             [
              0.7777777777777778,
              "#fb9f3a"
             ],
             [
              0.8888888888888888,
              "#fdca26"
             ],
             [
              1,
              "#f0f921"
             ]
            ],
            "type": "histogram2d"
           }
          ],
          "histogram2dcontour": [
           {
            "colorbar": {
             "outlinewidth": 0,
             "ticks": ""
            },
            "colorscale": [
             [
              0,
              "#0d0887"
             ],
             [
              0.1111111111111111,
              "#46039f"
             ],
             [
              0.2222222222222222,
              "#7201a8"
             ],
             [
              0.3333333333333333,
              "#9c179e"
             ],
             [
              0.4444444444444444,
              "#bd3786"
             ],
             [
              0.5555555555555556,
              "#d8576b"
             ],
             [
              0.6666666666666666,
              "#ed7953"
             ],
             [
              0.7777777777777778,
              "#fb9f3a"
             ],
             [
              0.8888888888888888,
              "#fdca26"
             ],
             [
              1,
              "#f0f921"
             ]
            ],
            "type": "histogram2dcontour"
           }
          ],
          "mesh3d": [
           {
            "colorbar": {
             "outlinewidth": 0,
             "ticks": ""
            },
            "type": "mesh3d"
           }
          ],
          "parcoords": [
           {
            "line": {
             "colorbar": {
              "outlinewidth": 0,
              "ticks": ""
             }
            },
            "type": "parcoords"
           }
          ],
          "pie": [
           {
            "automargin": true,
            "type": "pie"
           }
          ],
          "scatter": [
           {
            "fillpattern": {
             "fillmode": "overlay",
             "size": 10,
             "solidity": 0.2
            },
            "type": "scatter"
           }
          ],
          "scatter3d": [
           {
            "line": {
             "colorbar": {
              "outlinewidth": 0,
              "ticks": ""
             }
            },
            "marker": {
             "colorbar": {
              "outlinewidth": 0,
              "ticks": ""
             }
            },
            "type": "scatter3d"
           }
          ],
          "scattercarpet": [
           {
            "marker": {
             "colorbar": {
              "outlinewidth": 0,
              "ticks": ""
             }
            },
            "type": "scattercarpet"
           }
          ],
          "scattergeo": [
           {
            "marker": {
             "colorbar": {
              "outlinewidth": 0,
              "ticks": ""
             }
            },
            "type": "scattergeo"
           }
          ],
          "scattergl": [
           {
            "marker": {
             "colorbar": {
              "outlinewidth": 0,
              "ticks": ""
             }
            },
            "type": "scattergl"
           }
          ],
          "scattermapbox": [
           {
            "marker": {
             "colorbar": {
              "outlinewidth": 0,
              "ticks": ""
             }
            },
            "type": "scattermapbox"
           }
          ],
          "scatterpolar": [
           {
            "marker": {
             "colorbar": {
              "outlinewidth": 0,
              "ticks": ""
             }
            },
            "type": "scatterpolar"
           }
          ],
          "scatterpolargl": [
           {
            "marker": {
             "colorbar": {
              "outlinewidth": 0,
              "ticks": ""
             }
            },
            "type": "scatterpolargl"
           }
          ],
          "scatterternary": [
           {
            "marker": {
             "colorbar": {
              "outlinewidth": 0,
              "ticks": ""
             }
            },
            "type": "scatterternary"
           }
          ],
          "surface": [
           {
            "colorbar": {
             "outlinewidth": 0,
             "ticks": ""
            },
            "colorscale": [
             [
              0,
              "#0d0887"
             ],
             [
              0.1111111111111111,
              "#46039f"
             ],
             [
              0.2222222222222222,
              "#7201a8"
             ],
             [
              0.3333333333333333,
              "#9c179e"
             ],
             [
              0.4444444444444444,
              "#bd3786"
             ],
             [
              0.5555555555555556,
              "#d8576b"
             ],
             [
              0.6666666666666666,
              "#ed7953"
             ],
             [
              0.7777777777777778,
              "#fb9f3a"
             ],
             [
              0.8888888888888888,
              "#fdca26"
             ],
             [
              1,
              "#f0f921"
             ]
            ],
            "type": "surface"
           }
          ],
          "table": [
           {
            "cells": {
             "fill": {
              "color": "#EBF0F8"
             },
             "line": {
              "color": "white"
             }
            },
            "header": {
             "fill": {
              "color": "#C8D4E3"
             },
             "line": {
              "color": "white"
             }
            },
            "type": "table"
           }
          ]
         },
         "layout": {
          "annotationdefaults": {
           "arrowcolor": "#2a3f5f",
           "arrowhead": 0,
           "arrowwidth": 1
          },
          "autotypenumbers": "strict",
          "coloraxis": {
           "colorbar": {
            "outlinewidth": 0,
            "ticks": ""
           }
          },
          "colorscale": {
           "diverging": [
            [
             0,
             "#8e0152"
            ],
            [
             0.1,
             "#c51b7d"
            ],
            [
             0.2,
             "#de77ae"
            ],
            [
             0.3,
             "#f1b6da"
            ],
            [
             0.4,
             "#fde0ef"
            ],
            [
             0.5,
             "#f7f7f7"
            ],
            [
             0.6,
             "#e6f5d0"
            ],
            [
             0.7,
             "#b8e186"
            ],
            [
             0.8,
             "#7fbc41"
            ],
            [
             0.9,
             "#4d9221"
            ],
            [
             1,
             "#276419"
            ]
           ],
           "sequential": [
            [
             0,
             "#0d0887"
            ],
            [
             0.1111111111111111,
             "#46039f"
            ],
            [
             0.2222222222222222,
             "#7201a8"
            ],
            [
             0.3333333333333333,
             "#9c179e"
            ],
            [
             0.4444444444444444,
             "#bd3786"
            ],
            [
             0.5555555555555556,
             "#d8576b"
            ],
            [
             0.6666666666666666,
             "#ed7953"
            ],
            [
             0.7777777777777778,
             "#fb9f3a"
            ],
            [
             0.8888888888888888,
             "#fdca26"
            ],
            [
             1,
             "#f0f921"
            ]
           ],
           "sequentialminus": [
            [
             0,
             "#0d0887"
            ],
            [
             0.1111111111111111,
             "#46039f"
            ],
            [
             0.2222222222222222,
             "#7201a8"
            ],
            [
             0.3333333333333333,
             "#9c179e"
            ],
            [
             0.4444444444444444,
             "#bd3786"
            ],
            [
             0.5555555555555556,
             "#d8576b"
            ],
            [
             0.6666666666666666,
             "#ed7953"
            ],
            [
             0.7777777777777778,
             "#fb9f3a"
            ],
            [
             0.8888888888888888,
             "#fdca26"
            ],
            [
             1,
             "#f0f921"
            ]
           ]
          },
          "colorway": [
           "#636efa",
           "#EF553B",
           "#00cc96",
           "#ab63fa",
           "#FFA15A",
           "#19d3f3",
           "#FF6692",
           "#B6E880",
           "#FF97FF",
           "#FECB52"
          ],
          "font": {
           "color": "#2a3f5f"
          },
          "geo": {
           "bgcolor": "white",
           "lakecolor": "white",
           "landcolor": "#E5ECF6",
           "showlakes": true,
           "showland": true,
           "subunitcolor": "white"
          },
          "hoverlabel": {
           "align": "left"
          },
          "hovermode": "closest",
          "mapbox": {
           "style": "light"
          },
          "paper_bgcolor": "white",
          "plot_bgcolor": "#E5ECF6",
          "polar": {
           "angularaxis": {
            "gridcolor": "white",
            "linecolor": "white",
            "ticks": ""
           },
           "bgcolor": "#E5ECF6",
           "radialaxis": {
            "gridcolor": "white",
            "linecolor": "white",
            "ticks": ""
           }
          },
          "scene": {
           "xaxis": {
            "backgroundcolor": "#E5ECF6",
            "gridcolor": "white",
            "gridwidth": 2,
            "linecolor": "white",
            "showbackground": true,
            "ticks": "",
            "zerolinecolor": "white"
           },
           "yaxis": {
            "backgroundcolor": "#E5ECF6",
            "gridcolor": "white",
            "gridwidth": 2,
            "linecolor": "white",
            "showbackground": true,
            "ticks": "",
            "zerolinecolor": "white"
           },
           "zaxis": {
            "backgroundcolor": "#E5ECF6",
            "gridcolor": "white",
            "gridwidth": 2,
            "linecolor": "white",
            "showbackground": true,
            "ticks": "",
            "zerolinecolor": "white"
           }
          },
          "shapedefaults": {
           "line": {
            "color": "#2a3f5f"
           }
          },
          "ternary": {
           "aaxis": {
            "gridcolor": "white",
            "linecolor": "white",
            "ticks": ""
           },
           "baxis": {
            "gridcolor": "white",
            "linecolor": "white",
            "ticks": ""
           },
           "bgcolor": "#E5ECF6",
           "caxis": {
            "gridcolor": "white",
            "linecolor": "white",
            "ticks": ""
           }
          },
          "title": {
           "x": 0.05
          },
          "xaxis": {
           "automargin": true,
           "gridcolor": "white",
           "linecolor": "white",
           "ticks": "",
           "title": {
            "standoff": 15
           },
           "zerolinecolor": "white",
           "zerolinewidth": 2
          },
          "yaxis": {
           "automargin": true,
           "gridcolor": "white",
           "linecolor": "white",
           "ticks": "",
           "title": {
            "standoff": 15
           },
           "zerolinecolor": "white",
           "zerolinewidth": 2
          }
         }
        },
        "title": {
         "text": "My world map (scatter)"
        },
        "width": 1000
       }
      }
     },
     "metadata": {},
     "output_type": "display_data"
    }
   ],
   "source": [
    "world_map_scatter_fig = phyloworld.create_world_map(metadata_with_coordinates,\n",
    "                                                    title=\"My world map (scatter)\", \n",
    "                                                    map_type = \"scatter\")\n",
    "world_map_scatter_fig.show()"
   ]
  },
  {
   "cell_type": "markdown",
   "metadata": {},
   "source": [
    "## Create combined plot\n",
    "\n",
    "To make things clearer, try making a combined plot. This type of graph puts different information together in one place, making it easier to understand the relationships between them countries and clades."
   ]
  },
  {
   "cell_type": "code",
   "execution_count": 10,
   "metadata": {},
   "outputs": [
    {
     "data": {
      "application/vnd.plotly.v1+json": {
       "config": {
        "plotlyServerURL": "https://plot.ly"
       },
       "data": [
        {
         "colorbar": {
          "ticktext": [],
          "tickvals": [],
          "title": {
           "text": ""
          }
         },
         "colorscale": [
          [
           0,
           "#412c37"
          ],
          [
           1,
           "#412c37"
          ]
         ],
         "geo": "geo",
         "hoverinfo": "text",
         "locationmode": "country names",
         "locations": [
          "Algeria"
         ],
         "showscale": false,
         "text": "Country: Algeria<br>ID(s): 1700_04112013_AXDK00-0<br>0803_01012000_AXDK00-0<br>0803_26042014_AXDK00-0",
         "type": "choropleth",
         "z": [
          1
         ]
        },
        {
         "colorbar": {
          "ticktext": [],
          "tickvals": [],
          "title": {
           "text": ""
          }
         },
         "colorscale": [
          [
           0,
           "#6298c2"
          ],
          [
           1,
           "#6298c2"
          ]
         ],
         "geo": "geo",
         "hoverinfo": "text",
         "locationmode": "country names",
         "locations": [
          "Denmark"
         ],
         "showscale": false,
         "text": "Country: Denmark<br>ID(s): 0802_04042005_AXDK00-0<br>0802_18012008_AXDK00-0<br>9902_01011996_AXDK00-0<br>9902_01032004_AXDK00-0<br>9902_26012009_AXDK00-0<br>5103_07102016_AXDK00-0<br>6203_12122015_AXDK00-0<br>9203_01012000_AXDK00-0<br>6004_30102015_AXDK00-0<br>6604_17022016_AXDK00-0<br>8104_29042011_AXDK00-0<br>9704_29072010_AXDK00-0<br>2005_03022017_AXDK00-0<br>GCF_001558755-2_ASM155875v2_genomic.fasta",
         "type": "choropleth",
         "z": [
          1
         ]
        },
        {
         "colorbar": {
          "ticktext": [],
          "tickvals": [],
          "title": {
           "text": ""
          }
         },
         "colorscale": [
          [
           0,
           "#c30908"
          ],
          [
           1,
           "#c30908"
          ]
         ],
         "geo": "geo",
         "hoverinfo": "text",
         "locationmode": "country names",
         "locations": [
          "Lithuania"
         ],
         "showscale": false,
         "text": "Country: Lithuania<br>ID(s): 2202_04012011_AXDK00-0<br>7603_01011997_AXDK00-0<br>GCF_000165835-1_ASM16583v1_genomic.fasta",
         "type": "choropleth",
         "z": [
          1
         ]
        },
        {
         "colorbar": {
          "ticktext": [],
          "tickvals": [],
          "title": {
           "text": ""
          }
         },
         "colorscale": [
          [
           0,
           "#b8646a"
          ],
          [
           1,
           "#b8646a"
          ]
         ],
         "geo": "geo",
         "hoverinfo": "text",
         "locationmode": "country names",
         "locations": [
          "Angola"
         ],
         "showscale": false,
         "text": "Country: Angola<br>ID(s): 6402_27032017_AXDK00-0<br>0703_07082013_AXDK00-0<br>8603_03072008_AXDK00-0<br>8603_27082014_AXDK00-0<br>3004_24042007_AXDK00-0",
         "type": "choropleth",
         "z": [
          1
         ]
        },
        {
         "colorbar": {
          "ticktext": [],
          "tickvals": [],
          "title": {
           "text": ""
          }
         },
         "colorscale": [
          [
           0,
           "#74d3d7"
          ],
          [
           1,
           "#74d3d7"
          ]
         ],
         "geo": "geo",
         "hoverinfo": "text",
         "locationmode": "country names",
         "locations": [
          "Italy"
         ],
         "showscale": false,
         "text": "Country: Italy<br>ID(s): 7402_26022014_AXDK00-0<br>1903_01092016_AXDK00-0<br>1903_16122011_AXDK00-0<br>3403_27022012_AXDK00-0<br>4104_02122014_AXDK00-0<br>1705_21052013_AXDK00-0<br>1705_25012010_AXDK00-0<br>1705_30032007_AXDK00-0<br>GCF_001051055-1_ASM105105v1_genomic.fasta",
         "type": "choropleth",
         "z": [
          1
         ]
        },
        {
         "colorbar": {
          "ticktext": [],
          "tickvals": [],
          "title": {
           "text": ""
          }
         },
         "colorscale": [
          [
           0,
           "#7979ff"
          ],
          [
           1,
           "#7979ff"
          ]
         ],
         "geo": "geo",
         "hoverinfo": "text",
         "locationmode": "country names",
         "locations": [
          "Estonia"
         ],
         "showscale": false,
         "text": "Country: Estonia<br>ID(s): 0603_03012007_AXDK00-0<br>0603_08102003_AXDK00-0<br>6203_24092018_AXDK00-0",
         "type": "choropleth",
         "z": [
          1
         ]
        },
        {
         "colorbar": {
          "ticktext": [],
          "tickvals": [],
          "title": {
           "text": ""
          }
         },
         "colorscale": [
          [
           0,
           "#310511"
          ],
          [
           1,
           "#310511"
          ]
         ],
         "geo": "geo",
         "hoverinfo": "text",
         "locationmode": "country names",
         "locations": [
          "United States"
         ],
         "showscale": false,
         "text": "Country: United States<br>ID(s): 0703_23092011_AXDK00-0<br>0903_06012012_AXDK00-0<br>1703_16032010_AXDK00-0<br>1903_01011996_AXDK00-0<br>3203_19092012_AXDK00-0<br>4203_09102012_AXDK00-0<br>5803_17012011_AXDK00-0<br>6203_02102006_AXDK00-0<br>7603_04042014_AXDK00-0<br>7603_18022011_AXDK00-0<br>7603_19112008_AXDK00-0<br>9403_05092016_AXDK00-0<br>9403_29092004_AXDK00-0<br>9403_30102009_AXDK00-0<br>3504_09012015_AXDK00-0<br>3504_20122013_AXDK00-0<br>5204_15082016_AXDK03-0<br>8404_11122013_AXDK00-0<br>8404_11122013_AXDK00-1<br>8404_13022014_AXDK00-0<br>8504_05012016_AXDK02-0<br>8504_05012016_AXDK02-1<br>GCF_000758265-1_ASM75826v1_genomic.fasta<br>GCF_001457475-1_NCTC10807_genomic.fasta<br>GCF_900475575-1_44257_A01_genomic.fasta",
         "type": "choropleth",
         "z": [
          1
         ]
        },
        {
         "colorbar": {
          "ticktext": [],
          "tickvals": [],
          "title": {
           "text": ""
          }
         },
         "colorscale": [
          [
           0,
           "#534857"
          ],
          [
           1,
           "#534857"
          ]
         ],
         "geo": "geo",
         "hoverinfo": "text",
         "locationmode": "country names",
         "locations": [
          "Libya"
         ],
         "showscale": false,
         "text": "Country: Libya<br>ID(s): 0803_27042007_AXDK00-0<br>2103_11042016_AXDK00-0<br>6203_01012000_AXDK00-0<br>6604_25012007_AXDK00-0<br>6804_08032006_AXDK00-0",
         "type": "choropleth",
         "z": [
          1
         ]
        },
        {
         "colorbar": {
          "ticktext": [],
          "tickvals": [],
          "title": {
           "text": ""
          }
         },
         "colorscale": [
          [
           0,
           "#1495c5"
          ],
          [
           1,
           "#1495c5"
          ]
         ],
         "geo": "geo",
         "hoverinfo": "text",
         "locationmode": "country names",
         "locations": [
          "Mexico"
         ],
         "showscale": false,
         "text": "Country: Mexico<br>ID(s): 1903_27032006_AXDK00-0<br>3203_01011997_AXDK00-0<br>3203_07022014_AXDK00-0<br>3203_18042005_AXDK00-0<br>0604_30122003_AXDK00-0<br>9704_12082016_AXDK00-0<br>0610_14092016_AXDK00-0<br>0610_26012012_AXDK00-0",
         "type": "choropleth",
         "z": [
          1
         ]
        },
        {
         "colorbar": {
          "ticktext": [],
          "tickvals": [],
          "title": {
           "text": ""
          }
         },
         "colorscale": [
          [
           0,
           "#501795"
          ],
          [
           1,
           "#501795"
          ]
         ],
         "geo": "geo",
         "hoverinfo": "text",
         "locationmode": "country names",
         "locations": [
          "Spain"
         ],
         "showscale": false,
         "text": "Country: Spain<br>ID(s): 3403_06102003_AXDK00-0<br>5303_07102016_AXDK00-0<br>5604_07102016_AXDK00-0<br>5604_28082007_AXDK00-0<br>GCF_001558915-1_ASM155891v2_genomic.fasta",
         "type": "choropleth",
         "z": [
          1
         ]
        },
        {
         "colorbar": {
          "ticktext": [],
          "tickvals": [],
          "title": {
           "text": ""
          }
         },
         "colorscale": [
          [
           0,
           "#ebd03d"
          ],
          [
           1,
           "#ebd03d"
          ]
         ],
         "geo": "geo",
         "hoverinfo": "text",
         "locationmode": "country names",
         "locations": [
          "Poland"
         ],
         "showscale": false,
         "text": "Country: Poland<br>ID(s): 4203_09122014_AXDK00-0<br>4703_18022015_AXDK00-0<br>5303_14012004_AXDK00-0<br>5303_14102009_AXDK00-0<br>9503_02012007_AXDK00-0<br>9503_04032011_AXDK00-0<br>9503_27052014_AXDK00-0<br>9603_01042014_AXDK00-0<br>9603_28102003_AXDK00-0<br>9603_28112008_AXDK00-0",
         "type": "choropleth",
         "z": [
          1
         ]
        },
        {
         "colorbar": {
          "ticktext": [],
          "tickvals": [],
          "title": {
           "text": ""
          }
         },
         "colorscale": [
          [
           0,
           "#80c177"
          ],
          [
           1,
           "#80c177"
          ]
         ],
         "geo": "geo",
         "hoverinfo": "text",
         "locationmode": "country names",
         "locations": [
          "Turkey"
         ],
         "showscale": false,
         "text": "Country: Turkey<br>ID(s): 4703_01012000_AXDK00-0<br>4703_16022007_AXDK00-0<br>8511_07042017_AXDK00-0",
         "type": "choropleth",
         "z": [
          1
         ]
        },
        {
         "colorbar": {
          "ticktext": [],
          "tickvals": [],
          "title": {
           "text": ""
          }
         },
         "colorscale": [
          [
           0,
           "#cb7e9d"
          ],
          [
           1,
           "#cb7e9d"
          ]
         ],
         "geo": "geo",
         "hoverinfo": "text",
         "locationmode": "country names",
         "locations": [
          "France"
         ],
         "showscale": false,
         "text": "Country: France<br>ID(s): 7703_16032018_AXDK00-0<br>7703_19012017_AXDK00-0<br>3704_08022008_AXDK00-0<br>3704_26112003_AXDK00-0<br>3704_27062014_AXDK00-0<br>6004_19062007_AXDK00-0",
         "type": "choropleth",
         "z": [
          1
         ]
        },
        {
         "colorbar": {
          "ticktext": [],
          "tickvals": [],
          "title": {
           "text": ""
          }
         },
         "colorscale": [
          [
           0,
           "#8eff4a"
          ],
          [
           1,
           "#8eff4a"
          ]
         ],
         "geo": "geo",
         "hoverinfo": "text",
         "locationmode": "country names",
         "locations": [
          "Germany"
         ],
         "showscale": false,
         "text": "Country: Germany<br>ID(s): 8703_15032017_AXDK00-0",
         "type": "choropleth",
         "z": [
          1
         ]
        },
        {
         "colorbar": {
          "ticktext": [],
          "tickvals": [],
          "title": {
           "text": ""
          }
         },
         "colorscale": [
          [
           0,
           "#0ae43a"
          ],
          [
           1,
           "#0ae43a"
          ]
         ],
         "geo": "geo",
         "hoverinfo": "text",
         "locationmode": "country names",
         "locations": [
          "Egypt"
         ],
         "showscale": false,
         "text": "Country: Egypt<br>ID(s): 9203_08042016_AXDK00-0<br>9203_13122011_AXDK00-0<br>1704_01011999_AXDK00-0<br>1704_07022011_AXDK00-0<br>5611_13012017_AXDK00-0",
         "type": "choropleth",
         "z": [
          1
         ]
        },
        {
         "colorbar": {
          "ticktext": [],
          "tickvals": [],
          "title": {
           "text": ""
          }
         },
         "colorscale": [
          [
           0,
           "#a25b7c"
          ],
          [
           1,
           "#a25b7c"
          ]
         ],
         "geo": "geo",
         "hoverinfo": "text",
         "locationmode": "country names",
         "locations": [
          "Canada"
         ],
         "showscale": false,
         "text": "Country: Canada<br>ID(s): 2605_06072016_AXDK00-0<br>8605_01062016_AXDK04-0<br>8605_07052018_AXDK00-0<br>GCF_001559195-1_ASM155919v2_genomic.fasta",
         "type": "choropleth",
         "z": [
          1
         ]
        },
        {
         "hoverinfo": "text",
         "marker": {
          "color": [
           "#a25b7c",
           "#a25b7c",
           "#a25b7c",
           "#a25b7c",
           "#310511",
           "#310511",
           "#1495c5",
           "#1495c5",
           "#1495c5",
           "#310511",
           "#310511",
           "#310511",
           "#310511",
           "#310511",
           "#310511",
           "#310511",
           "#310511",
           "#310511",
           "#310511",
           "#310511",
           "#310511",
           "#310511",
           "#310511",
           "#1495c5",
           "#310511",
           "#310511",
           "#1495c5",
           "#1495c5",
           "#310511",
           "#1495c5",
           "#310511",
           "#310511",
           "#310511",
           "#310511",
           "#1495c5",
           "#0ae43a",
           "#80c177",
           "#80c177",
           "#80c177",
           "#501795",
           "#74d3d7",
           "#501795",
           "#501795",
           "#501795",
           "#74d3d7",
           "#74d3d7",
           "#cb7e9d",
           "#cb7e9d",
           "#ebd03d",
           "#ebd03d",
           "#ebd03d",
           "#ebd03d",
           "#ebd03d",
           "#ebd03d",
           "#ebd03d",
           "#cb7e9d",
           "#cb7e9d",
           "#ebd03d",
           "#ebd03d",
           "#ebd03d",
           "#cb7e9d",
           "#8eff4a",
           "#74d3d7",
           "#cb7e9d",
           "#74d3d7",
           "#74d3d7",
           "#501795",
           "#74d3d7",
           "#74d3d7",
           "#74d3d7",
           "#c30908",
           "#c30908",
           "#c30908",
           "#6298c2",
           "#6298c2",
           "#7979ff",
           "#7979ff",
           "#7979ff",
           "#6298c2",
           "#6298c2",
           "#6298c2",
           "#6298c2",
           "#6298c2",
           "#310511",
           "#310511",
           "#6298c2",
           "#6298c2",
           "#6298c2",
           "#6298c2",
           "#6298c2",
           "#6298c2",
           "#6298c2",
           "#0ae43a",
           "#0ae43a",
           "#534857",
           "#534857",
           "#534857",
           "#0ae43a",
           "#0ae43a",
           "#534857",
           "#b8646a",
           "#b8646a",
           "#b8646a",
           "#b8646a",
           "#412c37",
           "#534857",
           "#412c37",
           "#b8646a",
           "#412c37"
          ],
          "size": 5
         },
         "mode": "markers",
         "name": "Countries",
         "text": [
          "Country: Canada<br>ID: GCF_001559195-1_ASM155919v2_genomic.fasta",
          "Country: Canada<br>ID: 2605_06072016_AXDK00-0",
          "Country: Canada<br>ID: 8605_07052018_AXDK00-0",
          "Country: Canada<br>ID: 8605_01062016_AXDK04-0",
          "Country: United States<br>ID: 4203_09102012_AXDK00-0",
          "Country: United States<br>ID: 3203_19092012_AXDK00-0",
          "Country: Mexico<br>ID: 3203_18042005_AXDK00-0",
          "Country: Mexico<br>ID: 3203_07022014_AXDK00-0",
          "Country: Mexico<br>ID: 3203_01011997_AXDK00-0",
          "Country: United States<br>ID: 1703_16032010_AXDK00-0",
          "Country: United States<br>ID: GCF_900475575-1_44257_A01_genomic.fasta",
          "Country: United States<br>ID: GCF_001457475-1_NCTC10807_genomic.fasta",
          "Country: United States<br>ID: 5803_17012011_AXDK00-0",
          "Country: United States<br>ID: GCF_000758265-1_ASM75826v1_genomic.fasta",
          "Country: United States<br>ID: 0903_06012012_AXDK00-0",
          "Country: United States<br>ID: 3504_09012015_AXDK00-0",
          "Country: United States<br>ID: 3504_20122013_AXDK00-0",
          "Country: United States<br>ID: 8404_11122013_AXDK00-1",
          "Country: United States<br>ID: 8404_11122013_AXDK00-0",
          "Country: United States<br>ID: 8404_13022014_AXDK00-0",
          "Country: United States<br>ID: 9403_30102009_AXDK00-0",
          "Country: United States<br>ID: 9403_29092004_AXDK00-0",
          "Country: United States<br>ID: 9403_05092016_AXDK00-0",
          "Country: Mexico<br>ID: 0604_30122003_AXDK00-0",
          "Country: United States<br>ID: 0703_23092011_AXDK00-0",
          "Country: United States<br>ID: 5204_15082016_AXDK03-0",
          "Country: Mexico<br>ID: 0610_26012012_AXDK00-0",
          "Country: Mexico<br>ID: 0610_14092016_AXDK00-0",
          "Country: United States<br>ID: 1903_01011996_AXDK00-0",
          "Country: Mexico<br>ID: 1903_27032006_AXDK00-0",
          "Country: United States<br>ID: 7603_04042014_AXDK00-0",
          "Country: United States<br>ID: 6203_02102006_AXDK00-0",
          "Country: United States<br>ID: 7603_18022011_AXDK00-0",
          "Country: United States<br>ID: 7603_19112008_AXDK00-0",
          "Country: Mexico<br>ID: 9704_12082016_AXDK00-0",
          "Country: Egypt<br>ID: 5611_13012017_AXDK00-0",
          "Country: Turkey<br>ID: 4703_01012000_AXDK00-0",
          "Country: Turkey<br>ID: 4703_16022007_AXDK00-0",
          "Country: Turkey<br>ID: 8511_07042017_AXDK00-0",
          "Country: Spain<br>ID: GCF_001558915-1_ASM155891v2_genomic.fasta",
          "Country: Italy<br>ID: 3403_27022012_AXDK00-0",
          "Country: Spain<br>ID: 5303_07102016_AXDK00-0",
          "Country: Spain<br>ID: 5604_28082007_AXDK00-0",
          "Country: Spain<br>ID: 5604_07102016_AXDK00-0",
          "Country: Italy<br>ID: 1903_16122011_AXDK00-0",
          "Country: Italy<br>ID: 1903_01092016_AXDK00-0",
          "Country: France<br>ID: 7703_19012017_AXDK00-0",
          "Country: France<br>ID: 7703_16032018_AXDK00-0",
          "Country: Poland<br>ID: 9603_28102003_AXDK00-0",
          "Country: Poland<br>ID: 9603_28112008_AXDK00-0",
          "Country: Poland<br>ID: 9503_27052014_AXDK00-0",
          "Country: Poland<br>ID: 9603_01042014_AXDK00-0",
          "Country: Poland<br>ID: 9503_04032011_AXDK00-0",
          "Country: Poland<br>ID: 9503_02012007_AXDK00-0",
          "Country: Poland<br>ID: 5303_14012004_AXDK00-0",
          "Country: France<br>ID: 3704_27062014_AXDK00-0",
          "Country: France<br>ID: 3704_08022008_AXDK00-0",
          "Country: Poland<br>ID: 4703_18022015_AXDK00-0",
          "Country: Poland<br>ID: 4203_09122014_AXDK00-0",
          "Country: Poland<br>ID: 5303_14102009_AXDK00-0",
          "Country: France<br>ID: 3704_26112003_AXDK00-0",
          "Country: Germany<br>ID: 8703_15032017_AXDK00-0",
          "Country: Italy<br>ID: 1705_30032007_AXDK00-0",
          "Country: France<br>ID: 6004_19062007_AXDK00-0",
          "Country: Italy<br>ID: 1705_21052013_AXDK00-0",
          "Country: Italy<br>ID: 1705_25012010_AXDK00-0",
          "Country: Spain<br>ID: 3403_06102003_AXDK00-0",
          "Country: Italy<br>ID: GCF_001051055-1_ASM105105v1_genomic.fasta",
          "Country: Italy<br>ID: 4104_02122014_AXDK00-0",
          "Country: Italy<br>ID: 7402_26022014_AXDK00-0",
          "Country: Lithuania<br>ID: GCF_000165835-1_ASM16583v1_genomic.fasta",
          "Country: Lithuania<br>ID: 2202_04012011_AXDK00-0",
          "Country: Lithuania<br>ID: 7603_01011997_AXDK00-0",
          "Country: Denmark<br>ID: 0802_04042005_AXDK00-0",
          "Country: Denmark<br>ID: 0802_18012008_AXDK00-0",
          "Country: Estonia<br>ID: 0603_08102003_AXDK00-0",
          "Country: Estonia<br>ID: 0603_03012007_AXDK00-0",
          "Country: Estonia<br>ID: 6203_24092018_AXDK00-0",
          "Country: Denmark<br>ID: 6004_30102015_AXDK00-0",
          "Country: Denmark<br>ID: 6604_17022016_AXDK00-0",
          "Country: Denmark<br>ID: 6203_12122015_AXDK00-0",
          "Country: Denmark<br>ID: 9704_29072010_AXDK00-0",
          "Country: Denmark<br>ID: GCF_001558755-2_ASM155875v2_genomic.fasta",
          "Country: United States<br>ID: 8504_05012016_AXDK02-1",
          "Country: United States<br>ID: 8504_05012016_AXDK02-0",
          "Country: Denmark<br>ID: 2005_03022017_AXDK00-0",
          "Country: Denmark<br>ID: 9902_01011996_AXDK00-0",
          "Country: Denmark<br>ID: 9902_26012009_AXDK00-0",
          "Country: Denmark<br>ID: 9902_01032004_AXDK00-0",
          "Country: Denmark<br>ID: 5103_07102016_AXDK00-0",
          "Country: Denmark<br>ID: 8104_29042011_AXDK00-0",
          "Country: Denmark<br>ID: 9203_01012000_AXDK00-0",
          "Country: Egypt<br>ID: 9203_13122011_AXDK00-0",
          "Country: Egypt<br>ID: 9203_08042016_AXDK00-0",
          "Country: Libya<br>ID: 6604_25012007_AXDK00-0",
          "Country: Libya<br>ID: 6804_08032006_AXDK00-0",
          "Country: Libya<br>ID: 6203_01012000_AXDK00-0",
          "Country: Egypt<br>ID: 1704_01011999_AXDK00-0",
          "Country: Egypt<br>ID: 1704_07022011_AXDK00-0",
          "Country: Libya<br>ID: 2103_11042016_AXDK00-0",
          "Country: Angola<br>ID: 8603_27082014_AXDK00-0",
          "Country: Angola<br>ID: 8603_03072008_AXDK00-0",
          "Country: Angola<br>ID: 0703_07082013_AXDK00-0",
          "Country: Angola<br>ID: 6402_27032017_AXDK00-0",
          "Country: Algeria<br>ID: 0803_01012000_AXDK00-0",
          "Country: Libya<br>ID: 0803_27042007_AXDK00-0",
          "Country: Algeria<br>ID: 0803_26042014_AXDK00-0",
          "Country: Angola<br>ID: 3004_24042007_AXDK00-0",
          "Country: Algeria<br>ID: 1700_04112013_AXDK00-0"
         ],
         "type": "scatter",
         "x": [
          0.01525,
          0.01972,
          0.019110000000000002,
          0.018170000000000002,
          0.01828,
          0.01796,
          0.01863,
          0.01937,
          0.01784,
          0.02128,
          0.02383,
          0.02378,
          0.01982,
          0.026500000000000003,
          0.023420000000000003,
          0.02535,
          0.025300000000000003,
          0.021890000000000003,
          0.02269,
          0.02199,
          0.02145,
          0.02138,
          0.021509999999999998,
          0.01608,
          0.01734,
          0.020860000000000004,
          0.01989,
          0.01983,
          0.018750000000000003,
          0.018680000000000002,
          0.02631,
          0.026180000000000002,
          0.02657,
          0.02646,
          0.02798,
          0.0963,
          0.14903000000000002,
          0.14897000000000002,
          0.13332,
          0.22905999999999999,
          0.23532999999999996,
          0.23500999999999997,
          0.23525999999999997,
          0.23601999999999998,
          0.23521999999999998,
          0.23542999999999997,
          0.23533999999999997,
          0.23534999999999998,
          0.23489999999999997,
          0.23485999999999999,
          0.23531999999999997,
          0.23509999999999998,
          0.23509999999999998,
          0.23498,
          0.23524999999999996,
          0.23505999999999996,
          0.23496999999999998,
          0.23565,
          0.23514,
          0.23519999999999996,
          0.23502999999999996,
          0.23515999999999998,
          0.23618,
          0.23518,
          0.23552,
          0.23578,
          0.23483999999999997,
          0.23731999999999998,
          0.24046999999999996,
          0.24027999999999997,
          0.91827,
          0.91834,
          0.92294,
          0.24119000000000002,
          0.2411,
          0.24115,
          0.24129,
          0.24144000000000002,
          0.25808,
          0.25859,
          0.26108000000000003,
          0.26208000000000004,
          0.26117,
          0.26083,
          0.26073,
          0.2602,
          0.25977,
          0.26003000000000004,
          0.26111,
          0.26244999999999996,
          0.25846,
          0.2614,
          0.045160000000000006,
          0.044680000000000004,
          0.045680000000000005,
          0.04508000000000001,
          0.044950000000000004,
          0.033339999999999995,
          0.02984,
          0.03094,
          0.03044,
          0.03035,
          0.02877,
          0.02922,
          0.023270000000000002,
          0.02346,
          0.0234,
          0.02246,
          0.01939
         ],
         "xaxis": "x",
         "y": [
          -31.400000000000006,
          -30.099999999999994,
          -28.80000000000001,
          -27.5,
          -26.200000000000017,
          -24.900000000000006,
          -23.599999999999994,
          -22.30000000000001,
          -21,
          -19.700000000000017,
          -18.400000000000006,
          -17.10000000000001,
          -15.800000000000011,
          -14.5,
          -13.200000000000003,
          -11.900000000000006,
          -10.600000000000009,
          -9.299999999999997,
          -8,
          -6.700000000000003,
          -5.400000000000006,
          -4.1000000000000085,
          -2.799999999999997,
          -1.5,
          -0.20000000000000284,
          1.0999999999999943,
          2.3999999999999915,
          3.700000000000003,
          5,
          6.299999999999997,
          7.599999999999994,
          8.899999999999991,
          10.200000000000003,
          11.5,
          12.799999999999997,
          14.099999999999994,
          15.399999999999991,
          16.700000000000003,
          18,
          19.299999999999997,
          20.599999999999994,
          21.89999999999999,
          23.200000000000003,
          24.5,
          25.799999999999997,
          27.099999999999994,
          28.39999999999999,
          29.700000000000003,
          31,
          32.3,
          33.599999999999994,
          34.89999999999999,
          36.2,
          37.5,
          38.8,
          40.099999999999994,
          41.39999999999999,
          42.7,
          44,
          45.3,
          46.599999999999994,
          47.9,
          49.199999999999996,
          50.5,
          51.8,
          53.1,
          54.4,
          55.699999999999996,
          57,
          58.3,
          59.6,
          60.9,
          62.199999999999996,
          63.5,
          64.8,
          66.1,
          67.4,
          68.69999999999999,
          70,
          71.3,
          72.6,
          73.9,
          75.19999999999999,
          76.5,
          77.8,
          79.1,
          80.4,
          81.7,
          83,
          84.3,
          85.6,
          86.9,
          88.2,
          89.5,
          90.8,
          92.1,
          93.4,
          94.7,
          96,
          97.3,
          98.6,
          99.9,
          101.2,
          102.5,
          103.8,
          105.1,
          106.4,
          107.7,
          109
         ],
         "yaxis": "y"
        }
       ],
       "layout": {
        "annotations": [
         {
          "font": {
           "size": 16
          },
          "showarrow": false,
          "text": "My phylogenetic tree",
          "x": 0.225,
          "xanchor": "center",
          "xref": "paper",
          "y": 1,
          "yanchor": "bottom",
          "yref": "paper"
         },
         {
          "font": {
           "size": 16
          },
          "showarrow": false,
          "text": "My world map (Choropleth)",
          "x": 0.775,
          "xanchor": "center",
          "xref": "paper",
          "y": 1,
          "yanchor": "bottom",
          "yref": "paper"
         }
        ],
        "geo": {
         "coastlinecolor": "rgb(255, 255, 255)",
         "countrycolor": "rgb(0, 0, 0)",
         "countrywidth": 0.5,
         "domain": {
          "x": [
           0.55,
           1
          ],
          "y": [
           0,
           1
          ]
         },
         "landcolor": "rgb(217, 217, 217)",
         "lataxis": {
          "range": [
           -90,
           90
          ]
         },
         "lonaxis": {
          "range": [
           -180,
           180
          ]
         },
         "resolution": 110,
         "showcoastlines": true,
         "showcountries": true,
         "showland": true
        },
        "height": 600,
        "hovermode": "closest",
        "legend": {
         "x": 0,
         "y": 1
        },
        "paper_bgcolor": "white",
        "plot_bgcolor": "rgb(250,250,250)",
        "shapes": [
         {
          "layer": "below",
          "line": {
           "color": "rgb(25,25,25)",
           "width": 1
          },
          "type": "line",
          "x0": 0,
          "x1": 0,
          "y0": 13.218886733055111,
          "y1": 13.218886733055111
         },
         {
          "layer": "below",
          "line": {
           "color": "rgb(25,25,25)",
           "width": 1
          },
          "type": "line",
          "x0": 0,
          "x1": 0,
          "y0": 47.59011721611023,
          "y1": -21.152343750000007
         },
         {
          "layer": "below",
          "line": {
           "color": "rgb(25,25,25)",
           "width": 1
          },
          "type": "line",
          "x0": 0,
          "x1": 0.00125,
          "y0": -21.152343750000007,
          "y1": -21.152343750000007
         },
         {
          "layer": "below",
          "line": {
           "color": "rgb(25,25,25)",
           "width": 1
          },
          "type": "line",
          "x0": 0.00125,
          "x1": 0.00125,
          "y0": -13.118750000000006,
          "y1": -29.185937500000005
         },
         {
          "layer": "below",
          "line": {
           "color": "rgb(25,25,25)",
           "width": 1
          },
          "type": "line",
          "x0": 0.00125,
          "x1": 0.00265,
          "y0": -29.185937500000005,
          "y1": -29.185937500000005
         },
         {
          "layer": "below",
          "line": {
           "color": "rgb(25,25,25)",
           "width": 1
          },
          "type": "line",
          "x0": 0.00265,
          "x1": 0.00265,
          "y0": -26.971875000000004,
          "y1": -31.400000000000006
         },
         {
          "layer": "below",
          "line": {
           "color": "rgb(25,25,25)",
           "width": 1
          },
          "type": "line",
          "x0": 0.00265,
          "x1": 0.01525,
          "y0": -31.400000000000006,
          "y1": -31.400000000000006
         },
         {
          "layer": "below",
          "line": {
           "color": "rgb(25,25,25)",
           "width": 1
          },
          "type": "line",
          "x0": 0.00265,
          "x1": 0.00378,
          "y0": -26.971875000000004,
          "y1": -26.971875000000004
         },
         {
          "layer": "below",
          "line": {
           "color": "rgb(25,25,25)",
           "width": 1
          },
          "type": "line",
          "x0": 0.00378,
          "x1": 0.00378,
          "y0": -24.81875000000001,
          "y1": -29.125
         },
         {
          "layer": "below",
          "line": {
           "color": "rgb(25,25,25)",
           "width": 1
          },
          "type": "line",
          "x0": 0.00378,
          "x1": 0.00637,
          "y0": -29.125,
          "y1": -29.125
         },
         {
          "layer": "below",
          "line": {
           "color": "rgb(25,25,25)",
           "width": 1
          },
          "type": "line",
          "x0": 0.00637,
          "x1": 0.00637,
          "y0": -28.150000000000006,
          "y1": -30.099999999999994
         },
         {
          "layer": "below",
          "line": {
           "color": "rgb(25,25,25)",
           "width": 1
          },
          "type": "line",
          "x0": 0.00637,
          "x1": 0.01972,
          "y0": -30.099999999999994,
          "y1": -30.099999999999994
         },
         {
          "layer": "below",
          "line": {
           "color": "rgb(25,25,25)",
           "width": 1
          },
          "type": "line",
          "x0": 0.00637,
          "x1": 0.0181,
          "y0": -28.150000000000006,
          "y1": -28.150000000000006
         },
         {
          "layer": "below",
          "line": {
           "color": "rgb(25,25,25)",
           "width": 1
          },
          "type": "line",
          "x0": 0.0181,
          "x1": 0.0181,
          "y0": -27.5,
          "y1": -28.80000000000001
         },
         {
          "layer": "below",
          "line": {
           "color": "rgb(25,25,25)",
           "width": 1
          },
          "type": "line",
          "x0": 0.0181,
          "x1": 0.019110000000000002,
          "y0": -28.80000000000001,
          "y1": -28.80000000000001
         },
         {
          "layer": "below",
          "line": {
           "color": "rgb(25,25,25)",
           "width": 1
          },
          "type": "line",
          "x0": 0.0181,
          "x1": 0.018170000000000002,
          "y0": -27.5,
          "y1": -27.5
         },
         {
          "layer": "below",
          "line": {
           "color": "rgb(25,25,25)",
           "width": 1
          },
          "type": "line",
          "x0": 0.00378,
          "x1": 0.01047,
          "y0": -24.81875000000001,
          "y1": -24.81875000000001
         },
         {
          "layer": "below",
          "line": {
           "color": "rgb(25,25,25)",
           "width": 1
          },
          "type": "line",
          "x0": 0.01047,
          "x1": 0.01047,
          "y0": -23.437500000000004,
          "y1": -26.200000000000017
         },
         {
          "layer": "below",
          "line": {
           "color": "rgb(25,25,25)",
           "width": 1
          },
          "type": "line",
          "x0": 0.01047,
          "x1": 0.01828,
          "y0": -26.200000000000017,
          "y1": -26.200000000000017
         },
         {
          "layer": "below",
          "line": {
           "color": "rgb(25,25,25)",
           "width": 1
          },
          "type": "line",
          "x0": 0.01047,
          "x1": 0.01771,
          "y0": -23.437500000000004,
          "y1": -23.437500000000004
         },
         {
          "layer": "below",
          "line": {
           "color": "rgb(25,25,25)",
           "width": 1
          },
          "type": "line",
          "x0": 0.01771,
          "x1": 0.01771,
          "y0": -21.975,
          "y1": -24.900000000000006
         },
         {
          "layer": "below",
          "line": {
           "color": "rgb(25,25,25)",
           "width": 1
          },
          "type": "line",
          "x0": 0.01771,
          "x1": 0.01796,
          "y0": -24.900000000000006,
          "y1": -24.900000000000006
         },
         {
          "layer": "below",
          "line": {
           "color": "rgb(25,25,25)",
           "width": 1
          },
          "type": "line",
          "x0": 0.01771,
          "x1": 0.01771,
          "y0": -21.975,
          "y1": -21.975
         },
         {
          "layer": "below",
          "line": {
           "color": "rgb(25,25,25)",
           "width": 1
          },
          "type": "line",
          "x0": 0.01771,
          "x1": 0.01771,
          "y0": -21,
          "y1": -22.950000000000003
         },
         {
          "layer": "below",
          "line": {
           "color": "rgb(25,25,25)",
           "width": 1
          },
          "type": "line",
          "x0": 0.01771,
          "x1": 0.01782,
          "y0": -22.950000000000003,
          "y1": -22.950000000000003
         },
         {
          "layer": "below",
          "line": {
           "color": "rgb(25,25,25)",
           "width": 1
          },
          "type": "line",
          "x0": 0.01782,
          "x1": 0.01782,
          "y0": -22.30000000000001,
          "y1": -23.599999999999994
         },
         {
          "layer": "below",
          "line": {
           "color": "rgb(25,25,25)",
           "width": 1
          },
          "type": "line",
          "x0": 0.01782,
          "x1": 0.01863,
          "y0": -23.599999999999994,
          "y1": -23.599999999999994
         },
         {
          "layer": "below",
          "line": {
           "color": "rgb(25,25,25)",
           "width": 1
          },
          "type": "line",
          "x0": 0.01782,
          "x1": 0.01937,
          "y0": -22.30000000000001,
          "y1": -22.30000000000001
         },
         {
          "layer": "below",
          "line": {
           "color": "rgb(25,25,25)",
           "width": 1
          },
          "type": "line",
          "x0": 0.01771,
          "x1": 0.01784,
          "y0": -21,
          "y1": -21
         },
         {
          "layer": "below",
          "line": {
           "color": "rgb(25,25,25)",
           "width": 1
          },
          "type": "line",
          "x0": 0.00125,
          "x1": 0.00299,
          "y0": -13.118750000000006,
          "y1": -13.118750000000006
         },
         {
          "layer": "below",
          "line": {
           "color": "rgb(25,25,25)",
           "width": 1
          },
          "type": "line",
          "x0": 0.00299,
          "x1": 0.00299,
          "y0": -9.300000000000004,
          "y1": -16.937500000000007
         },
         {
          "layer": "below",
          "line": {
           "color": "rgb(25,25,25)",
           "width": 1
          },
          "type": "line",
          "x0": 0.00299,
          "x1": 0.00493,
          "y0": -16.937500000000007,
          "y1": -16.937500000000007
         },
         {
          "layer": "below",
          "line": {
           "color": "rgb(25,25,25)",
           "width": 1
          },
          "type": "line",
          "x0": 0.00493,
          "x1": 0.00493,
          "y0": -15.150000000000006,
          "y1": -18.725000000000012
         },
         {
          "layer": "below",
          "line": {
           "color": "rgb(25,25,25)",
           "width": 1
          },
          "type": "line",
          "x0": 0.00493,
          "x1": 0.008480000000000001,
          "y0": -18.725000000000012,
          "y1": -18.725000000000012
         },
         {
          "layer": "below",
          "line": {
           "color": "rgb(25,25,25)",
           "width": 1
          },
          "type": "line",
          "x0": 0.008480000000000001,
          "x1": 0.008480000000000001,
          "y0": -17.750000000000007,
          "y1": -19.700000000000017
         },
         {
          "layer": "below",
          "line": {
           "color": "rgb(25,25,25)",
           "width": 1
          },
          "type": "line",
          "x0": 0.008480000000000001,
          "x1": 0.02128,
          "y0": -19.700000000000017,
          "y1": -19.700000000000017
         },
         {
          "layer": "below",
          "line": {
           "color": "rgb(25,25,25)",
           "width": 1
          },
          "type": "line",
          "x0": 0.008480000000000001,
          "x1": 0.02374,
          "y0": -17.750000000000007,
          "y1": -17.750000000000007
         },
         {
          "layer": "below",
          "line": {
           "color": "rgb(25,25,25)",
           "width": 1
          },
          "type": "line",
          "x0": 0.02374,
          "x1": 0.02374,
          "y0": -17.10000000000001,
          "y1": -18.400000000000006
         },
         {
          "layer": "below",
          "line": {
           "color": "rgb(25,25,25)",
           "width": 1
          },
          "type": "line",
          "x0": 0.02374,
          "x1": 0.02383,
          "y0": -18.400000000000006,
          "y1": -18.400000000000006
         },
         {
          "layer": "below",
          "line": {
           "color": "rgb(25,25,25)",
           "width": 1
          },
          "type": "line",
          "x0": 0.02374,
          "x1": 0.02378,
          "y0": -17.10000000000001,
          "y1": -17.10000000000001
         },
         {
          "layer": "below",
          "line": {
           "color": "rgb(25,25,25)",
           "width": 1
          },
          "type": "line",
          "x0": 0.00493,
          "x1": 0.00745,
          "y0": -15.150000000000006,
          "y1": -15.150000000000006
         },
         {
          "layer": "below",
          "line": {
           "color": "rgb(25,25,25)",
           "width": 1
          },
          "type": "line",
          "x0": 0.00745,
          "x1": 0.00745,
          "y0": -14.5,
          "y1": -15.800000000000011
         },
         {
          "layer": "below",
          "line": {
           "color": "rgb(25,25,25)",
           "width": 1
          },
          "type": "line",
          "x0": 0.00745,
          "x1": 0.01982,
          "y0": -15.800000000000011,
          "y1": -15.800000000000011
         },
         {
          "layer": "below",
          "line": {
           "color": "rgb(25,25,25)",
           "width": 1
          },
          "type": "line",
          "x0": 0.00745,
          "x1": 0.026500000000000003,
          "y0": -14.5,
          "y1": -14.5
         },
         {
          "layer": "below",
          "line": {
           "color": "rgb(25,25,25)",
           "width": 1
          },
          "type": "line",
          "x0": 0.00299,
          "x1": 0.0046700000000000005,
          "y0": -9.300000000000004,
          "y1": -9.300000000000004
         },
         {
          "layer": "below",
          "line": {
           "color": "rgb(25,25,25)",
           "width": 1
          },
          "type": "line",
          "x0": 0.0046700000000000005,
          "x1": 0.0046700000000000005,
          "y0": -6.375000000000002,
          "y1": -12.225000000000005
         },
         {
          "layer": "below",
          "line": {
           "color": "rgb(25,25,25)",
           "width": 1
          },
          "type": "line",
          "x0": 0.0046700000000000005,
          "x1": 0.009420000000000001,
          "y0": -12.225000000000005,
          "y1": -12.225000000000005
         },
         {
          "layer": "below",
          "line": {
           "color": "rgb(25,25,25)",
           "width": 1
          },
          "type": "line",
          "x0": 0.009420000000000001,
          "x1": 0.009420000000000001,
          "y0": -11.250000000000007,
          "y1": -13.200000000000003
         },
         {
          "layer": "below",
          "line": {
           "color": "rgb(25,25,25)",
           "width": 1
          },
          "type": "line",
          "x0": 0.009420000000000001,
          "x1": 0.023420000000000003,
          "y0": -13.200000000000003,
          "y1": -13.200000000000003
         },
         {
          "layer": "below",
          "line": {
           "color": "rgb(25,25,25)",
           "width": 1
          },
          "type": "line",
          "x0": 0.009420000000000001,
          "x1": 0.025240000000000002,
          "y0": -11.250000000000007,
          "y1": -11.250000000000007
         },
         {
          "layer": "below",
          "line": {
           "color": "rgb(25,25,25)",
           "width": 1
          },
          "type": "line",
          "x0": 0.025240000000000002,
          "x1": 0.025240000000000002,
          "y0": -10.600000000000009,
          "y1": -11.900000000000006
         },
         {
          "layer": "below",
          "line": {
           "color": "rgb(25,25,25)",
           "width": 1
          },
          "type": "line",
          "x0": 0.025240000000000002,
          "x1": 0.02535,
          "y0": -11.900000000000006,
          "y1": -11.900000000000006
         },
         {
          "layer": "below",
          "line": {
           "color": "rgb(25,25,25)",
           "width": 1
          },
          "type": "line",
          "x0": 0.025240000000000002,
          "x1": 0.025300000000000003,
          "y0": -10.600000000000009,
          "y1": -10.600000000000009
         },
         {
          "layer": "below",
          "line": {
           "color": "rgb(25,25,25)",
           "width": 1
          },
          "type": "line",
          "x0": 0.0046700000000000005,
          "x1": 0.00783,
          "y0": -6.375000000000002,
          "y1": -6.375000000000002
         },
         {
          "layer": "below",
          "line": {
           "color": "rgb(25,25,25)",
           "width": 1
          },
          "type": "line",
          "x0": 0.00783,
          "x1": 0.00783,
          "y0": -4.425000000000004,
          "y1": -8.325
         },
         {
          "layer": "below",
          "line": {
           "color": "rgb(25,25,25)",
           "width": 1
          },
          "type": "line",
          "x0": 0.00783,
          "x1": 0.02176,
          "y0": -8.325,
          "y1": -8.325
         },
         {
          "layer": "below",
          "line": {
           "color": "rgb(25,25,25)",
           "width": 1
          },
          "type": "line",
          "x0": 0.02176,
          "x1": 0.02176,
          "y0": -7.350000000000001,
          "y1": -9.299999999999997
         },
         {
          "layer": "below",
          "line": {
           "color": "rgb(25,25,25)",
           "width": 1
          },
          "type": "line",
          "x0": 0.02176,
          "x1": 0.021890000000000003,
          "y0": -9.299999999999997,
          "y1": -9.299999999999997
         },
         {
          "layer": "below",
          "line": {
           "color": "rgb(25,25,25)",
           "width": 1
          },
          "type": "line",
          "x0": 0.02176,
          "x1": 0.0218,
          "y0": -7.350000000000001,
          "y1": -7.350000000000001
         },
         {
          "layer": "below",
          "line": {
           "color": "rgb(25,25,25)",
           "width": 1
          },
          "type": "line",
          "x0": 0.0218,
          "x1": 0.0218,
          "y0": -6.700000000000003,
          "y1": -8
         },
         {
          "layer": "below",
          "line": {
           "color": "rgb(25,25,25)",
           "width": 1
          },
          "type": "line",
          "x0": 0.0218,
          "x1": 0.02269,
          "y0": -8,
          "y1": -8
         },
         {
          "layer": "below",
          "line": {
           "color": "rgb(25,25,25)",
           "width": 1
          },
          "type": "line",
          "x0": 0.0218,
          "x1": 0.02199,
          "y0": -6.700000000000003,
          "y1": -6.700000000000003
         },
         {
          "layer": "below",
          "line": {
           "color": "rgb(25,25,25)",
           "width": 1
          },
          "type": "line",
          "x0": 0.00783,
          "x1": 0.0213,
          "y0": -4.425000000000004,
          "y1": -4.425000000000004
         },
         {
          "layer": "below",
          "line": {
           "color": "rgb(25,25,25)",
           "width": 1
          },
          "type": "line",
          "x0": 0.0213,
          "x1": 0.0213,
          "y0": -3.450000000000003,
          "y1": -5.400000000000006
         },
         {
          "layer": "below",
          "line": {
           "color": "rgb(25,25,25)",
           "width": 1
          },
          "type": "line",
          "x0": 0.0213,
          "x1": 0.02145,
          "y0": -5.400000000000006,
          "y1": -5.400000000000006
         },
         {
          "layer": "below",
          "line": {
           "color": "rgb(25,25,25)",
           "width": 1
          },
          "type": "line",
          "x0": 0.0213,
          "x1": 0.0213,
          "y0": -3.450000000000003,
          "y1": -3.450000000000003
         },
         {
          "layer": "below",
          "line": {
           "color": "rgb(25,25,25)",
           "width": 1
          },
          "type": "line",
          "x0": 0.0213,
          "x1": 0.0213,
          "y0": -2.799999999999997,
          "y1": -4.1000000000000085
         },
         {
          "layer": "below",
          "line": {
           "color": "rgb(25,25,25)",
           "width": 1
          },
          "type": "line",
          "x0": 0.0213,
          "x1": 0.02138,
          "y0": -4.1000000000000085,
          "y1": -4.1000000000000085
         },
         {
          "layer": "below",
          "line": {
           "color": "rgb(25,25,25)",
           "width": 1
          },
          "type": "line",
          "x0": 0.0213,
          "x1": 0.021509999999999998,
          "y0": -2.799999999999997,
          "y1": -2.799999999999997
         },
         {
          "layer": "below",
          "line": {
           "color": "rgb(25,25,25)",
           "width": 1
          },
          "type": "line",
          "x0": 0,
          "x1": 0.00099,
          "y0": -0.5250000000000021,
          "y1": -0.5250000000000021
         },
         {
          "layer": "below",
          "line": {
           "color": "rgb(25,25,25)",
           "width": 1
          },
          "type": "line",
          "x0": 0.00099,
          "x1": 0.00099,
          "y0": 0.44999999999999574,
          "y1": -1.5
         },
         {
          "layer": "below",
          "line": {
           "color": "rgb(25,25,25)",
           "width": 1
          },
          "type": "line",
          "x0": 0.00099,
          "x1": 0.01608,
          "y0": -1.5,
          "y1": -1.5
         },
         {
          "layer": "below",
          "line": {
           "color": "rgb(25,25,25)",
           "width": 1
          },
          "type": "line",
          "x0": 0.00099,
          "x1": 0.004200000000000001,
          "y0": 0.44999999999999574,
          "y1": 0.44999999999999574
         },
         {
          "layer": "below",
          "line": {
           "color": "rgb(25,25,25)",
           "width": 1
          },
          "type": "line",
          "x0": 0.004200000000000001,
          "x1": 0.004200000000000001,
          "y0": 1.0999999999999943,
          "y1": -0.20000000000000284
         },
         {
          "layer": "below",
          "line": {
           "color": "rgb(25,25,25)",
           "width": 1
          },
          "type": "line",
          "x0": 0.004200000000000001,
          "x1": 0.01734,
          "y0": -0.20000000000000284,
          "y1": -0.20000000000000284
         },
         {
          "layer": "below",
          "line": {
           "color": "rgb(25,25,25)",
           "width": 1
          },
          "type": "line",
          "x0": 0.004200000000000001,
          "x1": 0.020860000000000004,
          "y0": 1.0999999999999943,
          "y1": 1.0999999999999943
         },
         {
          "layer": "below",
          "line": {
           "color": "rgb(25,25,25)",
           "width": 1
          },
          "type": "line",
          "x0": 0,
          "x1": 0.00102,
          "y0": 47.59011721611023,
          "y1": 47.59011721611023
         },
         {
          "layer": "below",
          "line": {
           "color": "rgb(25,25,25)",
           "width": 1
          },
          "type": "line",
          "x0": 0.00102,
          "x1": 0.00102,
          "y0": 90.83023443222046,
          "y1": 4.349999999999998
         },
         {
          "layer": "below",
          "line": {
           "color": "rgb(25,25,25)",
           "width": 1
          },
          "type": "line",
          "x0": 0.00102,
          "x1": 0.00435,
          "y0": 4.349999999999998,
          "y1": 4.349999999999998
         },
         {
          "layer": "below",
          "line": {
           "color": "rgb(25,25,25)",
           "width": 1
          },
          "type": "line",
          "x0": 0.00435,
          "x1": 0.00435,
          "y0": 5.649999999999999,
          "y1": 3.049999999999997
         },
         {
          "layer": "below",
          "line": {
           "color": "rgb(25,25,25)",
           "width": 1
          },
          "type": "line",
          "x0": 0.00435,
          "x1": 0.01966,
          "y0": 3.049999999999997,
          "y1": 3.049999999999997
         },
         {
          "layer": "below",
          "line": {
           "color": "rgb(25,25,25)",
           "width": 1
          },
          "type": "line",
          "x0": 0.01966,
          "x1": 0.01966,
          "y0": 3.700000000000003,
          "y1": 2.3999999999999915
         },
         {
          "layer": "below",
          "line": {
           "color": "rgb(25,25,25)",
           "width": 1
          },
          "type": "line",
          "x0": 0.01966,
          "x1": 0.01989,
          "y0": 2.3999999999999915,
          "y1": 2.3999999999999915
         },
         {
          "layer": "below",
          "line": {
           "color": "rgb(25,25,25)",
           "width": 1
          },
          "type": "line",
          "x0": 0.01966,
          "x1": 0.01983,
          "y0": 3.700000000000003,
          "y1": 3.700000000000003
         },
         {
          "layer": "below",
          "line": {
           "color": "rgb(25,25,25)",
           "width": 1
          },
          "type": "line",
          "x0": 0.00435,
          "x1": 0.01845,
          "y0": 5.649999999999999,
          "y1": 5.649999999999999
         },
         {
          "layer": "below",
          "line": {
           "color": "rgb(25,25,25)",
           "width": 1
          },
          "type": "line",
          "x0": 0.01845,
          "x1": 0.01845,
          "y0": 6.299999999999997,
          "y1": 5
         },
         {
          "layer": "below",
          "line": {
           "color": "rgb(25,25,25)",
           "width": 1
          },
          "type": "line",
          "x0": 0.01845,
          "x1": 0.018750000000000003,
          "y0": 5,
          "y1": 5
         },
         {
          "layer": "below",
          "line": {
           "color": "rgb(25,25,25)",
           "width": 1
          },
          "type": "line",
          "x0": 0.01845,
          "x1": 0.018680000000000002,
          "y0": 6.299999999999997,
          "y1": 6.299999999999997
         },
         {
          "layer": "below",
          "line": {
           "color": "rgb(25,25,25)",
           "width": 1
          },
          "type": "line",
          "x0": 0.00102,
          "x1": 0.0025900000000000003,
          "y0": 90.83023443222046,
          "y1": 90.83023443222046
         },
         {
          "layer": "below",
          "line": {
           "color": "rgb(25,25,25)",
           "width": 1
          },
          "type": "line",
          "x0": 0.0025900000000000003,
          "x1": 0.0025900000000000003,
          "y0": 108.35,
          "y1": 73.31046886444092
         },
         {
          "layer": "below",
          "line": {
           "color": "rgb(25,25,25)",
           "width": 1
          },
          "type": "line",
          "x0": 0.0025900000000000003,
          "x1": 0.0047,
          "y0": 73.31046886444092,
          "y1": 73.31046886444092
         },
         {
          "layer": "below",
          "line": {
           "color": "rgb(25,25,25)",
           "width": 1
          },
          "type": "line",
          "x0": 0.0047,
          "x1": 0.0047,
          "y0": 103.3125,
          "y1": 43.308437728881835
         },
         {
          "layer": "below",
          "line": {
           "color": "rgb(25,25,25)",
           "width": 1
          },
          "type": "line",
          "x0": 0.0047,
          "x1": 0.00615,
          "y0": 43.308437728881835,
          "y1": 43.308437728881835
         },
         {
          "layer": "below",
          "line": {
           "color": "rgb(25,25,25)",
           "width": 1
          },
          "type": "line",
          "x0": 0.00615,
          "x1": 0.00615,
          "y0": 75.84812545776367,
          "y1": 10.768749999999997
         },
         {
          "layer": "below",
          "line": {
           "color": "rgb(25,25,25)",
           "width": 1
          },
          "type": "line",
          "x0": 0.00615,
          "x1": 0.010280000000000001,
          "y0": 10.768749999999997,
          "y1": 10.768749999999997
         },
         {
          "layer": "below",
          "line": {
           "color": "rgb(25,25,25)",
           "width": 1
          },
          "type": "line",
          "x0": 0.010280000000000001,
          "x1": 0.010280000000000001,
          "y0": 12.799999999999997,
          "y1": 8.737499999999995
         },
         {
          "layer": "below",
          "line": {
           "color": "rgb(25,25,25)",
           "width": 1
          },
          "type": "line",
          "x0": 0.010280000000000001,
          "x1": 0.02612,
          "y0": 8.737499999999995,
          "y1": 8.737499999999995
         },
         {
          "layer": "below",
          "line": {
           "color": "rgb(25,25,25)",
           "width": 1
          },
          "type": "line",
          "x0": 0.02612,
          "x1": 0.02612,
          "y0": 9.874999999999996,
          "y1": 7.599999999999994
         },
         {
          "layer": "below",
          "line": {
           "color": "rgb(25,25,25)",
           "width": 1
          },
          "type": "line",
          "x0": 0.02612,
          "x1": 0.02631,
          "y0": 7.599999999999994,
          "y1": 7.599999999999994
         },
         {
          "layer": "below",
          "line": {
           "color": "rgb(25,25,25)",
           "width": 1
          },
          "type": "line",
          "x0": 0.02612,
          "x1": 0.02612,
          "y0": 9.874999999999996,
          "y1": 9.874999999999996
         },
         {
          "layer": "below",
          "line": {
           "color": "rgb(25,25,25)",
           "width": 1
          },
          "type": "line",
          "x0": 0.02612,
          "x1": 0.02612,
          "y0": 10.850000000000001,
          "y1": 8.899999999999991
         },
         {
          "layer": "below",
          "line": {
           "color": "rgb(25,25,25)",
           "width": 1
          },
          "type": "line",
          "x0": 0.02612,
          "x1": 0.026180000000000002,
          "y0": 8.899999999999991,
          "y1": 8.899999999999991
         },
         {
          "layer": "below",
          "line": {
           "color": "rgb(25,25,25)",
           "width": 1
          },
          "type": "line",
          "x0": 0.02612,
          "x1": 0.02612,
          "y0": 10.850000000000001,
          "y1": 10.850000000000001
         },
         {
          "layer": "below",
          "line": {
           "color": "rgb(25,25,25)",
           "width": 1
          },
          "type": "line",
          "x0": 0.02612,
          "x1": 0.02612,
          "y0": 11.5,
          "y1": 10.200000000000003
         },
         {
          "layer": "below",
          "line": {
           "color": "rgb(25,25,25)",
           "width": 1
          },
          "type": "line",
          "x0": 0.02612,
          "x1": 0.02657,
          "y0": 10.200000000000003,
          "y1": 10.200000000000003
         },
         {
          "layer": "below",
          "line": {
           "color": "rgb(25,25,25)",
           "width": 1
          },
          "type": "line",
          "x0": 0.02612,
          "x1": 0.02646,
          "y0": 11.5,
          "y1": 11.5
         },
         {
          "layer": "below",
          "line": {
           "color": "rgb(25,25,25)",
           "width": 1
          },
          "type": "line",
          "x0": 0.010280000000000001,
          "x1": 0.02798,
          "y0": 12.799999999999997,
          "y1": 12.799999999999997
         },
         {
          "layer": "below",
          "line": {
           "color": "rgb(25,25,25)",
           "width": 1
          },
          "type": "line",
          "x0": 0.00615,
          "x1": 0.00893,
          "y0": 75.84812545776367,
          "y1": 75.84812545776367
         },
         {
          "layer": "below",
          "line": {
           "color": "rgb(25,25,25)",
           "width": 1
          },
          "type": "line",
          "x0": 0.00893,
          "x1": 0.00893,
          "y0": 96.8125,
          "y1": 54.883750915527344
         },
         {
          "layer": "below",
          "line": {
           "color": "rgb(25,25,25)",
           "width": 1
          },
          "type": "line",
          "x0": 0.00893,
          "x1": 0.012920000000000001,
          "y0": 54.883750915527344,
          "y1": 54.883750915527344
         },
         {
          "layer": "below",
          "line": {
           "color": "rgb(25,25,25)",
           "width": 1
          },
          "type": "line",
          "x0": 0.012920000000000001,
          "x1": 0.012920000000000001,
          "y0": 90.3125,
          "y1": 19.455001831054684
         },
         {
          "layer": "below",
          "line": {
           "color": "rgb(25,25,25)",
           "width": 1
          },
          "type": "line",
          "x0": 0.012920000000000001,
          "x1": 0.04852,
          "y0": 19.455001831054684,
          "y1": 19.455001831054684
         },
         {
          "layer": "below",
          "line": {
           "color": "rgb(25,25,25)",
           "width": 1
          },
          "type": "line",
          "x0": 0.04852,
          "x1": 0.04852,
          "y0": 24.810003662109374,
          "y1": 14.099999999999994
         },
         {
          "layer": "below",
          "line": {
           "color": "rgb(25,25,25)",
           "width": 1
          },
          "type": "line",
          "x0": 0.04852,
          "x1": 0.0963,
          "y0": 14.099999999999994,
          "y1": 14.099999999999994
         },
         {
          "layer": "below",
          "line": {
           "color": "rgb(25,25,25)",
           "width": 1
          },
          "type": "line",
          "x0": 0.04852,
          "x1": 0.05943,
          "y0": 24.810003662109374,
          "y1": 24.810003662109374
         },
         {
          "layer": "below",
          "line": {
           "color": "rgb(25,25,25)",
           "width": 1
          },
          "type": "line",
          "x0": 0.05943,
          "x1": 0.05943,
          "y0": 33.57000732421875,
          "y1": 16.049999999999997
         },
         {
          "layer": "below",
          "line": {
           "color": "rgb(25,25,25)",
           "width": 1
          },
          "type": "line",
          "x0": 0.05943,
          "x1": 0.14888,
          "y0": 16.049999999999997,
          "y1": 16.049999999999997
         },
         {
          "layer": "below",
          "line": {
           "color": "rgb(25,25,25)",
           "width": 1
          },
          "type": "line",
          "x0": 0.14888,
          "x1": 0.14888,
          "y0": 16.700000000000003,
          "y1": 15.399999999999991
         },
         {
          "layer": "below",
          "line": {
           "color": "rgb(25,25,25)",
           "width": 1
          },
          "type": "line",
          "x0": 0.14888,
          "x1": 0.14903000000000002,
          "y0": 15.399999999999991,
          "y1": 15.399999999999991
         },
         {
          "layer": "below",
          "line": {
           "color": "rgb(25,25,25)",
           "width": 1
          },
          "type": "line",
          "x0": 0.14888,
          "x1": 0.14897000000000002,
          "y0": 16.700000000000003,
          "y1": 16.700000000000003
         },
         {
          "layer": "below",
          "line": {
           "color": "rgb(25,25,25)",
           "width": 1
          },
          "type": "line",
          "x0": 0.05943,
          "x1": 0.07209,
          "y0": 33.57000732421875,
          "y1": 33.57000732421875
         },
         {
          "layer": "below",
          "line": {
           "color": "rgb(25,25,25)",
           "width": 1
          },
          "type": "line",
          "x0": 0.07209,
          "x1": 0.07209,
          "y0": 49.1400146484375,
          "y1": 18
         },
         {
          "layer": "below",
          "line": {
           "color": "rgb(25,25,25)",
           "width": 1
          },
          "type": "line",
          "x0": 0.07209,
          "x1": 0.13332,
          "y0": 18,
          "y1": 18
         },
         {
          "layer": "below",
          "line": {
           "color": "rgb(25,25,25)",
           "width": 1
          },
          "type": "line",
          "x0": 0.07209,
          "x1": 0.13035,
          "y0": 49.1400146484375,
          "y1": 49.1400146484375
         },
         {
          "layer": "below",
          "line": {
           "color": "rgb(25,25,25)",
           "width": 1
          },
          "type": "line",
          "x0": 0.13035,
          "x1": 0.13035,
          "y0": 66.08984375,
          "y1": 32.190185546875
         },
         {
          "layer": "below",
          "line": {
           "color": "rgb(25,25,25)",
           "width": 1
          },
          "type": "line",
          "x0": 0.13035,
          "x1": 0.20862999999999998,
          "y0": 32.190185546875,
          "y1": 32.190185546875
         },
         {
          "layer": "below",
          "line": {
           "color": "rgb(25,25,25)",
           "width": 1
          },
          "type": "line",
          "x0": 0.20862999999999998,
          "x1": 0.20862999999999998,
          "y0": 45.080371093749996,
          "y1": 19.299999999999997
         },
         {
          "layer": "below",
          "line": {
           "color": "rgb(25,25,25)",
           "width": 1
          },
          "type": "line",
          "x0": 0.20862999999999998,
          "x1": 0.22905999999999999,
          "y0": 19.299999999999997,
          "y1": 19.299999999999997
         },
         {
          "layer": "below",
          "line": {
           "color": "rgb(25,25,25)",
           "width": 1
          },
          "type": "line",
          "x0": 0.20862999999999998,
          "x1": 0.21427999999999997,
          "y0": 45.080371093749996,
          "y1": 45.080371093749996
         },
         {
          "layer": "below",
          "line": {
           "color": "rgb(25,25,25)",
           "width": 1
          },
          "type": "line",
          "x0": 0.21427999999999997,
          "x1": 0.21427999999999997,
          "y0": 56.675,
          "y1": 33.485742187499994
         },
         {
          "layer": "below",
          "line": {
           "color": "rgb(25,25,25)",
           "width": 1
          },
          "type": "line",
          "x0": 0.21427999999999997,
          "x1": 0.23450999999999997,
          "y0": 33.485742187499994,
          "y1": 33.485742187499994
         },
         {
          "layer": "below",
          "line": {
           "color": "rgb(25,25,25)",
           "width": 1
          },
          "type": "line",
          "x0": 0.23450999999999997,
          "x1": 0.23450999999999997,
          "y0": 45.721484375,
          "y1": 21.249999999999993
         },
         {
          "layer": "below",
          "line": {
           "color": "rgb(25,25,25)",
           "width": 1
          },
          "type": "line",
          "x0": 0.23450999999999997,
          "x1": 0.23458999999999997,
          "y0": 21.249999999999993,
          "y1": 21.249999999999993
         },
         {
          "layer": "below",
          "line": {
           "color": "rgb(25,25,25)",
           "width": 1
          },
          "type": "line",
          "x0": 0.23458999999999997,
          "x1": 0.23458999999999997,
          "y0": 21.89999999999999,
          "y1": 20.599999999999994
         },
         {
          "layer": "below",
          "line": {
           "color": "rgb(25,25,25)",
           "width": 1
          },
          "type": "line",
          "x0": 0.23458999999999997,
          "x1": 0.23532999999999996,
          "y0": 20.599999999999994,
          "y1": 20.599999999999994
         },
         {
          "layer": "below",
          "line": {
           "color": "rgb(25,25,25)",
           "width": 1
          },
          "type": "line",
          "x0": 0.23458999999999997,
          "x1": 0.23500999999999997,
          "y0": 21.89999999999999,
          "y1": 21.89999999999999
         },
         {
          "layer": "below",
          "line": {
           "color": "rgb(25,25,25)",
           "width": 1
          },
          "type": "line",
          "x0": 0.23450999999999997,
          "x1": 0.23451999999999998,
          "y0": 45.721484375,
          "y1": 45.721484375
         },
         {
          "layer": "below",
          "line": {
           "color": "rgb(25,25,25)",
           "width": 1
          },
          "type": "line",
          "x0": 0.23451999999999998,
          "x1": 0.23451999999999998,
          "y0": 54.4,
          "y1": 37.04296875
         },
         {
          "layer": "below",
          "line": {
           "color": "rgb(25,25,25)",
           "width": 1
          },
          "type": "line",
          "x0": 0.23451999999999998,
          "x1": 0.23451999999999998,
          "y0": 37.04296875,
          "y1": 37.04296875
         },
         {
          "layer": "below",
          "line": {
           "color": "rgb(25,25,25)",
           "width": 1
          },
          "type": "line",
          "x0": 0.23451999999999998,
          "x1": 0.23451999999999998,
          "y0": 45.1578125,
          "y1": 28.928124999999998
         },
         {
          "layer": "below",
          "line": {
           "color": "rgb(25,25,25)",
           "width": 1
          },
          "type": "line",
          "x0": 0.23451999999999998,
          "x1": 0.23451999999999998,
          "y0": 28.928124999999998,
          "y1": 28.928124999999998
         },
         {
          "layer": "below",
          "line": {
           "color": "rgb(25,25,25)",
           "width": 1
          },
          "type": "line",
          "x0": 0.23451999999999998,
          "x1": 0.23451999999999998,
          "y0": 32.4625,
          "y1": 25.393749999999997
         },
         {
          "layer": "below",
          "line": {
           "color": "rgb(25,25,25)",
           "width": 1
          },
          "type": "line",
          "x0": 0.23451999999999998,
          "x1": 0.23468999999999998,
          "y0": 25.393749999999997,
          "y1": 25.393749999999997
         },
         {
          "layer": "below",
          "line": {
           "color": "rgb(25,25,25)",
           "width": 1
          },
          "type": "line",
          "x0": 0.23468999999999998,
          "x1": 0.23468999999999998,
          "y0": 26.937499999999996,
          "y1": 23.85
         },
         {
          "layer": "below",
          "line": {
           "color": "rgb(25,25,25)",
           "width": 1
          },
          "type": "line",
          "x0": 0.23468999999999998,
          "x1": 0.23489999999999997,
          "y0": 23.85,
          "y1": 23.85
         },
         {
          "layer": "below",
          "line": {
           "color": "rgb(25,25,25)",
           "width": 1
          },
          "type": "line",
          "x0": 0.23489999999999997,
          "x1": 0.23489999999999997,
          "y0": 24.5,
          "y1": 23.200000000000003
         },
         {
          "layer": "below",
          "line": {
           "color": "rgb(25,25,25)",
           "width": 1
          },
          "type": "line",
          "x0": 0.23489999999999997,
          "x1": 0.23525999999999997,
          "y0": 23.200000000000003,
          "y1": 23.200000000000003
         },
         {
          "layer": "below",
          "line": {
           "color": "rgb(25,25,25)",
           "width": 1
          },
          "type": "line",
          "x0": 0.23489999999999997,
          "x1": 0.23601999999999998,
          "y0": 24.5,
          "y1": 24.5
         },
         {
          "layer": "below",
          "line": {
           "color": "rgb(25,25,25)",
           "width": 1
          },
          "type": "line",
          "x0": 0.23468999999999998,
          "x1": 0.23485999999999999,
          "y0": 26.937499999999996,
          "y1": 26.937499999999996
         },
         {
          "layer": "below",
          "line": {
           "color": "rgb(25,25,25)",
           "width": 1
          },
          "type": "line",
          "x0": 0.23485999999999999,
          "x1": 0.23485999999999999,
          "y0": 28.074999999999996,
          "y1": 25.799999999999997
         },
         {
          "layer": "below",
          "line": {
           "color": "rgb(25,25,25)",
           "width": 1
          },
          "type": "line",
          "x0": 0.23485999999999999,
          "x1": 0.23521999999999998,
          "y0": 25.799999999999997,
          "y1": 25.799999999999997
         },
         {
          "layer": "below",
          "line": {
           "color": "rgb(25,25,25)",
           "width": 1
          },
          "type": "line",
          "x0": 0.23485999999999999,
          "x1": 0.23493999999999998,
          "y0": 28.074999999999996,
          "y1": 28.074999999999996
         },
         {
          "layer": "below",
          "line": {
           "color": "rgb(25,25,25)",
           "width": 1
          },
          "type": "line",
          "x0": 0.23493999999999998,
          "x1": 0.23493999999999998,
          "y0": 29.049999999999997,
          "y1": 27.099999999999994
         },
         {
          "layer": "below",
          "line": {
           "color": "rgb(25,25,25)",
           "width": 1
          },
          "type": "line",
          "x0": 0.23493999999999998,
          "x1": 0.23542999999999997,
          "y0": 27.099999999999994,
          "y1": 27.099999999999994
         },
         {
          "layer": "below",
          "line": {
           "color": "rgb(25,25,25)",
           "width": 1
          },
          "type": "line",
          "x0": 0.23493999999999998,
          "x1": 0.23512999999999998,
          "y0": 29.049999999999997,
          "y1": 29.049999999999997
         },
         {
          "layer": "below",
          "line": {
           "color": "rgb(25,25,25)",
           "width": 1
          },
          "type": "line",
          "x0": 0.23512999999999998,
          "x1": 0.23512999999999998,
          "y0": 29.700000000000003,
          "y1": 28.39999999999999
         },
         {
          "layer": "below",
          "line": {
           "color": "rgb(25,25,25)",
           "width": 1
          },
          "type": "line",
          "x0": 0.23512999999999998,
          "x1": 0.23533999999999997,
          "y0": 28.39999999999999,
          "y1": 28.39999999999999
         },
         {
          "layer": "below",
          "line": {
           "color": "rgb(25,25,25)",
           "width": 1
          },
          "type": "line",
          "x0": 0.23512999999999998,
          "x1": 0.23534999999999998,
          "y0": 29.700000000000003,
          "y1": 29.700000000000003
         },
         {
          "layer": "below",
          "line": {
           "color": "rgb(25,25,25)",
           "width": 1
          },
          "type": "line",
          "x0": 0.23451999999999998,
          "x1": 0.23473999999999998,
          "y0": 32.4625,
          "y1": 32.4625
         },
         {
          "layer": "below",
          "line": {
           "color": "rgb(25,25,25)",
           "width": 1
          },
          "type": "line",
          "x0": 0.23473999999999998,
          "x1": 0.23473999999999998,
          "y0": 33.925,
          "y1": 31
         },
         {
          "layer": "below",
          "line": {
           "color": "rgb(25,25,25)",
           "width": 1
          },
          "type": "line",
          "x0": 0.23473999999999998,
          "x1": 0.23489999999999997,
          "y0": 31,
          "y1": 31
         },
         {
          "layer": "below",
          "line": {
           "color": "rgb(25,25,25)",
           "width": 1
          },
          "type": "line",
          "x0": 0.23473999999999998,
          "x1": 0.23481999999999997,
          "y0": 33.925,
          "y1": 33.925
         },
         {
          "layer": "below",
          "line": {
           "color": "rgb(25,25,25)",
           "width": 1
          },
          "type": "line",
          "x0": 0.23481999999999997,
          "x1": 0.23481999999999997,
          "y0": 35.55,
          "y1": 32.3
         },
         {
          "layer": "below",
          "line": {
           "color": "rgb(25,25,25)",
           "width": 1
          },
          "type": "line",
          "x0": 0.23481999999999997,
          "x1": 0.23485999999999999,
          "y0": 32.3,
          "y1": 32.3
         },
         {
          "layer": "below",
          "line": {
           "color": "rgb(25,25,25)",
           "width": 1
          },
          "type": "line",
          "x0": 0.23481999999999997,
          "x1": 0.23481999999999997,
          "y0": 35.55,
          "y1": 35.55
         },
         {
          "layer": "below",
          "line": {
           "color": "rgb(25,25,25)",
           "width": 1
          },
          "type": "line",
          "x0": 0.23481999999999997,
          "x1": 0.23481999999999997,
          "y0": 36.85,
          "y1": 34.24999999999999
         },
         {
          "layer": "below",
          "line": {
           "color": "rgb(25,25,25)",
           "width": 1
          },
          "type": "line",
          "x0": 0.23481999999999997,
          "x1": 0.23486999999999997,
          "y0": 34.24999999999999,
          "y1": 34.24999999999999
         },
         {
          "layer": "below",
          "line": {
           "color": "rgb(25,25,25)",
           "width": 1
          },
          "type": "line",
          "x0": 0.23486999999999997,
          "x1": 0.23486999999999997,
          "y0": 34.89999999999999,
          "y1": 33.599999999999994
         },
         {
          "layer": "below",
          "line": {
           "color": "rgb(25,25,25)",
           "width": 1
          },
          "type": "line",
          "x0": 0.23486999999999997,
          "x1": 0.23531999999999997,
          "y0": 33.599999999999994,
          "y1": 33.599999999999994
         },
         {
          "layer": "below",
          "line": {
           "color": "rgb(25,25,25)",
           "width": 1
          },
          "type": "line",
          "x0": 0.23486999999999997,
          "x1": 0.23509999999999998,
          "y0": 34.89999999999999,
          "y1": 34.89999999999999
         },
         {
          "layer": "below",
          "line": {
           "color": "rgb(25,25,25)",
           "width": 1
          },
          "type": "line",
          "x0": 0.23481999999999997,
          "x1": 0.23485999999999999,
          "y0": 36.85,
          "y1": 36.85
         },
         {
          "layer": "below",
          "line": {
           "color": "rgb(25,25,25)",
           "width": 1
          },
          "type": "line",
          "x0": 0.23485999999999999,
          "x1": 0.23485999999999999,
          "y0": 37.5,
          "y1": 36.2
         },
         {
          "layer": "below",
          "line": {
           "color": "rgb(25,25,25)",
           "width": 1
          },
          "type": "line",
          "x0": 0.23485999999999999,
          "x1": 0.23509999999999998,
          "y0": 36.2,
          "y1": 36.2
         },
         {
          "layer": "below",
          "line": {
           "color": "rgb(25,25,25)",
           "width": 1
          },
          "type": "line",
          "x0": 0.23485999999999999,
          "x1": 0.23498,
          "y0": 37.5,
          "y1": 37.5
         },
         {
          "layer": "below",
          "line": {
           "color": "rgb(25,25,25)",
           "width": 1
          },
          "type": "line",
          "x0": 0.23451999999999998,
          "x1": 0.23464999999999997,
          "y0": 45.1578125,
          "y1": 45.1578125
         },
         {
          "layer": "below",
          "line": {
           "color": "rgb(25,25,25)",
           "width": 1
          },
          "type": "line",
          "x0": 0.23464999999999997,
          "x1": 0.23464999999999997,
          "y0": 49.11875,
          "y1": 41.196875
         },
         {
          "layer": "below",
          "line": {
           "color": "rgb(25,25,25)",
           "width": 1
          },
          "type": "line",
          "x0": 0.23464999999999997,
          "x1": 0.23475999999999997,
          "y0": 41.196875,
          "y1": 41.196875
         },
         {
          "layer": "below",
          "line": {
           "color": "rgb(25,25,25)",
           "width": 1
          },
          "type": "line",
          "x0": 0.23475999999999997,
          "x1": 0.23475999999999997,
          "y0": 43.59375,
          "y1": 38.8
         },
         {
          "layer": "below",
          "line": {
           "color": "rgb(25,25,25)",
           "width": 1
          },
          "type": "line",
          "x0": 0.23475999999999997,
          "x1": 0.23524999999999996,
          "y0": 38.8,
          "y1": 38.8
         },
         {
          "layer": "below",
          "line": {
           "color": "rgb(25,25,25)",
           "width": 1
          },
          "type": "line",
          "x0": 0.23475999999999997,
          "x1": 0.23480999999999996,
          "y0": 43.59375,
          "y1": 43.59375
         },
         {
          "layer": "below",
          "line": {
           "color": "rgb(25,25,25)",
           "width": 1
          },
          "type": "line",
          "x0": 0.23480999999999996,
          "x1": 0.23480999999999996,
          "y0": 45.949999999999996,
          "y1": 41.2375
         },
         {
          "layer": "below",
          "line": {
           "color": "rgb(25,25,25)",
           "width": 1
          },
          "type": "line",
          "x0": 0.23480999999999996,
          "x1": 0.23486999999999997,
          "y0": 41.2375,
          "y1": 41.2375
         },
         {
          "layer": "below",
          "line": {
           "color": "rgb(25,25,25)",
           "width": 1
          },
          "type": "line",
          "x0": 0.23486999999999997,
          "x1": 0.23486999999999997,
          "y0": 42.375,
          "y1": 40.099999999999994
         },
         {
          "layer": "below",
          "line": {
           "color": "rgb(25,25,25)",
           "width": 1
          },
          "type": "line",
          "x0": 0.23486999999999997,
          "x1": 0.23505999999999996,
          "y0": 40.099999999999994,
          "y1": 40.099999999999994
         },
         {
          "layer": "below",
          "line": {
           "color": "rgb(25,25,25)",
           "width": 1
          },
          "type": "line",
          "x0": 0.23486999999999997,
          "x1": 0.23490999999999998,
          "y0": 42.375,
          "y1": 42.375
         },
         {
          "layer": "below",
          "line": {
           "color": "rgb(25,25,25)",
           "width": 1
          },
          "type": "line",
          "x0": 0.23490999999999998,
          "x1": 0.23490999999999998,
          "y0": 43.35,
          "y1": 41.39999999999999
         },
         {
          "layer": "below",
          "line": {
           "color": "rgb(25,25,25)",
           "width": 1
          },
          "type": "line",
          "x0": 0.23490999999999998,
          "x1": 0.23496999999999998,
          "y0": 41.39999999999999,
          "y1": 41.39999999999999
         },
         {
          "layer": "below",
          "line": {
           "color": "rgb(25,25,25)",
           "width": 1
          },
          "type": "line",
          "x0": 0.23490999999999998,
          "x1": 0.23495,
          "y0": 43.35,
          "y1": 43.35
         },
         {
          "layer": "below",
          "line": {
           "color": "rgb(25,25,25)",
           "width": 1
          },
          "type": "line",
          "x0": 0.23495,
          "x1": 0.23495,
          "y0": 44,
          "y1": 42.7
         },
         {
          "layer": "below",
          "line": {
           "color": "rgb(25,25,25)",
           "width": 1
          },
          "type": "line",
          "x0": 0.23495,
          "x1": 0.23565,
          "y0": 42.7,
          "y1": 42.7
         },
         {
          "layer": "below",
          "line": {
           "color": "rgb(25,25,25)",
           "width": 1
          },
          "type": "line",
          "x0": 0.23495,
          "x1": 0.23514,
          "y0": 44,
          "y1": 44
         },
         {
          "layer": "below",
          "line": {
           "color": "rgb(25,25,25)",
           "width": 1
          },
          "type": "line",
          "x0": 0.23480999999999996,
          "x1": 0.23488999999999996,
          "y0": 45.949999999999996,
          "y1": 45.949999999999996
         },
         {
          "layer": "below",
          "line": {
           "color": "rgb(25,25,25)",
           "width": 1
          },
          "type": "line",
          "x0": 0.23488999999999996,
          "x1": 0.23488999999999996,
          "y0": 46.599999999999994,
          "y1": 45.3
         },
         {
          "layer": "below",
          "line": {
           "color": "rgb(25,25,25)",
           "width": 1
          },
          "type": "line",
          "x0": 0.23488999999999996,
          "x1": 0.23519999999999996,
          "y0": 45.3,
          "y1": 45.3
         },
         {
          "layer": "below",
          "line": {
           "color": "rgb(25,25,25)",
           "width": 1
          },
          "type": "line",
          "x0": 0.23488999999999996,
          "x1": 0.23502999999999996,
          "y0": 46.599999999999994,
          "y1": 46.599999999999994
         },
         {
          "layer": "below",
          "line": {
           "color": "rgb(25,25,25)",
           "width": 1
          },
          "type": "line",
          "x0": 0.23464999999999997,
          "x1": 0.23468999999999998,
          "y0": 49.11875,
          "y1": 49.11875
         },
         {
          "layer": "below",
          "line": {
           "color": "rgb(25,25,25)",
           "width": 1
          },
          "type": "line",
          "x0": 0.23468999999999998,
          "x1": 0.23468999999999998,
          "y0": 50.3375,
          "y1": 47.9
         },
         {
          "layer": "below",
          "line": {
           "color": "rgb(25,25,25)",
           "width": 1
          },
          "type": "line",
          "x0": 0.23468999999999998,
          "x1": 0.23515999999999998,
          "y0": 47.9,
          "y1": 47.9
         },
         {
          "layer": "below",
          "line": {
           "color": "rgb(25,25,25)",
           "width": 1
          },
          "type": "line",
          "x0": 0.23468999999999998,
          "x1": 0.23484,
          "y0": 50.3375,
          "y1": 50.3375
         },
         {
          "layer": "below",
          "line": {
           "color": "rgb(25,25,25)",
           "width": 1
          },
          "type": "line",
          "x0": 0.23484,
          "x1": 0.23484,
          "y0": 51.475,
          "y1": 49.199999999999996
         },
         {
          "layer": "below",
          "line": {
           "color": "rgb(25,25,25)",
           "width": 1
          },
          "type": "line",
          "x0": 0.23484,
          "x1": 0.23618,
          "y0": 49.199999999999996,
          "y1": 49.199999999999996
         },
         {
          "layer": "below",
          "line": {
           "color": "rgb(25,25,25)",
           "width": 1
          },
          "type": "line",
          "x0": 0.23484,
          "x1": 0.23496,
          "y0": 51.475,
          "y1": 51.475
         },
         {
          "layer": "below",
          "line": {
           "color": "rgb(25,25,25)",
           "width": 1
          },
          "type": "line",
          "x0": 0.23496,
          "x1": 0.23496,
          "y0": 52.45,
          "y1": 50.5
         },
         {
          "layer": "below",
          "line": {
           "color": "rgb(25,25,25)",
           "width": 1
          },
          "type": "line",
          "x0": 0.23496,
          "x1": 0.23518,
          "y0": 50.5,
          "y1": 50.5
         },
         {
          "layer": "below",
          "line": {
           "color": "rgb(25,25,25)",
           "width": 1
          },
          "type": "line",
          "x0": 0.23496,
          "x1": 0.23507,
          "y0": 52.45,
          "y1": 52.45
         },
         {
          "layer": "below",
          "line": {
           "color": "rgb(25,25,25)",
           "width": 1
          },
          "type": "line",
          "x0": 0.23507,
          "x1": 0.23507,
          "y0": 53.1,
          "y1": 51.8
         },
         {
          "layer": "below",
          "line": {
           "color": "rgb(25,25,25)",
           "width": 1
          },
          "type": "line",
          "x0": 0.23507,
          "x1": 0.23552,
          "y0": 51.8,
          "y1": 51.8
         },
         {
          "layer": "below",
          "line": {
           "color": "rgb(25,25,25)",
           "width": 1
          },
          "type": "line",
          "x0": 0.23507,
          "x1": 0.23578,
          "y0": 53.1,
          "y1": 53.1
         },
         {
          "layer": "below",
          "line": {
           "color": "rgb(25,25,25)",
           "width": 1
          },
          "type": "line",
          "x0": 0.23451999999999998,
          "x1": 0.23483999999999997,
          "y0": 54.4,
          "y1": 54.4
         },
         {
          "layer": "below",
          "line": {
           "color": "rgb(25,25,25)",
           "width": 1
          },
          "type": "line",
          "x0": 0.21427999999999997,
          "x1": 0.21940999999999997,
          "y0": 56.675,
          "y1": 56.675
         },
         {
          "layer": "below",
          "line": {
           "color": "rgb(25,25,25)",
           "width": 1
          },
          "type": "line",
          "x0": 0.21940999999999997,
          "x1": 0.21940999999999997,
          "y0": 57.65,
          "y1": 55.699999999999996
         },
         {
          "layer": "below",
          "line": {
           "color": "rgb(25,25,25)",
           "width": 1
          },
          "type": "line",
          "x0": 0.21940999999999997,
          "x1": 0.23731999999999998,
          "y0": 55.699999999999996,
          "y1": 55.699999999999996
         },
         {
          "layer": "below",
          "line": {
           "color": "rgb(25,25,25)",
           "width": 1
          },
          "type": "line",
          "x0": 0.21940999999999997,
          "x1": 0.22299999999999998,
          "y0": 57.65,
          "y1": 57.65
         },
         {
          "layer": "below",
          "line": {
           "color": "rgb(25,25,25)",
           "width": 1
          },
          "type": "line",
          "x0": 0.22299999999999998,
          "x1": 0.22299999999999998,
          "y0": 58.3,
          "y1": 57
         },
         {
          "layer": "below",
          "line": {
           "color": "rgb(25,25,25)",
           "width": 1
          },
          "type": "line",
          "x0": 0.22299999999999998,
          "x1": 0.24046999999999996,
          "y0": 57,
          "y1": 57
         },
         {
          "layer": "below",
          "line": {
           "color": "rgb(25,25,25)",
           "width": 1
          },
          "type": "line",
          "x0": 0.22299999999999998,
          "x1": 0.24027999999999997,
          "y0": 58.3,
          "y1": 58.3
         },
         {
          "layer": "below",
          "line": {
           "color": "rgb(25,25,25)",
           "width": 1
          },
          "type": "line",
          "x0": 0.13035,
          "x1": 0.15209999999999999,
          "y0": 66.08984375,
          "y1": 66.08984375
         },
         {
          "layer": "below",
          "line": {
           "color": "rgb(25,25,25)",
           "width": 1
          },
          "type": "line",
          "x0": 0.15209999999999999,
          "x1": 0.15209999999999999,
          "y0": 71.60468750000001,
          "y1": 60.575
         },
         {
          "layer": "below",
          "line": {
           "color": "rgb(25,25,25)",
           "width": 1
          },
          "type": "line",
          "x0": 0.15209999999999999,
          "x1": 0.7839,
          "y0": 60.575,
          "y1": 60.575
         },
         {
          "layer": "below",
          "line": {
           "color": "rgb(25,25,25)",
           "width": 1
          },
          "type": "line",
          "x0": 0.7839,
          "x1": 0.7839,
          "y0": 61.55,
          "y1": 59.6
         },
         {
          "layer": "below",
          "line": {
           "color": "rgb(25,25,25)",
           "width": 1
          },
          "type": "line",
          "x0": 0.7839,
          "x1": 0.91827,
          "y0": 59.6,
          "y1": 59.6
         },
         {
          "layer": "below",
          "line": {
           "color": "rgb(25,25,25)",
           "width": 1
          },
          "type": "line",
          "x0": 0.7839,
          "x1": 0.84233,
          "y0": 61.55,
          "y1": 61.55
         },
         {
          "layer": "below",
          "line": {
           "color": "rgb(25,25,25)",
           "width": 1
          },
          "type": "line",
          "x0": 0.84233,
          "x1": 0.84233,
          "y0": 62.199999999999996,
          "y1": 60.9
         },
         {
          "layer": "below",
          "line": {
           "color": "rgb(25,25,25)",
           "width": 1
          },
          "type": "line",
          "x0": 0.84233,
          "x1": 0.91834,
          "y0": 60.9,
          "y1": 60.9
         },
         {
          "layer": "below",
          "line": {
           "color": "rgb(25,25,25)",
           "width": 1
          },
          "type": "line",
          "x0": 0.84233,
          "x1": 0.92294,
          "y0": 62.199999999999996,
          "y1": 62.199999999999996
         },
         {
          "layer": "below",
          "line": {
           "color": "rgb(25,25,25)",
           "width": 1
          },
          "type": "line",
          "x0": 0.15209999999999999,
          "x1": 0.18558,
          "y0": 71.60468750000001,
          "y1": 71.60468750000001
         },
         {
          "layer": "below",
          "line": {
           "color": "rgb(25,25,25)",
           "width": 1
          },
          "type": "line",
          "x0": 0.18558,
          "x1": 0.18558,
          "y0": 77.59687500000001,
          "y1": 65.6125
         },
         {
          "layer": "below",
          "line": {
           "color": "rgb(25,25,25)",
           "width": 1
          },
          "type": "line",
          "x0": 0.18558,
          "x1": 0.241,
          "y0": 65.6125,
          "y1": 65.6125
         },
         {
          "layer": "below",
          "line": {
           "color": "rgb(25,25,25)",
           "width": 1
          },
          "type": "line",
          "x0": 0.241,
          "x1": 0.241,
          "y0": 67.07499999999999,
          "y1": 64.15
         },
         {
          "layer": "below",
          "line": {
           "color": "rgb(25,25,25)",
           "width": 1
          },
          "type": "line",
          "x0": 0.241,
          "x1": 0.24104,
          "y0": 64.15,
          "y1": 64.15
         },
         {
          "layer": "below",
          "line": {
           "color": "rgb(25,25,25)",
           "width": 1
          },
          "type": "line",
          "x0": 0.24104,
          "x1": 0.24104,
          "y0": 64.8,
          "y1": 63.5
         },
         {
          "layer": "below",
          "line": {
           "color": "rgb(25,25,25)",
           "width": 1
          },
          "type": "line",
          "x0": 0.24104,
          "x1": 0.24119000000000002,
          "y0": 63.5,
          "y1": 63.5
         },
         {
          "layer": "below",
          "line": {
           "color": "rgb(25,25,25)",
           "width": 1
          },
          "type": "line",
          "x0": 0.24104,
          "x1": 0.2411,
          "y0": 64.8,
          "y1": 64.8
         },
         {
          "layer": "below",
          "line": {
           "color": "rgb(25,25,25)",
           "width": 1
          },
          "type": "line",
          "x0": 0.241,
          "x1": 0.241,
          "y0": 67.07499999999999,
          "y1": 67.07499999999999
         },
         {
          "layer": "below",
          "line": {
           "color": "rgb(25,25,25)",
           "width": 1
          },
          "type": "line",
          "x0": 0.241,
          "x1": 0.241,
          "y0": 68.05,
          "y1": 66.1
         },
         {
          "layer": "below",
          "line": {
           "color": "rgb(25,25,25)",
           "width": 1
          },
          "type": "line",
          "x0": 0.241,
          "x1": 0.24115,
          "y0": 66.1,
          "y1": 66.1
         },
         {
          "layer": "below",
          "line": {
           "color": "rgb(25,25,25)",
           "width": 1
          },
          "type": "line",
          "x0": 0.241,
          "x1": 0.24104,
          "y0": 68.05,
          "y1": 68.05
         },
         {
          "layer": "below",
          "line": {
           "color": "rgb(25,25,25)",
           "width": 1
          },
          "type": "line",
          "x0": 0.24104,
          "x1": 0.24104,
          "y0": 68.69999999999999,
          "y1": 67.4
         },
         {
          "layer": "below",
          "line": {
           "color": "rgb(25,25,25)",
           "width": 1
          },
          "type": "line",
          "x0": 0.24104,
          "x1": 0.24129,
          "y0": 67.4,
          "y1": 67.4
         },
         {
          "layer": "below",
          "line": {
           "color": "rgb(25,25,25)",
           "width": 1
          },
          "type": "line",
          "x0": 0.24104,
          "x1": 0.24144000000000002,
          "y0": 68.69999999999999,
          "y1": 68.69999999999999
         },
         {
          "layer": "below",
          "line": {
           "color": "rgb(25,25,25)",
           "width": 1
          },
          "type": "line",
          "x0": 0.18558,
          "x1": 0.23898,
          "y0": 77.59687500000001,
          "y1": 77.59687500000001
         },
         {
          "layer": "below",
          "line": {
           "color": "rgb(25,25,25)",
           "width": 1
          },
          "type": "line",
          "x0": 0.23898,
          "x1": 0.23898,
          "y0": 83.24375,
          "y1": 71.95
         },
         {
          "layer": "below",
          "line": {
           "color": "rgb(25,25,25)",
           "width": 1
          },
          "type": "line",
          "x0": 0.23898,
          "x1": 0.24271,
          "y0": 71.95,
          "y1": 71.95
         },
         {
          "layer": "below",
          "line": {
           "color": "rgb(25,25,25)",
           "width": 1
          },
          "type": "line",
          "x0": 0.24271,
          "x1": 0.24271,
          "y0": 73.25,
          "y1": 70.65
         },
         {
          "layer": "below",
          "line": {
           "color": "rgb(25,25,25)",
           "width": 1
          },
          "type": "line",
          "x0": 0.24271,
          "x1": 0.25798,
          "y0": 70.65,
          "y1": 70.65
         },
         {
          "layer": "below",
          "line": {
           "color": "rgb(25,25,25)",
           "width": 1
          },
          "type": "line",
          "x0": 0.25798,
          "x1": 0.25798,
          "y0": 71.3,
          "y1": 70
         },
         {
          "layer": "below",
          "line": {
           "color": "rgb(25,25,25)",
           "width": 1
          },
          "type": "line",
          "x0": 0.25798,
          "x1": 0.25808,
          "y0": 70,
          "y1": 70
         },
         {
          "layer": "below",
          "line": {
           "color": "rgb(25,25,25)",
           "width": 1
          },
          "type": "line",
          "x0": 0.25798,
          "x1": 0.25859,
          "y0": 71.3,
          "y1": 71.3
         },
         {
          "layer": "below",
          "line": {
           "color": "rgb(25,25,25)",
           "width": 1
          },
          "type": "line",
          "x0": 0.24271,
          "x1": 0.24619000000000002,
          "y0": 73.25,
          "y1": 73.25
         },
         {
          "layer": "below",
          "line": {
           "color": "rgb(25,25,25)",
           "width": 1
          },
          "type": "line",
          "x0": 0.24619000000000002,
          "x1": 0.24619000000000002,
          "y0": 73.9,
          "y1": 72.6
         },
         {
          "layer": "below",
          "line": {
           "color": "rgb(25,25,25)",
           "width": 1
          },
          "type": "line",
          "x0": 0.24619000000000002,
          "x1": 0.26108000000000003,
          "y0": 72.6,
          "y1": 72.6
         },
         {
          "layer": "below",
          "line": {
           "color": "rgb(25,25,25)",
           "width": 1
          },
          "type": "line",
          "x0": 0.24619000000000002,
          "x1": 0.26208000000000004,
          "y0": 73.9,
          "y1": 73.9
         },
         {
          "layer": "below",
          "line": {
           "color": "rgb(25,25,25)",
           "width": 1
          },
          "type": "line",
          "x0": 0.23898,
          "x1": 0.24112,
          "y0": 83.24375,
          "y1": 83.24375
         },
         {
          "layer": "below",
          "line": {
           "color": "rgb(25,25,25)",
           "width": 1
          },
          "type": "line",
          "x0": 0.24112,
          "x1": 0.24112,
          "y0": 86.25,
          "y1": 80.2375
         },
         {
          "layer": "below",
          "line": {
           "color": "rgb(25,25,25)",
           "width": 1
          },
          "type": "line",
          "x0": 0.24112,
          "x1": 0.24189,
          "y0": 80.2375,
          "y1": 80.2375
         },
         {
          "layer": "below",
          "line": {
           "color": "rgb(25,25,25)",
           "width": 1
          },
          "type": "line",
          "x0": 0.24189,
          "x1": 0.24189,
          "y0": 82.8375,
          "y1": 77.63749999999999
         },
         {
          "layer": "below",
          "line": {
           "color": "rgb(25,25,25)",
           "width": 1
          },
          "type": "line",
          "x0": 0.24189,
          "x1": 0.24318,
          "y0": 77.63749999999999,
          "y1": 77.63749999999999
         },
         {
          "layer": "below",
          "line": {
           "color": "rgb(25,25,25)",
           "width": 1
          },
          "type": "line",
          "x0": 0.24318,
          "x1": 0.24318,
          "y0": 79.1,
          "y1": 76.175
         },
         {
          "layer": "below",
          "line": {
           "color": "rgb(25,25,25)",
           "width": 1
          },
          "type": "line",
          "x0": 0.24318,
          "x1": 0.24601,
          "y0": 76.175,
          "y1": 76.175
         },
         {
          "layer": "below",
          "line": {
           "color": "rgb(25,25,25)",
           "width": 1
          },
          "type": "line",
          "x0": 0.24601,
          "x1": 0.24601,
          "y0": 77.15,
          "y1": 75.19999999999999
         },
         {
          "layer": "below",
          "line": {
           "color": "rgb(25,25,25)",
           "width": 1
          },
          "type": "line",
          "x0": 0.24601,
          "x1": 0.26117,
          "y0": 75.19999999999999,
          "y1": 75.19999999999999
         },
         {
          "layer": "below",
          "line": {
           "color": "rgb(25,25,25)",
           "width": 1
          },
          "type": "line",
          "x0": 0.24601,
          "x1": 0.2606,
          "y0": 77.15,
          "y1": 77.15
         },
         {
          "layer": "below",
          "line": {
           "color": "rgb(25,25,25)",
           "width": 1
          },
          "type": "line",
          "x0": 0.2606,
          "x1": 0.2606,
          "y0": 77.8,
          "y1": 76.5
         },
         {
          "layer": "below",
          "line": {
           "color": "rgb(25,25,25)",
           "width": 1
          },
          "type": "line",
          "x0": 0.2606,
          "x1": 0.26083,
          "y0": 76.5,
          "y1": 76.5
         },
         {
          "layer": "below",
          "line": {
           "color": "rgb(25,25,25)",
           "width": 1
          },
          "type": "line",
          "x0": 0.2606,
          "x1": 0.26073,
          "y0": 77.8,
          "y1": 77.8
         },
         {
          "layer": "below",
          "line": {
           "color": "rgb(25,25,25)",
           "width": 1
          },
          "type": "line",
          "x0": 0.24318,
          "x1": 0.2602,
          "y0": 79.1,
          "y1": 79.1
         },
         {
          "layer": "below",
          "line": {
           "color": "rgb(25,25,25)",
           "width": 1
          },
          "type": "line",
          "x0": 0.24189,
          "x1": 0.24506999999999998,
          "y0": 82.8375,
          "y1": 82.8375
         },
         {
          "layer": "below",
          "line": {
           "color": "rgb(25,25,25)",
           "width": 1
          },
          "type": "line",
          "x0": 0.24506999999999998,
          "x1": 0.24506999999999998,
          "y0": 84.3,
          "y1": 81.375
         },
         {
          "layer": "below",
          "line": {
           "color": "rgb(25,25,25)",
           "width": 1
          },
          "type": "line",
          "x0": 0.24506999999999998,
          "x1": 0.25971,
          "y0": 81.375,
          "y1": 81.375
         },
         {
          "layer": "below",
          "line": {
           "color": "rgb(25,25,25)",
           "width": 1
          },
          "type": "line",
          "x0": 0.25971,
          "x1": 0.25971,
          "y0": 82.35,
          "y1": 80.4
         },
         {
          "layer": "below",
          "line": {
           "color": "rgb(25,25,25)",
           "width": 1
          },
          "type": "line",
          "x0": 0.25971,
          "x1": 0.25977,
          "y0": 80.4,
          "y1": 80.4
         },
         {
          "layer": "below",
          "line": {
           "color": "rgb(25,25,25)",
           "width": 1
          },
          "type": "line",
          "x0": 0.25971,
          "x1": 0.25973,
          "y0": 82.35,
          "y1": 82.35
         },
         {
          "layer": "below",
          "line": {
           "color": "rgb(25,25,25)",
           "width": 1
          },
          "type": "line",
          "x0": 0.25973,
          "x1": 0.25973,
          "y0": 83,
          "y1": 81.7
         },
         {
          "layer": "below",
          "line": {
           "color": "rgb(25,25,25)",
           "width": 1
          },
          "type": "line",
          "x0": 0.25973,
          "x1": 0.26003000000000004,
          "y0": 81.7,
          "y1": 81.7
         },
         {
          "layer": "below",
          "line": {
           "color": "rgb(25,25,25)",
           "width": 1
          },
          "type": "line",
          "x0": 0.25973,
          "x1": 0.26111,
          "y0": 83,
          "y1": 83
         },
         {
          "layer": "below",
          "line": {
           "color": "rgb(25,25,25)",
           "width": 1
          },
          "type": "line",
          "x0": 0.24506999999999998,
          "x1": 0.26244999999999996,
          "y0": 84.3,
          "y1": 84.3
         },
         {
          "layer": "below",
          "line": {
           "color": "rgb(25,25,25)",
           "width": 1
          },
          "type": "line",
          "x0": 0.24112,
          "x1": 0.24401,
          "y0": 86.25,
          "y1": 86.25
         },
         {
          "layer": "below",
          "line": {
           "color": "rgb(25,25,25)",
           "width": 1
          },
          "type": "line",
          "x0": 0.24401,
          "x1": 0.24401,
          "y0": 86.9,
          "y1": 85.6
         },
         {
          "layer": "below",
          "line": {
           "color": "rgb(25,25,25)",
           "width": 1
          },
          "type": "line",
          "x0": 0.24401,
          "x1": 0.25846,
          "y0": 85.6,
          "y1": 85.6
         },
         {
          "layer": "below",
          "line": {
           "color": "rgb(25,25,25)",
           "width": 1
          },
          "type": "line",
          "x0": 0.24401,
          "x1": 0.2614,
          "y0": 86.9,
          "y1": 86.9
         },
         {
          "layer": "below",
          "line": {
           "color": "rgb(25,25,25)",
           "width": 1
          },
          "type": "line",
          "x0": 0.012920000000000001,
          "x1": 0.022330000000000003,
          "y0": 90.3125,
          "y1": 90.3125
         },
         {
          "layer": "below",
          "line": {
           "color": "rgb(25,25,25)",
           "width": 1
          },
          "type": "line",
          "x0": 0.022330000000000003,
          "x1": 0.022330000000000003,
          "y0": 91.775,
          "y1": 88.85
         },
         {
          "layer": "below",
          "line": {
           "color": "rgb(25,25,25)",
           "width": 1
          },
          "type": "line",
          "x0": 0.022330000000000003,
          "x1": 0.04463,
          "y0": 88.85,
          "y1": 88.85
         },
         {
          "layer": "below",
          "line": {
           "color": "rgb(25,25,25)",
           "width": 1
          },
          "type": "line",
          "x0": 0.04463,
          "x1": 0.04463,
          "y0": 89.5,
          "y1": 88.2
         },
         {
          "layer": "below",
          "line": {
           "color": "rgb(25,25,25)",
           "width": 1
          },
          "type": "line",
          "x0": 0.04463,
          "x1": 0.045160000000000006,
          "y0": 88.2,
          "y1": 88.2
         },
         {
          "layer": "below",
          "line": {
           "color": "rgb(25,25,25)",
           "width": 1
          },
          "type": "line",
          "x0": 0.04463,
          "x1": 0.044680000000000004,
          "y0": 89.5,
          "y1": 89.5
         },
         {
          "layer": "below",
          "line": {
           "color": "rgb(25,25,25)",
           "width": 1
          },
          "type": "line",
          "x0": 0.022330000000000003,
          "x1": 0.04487000000000001,
          "y0": 91.775,
          "y1": 91.775
         },
         {
          "layer": "below",
          "line": {
           "color": "rgb(25,25,25)",
           "width": 1
          },
          "type": "line",
          "x0": 0.04487000000000001,
          "x1": 0.04487000000000001,
          "y0": 92.75,
          "y1": 90.8
         },
         {
          "layer": "below",
          "line": {
           "color": "rgb(25,25,25)",
           "width": 1
          },
          "type": "line",
          "x0": 0.04487000000000001,
          "x1": 0.045680000000000005,
          "y0": 90.8,
          "y1": 90.8
         },
         {
          "layer": "below",
          "line": {
           "color": "rgb(25,25,25)",
           "width": 1
          },
          "type": "line",
          "x0": 0.04487000000000001,
          "x1": 0.04487000000000001,
          "y0": 92.75,
          "y1": 92.75
         },
         {
          "layer": "below",
          "line": {
           "color": "rgb(25,25,25)",
           "width": 1
          },
          "type": "line",
          "x0": 0.04487000000000001,
          "x1": 0.04487000000000001,
          "y0": 93.4,
          "y1": 92.1
         },
         {
          "layer": "below",
          "line": {
           "color": "rgb(25,25,25)",
           "width": 1
          },
          "type": "line",
          "x0": 0.04487000000000001,
          "x1": 0.04508000000000001,
          "y0": 92.1,
          "y1": 92.1
         },
         {
          "layer": "below",
          "line": {
           "color": "rgb(25,25,25)",
           "width": 1
          },
          "type": "line",
          "x0": 0.04487000000000001,
          "x1": 0.044950000000000004,
          "y0": 93.4,
          "y1": 93.4
         },
         {
          "layer": "below",
          "line": {
           "color": "rgb(25,25,25)",
           "width": 1
          },
          "type": "line",
          "x0": 0.00893,
          "x1": 0.01397,
          "y0": 96.8125,
          "y1": 96.8125
         },
         {
          "layer": "below",
          "line": {
           "color": "rgb(25,25,25)",
           "width": 1
          },
          "type": "line",
          "x0": 0.01397,
          "x1": 0.01397,
          "y0": 98.275,
          "y1": 95.35
         },
         {
          "layer": "below",
          "line": {
           "color": "rgb(25,25,25)",
           "width": 1
          },
          "type": "line",
          "x0": 0.01397,
          "x1": 0.029759999999999998,
          "y0": 95.35,
          "y1": 95.35
         },
         {
          "layer": "below",
          "line": {
           "color": "rgb(25,25,25)",
           "width": 1
          },
          "type": "line",
          "x0": 0.029759999999999998,
          "x1": 0.029759999999999998,
          "y0": 96,
          "y1": 94.7
         },
         {
          "layer": "below",
          "line": {
           "color": "rgb(25,25,25)",
           "width": 1
          },
          "type": "line",
          "x0": 0.029759999999999998,
          "x1": 0.033339999999999995,
          "y0": 94.7,
          "y1": 94.7
         },
         {
          "layer": "below",
          "line": {
           "color": "rgb(25,25,25)",
           "width": 1
          },
          "type": "line",
          "x0": 0.029759999999999998,
          "x1": 0.02984,
          "y0": 96,
          "y1": 96
         },
         {
          "layer": "below",
          "line": {
           "color": "rgb(25,25,25)",
           "width": 1
          },
          "type": "line",
          "x0": 0.01397,
          "x1": 0.02685,
          "y0": 98.275,
          "y1": 98.275
         },
         {
          "layer": "below",
          "line": {
           "color": "rgb(25,25,25)",
           "width": 1
          },
          "type": "line",
          "x0": 0.02685,
          "x1": 0.02685,
          "y0": 99.25,
          "y1": 97.3
         },
         {
          "layer": "below",
          "line": {
           "color": "rgb(25,25,25)",
           "width": 1
          },
          "type": "line",
          "x0": 0.02685,
          "x1": 0.03094,
          "y0": 97.3,
          "y1": 97.3
         },
         {
          "layer": "below",
          "line": {
           "color": "rgb(25,25,25)",
           "width": 1
          },
          "type": "line",
          "x0": 0.02685,
          "x1": 0.030289999999999997,
          "y0": 99.25,
          "y1": 99.25
         },
         {
          "layer": "below",
          "line": {
           "color": "rgb(25,25,25)",
           "width": 1
          },
          "type": "line",
          "x0": 0.030289999999999997,
          "x1": 0.030289999999999997,
          "y0": 99.9,
          "y1": 98.6
         },
         {
          "layer": "below",
          "line": {
           "color": "rgb(25,25,25)",
           "width": 1
          },
          "type": "line",
          "x0": 0.030289999999999997,
          "x1": 0.03044,
          "y0": 98.6,
          "y1": 98.6
         },
         {
          "layer": "below",
          "line": {
           "color": "rgb(25,25,25)",
           "width": 1
          },
          "type": "line",
          "x0": 0.030289999999999997,
          "x1": 0.03035,
          "y0": 99.9,
          "y1": 99.9
         },
         {
          "layer": "below",
          "line": {
           "color": "rgb(25,25,25)",
           "width": 1
          },
          "type": "line",
          "x0": 0.0047,
          "x1": 0.00909,
          "y0": 103.3125,
          "y1": 103.3125
         },
         {
          "layer": "below",
          "line": {
           "color": "rgb(25,25,25)",
           "width": 1
          },
          "type": "line",
          "x0": 0.00909,
          "x1": 0.00909,
          "y0": 104.775,
          "y1": 101.85
         },
         {
          "layer": "below",
          "line": {
           "color": "rgb(25,25,25)",
           "width": 1
          },
          "type": "line",
          "x0": 0.00909,
          "x1": 0.02862,
          "y0": 101.85,
          "y1": 101.85
         },
         {
          "layer": "below",
          "line": {
           "color": "rgb(25,25,25)",
           "width": 1
          },
          "type": "line",
          "x0": 0.02862,
          "x1": 0.02862,
          "y0": 102.5,
          "y1": 101.2
         },
         {
          "layer": "below",
          "line": {
           "color": "rgb(25,25,25)",
           "width": 1
          },
          "type": "line",
          "x0": 0.02862,
          "x1": 0.02877,
          "y0": 101.2,
          "y1": 101.2
         },
         {
          "layer": "below",
          "line": {
           "color": "rgb(25,25,25)",
           "width": 1
          },
          "type": "line",
          "x0": 0.02862,
          "x1": 0.02922,
          "y0": 102.5,
          "y1": 102.5
         },
         {
          "layer": "below",
          "line": {
           "color": "rgb(25,25,25)",
           "width": 1
          },
          "type": "line",
          "x0": 0.00909,
          "x1": 0.02321,
          "y0": 104.775,
          "y1": 104.775
         },
         {
          "layer": "below",
          "line": {
           "color": "rgb(25,25,25)",
           "width": 1
          },
          "type": "line",
          "x0": 0.02321,
          "x1": 0.02321,
          "y0": 105.75,
          "y1": 103.8
         },
         {
          "layer": "below",
          "line": {
           "color": "rgb(25,25,25)",
           "width": 1
          },
          "type": "line",
          "x0": 0.02321,
          "x1": 0.023270000000000002,
          "y0": 103.8,
          "y1": 103.8
         },
         {
          "layer": "below",
          "line": {
           "color": "rgb(25,25,25)",
           "width": 1
          },
          "type": "line",
          "x0": 0.02321,
          "x1": 0.02323,
          "y0": 105.75,
          "y1": 105.75
         },
         {
          "layer": "below",
          "line": {
           "color": "rgb(25,25,25)",
           "width": 1
          },
          "type": "line",
          "x0": 0.02323,
          "x1": 0.02323,
          "y0": 106.4,
          "y1": 105.1
         },
         {
          "layer": "below",
          "line": {
           "color": "rgb(25,25,25)",
           "width": 1
          },
          "type": "line",
          "x0": 0.02323,
          "x1": 0.02346,
          "y0": 105.1,
          "y1": 105.1
         },
         {
          "layer": "below",
          "line": {
           "color": "rgb(25,25,25)",
           "width": 1
          },
          "type": "line",
          "x0": 0.02323,
          "x1": 0.0234,
          "y0": 106.4,
          "y1": 106.4
         },
         {
          "layer": "below",
          "line": {
           "color": "rgb(25,25,25)",
           "width": 1
          },
          "type": "line",
          "x0": 0.0025900000000000003,
          "x1": 0.00551,
          "y0": 108.35,
          "y1": 108.35
         },
         {
          "layer": "below",
          "line": {
           "color": "rgb(25,25,25)",
           "width": 1
          },
          "type": "line",
          "x0": 0.00551,
          "x1": 0.00551,
          "y0": 109,
          "y1": 107.7
         },
         {
          "layer": "below",
          "line": {
           "color": "rgb(25,25,25)",
           "width": 1
          },
          "type": "line",
          "x0": 0.00551,
          "x1": 0.02246,
          "y0": 107.7,
          "y1": 107.7
         },
         {
          "layer": "below",
          "line": {
           "color": "rgb(25,25,25)",
           "width": 1
          },
          "type": "line",
          "x0": 0.00551,
          "x1": 0.01939,
          "y0": 109,
          "y1": 109
         }
        ],
        "showlegend": false,
        "template": {
         "data": {
          "bar": [
           {
            "error_x": {
             "color": "#2a3f5f"
            },
            "error_y": {
             "color": "#2a3f5f"
            },
            "marker": {
             "line": {
              "color": "#E5ECF6",
              "width": 0.5
             },
             "pattern": {
              "fillmode": "overlay",
              "size": 10,
              "solidity": 0.2
             }
            },
            "type": "bar"
           }
          ],
          "barpolar": [
           {
            "marker": {
             "line": {
              "color": "#E5ECF6",
              "width": 0.5
             },
             "pattern": {
              "fillmode": "overlay",
              "size": 10,
              "solidity": 0.2
             }
            },
            "type": "barpolar"
           }
          ],
          "carpet": [
           {
            "aaxis": {
             "endlinecolor": "#2a3f5f",
             "gridcolor": "white",
             "linecolor": "white",
             "minorgridcolor": "white",
             "startlinecolor": "#2a3f5f"
            },
            "baxis": {
             "endlinecolor": "#2a3f5f",
             "gridcolor": "white",
             "linecolor": "white",
             "minorgridcolor": "white",
             "startlinecolor": "#2a3f5f"
            },
            "type": "carpet"
           }
          ],
          "choropleth": [
           {
            "colorbar": {
             "outlinewidth": 0,
             "ticks": ""
            },
            "type": "choropleth"
           }
          ],
          "contour": [
           {
            "colorbar": {
             "outlinewidth": 0,
             "ticks": ""
            },
            "colorscale": [
             [
              0,
              "#0d0887"
             ],
             [
              0.1111111111111111,
              "#46039f"
             ],
             [
              0.2222222222222222,
              "#7201a8"
             ],
             [
              0.3333333333333333,
              "#9c179e"
             ],
             [
              0.4444444444444444,
              "#bd3786"
             ],
             [
              0.5555555555555556,
              "#d8576b"
             ],
             [
              0.6666666666666666,
              "#ed7953"
             ],
             [
              0.7777777777777778,
              "#fb9f3a"
             ],
             [
              0.8888888888888888,
              "#fdca26"
             ],
             [
              1,
              "#f0f921"
             ]
            ],
            "type": "contour"
           }
          ],
          "contourcarpet": [
           {
            "colorbar": {
             "outlinewidth": 0,
             "ticks": ""
            },
            "type": "contourcarpet"
           }
          ],
          "heatmap": [
           {
            "colorbar": {
             "outlinewidth": 0,
             "ticks": ""
            },
            "colorscale": [
             [
              0,
              "#0d0887"
             ],
             [
              0.1111111111111111,
              "#46039f"
             ],
             [
              0.2222222222222222,
              "#7201a8"
             ],
             [
              0.3333333333333333,
              "#9c179e"
             ],
             [
              0.4444444444444444,
              "#bd3786"
             ],
             [
              0.5555555555555556,
              "#d8576b"
             ],
             [
              0.6666666666666666,
              "#ed7953"
             ],
             [
              0.7777777777777778,
              "#fb9f3a"
             ],
             [
              0.8888888888888888,
              "#fdca26"
             ],
             [
              1,
              "#f0f921"
             ]
            ],
            "type": "heatmap"
           }
          ],
          "heatmapgl": [
           {
            "colorbar": {
             "outlinewidth": 0,
             "ticks": ""
            },
            "colorscale": [
             [
              0,
              "#0d0887"
             ],
             [
              0.1111111111111111,
              "#46039f"
             ],
             [
              0.2222222222222222,
              "#7201a8"
             ],
             [
              0.3333333333333333,
              "#9c179e"
             ],
             [
              0.4444444444444444,
              "#bd3786"
             ],
             [
              0.5555555555555556,
              "#d8576b"
             ],
             [
              0.6666666666666666,
              "#ed7953"
             ],
             [
              0.7777777777777778,
              "#fb9f3a"
             ],
             [
              0.8888888888888888,
              "#fdca26"
             ],
             [
              1,
              "#f0f921"
             ]
            ],
            "type": "heatmapgl"
           }
          ],
          "histogram": [
           {
            "marker": {
             "pattern": {
              "fillmode": "overlay",
              "size": 10,
              "solidity": 0.2
             }
            },
            "type": "histogram"
           }
          ],
          "histogram2d": [
           {
            "colorbar": {
             "outlinewidth": 0,
             "ticks": ""
            },
            "colorscale": [
             [
              0,
              "#0d0887"
             ],
             [
              0.1111111111111111,
              "#46039f"
             ],
             [
              0.2222222222222222,
              "#7201a8"
             ],
             [
              0.3333333333333333,
              "#9c179e"
             ],
             [
              0.4444444444444444,
              "#bd3786"
             ],
             [
              0.5555555555555556,
              "#d8576b"
             ],
             [
              0.6666666666666666,
              "#ed7953"
             ],
             [
              0.7777777777777778,
              "#fb9f3a"
             ],
             [
              0.8888888888888888,
              "#fdca26"
             ],
             [
              1,
              "#f0f921"
             ]
            ],
            "type": "histogram2d"
           }
          ],
          "histogram2dcontour": [
           {
            "colorbar": {
             "outlinewidth": 0,
             "ticks": ""
            },
            "colorscale": [
             [
              0,
              "#0d0887"
             ],
             [
              0.1111111111111111,
              "#46039f"
             ],
             [
              0.2222222222222222,
              "#7201a8"
             ],
             [
              0.3333333333333333,
              "#9c179e"
             ],
             [
              0.4444444444444444,
              "#bd3786"
             ],
             [
              0.5555555555555556,
              "#d8576b"
             ],
             [
              0.6666666666666666,
              "#ed7953"
             ],
             [
              0.7777777777777778,
              "#fb9f3a"
             ],
             [
              0.8888888888888888,
              "#fdca26"
             ],
             [
              1,
              "#f0f921"
             ]
            ],
            "type": "histogram2dcontour"
           }
          ],
          "mesh3d": [
           {
            "colorbar": {
             "outlinewidth": 0,
             "ticks": ""
            },
            "type": "mesh3d"
           }
          ],
          "parcoords": [
           {
            "line": {
             "colorbar": {
              "outlinewidth": 0,
              "ticks": ""
             }
            },
            "type": "parcoords"
           }
          ],
          "pie": [
           {
            "automargin": true,
            "type": "pie"
           }
          ],
          "scatter": [
           {
            "fillpattern": {
             "fillmode": "overlay",
             "size": 10,
             "solidity": 0.2
            },
            "type": "scatter"
           }
          ],
          "scatter3d": [
           {
            "line": {
             "colorbar": {
              "outlinewidth": 0,
              "ticks": ""
             }
            },
            "marker": {
             "colorbar": {
              "outlinewidth": 0,
              "ticks": ""
             }
            },
            "type": "scatter3d"
           }
          ],
          "scattercarpet": [
           {
            "marker": {
             "colorbar": {
              "outlinewidth": 0,
              "ticks": ""
             }
            },
            "type": "scattercarpet"
           }
          ],
          "scattergeo": [
           {
            "marker": {
             "colorbar": {
              "outlinewidth": 0,
              "ticks": ""
             }
            },
            "type": "scattergeo"
           }
          ],
          "scattergl": [
           {
            "marker": {
             "colorbar": {
              "outlinewidth": 0,
              "ticks": ""
             }
            },
            "type": "scattergl"
           }
          ],
          "scattermapbox": [
           {
            "marker": {
             "colorbar": {
              "outlinewidth": 0,
              "ticks": ""
             }
            },
            "type": "scattermapbox"
           }
          ],
          "scatterpolar": [
           {
            "marker": {
             "colorbar": {
              "outlinewidth": 0,
              "ticks": ""
             }
            },
            "type": "scatterpolar"
           }
          ],
          "scatterpolargl": [
           {
            "marker": {
             "colorbar": {
              "outlinewidth": 0,
              "ticks": ""
             }
            },
            "type": "scatterpolargl"
           }
          ],
          "scatterternary": [
           {
            "marker": {
             "colorbar": {
              "outlinewidth": 0,
              "ticks": ""
             }
            },
            "type": "scatterternary"
           }
          ],
          "surface": [
           {
            "colorbar": {
             "outlinewidth": 0,
             "ticks": ""
            },
            "colorscale": [
             [
              0,
              "#0d0887"
             ],
             [
              0.1111111111111111,
              "#46039f"
             ],
             [
              0.2222222222222222,
              "#7201a8"
             ],
             [
              0.3333333333333333,
              "#9c179e"
             ],
             [
              0.4444444444444444,
              "#bd3786"
             ],
             [
              0.5555555555555556,
              "#d8576b"
             ],
             [
              0.6666666666666666,
              "#ed7953"
             ],
             [
              0.7777777777777778,
              "#fb9f3a"
             ],
             [
              0.8888888888888888,
              "#fdca26"
             ],
             [
              1,
              "#f0f921"
             ]
            ],
            "type": "surface"
           }
          ],
          "table": [
           {
            "cells": {
             "fill": {
              "color": "#EBF0F8"
             },
             "line": {
              "color": "white"
             }
            },
            "header": {
             "fill": {
              "color": "#C8D4E3"
             },
             "line": {
              "color": "white"
             }
            },
            "type": "table"
           }
          ]
         },
         "layout": {
          "annotationdefaults": {
           "arrowcolor": "#2a3f5f",
           "arrowhead": 0,
           "arrowwidth": 1
          },
          "autotypenumbers": "strict",
          "coloraxis": {
           "colorbar": {
            "outlinewidth": 0,
            "ticks": ""
           }
          },
          "colorscale": {
           "diverging": [
            [
             0,
             "#8e0152"
            ],
            [
             0.1,
             "#c51b7d"
            ],
            [
             0.2,
             "#de77ae"
            ],
            [
             0.3,
             "#f1b6da"
            ],
            [
             0.4,
             "#fde0ef"
            ],
            [
             0.5,
             "#f7f7f7"
            ],
            [
             0.6,
             "#e6f5d0"
            ],
            [
             0.7,
             "#b8e186"
            ],
            [
             0.8,
             "#7fbc41"
            ],
            [
             0.9,
             "#4d9221"
            ],
            [
             1,
             "#276419"
            ]
           ],
           "sequential": [
            [
             0,
             "#0d0887"
            ],
            [
             0.1111111111111111,
             "#46039f"
            ],
            [
             0.2222222222222222,
             "#7201a8"
            ],
            [
             0.3333333333333333,
             "#9c179e"
            ],
            [
             0.4444444444444444,
             "#bd3786"
            ],
            [
             0.5555555555555556,
             "#d8576b"
            ],
            [
             0.6666666666666666,
             "#ed7953"
            ],
            [
             0.7777777777777778,
             "#fb9f3a"
            ],
            [
             0.8888888888888888,
             "#fdca26"
            ],
            [
             1,
             "#f0f921"
            ]
           ],
           "sequentialminus": [
            [
             0,
             "#0d0887"
            ],
            [
             0.1111111111111111,
             "#46039f"
            ],
            [
             0.2222222222222222,
             "#7201a8"
            ],
            [
             0.3333333333333333,
             "#9c179e"
            ],
            [
             0.4444444444444444,
             "#bd3786"
            ],
            [
             0.5555555555555556,
             "#d8576b"
            ],
            [
             0.6666666666666666,
             "#ed7953"
            ],
            [
             0.7777777777777778,
             "#fb9f3a"
            ],
            [
             0.8888888888888888,
             "#fdca26"
            ],
            [
             1,
             "#f0f921"
            ]
           ]
          },
          "colorway": [
           "#636efa",
           "#EF553B",
           "#00cc96",
           "#ab63fa",
           "#FFA15A",
           "#19d3f3",
           "#FF6692",
           "#B6E880",
           "#FF97FF",
           "#FECB52"
          ],
          "font": {
           "color": "#2a3f5f"
          },
          "geo": {
           "bgcolor": "white",
           "lakecolor": "white",
           "landcolor": "#E5ECF6",
           "showlakes": true,
           "showland": true,
           "subunitcolor": "white"
          },
          "hoverlabel": {
           "align": "left"
          },
          "hovermode": "closest",
          "mapbox": {
           "style": "light"
          },
          "paper_bgcolor": "white",
          "plot_bgcolor": "#E5ECF6",
          "polar": {
           "angularaxis": {
            "gridcolor": "white",
            "linecolor": "white",
            "ticks": ""
           },
           "bgcolor": "#E5ECF6",
           "radialaxis": {
            "gridcolor": "white",
            "linecolor": "white",
            "ticks": ""
           }
          },
          "scene": {
           "xaxis": {
            "backgroundcolor": "#E5ECF6",
            "gridcolor": "white",
            "gridwidth": 2,
            "linecolor": "white",
            "showbackground": true,
            "ticks": "",
            "zerolinecolor": "white"
           },
           "yaxis": {
            "backgroundcolor": "#E5ECF6",
            "gridcolor": "white",
            "gridwidth": 2,
            "linecolor": "white",
            "showbackground": true,
            "ticks": "",
            "zerolinecolor": "white"
           },
           "zaxis": {
            "backgroundcolor": "#E5ECF6",
            "gridcolor": "white",
            "gridwidth": 2,
            "linecolor": "white",
            "showbackground": true,
            "ticks": "",
            "zerolinecolor": "white"
           }
          },
          "shapedefaults": {
           "line": {
            "color": "#2a3f5f"
           }
          },
          "ternary": {
           "aaxis": {
            "gridcolor": "white",
            "linecolor": "white",
            "ticks": ""
           },
           "baxis": {
            "gridcolor": "white",
            "linecolor": "white",
            "ticks": ""
           },
           "bgcolor": "#E5ECF6",
           "caxis": {
            "gridcolor": "white",
            "linecolor": "white",
            "ticks": ""
           }
          },
          "title": {
           "x": 0.05
          },
          "xaxis": {
           "automargin": true,
           "gridcolor": "white",
           "linecolor": "white",
           "ticks": "",
           "title": {
            "standoff": 15
           },
           "zerolinecolor": "white",
           "zerolinewidth": 2
          },
          "yaxis": {
           "automargin": true,
           "gridcolor": "white",
           "linecolor": "white",
           "ticks": "",
           "title": {
            "standoff": 15
           },
           "zerolinecolor": "white",
           "zerolinewidth": 2
          }
         }
        },
        "title": {
         "text": "My combined plot"
        },
        "width": 1000,
        "xaxis": {
         "anchor": "y",
         "domain": [
          0,
          0.45
         ],
         "title": {
          "text": "Branch Length"
         }
        },
        "yaxis": {
         "anchor": "x",
         "domain": [
          0,
          1
         ],
         "showgrid": false,
         "showline": false,
         "showticklabels": false,
         "title": {
          "text": ""
         },
         "zeroline": false
        }
       }
      }
     },
     "metadata": {},
     "output_type": "display_data"
    }
   ],
   "source": [
    "combined_fig = phyloworld.combine_tree_and_world_map(tree_plot1, \n",
    "                                                     world_map_fig, \n",
    "                                                     title = \"My combined plot\")\n",
    "combined_fig.show()"
   ]
  },
  {
   "cell_type": "code",
   "execution_count": 11,
   "metadata": {},
   "outputs": [
    {
     "data": {
      "application/vnd.plotly.v1+json": {
       "config": {
        "plotlyServerURL": "https://plot.ly"
       },
       "data": [
        {
         "colorbar": {
          "ticktext": [],
          "tickvals": [],
          "title": {
           "text": ""
          }
         },
         "colorscale": [
          [
           0,
           "rgb(255, 182, 193)"
          ],
          [
           1,
           "rgb(255, 182, 193)"
          ]
         ],
         "geo": "geo",
         "hoverinfo": "text",
         "locationmode": "country names",
         "locations": [
          "Algeria"
         ],
         "showscale": false,
         "text": "Country: Algeria<br>ID(s): 1700_04112013_AXDK00-0<br>0803_01012000_AXDK00-0<br>0803_26042014_AXDK00-0",
         "type": "choropleth",
         "z": [
          1
         ]
        },
        {
         "colorbar": {
          "ticktext": [],
          "tickvals": [],
          "title": {
           "text": ""
          }
         },
         "colorscale": [
          [
           0,
           "rgb(255, 174, 185)"
          ],
          [
           1,
           "rgb(255, 174, 185)"
          ]
         ],
         "geo": "geo",
         "hoverinfo": "text",
         "locationmode": "country names",
         "locations": [
          "Denmark"
         ],
         "showscale": false,
         "text": "Country: Denmark<br>ID(s): 0802_04042005_AXDK00-0<br>0802_18012008_AXDK00-0<br>9902_01011996_AXDK00-0<br>9902_01032004_AXDK00-0<br>9902_26012009_AXDK00-0<br>5103_07102016_AXDK00-0<br>6203_12122015_AXDK00-0<br>9203_01012000_AXDK00-0<br>6004_30102015_AXDK00-0<br>6604_17022016_AXDK00-0<br>8104_29042011_AXDK00-0<br>9704_29072010_AXDK00-0<br>2005_03022017_AXDK00-0<br>GCF_001558755-2_ASM155875v2_genomic.fasta",
         "type": "choropleth",
         "z": [
          1
         ]
        },
        {
         "colorbar": {
          "ticktext": [],
          "tickvals": [],
          "title": {
           "text": ""
          }
         },
         "colorscale": [
          [
           0,
           "rgb(255, 160, 122)"
          ],
          [
           1,
           "rgb(255, 160, 122)"
          ]
         ],
         "geo": "geo",
         "hoverinfo": "text",
         "locationmode": "country names",
         "locations": [
          "Lithuania"
         ],
         "showscale": false,
         "text": "Country: Lithuania<br>ID(s): 2202_04012011_AXDK00-0<br>7603_01011997_AXDK00-0<br>GCF_000165835-1_ASM16583v1_genomic.fasta",
         "type": "choropleth",
         "z": [
          1
         ]
        },
        {
         "colorbar": {
          "ticktext": [],
          "tickvals": [],
          "title": {
           "text": ""
          }
         },
         "colorscale": [
          [
           0,
           "rgb(255, 99, 71)"
          ],
          [
           1,
           "rgb(255, 99, 71)"
          ]
         ],
         "geo": "geo",
         "hoverinfo": "text",
         "locationmode": "country names",
         "locations": [
          "Angola"
         ],
         "showscale": false,
         "text": "Country: Angola<br>ID(s): 6402_27032017_AXDK00-0<br>0703_07082013_AXDK00-0<br>8603_03072008_AXDK00-0<br>8603_27082014_AXDK00-0<br>3004_24042007_AXDK00-0",
         "type": "choropleth",
         "z": [
          1
         ]
        },
        {
         "colorbar": {
          "ticktext": [],
          "tickvals": [],
          "title": {
           "text": ""
          }
         },
         "colorscale": [
          [
           0,
           "rgb(255, 69, 0)"
          ],
          [
           1,
           "rgb(255, 69, 0)"
          ]
         ],
         "geo": "geo",
         "hoverinfo": "text",
         "locationmode": "country names",
         "locations": [
          "Italy"
         ],
         "showscale": false,
         "text": "Country: Italy<br>ID(s): 7402_26022014_AXDK00-0<br>1903_01092016_AXDK00-0<br>1903_16122011_AXDK00-0<br>3403_27022012_AXDK00-0<br>4104_02122014_AXDK00-0<br>1705_21052013_AXDK00-0<br>1705_25012010_AXDK00-0<br>1705_30032007_AXDK00-0<br>GCF_001051055-1_ASM105105v1_genomic.fasta",
         "type": "choropleth",
         "z": [
          1
         ]
        },
        {
         "colorbar": {
          "ticktext": [],
          "tickvals": [],
          "title": {
           "text": ""
          }
         },
         "colorscale": [
          [
           0,
           "rgb(255, 20, 147)"
          ],
          [
           1,
           "rgb(255, 20, 147)"
          ]
         ],
         "geo": "geo",
         "hoverinfo": "text",
         "locationmode": "country names",
         "locations": [
          "Estonia"
         ],
         "showscale": false,
         "text": "Country: Estonia<br>ID(s): 0603_03012007_AXDK00-0<br>0603_08102003_AXDK00-0<br>6203_24092018_AXDK00-0",
         "type": "choropleth",
         "z": [
          1
         ]
        },
        {
         "colorbar": {
          "ticktext": [],
          "tickvals": [],
          "title": {
           "text": ""
          }
         },
         "colorscale": [
          [
           0,
           "rgb(255, 105, 180)"
          ],
          [
           1,
           "rgb(255, 105, 180)"
          ]
         ],
         "geo": "geo",
         "hoverinfo": "text",
         "locationmode": "country names",
         "locations": [
          "United States"
         ],
         "showscale": false,
         "text": "Country: United States<br>ID(s): 0703_23092011_AXDK00-0<br>0903_06012012_AXDK00-0<br>1703_16032010_AXDK00-0<br>1903_01011996_AXDK00-0<br>3203_19092012_AXDK00-0<br>4203_09102012_AXDK00-0<br>5803_17012011_AXDK00-0<br>6203_02102006_AXDK00-0<br>7603_04042014_AXDK00-0<br>7603_18022011_AXDK00-0<br>7603_19112008_AXDK00-0<br>9403_05092016_AXDK00-0<br>9403_29092004_AXDK00-0<br>9403_30102009_AXDK00-0<br>3504_09012015_AXDK00-0<br>3504_20122013_AXDK00-0<br>5204_15082016_AXDK03-0<br>8404_11122013_AXDK00-0<br>8404_11122013_AXDK00-1<br>8404_13022014_AXDK00-0<br>8504_05012016_AXDK02-0<br>8504_05012016_AXDK02-1<br>GCF_000758265-1_ASM75826v1_genomic.fasta<br>GCF_001457475-1_NCTC10807_genomic.fasta<br>GCF_900475575-1_44257_A01_genomic.fasta",
         "type": "choropleth",
         "z": [
          1
         ]
        },
        {
         "colorbar": {
          "ticktext": [],
          "tickvals": [],
          "title": {
           "text": ""
          }
         },
         "colorscale": [
          [
           0,
           "rgb(255, 192, 203)"
          ],
          [
           1,
           "rgb(255, 192, 203)"
          ]
         ],
         "geo": "geo",
         "hoverinfo": "text",
         "locationmode": "country names",
         "locations": [
          "Libya"
         ],
         "showscale": false,
         "text": "Country: Libya<br>ID(s): 0803_27042007_AXDK00-0<br>2103_11042016_AXDK00-0<br>6203_01012000_AXDK00-0<br>6604_25012007_AXDK00-0<br>6804_08032006_AXDK00-0",
         "type": "choropleth",
         "z": [
          1
         ]
        },
        {
         "colorbar": {
          "ticktext": [],
          "tickvals": [],
          "title": {
           "text": ""
          }
         },
         "colorscale": [
          [
           0,
           "rgb(255, 182, 193)"
          ],
          [
           1,
           "rgb(255, 182, 193)"
          ]
         ],
         "geo": "geo",
         "hoverinfo": "text",
         "locationmode": "country names",
         "locations": [
          "Mexico"
         ],
         "showscale": false,
         "text": "Country: Mexico<br>ID(s): 1903_27032006_AXDK00-0<br>3203_01011997_AXDK00-0<br>3203_07022014_AXDK00-0<br>3203_18042005_AXDK00-0<br>0604_30122003_AXDK00-0<br>9704_12082016_AXDK00-0<br>0610_14092016_AXDK00-0<br>0610_26012012_AXDK00-0",
         "type": "choropleth",
         "z": [
          1
         ]
        },
        {
         "colorbar": {
          "ticktext": [],
          "tickvals": [],
          "title": {
           "text": ""
          }
         },
         "colorscale": [
          [
           0,
           "rgb(255, 192, 203)"
          ],
          [
           1,
           "rgb(255, 192, 203)"
          ]
         ],
         "geo": "geo",
         "hoverinfo": "text",
         "locationmode": "country names",
         "locations": [
          "Spain"
         ],
         "showscale": false,
         "text": "Country: Spain<br>ID(s): 3403_06102003_AXDK00-0<br>5303_07102016_AXDK00-0<br>5604_07102016_AXDK00-0<br>5604_28082007_AXDK00-0<br>GCF_001558915-1_ASM155891v2_genomic.fasta",
         "type": "choropleth",
         "z": [
          1
         ]
        },
        {
         "colorbar": {
          "ticktext": [],
          "tickvals": [],
          "title": {
           "text": ""
          }
         },
         "colorscale": [
          [
           0,
           "rgb(255, 200, 200)"
          ],
          [
           1,
           "rgb(255, 200, 200)"
          ]
         ],
         "geo": "geo",
         "hoverinfo": "text",
         "locationmode": "country names",
         "locations": [
          "Poland"
         ],
         "showscale": false,
         "text": "Country: Poland<br>ID(s): 4203_09122014_AXDK00-0<br>4703_18022015_AXDK00-0<br>5303_14012004_AXDK00-0<br>5303_14102009_AXDK00-0<br>9503_02012007_AXDK00-0<br>9503_04032011_AXDK00-0<br>9503_27052014_AXDK00-0<br>9603_01042014_AXDK00-0<br>9603_28102003_AXDK00-0<br>9603_28112008_AXDK00-0",
         "type": "choropleth",
         "z": [
          1
         ]
        },
        {
         "colorbar": {
          "ticktext": [],
          "tickvals": [],
          "title": {
           "text": ""
          }
         },
         "colorscale": [
          [
           0,
           "rgb(255, 215, 215)"
          ],
          [
           1,
           "rgb(255, 215, 215)"
          ]
         ],
         "geo": "geo",
         "hoverinfo": "text",
         "locationmode": "country names",
         "locations": [
          "Turkey"
         ],
         "showscale": false,
         "text": "Country: Turkey<br>ID(s): 4703_01012000_AXDK00-0<br>4703_16022007_AXDK00-0<br>8511_07042017_AXDK00-0",
         "type": "choropleth",
         "z": [
          1
         ]
        },
        {
         "colorbar": {
          "ticktext": [],
          "tickvals": [],
          "title": {
           "text": ""
          }
         },
         "colorscale": [
          [
           0,
           "rgb(255, 230, 230)"
          ],
          [
           1,
           "rgb(255, 230, 230)"
          ]
         ],
         "geo": "geo",
         "hoverinfo": "text",
         "locationmode": "country names",
         "locations": [
          "France"
         ],
         "showscale": false,
         "text": "Country: France<br>ID(s): 7703_16032018_AXDK00-0<br>7703_19012017_AXDK00-0<br>3704_08022008_AXDK00-0<br>3704_26112003_AXDK00-0<br>3704_27062014_AXDK00-0<br>6004_19062007_AXDK00-0",
         "type": "choropleth",
         "z": [
          1
         ]
        },
        {
         "colorbar": {
          "ticktext": [],
          "tickvals": [],
          "title": {
           "text": ""
          }
         },
         "colorscale": [
          [
           0,
           "rgb(255, 240, 240)"
          ],
          [
           1,
           "rgb(255, 240, 240)"
          ]
         ],
         "geo": "geo",
         "hoverinfo": "text",
         "locationmode": "country names",
         "locations": [
          "Germany"
         ],
         "showscale": false,
         "text": "Country: Germany<br>ID(s): 8703_15032017_AXDK00-0",
         "type": "choropleth",
         "z": [
          1
         ]
        },
        {
         "colorbar": {
          "ticktext": [],
          "tickvals": [],
          "title": {
           "text": ""
          }
         },
         "colorscale": [
          [
           0,
           "rgb(255, 250, 250)"
          ],
          [
           1,
           "rgb(255, 250, 250)"
          ]
         ],
         "geo": "geo",
         "hoverinfo": "text",
         "locationmode": "country names",
         "locations": [
          "Egypt"
         ],
         "showscale": false,
         "text": "Country: Egypt<br>ID(s): 9203_08042016_AXDK00-0<br>9203_13122011_AXDK00-0<br>1704_01011999_AXDK00-0<br>1704_07022011_AXDK00-0<br>5611_13012017_AXDK00-0",
         "type": "choropleth",
         "z": [
          1
         ]
        },
        {
         "colorbar": {
          "ticktext": [],
          "tickvals": [],
          "title": {
           "text": ""
          }
         },
         "colorscale": [
          [
           0,
           "rgb(255, 255, 255)"
          ],
          [
           1,
           "rgb(255, 255, 255)"
          ]
         ],
         "geo": "geo",
         "hoverinfo": "text",
         "locationmode": "country names",
         "locations": [
          "Canada"
         ],
         "showscale": false,
         "text": "Country: Canada<br>ID(s): 2605_06072016_AXDK00-0<br>8605_01062016_AXDK04-0<br>8605_07052018_AXDK00-0<br>GCF_001559195-1_ASM155919v2_genomic.fasta",
         "type": "choropleth",
         "z": [
          1
         ]
        },
        {
         "hoverinfo": "text",
         "marker": {
          "color": [
           "rgb(255, 255, 255)",
           "rgb(255, 255, 255)",
           "rgb(255, 255, 255)",
           "rgb(255, 255, 255)",
           "rgb(255, 105, 180)",
           "rgb(255, 105, 180)",
           "rgb(255, 182, 193)",
           "rgb(255, 182, 193)",
           "rgb(255, 182, 193)",
           "rgb(255, 105, 180)",
           "rgb(255, 105, 180)",
           "rgb(255, 105, 180)",
           "rgb(255, 105, 180)",
           "rgb(255, 105, 180)",
           "rgb(255, 105, 180)",
           "rgb(255, 105, 180)",
           "rgb(255, 105, 180)",
           "rgb(255, 105, 180)",
           "rgb(255, 105, 180)",
           "rgb(255, 105, 180)",
           "rgb(255, 105, 180)",
           "rgb(255, 105, 180)",
           "rgb(255, 105, 180)",
           "rgb(255, 182, 193)",
           "rgb(255, 105, 180)",
           "rgb(255, 105, 180)",
           "rgb(255, 182, 193)",
           "rgb(255, 182, 193)",
           "rgb(255, 105, 180)",
           "rgb(255, 182, 193)",
           "rgb(255, 105, 180)",
           "rgb(255, 105, 180)",
           "rgb(255, 105, 180)",
           "rgb(255, 105, 180)",
           "rgb(255, 182, 193)",
           "rgb(255, 250, 250)",
           "rgb(255, 215, 215)",
           "rgb(255, 215, 215)",
           "rgb(255, 215, 215)",
           "rgb(255, 192, 203)",
           "rgb(255, 69, 0)",
           "rgb(255, 192, 203)",
           "rgb(255, 192, 203)",
           "rgb(255, 192, 203)",
           "rgb(255, 69, 0)",
           "rgb(255, 69, 0)",
           "rgb(255, 230, 230)",
           "rgb(255, 230, 230)",
           "rgb(255, 200, 200)",
           "rgb(255, 200, 200)",
           "rgb(255, 200, 200)",
           "rgb(255, 200, 200)",
           "rgb(255, 200, 200)",
           "rgb(255, 200, 200)",
           "rgb(255, 200, 200)",
           "rgb(255, 230, 230)",
           "rgb(255, 230, 230)",
           "rgb(255, 200, 200)",
           "rgb(255, 200, 200)",
           "rgb(255, 200, 200)",
           "rgb(255, 230, 230)",
           "rgb(255, 240, 240)",
           "rgb(255, 69, 0)",
           "rgb(255, 230, 230)",
           "rgb(255, 69, 0)",
           "rgb(255, 69, 0)",
           "rgb(255, 192, 203)",
           "rgb(255, 69, 0)",
           "rgb(255, 69, 0)",
           "rgb(255, 69, 0)",
           "rgb(255, 160, 122)",
           "rgb(255, 160, 122)",
           "rgb(255, 160, 122)",
           "rgb(255, 174, 185)",
           "rgb(255, 174, 185)",
           "rgb(255, 20, 147)",
           "rgb(255, 20, 147)",
           "rgb(255, 20, 147)",
           "rgb(255, 174, 185)",
           "rgb(255, 174, 185)",
           "rgb(255, 174, 185)",
           "rgb(255, 174, 185)",
           "rgb(255, 174, 185)",
           "rgb(255, 105, 180)",
           "rgb(255, 105, 180)",
           "rgb(255, 174, 185)",
           "rgb(255, 174, 185)",
           "rgb(255, 174, 185)",
           "rgb(255, 174, 185)",
           "rgb(255, 174, 185)",
           "rgb(255, 174, 185)",
           "rgb(255, 174, 185)",
           "rgb(255, 250, 250)",
           "rgb(255, 250, 250)",
           "rgb(255, 192, 203)",
           "rgb(255, 192, 203)",
           "rgb(255, 192, 203)",
           "rgb(255, 250, 250)",
           "rgb(255, 250, 250)",
           "rgb(255, 192, 203)",
           "rgb(255, 99, 71)",
           "rgb(255, 99, 71)",
           "rgb(255, 99, 71)",
           "rgb(255, 99, 71)",
           "rgb(255, 182, 193)",
           "rgb(255, 192, 203)",
           "rgb(255, 182, 193)",
           "rgb(255, 99, 71)",
           "rgb(255, 182, 193)"
          ],
          "size": 5
         },
         "mode": "markers",
         "name": "Countries",
         "text": [
          "Country: Canada<br>ID: GCF_001559195-1_ASM155919v2_genomic.fasta",
          "Country: Canada<br>ID: 2605_06072016_AXDK00-0",
          "Country: Canada<br>ID: 8605_07052018_AXDK00-0",
          "Country: Canada<br>ID: 8605_01062016_AXDK04-0",
          "Country: United States<br>ID: 4203_09102012_AXDK00-0",
          "Country: United States<br>ID: 3203_19092012_AXDK00-0",
          "Country: Mexico<br>ID: 3203_18042005_AXDK00-0",
          "Country: Mexico<br>ID: 3203_07022014_AXDK00-0",
          "Country: Mexico<br>ID: 3203_01011997_AXDK00-0",
          "Country: United States<br>ID: 1703_16032010_AXDK00-0",
          "Country: United States<br>ID: GCF_900475575-1_44257_A01_genomic.fasta",
          "Country: United States<br>ID: GCF_001457475-1_NCTC10807_genomic.fasta",
          "Country: United States<br>ID: 5803_17012011_AXDK00-0",
          "Country: United States<br>ID: GCF_000758265-1_ASM75826v1_genomic.fasta",
          "Country: United States<br>ID: 0903_06012012_AXDK00-0",
          "Country: United States<br>ID: 3504_09012015_AXDK00-0",
          "Country: United States<br>ID: 3504_20122013_AXDK00-0",
          "Country: United States<br>ID: 8404_11122013_AXDK00-1",
          "Country: United States<br>ID: 8404_11122013_AXDK00-0",
          "Country: United States<br>ID: 8404_13022014_AXDK00-0",
          "Country: United States<br>ID: 9403_30102009_AXDK00-0",
          "Country: United States<br>ID: 9403_29092004_AXDK00-0",
          "Country: United States<br>ID: 9403_05092016_AXDK00-0",
          "Country: Mexico<br>ID: 0604_30122003_AXDK00-0",
          "Country: United States<br>ID: 0703_23092011_AXDK00-0",
          "Country: United States<br>ID: 5204_15082016_AXDK03-0",
          "Country: Mexico<br>ID: 0610_26012012_AXDK00-0",
          "Country: Mexico<br>ID: 0610_14092016_AXDK00-0",
          "Country: United States<br>ID: 1903_01011996_AXDK00-0",
          "Country: Mexico<br>ID: 1903_27032006_AXDK00-0",
          "Country: United States<br>ID: 7603_04042014_AXDK00-0",
          "Country: United States<br>ID: 6203_02102006_AXDK00-0",
          "Country: United States<br>ID: 7603_18022011_AXDK00-0",
          "Country: United States<br>ID: 7603_19112008_AXDK00-0",
          "Country: Mexico<br>ID: 9704_12082016_AXDK00-0",
          "Country: Egypt<br>ID: 5611_13012017_AXDK00-0",
          "Country: Turkey<br>ID: 4703_01012000_AXDK00-0",
          "Country: Turkey<br>ID: 4703_16022007_AXDK00-0",
          "Country: Turkey<br>ID: 8511_07042017_AXDK00-0",
          "Country: Spain<br>ID: GCF_001558915-1_ASM155891v2_genomic.fasta",
          "Country: Italy<br>ID: 3403_27022012_AXDK00-0",
          "Country: Spain<br>ID: 5303_07102016_AXDK00-0",
          "Country: Spain<br>ID: 5604_28082007_AXDK00-0",
          "Country: Spain<br>ID: 5604_07102016_AXDK00-0",
          "Country: Italy<br>ID: 1903_16122011_AXDK00-0",
          "Country: Italy<br>ID: 1903_01092016_AXDK00-0",
          "Country: France<br>ID: 7703_19012017_AXDK00-0",
          "Country: France<br>ID: 7703_16032018_AXDK00-0",
          "Country: Poland<br>ID: 9603_28102003_AXDK00-0",
          "Country: Poland<br>ID: 9603_28112008_AXDK00-0",
          "Country: Poland<br>ID: 9503_27052014_AXDK00-0",
          "Country: Poland<br>ID: 9603_01042014_AXDK00-0",
          "Country: Poland<br>ID: 9503_04032011_AXDK00-0",
          "Country: Poland<br>ID: 9503_02012007_AXDK00-0",
          "Country: Poland<br>ID: 5303_14012004_AXDK00-0",
          "Country: France<br>ID: 3704_27062014_AXDK00-0",
          "Country: France<br>ID: 3704_08022008_AXDK00-0",
          "Country: Poland<br>ID: 4703_18022015_AXDK00-0",
          "Country: Poland<br>ID: 4203_09122014_AXDK00-0",
          "Country: Poland<br>ID: 5303_14102009_AXDK00-0",
          "Country: France<br>ID: 3704_26112003_AXDK00-0",
          "Country: Germany<br>ID: 8703_15032017_AXDK00-0",
          "Country: Italy<br>ID: 1705_30032007_AXDK00-0",
          "Country: France<br>ID: 6004_19062007_AXDK00-0",
          "Country: Italy<br>ID: 1705_21052013_AXDK00-0",
          "Country: Italy<br>ID: 1705_25012010_AXDK00-0",
          "Country: Spain<br>ID: 3403_06102003_AXDK00-0",
          "Country: Italy<br>ID: GCF_001051055-1_ASM105105v1_genomic.fasta",
          "Country: Italy<br>ID: 4104_02122014_AXDK00-0",
          "Country: Italy<br>ID: 7402_26022014_AXDK00-0",
          "Country: Lithuania<br>ID: GCF_000165835-1_ASM16583v1_genomic.fasta",
          "Country: Lithuania<br>ID: 2202_04012011_AXDK00-0",
          "Country: Lithuania<br>ID: 7603_01011997_AXDK00-0",
          "Country: Denmark<br>ID: 0802_04042005_AXDK00-0",
          "Country: Denmark<br>ID: 0802_18012008_AXDK00-0",
          "Country: Estonia<br>ID: 0603_08102003_AXDK00-0",
          "Country: Estonia<br>ID: 0603_03012007_AXDK00-0",
          "Country: Estonia<br>ID: 6203_24092018_AXDK00-0",
          "Country: Denmark<br>ID: 6004_30102015_AXDK00-0",
          "Country: Denmark<br>ID: 6604_17022016_AXDK00-0",
          "Country: Denmark<br>ID: 6203_12122015_AXDK00-0",
          "Country: Denmark<br>ID: 9704_29072010_AXDK00-0",
          "Country: Denmark<br>ID: GCF_001558755-2_ASM155875v2_genomic.fasta",
          "Country: United States<br>ID: 8504_05012016_AXDK02-1",
          "Country: United States<br>ID: 8504_05012016_AXDK02-0",
          "Country: Denmark<br>ID: 2005_03022017_AXDK00-0",
          "Country: Denmark<br>ID: 9902_01011996_AXDK00-0",
          "Country: Denmark<br>ID: 9902_26012009_AXDK00-0",
          "Country: Denmark<br>ID: 9902_01032004_AXDK00-0",
          "Country: Denmark<br>ID: 5103_07102016_AXDK00-0",
          "Country: Denmark<br>ID: 8104_29042011_AXDK00-0",
          "Country: Denmark<br>ID: 9203_01012000_AXDK00-0",
          "Country: Egypt<br>ID: 9203_13122011_AXDK00-0",
          "Country: Egypt<br>ID: 9203_08042016_AXDK00-0",
          "Country: Libya<br>ID: 6604_25012007_AXDK00-0",
          "Country: Libya<br>ID: 6804_08032006_AXDK00-0",
          "Country: Libya<br>ID: 6203_01012000_AXDK00-0",
          "Country: Egypt<br>ID: 1704_01011999_AXDK00-0",
          "Country: Egypt<br>ID: 1704_07022011_AXDK00-0",
          "Country: Libya<br>ID: 2103_11042016_AXDK00-0",
          "Country: Angola<br>ID: 8603_27082014_AXDK00-0",
          "Country: Angola<br>ID: 8603_03072008_AXDK00-0",
          "Country: Angola<br>ID: 0703_07082013_AXDK00-0",
          "Country: Angola<br>ID: 6402_27032017_AXDK00-0",
          "Country: Algeria<br>ID: 0803_01012000_AXDK00-0",
          "Country: Libya<br>ID: 0803_27042007_AXDK00-0",
          "Country: Algeria<br>ID: 0803_26042014_AXDK00-0",
          "Country: Angola<br>ID: 3004_24042007_AXDK00-0",
          "Country: Algeria<br>ID: 1700_04112013_AXDK00-0"
         ],
         "type": "scatter",
         "x": [
          0.01525,
          0.01972,
          0.019110000000000002,
          0.018170000000000002,
          0.01828,
          0.01796,
          0.01863,
          0.01937,
          0.01784,
          0.02128,
          0.02383,
          0.02378,
          0.01982,
          0.026500000000000003,
          0.023420000000000003,
          0.02535,
          0.025300000000000003,
          0.021890000000000003,
          0.02269,
          0.02199,
          0.02145,
          0.02138,
          0.021509999999999998,
          0.01608,
          0.01734,
          0.020860000000000004,
          0.01989,
          0.01983,
          0.018750000000000003,
          0.018680000000000002,
          0.02631,
          0.026180000000000002,
          0.02657,
          0.02646,
          0.02798,
          0.0963,
          0.14903000000000002,
          0.14897000000000002,
          0.13332,
          0.22905999999999999,
          0.23532999999999996,
          0.23500999999999997,
          0.23525999999999997,
          0.23601999999999998,
          0.23521999999999998,
          0.23542999999999997,
          0.23533999999999997,
          0.23534999999999998,
          0.23489999999999997,
          0.23485999999999999,
          0.23531999999999997,
          0.23509999999999998,
          0.23509999999999998,
          0.23498,
          0.23524999999999996,
          0.23505999999999996,
          0.23496999999999998,
          0.23565,
          0.23514,
          0.23519999999999996,
          0.23502999999999996,
          0.23515999999999998,
          0.23618,
          0.23518,
          0.23552,
          0.23578,
          0.23483999999999997,
          0.23731999999999998,
          0.24046999999999996,
          0.24027999999999997,
          0.91827,
          0.91834,
          0.92294,
          0.24119000000000002,
          0.2411,
          0.24115,
          0.24129,
          0.24144000000000002,
          0.25808,
          0.25859,
          0.26108000000000003,
          0.26208000000000004,
          0.26117,
          0.26083,
          0.26073,
          0.2602,
          0.25977,
          0.26003000000000004,
          0.26111,
          0.26244999999999996,
          0.25846,
          0.2614,
          0.045160000000000006,
          0.044680000000000004,
          0.045680000000000005,
          0.04508000000000001,
          0.044950000000000004,
          0.033339999999999995,
          0.02984,
          0.03094,
          0.03044,
          0.03035,
          0.02877,
          0.02922,
          0.023270000000000002,
          0.02346,
          0.0234,
          0.02246,
          0.01939
         ],
         "xaxis": "x",
         "y": [
          -31.400000000000006,
          -30.099999999999994,
          -28.80000000000001,
          -27.5,
          -26.200000000000017,
          -24.900000000000006,
          -23.599999999999994,
          -22.30000000000001,
          -21,
          -19.700000000000017,
          -18.400000000000006,
          -17.10000000000001,
          -15.800000000000011,
          -14.5,
          -13.200000000000003,
          -11.900000000000006,
          -10.600000000000009,
          -9.299999999999997,
          -8,
          -6.700000000000003,
          -5.400000000000006,
          -4.1000000000000085,
          -2.799999999999997,
          -1.5,
          -0.20000000000000284,
          1.0999999999999943,
          2.3999999999999915,
          3.700000000000003,
          5,
          6.299999999999997,
          7.599999999999994,
          8.899999999999991,
          10.200000000000003,
          11.5,
          12.799999999999997,
          14.099999999999994,
          15.399999999999991,
          16.700000000000003,
          18,
          19.299999999999997,
          20.599999999999994,
          21.89999999999999,
          23.200000000000003,
          24.5,
          25.799999999999997,
          27.099999999999994,
          28.39999999999999,
          29.700000000000003,
          31,
          32.3,
          33.599999999999994,
          34.89999999999999,
          36.2,
          37.5,
          38.8,
          40.099999999999994,
          41.39999999999999,
          42.7,
          44,
          45.3,
          46.599999999999994,
          47.9,
          49.199999999999996,
          50.5,
          51.8,
          53.1,
          54.4,
          55.699999999999996,
          57,
          58.3,
          59.6,
          60.9,
          62.199999999999996,
          63.5,
          64.8,
          66.1,
          67.4,
          68.69999999999999,
          70,
          71.3,
          72.6,
          73.9,
          75.19999999999999,
          76.5,
          77.8,
          79.1,
          80.4,
          81.7,
          83,
          84.3,
          85.6,
          86.9,
          88.2,
          89.5,
          90.8,
          92.1,
          93.4,
          94.7,
          96,
          97.3,
          98.6,
          99.9,
          101.2,
          102.5,
          103.8,
          105.1,
          106.4,
          107.7,
          109
         ],
         "yaxis": "y"
        }
       ],
       "layout": {
        "annotations": [
         {
          "font": {
           "size": 16
          },
          "showarrow": false,
          "text": "My pink phylogenetic tree",
          "x": 0.225,
          "xanchor": "center",
          "xref": "paper",
          "y": 1,
          "yanchor": "bottom",
          "yref": "paper"
         },
         {
          "font": {
           "size": 16
          },
          "showarrow": false,
          "text": "My pink world map",
          "x": 0.775,
          "xanchor": "center",
          "xref": "paper",
          "y": 1,
          "yanchor": "bottom",
          "yref": "paper"
         }
        ],
        "geo": {
         "coastlinecolor": "rgb(255, 255, 255)",
         "countrycolor": "rgb(0, 0, 0)",
         "countrywidth": 0.5,
         "domain": {
          "x": [
           0.55,
           1
          ],
          "y": [
           0,
           1
          ]
         },
         "landcolor": "rgb(217, 217, 217)",
         "lataxis": {
          "range": [
           -90,
           90
          ]
         },
         "lonaxis": {
          "range": [
           -180,
           180
          ]
         },
         "resolution": 110,
         "showcoastlines": true,
         "showcountries": true,
         "showland": true
        },
        "height": 600,
        "hovermode": "closest",
        "legend": {
         "x": 0,
         "y": 1
        },
        "paper_bgcolor": "white",
        "plot_bgcolor": "rgb(250,250,250)",
        "shapes": [
         {
          "layer": "below",
          "line": {
           "color": "rgb(25,25,25)",
           "width": 1
          },
          "type": "line",
          "x0": 0,
          "x1": 0,
          "y0": 13.218886733055111,
          "y1": 13.218886733055111
         },
         {
          "layer": "below",
          "line": {
           "color": "rgb(25,25,25)",
           "width": 1
          },
          "type": "line",
          "x0": 0,
          "x1": 0,
          "y0": 47.59011721611023,
          "y1": -21.152343750000007
         },
         {
          "layer": "below",
          "line": {
           "color": "rgb(25,25,25)",
           "width": 1
          },
          "type": "line",
          "x0": 0,
          "x1": 0.00125,
          "y0": -21.152343750000007,
          "y1": -21.152343750000007
         },
         {
          "layer": "below",
          "line": {
           "color": "rgb(25,25,25)",
           "width": 1
          },
          "type": "line",
          "x0": 0.00125,
          "x1": 0.00125,
          "y0": -13.118750000000006,
          "y1": -29.185937500000005
         },
         {
          "layer": "below",
          "line": {
           "color": "rgb(25,25,25)",
           "width": 1
          },
          "type": "line",
          "x0": 0.00125,
          "x1": 0.00265,
          "y0": -29.185937500000005,
          "y1": -29.185937500000005
         },
         {
          "layer": "below",
          "line": {
           "color": "rgb(25,25,25)",
           "width": 1
          },
          "type": "line",
          "x0": 0.00265,
          "x1": 0.00265,
          "y0": -26.971875000000004,
          "y1": -31.400000000000006
         },
         {
          "layer": "below",
          "line": {
           "color": "rgb(25,25,25)",
           "width": 1
          },
          "type": "line",
          "x0": 0.00265,
          "x1": 0.01525,
          "y0": -31.400000000000006,
          "y1": -31.400000000000006
         },
         {
          "layer": "below",
          "line": {
           "color": "rgb(25,25,25)",
           "width": 1
          },
          "type": "line",
          "x0": 0.00265,
          "x1": 0.00378,
          "y0": -26.971875000000004,
          "y1": -26.971875000000004
         },
         {
          "layer": "below",
          "line": {
           "color": "rgb(25,25,25)",
           "width": 1
          },
          "type": "line",
          "x0": 0.00378,
          "x1": 0.00378,
          "y0": -24.81875000000001,
          "y1": -29.125
         },
         {
          "layer": "below",
          "line": {
           "color": "rgb(25,25,25)",
           "width": 1
          },
          "type": "line",
          "x0": 0.00378,
          "x1": 0.00637,
          "y0": -29.125,
          "y1": -29.125
         },
         {
          "layer": "below",
          "line": {
           "color": "rgb(25,25,25)",
           "width": 1
          },
          "type": "line",
          "x0": 0.00637,
          "x1": 0.00637,
          "y0": -28.150000000000006,
          "y1": -30.099999999999994
         },
         {
          "layer": "below",
          "line": {
           "color": "rgb(25,25,25)",
           "width": 1
          },
          "type": "line",
          "x0": 0.00637,
          "x1": 0.01972,
          "y0": -30.099999999999994,
          "y1": -30.099999999999994
         },
         {
          "layer": "below",
          "line": {
           "color": "rgb(25,25,25)",
           "width": 1
          },
          "type": "line",
          "x0": 0.00637,
          "x1": 0.0181,
          "y0": -28.150000000000006,
          "y1": -28.150000000000006
         },
         {
          "layer": "below",
          "line": {
           "color": "rgb(25,25,25)",
           "width": 1
          },
          "type": "line",
          "x0": 0.0181,
          "x1": 0.0181,
          "y0": -27.5,
          "y1": -28.80000000000001
         },
         {
          "layer": "below",
          "line": {
           "color": "rgb(25,25,25)",
           "width": 1
          },
          "type": "line",
          "x0": 0.0181,
          "x1": 0.019110000000000002,
          "y0": -28.80000000000001,
          "y1": -28.80000000000001
         },
         {
          "layer": "below",
          "line": {
           "color": "rgb(25,25,25)",
           "width": 1
          },
          "type": "line",
          "x0": 0.0181,
          "x1": 0.018170000000000002,
          "y0": -27.5,
          "y1": -27.5
         },
         {
          "layer": "below",
          "line": {
           "color": "rgb(25,25,25)",
           "width": 1
          },
          "type": "line",
          "x0": 0.00378,
          "x1": 0.01047,
          "y0": -24.81875000000001,
          "y1": -24.81875000000001
         },
         {
          "layer": "below",
          "line": {
           "color": "rgb(25,25,25)",
           "width": 1
          },
          "type": "line",
          "x0": 0.01047,
          "x1": 0.01047,
          "y0": -23.437500000000004,
          "y1": -26.200000000000017
         },
         {
          "layer": "below",
          "line": {
           "color": "rgb(25,25,25)",
           "width": 1
          },
          "type": "line",
          "x0": 0.01047,
          "x1": 0.01828,
          "y0": -26.200000000000017,
          "y1": -26.200000000000017
         },
         {
          "layer": "below",
          "line": {
           "color": "rgb(25,25,25)",
           "width": 1
          },
          "type": "line",
          "x0": 0.01047,
          "x1": 0.01771,
          "y0": -23.437500000000004,
          "y1": -23.437500000000004
         },
         {
          "layer": "below",
          "line": {
           "color": "rgb(25,25,25)",
           "width": 1
          },
          "type": "line",
          "x0": 0.01771,
          "x1": 0.01771,
          "y0": -21.975,
          "y1": -24.900000000000006
         },
         {
          "layer": "below",
          "line": {
           "color": "rgb(25,25,25)",
           "width": 1
          },
          "type": "line",
          "x0": 0.01771,
          "x1": 0.01796,
          "y0": -24.900000000000006,
          "y1": -24.900000000000006
         },
         {
          "layer": "below",
          "line": {
           "color": "rgb(25,25,25)",
           "width": 1
          },
          "type": "line",
          "x0": 0.01771,
          "x1": 0.01771,
          "y0": -21.975,
          "y1": -21.975
         },
         {
          "layer": "below",
          "line": {
           "color": "rgb(25,25,25)",
           "width": 1
          },
          "type": "line",
          "x0": 0.01771,
          "x1": 0.01771,
          "y0": -21,
          "y1": -22.950000000000003
         },
         {
          "layer": "below",
          "line": {
           "color": "rgb(25,25,25)",
           "width": 1
          },
          "type": "line",
          "x0": 0.01771,
          "x1": 0.01782,
          "y0": -22.950000000000003,
          "y1": -22.950000000000003
         },
         {
          "layer": "below",
          "line": {
           "color": "rgb(25,25,25)",
           "width": 1
          },
          "type": "line",
          "x0": 0.01782,
          "x1": 0.01782,
          "y0": -22.30000000000001,
          "y1": -23.599999999999994
         },
         {
          "layer": "below",
          "line": {
           "color": "rgb(25,25,25)",
           "width": 1
          },
          "type": "line",
          "x0": 0.01782,
          "x1": 0.01863,
          "y0": -23.599999999999994,
          "y1": -23.599999999999994
         },
         {
          "layer": "below",
          "line": {
           "color": "rgb(25,25,25)",
           "width": 1
          },
          "type": "line",
          "x0": 0.01782,
          "x1": 0.01937,
          "y0": -22.30000000000001,
          "y1": -22.30000000000001
         },
         {
          "layer": "below",
          "line": {
           "color": "rgb(25,25,25)",
           "width": 1
          },
          "type": "line",
          "x0": 0.01771,
          "x1": 0.01784,
          "y0": -21,
          "y1": -21
         },
         {
          "layer": "below",
          "line": {
           "color": "rgb(25,25,25)",
           "width": 1
          },
          "type": "line",
          "x0": 0.00125,
          "x1": 0.00299,
          "y0": -13.118750000000006,
          "y1": -13.118750000000006
         },
         {
          "layer": "below",
          "line": {
           "color": "rgb(25,25,25)",
           "width": 1
          },
          "type": "line",
          "x0": 0.00299,
          "x1": 0.00299,
          "y0": -9.300000000000004,
          "y1": -16.937500000000007
         },
         {
          "layer": "below",
          "line": {
           "color": "rgb(25,25,25)",
           "width": 1
          },
          "type": "line",
          "x0": 0.00299,
          "x1": 0.00493,
          "y0": -16.937500000000007,
          "y1": -16.937500000000007
         },
         {
          "layer": "below",
          "line": {
           "color": "rgb(25,25,25)",
           "width": 1
          },
          "type": "line",
          "x0": 0.00493,
          "x1": 0.00493,
          "y0": -15.150000000000006,
          "y1": -18.725000000000012
         },
         {
          "layer": "below",
          "line": {
           "color": "rgb(25,25,25)",
           "width": 1
          },
          "type": "line",
          "x0": 0.00493,
          "x1": 0.008480000000000001,
          "y0": -18.725000000000012,
          "y1": -18.725000000000012
         },
         {
          "layer": "below",
          "line": {
           "color": "rgb(25,25,25)",
           "width": 1
          },
          "type": "line",
          "x0": 0.008480000000000001,
          "x1": 0.008480000000000001,
          "y0": -17.750000000000007,
          "y1": -19.700000000000017
         },
         {
          "layer": "below",
          "line": {
           "color": "rgb(25,25,25)",
           "width": 1
          },
          "type": "line",
          "x0": 0.008480000000000001,
          "x1": 0.02128,
          "y0": -19.700000000000017,
          "y1": -19.700000000000017
         },
         {
          "layer": "below",
          "line": {
           "color": "rgb(25,25,25)",
           "width": 1
          },
          "type": "line",
          "x0": 0.008480000000000001,
          "x1": 0.02374,
          "y0": -17.750000000000007,
          "y1": -17.750000000000007
         },
         {
          "layer": "below",
          "line": {
           "color": "rgb(25,25,25)",
           "width": 1
          },
          "type": "line",
          "x0": 0.02374,
          "x1": 0.02374,
          "y0": -17.10000000000001,
          "y1": -18.400000000000006
         },
         {
          "layer": "below",
          "line": {
           "color": "rgb(25,25,25)",
           "width": 1
          },
          "type": "line",
          "x0": 0.02374,
          "x1": 0.02383,
          "y0": -18.400000000000006,
          "y1": -18.400000000000006
         },
         {
          "layer": "below",
          "line": {
           "color": "rgb(25,25,25)",
           "width": 1
          },
          "type": "line",
          "x0": 0.02374,
          "x1": 0.02378,
          "y0": -17.10000000000001,
          "y1": -17.10000000000001
         },
         {
          "layer": "below",
          "line": {
           "color": "rgb(25,25,25)",
           "width": 1
          },
          "type": "line",
          "x0": 0.00493,
          "x1": 0.00745,
          "y0": -15.150000000000006,
          "y1": -15.150000000000006
         },
         {
          "layer": "below",
          "line": {
           "color": "rgb(25,25,25)",
           "width": 1
          },
          "type": "line",
          "x0": 0.00745,
          "x1": 0.00745,
          "y0": -14.5,
          "y1": -15.800000000000011
         },
         {
          "layer": "below",
          "line": {
           "color": "rgb(25,25,25)",
           "width": 1
          },
          "type": "line",
          "x0": 0.00745,
          "x1": 0.01982,
          "y0": -15.800000000000011,
          "y1": -15.800000000000011
         },
         {
          "layer": "below",
          "line": {
           "color": "rgb(25,25,25)",
           "width": 1
          },
          "type": "line",
          "x0": 0.00745,
          "x1": 0.026500000000000003,
          "y0": -14.5,
          "y1": -14.5
         },
         {
          "layer": "below",
          "line": {
           "color": "rgb(25,25,25)",
           "width": 1
          },
          "type": "line",
          "x0": 0.00299,
          "x1": 0.0046700000000000005,
          "y0": -9.300000000000004,
          "y1": -9.300000000000004
         },
         {
          "layer": "below",
          "line": {
           "color": "rgb(25,25,25)",
           "width": 1
          },
          "type": "line",
          "x0": 0.0046700000000000005,
          "x1": 0.0046700000000000005,
          "y0": -6.375000000000002,
          "y1": -12.225000000000005
         },
         {
          "layer": "below",
          "line": {
           "color": "rgb(25,25,25)",
           "width": 1
          },
          "type": "line",
          "x0": 0.0046700000000000005,
          "x1": 0.009420000000000001,
          "y0": -12.225000000000005,
          "y1": -12.225000000000005
         },
         {
          "layer": "below",
          "line": {
           "color": "rgb(25,25,25)",
           "width": 1
          },
          "type": "line",
          "x0": 0.009420000000000001,
          "x1": 0.009420000000000001,
          "y0": -11.250000000000007,
          "y1": -13.200000000000003
         },
         {
          "layer": "below",
          "line": {
           "color": "rgb(25,25,25)",
           "width": 1
          },
          "type": "line",
          "x0": 0.009420000000000001,
          "x1": 0.023420000000000003,
          "y0": -13.200000000000003,
          "y1": -13.200000000000003
         },
         {
          "layer": "below",
          "line": {
           "color": "rgb(25,25,25)",
           "width": 1
          },
          "type": "line",
          "x0": 0.009420000000000001,
          "x1": 0.025240000000000002,
          "y0": -11.250000000000007,
          "y1": -11.250000000000007
         },
         {
          "layer": "below",
          "line": {
           "color": "rgb(25,25,25)",
           "width": 1
          },
          "type": "line",
          "x0": 0.025240000000000002,
          "x1": 0.025240000000000002,
          "y0": -10.600000000000009,
          "y1": -11.900000000000006
         },
         {
          "layer": "below",
          "line": {
           "color": "rgb(25,25,25)",
           "width": 1
          },
          "type": "line",
          "x0": 0.025240000000000002,
          "x1": 0.02535,
          "y0": -11.900000000000006,
          "y1": -11.900000000000006
         },
         {
          "layer": "below",
          "line": {
           "color": "rgb(25,25,25)",
           "width": 1
          },
          "type": "line",
          "x0": 0.025240000000000002,
          "x1": 0.025300000000000003,
          "y0": -10.600000000000009,
          "y1": -10.600000000000009
         },
         {
          "layer": "below",
          "line": {
           "color": "rgb(25,25,25)",
           "width": 1
          },
          "type": "line",
          "x0": 0.0046700000000000005,
          "x1": 0.00783,
          "y0": -6.375000000000002,
          "y1": -6.375000000000002
         },
         {
          "layer": "below",
          "line": {
           "color": "rgb(25,25,25)",
           "width": 1
          },
          "type": "line",
          "x0": 0.00783,
          "x1": 0.00783,
          "y0": -4.425000000000004,
          "y1": -8.325
         },
         {
          "layer": "below",
          "line": {
           "color": "rgb(25,25,25)",
           "width": 1
          },
          "type": "line",
          "x0": 0.00783,
          "x1": 0.02176,
          "y0": -8.325,
          "y1": -8.325
         },
         {
          "layer": "below",
          "line": {
           "color": "rgb(25,25,25)",
           "width": 1
          },
          "type": "line",
          "x0": 0.02176,
          "x1": 0.02176,
          "y0": -7.350000000000001,
          "y1": -9.299999999999997
         },
         {
          "layer": "below",
          "line": {
           "color": "rgb(25,25,25)",
           "width": 1
          },
          "type": "line",
          "x0": 0.02176,
          "x1": 0.021890000000000003,
          "y0": -9.299999999999997,
          "y1": -9.299999999999997
         },
         {
          "layer": "below",
          "line": {
           "color": "rgb(25,25,25)",
           "width": 1
          },
          "type": "line",
          "x0": 0.02176,
          "x1": 0.0218,
          "y0": -7.350000000000001,
          "y1": -7.350000000000001
         },
         {
          "layer": "below",
          "line": {
           "color": "rgb(25,25,25)",
           "width": 1
          },
          "type": "line",
          "x0": 0.0218,
          "x1": 0.0218,
          "y0": -6.700000000000003,
          "y1": -8
         },
         {
          "layer": "below",
          "line": {
           "color": "rgb(25,25,25)",
           "width": 1
          },
          "type": "line",
          "x0": 0.0218,
          "x1": 0.02269,
          "y0": -8,
          "y1": -8
         },
         {
          "layer": "below",
          "line": {
           "color": "rgb(25,25,25)",
           "width": 1
          },
          "type": "line",
          "x0": 0.0218,
          "x1": 0.02199,
          "y0": -6.700000000000003,
          "y1": -6.700000000000003
         },
         {
          "layer": "below",
          "line": {
           "color": "rgb(25,25,25)",
           "width": 1
          },
          "type": "line",
          "x0": 0.00783,
          "x1": 0.0213,
          "y0": -4.425000000000004,
          "y1": -4.425000000000004
         },
         {
          "layer": "below",
          "line": {
           "color": "rgb(25,25,25)",
           "width": 1
          },
          "type": "line",
          "x0": 0.0213,
          "x1": 0.0213,
          "y0": -3.450000000000003,
          "y1": -5.400000000000006
         },
         {
          "layer": "below",
          "line": {
           "color": "rgb(25,25,25)",
           "width": 1
          },
          "type": "line",
          "x0": 0.0213,
          "x1": 0.02145,
          "y0": -5.400000000000006,
          "y1": -5.400000000000006
         },
         {
          "layer": "below",
          "line": {
           "color": "rgb(25,25,25)",
           "width": 1
          },
          "type": "line",
          "x0": 0.0213,
          "x1": 0.0213,
          "y0": -3.450000000000003,
          "y1": -3.450000000000003
         },
         {
          "layer": "below",
          "line": {
           "color": "rgb(25,25,25)",
           "width": 1
          },
          "type": "line",
          "x0": 0.0213,
          "x1": 0.0213,
          "y0": -2.799999999999997,
          "y1": -4.1000000000000085
         },
         {
          "layer": "below",
          "line": {
           "color": "rgb(25,25,25)",
           "width": 1
          },
          "type": "line",
          "x0": 0.0213,
          "x1": 0.02138,
          "y0": -4.1000000000000085,
          "y1": -4.1000000000000085
         },
         {
          "layer": "below",
          "line": {
           "color": "rgb(25,25,25)",
           "width": 1
          },
          "type": "line",
          "x0": 0.0213,
          "x1": 0.021509999999999998,
          "y0": -2.799999999999997,
          "y1": -2.799999999999997
         },
         {
          "layer": "below",
          "line": {
           "color": "rgb(25,25,25)",
           "width": 1
          },
          "type": "line",
          "x0": 0,
          "x1": 0.00099,
          "y0": -0.5250000000000021,
          "y1": -0.5250000000000021
         },
         {
          "layer": "below",
          "line": {
           "color": "rgb(25,25,25)",
           "width": 1
          },
          "type": "line",
          "x0": 0.00099,
          "x1": 0.00099,
          "y0": 0.44999999999999574,
          "y1": -1.5
         },
         {
          "layer": "below",
          "line": {
           "color": "rgb(25,25,25)",
           "width": 1
          },
          "type": "line",
          "x0": 0.00099,
          "x1": 0.01608,
          "y0": -1.5,
          "y1": -1.5
         },
         {
          "layer": "below",
          "line": {
           "color": "rgb(25,25,25)",
           "width": 1
          },
          "type": "line",
          "x0": 0.00099,
          "x1": 0.004200000000000001,
          "y0": 0.44999999999999574,
          "y1": 0.44999999999999574
         },
         {
          "layer": "below",
          "line": {
           "color": "rgb(25,25,25)",
           "width": 1
          },
          "type": "line",
          "x0": 0.004200000000000001,
          "x1": 0.004200000000000001,
          "y0": 1.0999999999999943,
          "y1": -0.20000000000000284
         },
         {
          "layer": "below",
          "line": {
           "color": "rgb(25,25,25)",
           "width": 1
          },
          "type": "line",
          "x0": 0.004200000000000001,
          "x1": 0.01734,
          "y0": -0.20000000000000284,
          "y1": -0.20000000000000284
         },
         {
          "layer": "below",
          "line": {
           "color": "rgb(25,25,25)",
           "width": 1
          },
          "type": "line",
          "x0": 0.004200000000000001,
          "x1": 0.020860000000000004,
          "y0": 1.0999999999999943,
          "y1": 1.0999999999999943
         },
         {
          "layer": "below",
          "line": {
           "color": "rgb(25,25,25)",
           "width": 1
          },
          "type": "line",
          "x0": 0,
          "x1": 0.00102,
          "y0": 47.59011721611023,
          "y1": 47.59011721611023
         },
         {
          "layer": "below",
          "line": {
           "color": "rgb(25,25,25)",
           "width": 1
          },
          "type": "line",
          "x0": 0.00102,
          "x1": 0.00102,
          "y0": 90.83023443222046,
          "y1": 4.349999999999998
         },
         {
          "layer": "below",
          "line": {
           "color": "rgb(25,25,25)",
           "width": 1
          },
          "type": "line",
          "x0": 0.00102,
          "x1": 0.00435,
          "y0": 4.349999999999998,
          "y1": 4.349999999999998
         },
         {
          "layer": "below",
          "line": {
           "color": "rgb(25,25,25)",
           "width": 1
          },
          "type": "line",
          "x0": 0.00435,
          "x1": 0.00435,
          "y0": 5.649999999999999,
          "y1": 3.049999999999997
         },
         {
          "layer": "below",
          "line": {
           "color": "rgb(25,25,25)",
           "width": 1
          },
          "type": "line",
          "x0": 0.00435,
          "x1": 0.01966,
          "y0": 3.049999999999997,
          "y1": 3.049999999999997
         },
         {
          "layer": "below",
          "line": {
           "color": "rgb(25,25,25)",
           "width": 1
          },
          "type": "line",
          "x0": 0.01966,
          "x1": 0.01966,
          "y0": 3.700000000000003,
          "y1": 2.3999999999999915
         },
         {
          "layer": "below",
          "line": {
           "color": "rgb(25,25,25)",
           "width": 1
          },
          "type": "line",
          "x0": 0.01966,
          "x1": 0.01989,
          "y0": 2.3999999999999915,
          "y1": 2.3999999999999915
         },
         {
          "layer": "below",
          "line": {
           "color": "rgb(25,25,25)",
           "width": 1
          },
          "type": "line",
          "x0": 0.01966,
          "x1": 0.01983,
          "y0": 3.700000000000003,
          "y1": 3.700000000000003
         },
         {
          "layer": "below",
          "line": {
           "color": "rgb(25,25,25)",
           "width": 1
          },
          "type": "line",
          "x0": 0.00435,
          "x1": 0.01845,
          "y0": 5.649999999999999,
          "y1": 5.649999999999999
         },
         {
          "layer": "below",
          "line": {
           "color": "rgb(25,25,25)",
           "width": 1
          },
          "type": "line",
          "x0": 0.01845,
          "x1": 0.01845,
          "y0": 6.299999999999997,
          "y1": 5
         },
         {
          "layer": "below",
          "line": {
           "color": "rgb(25,25,25)",
           "width": 1
          },
          "type": "line",
          "x0": 0.01845,
          "x1": 0.018750000000000003,
          "y0": 5,
          "y1": 5
         },
         {
          "layer": "below",
          "line": {
           "color": "rgb(25,25,25)",
           "width": 1
          },
          "type": "line",
          "x0": 0.01845,
          "x1": 0.018680000000000002,
          "y0": 6.299999999999997,
          "y1": 6.299999999999997
         },
         {
          "layer": "below",
          "line": {
           "color": "rgb(25,25,25)",
           "width": 1
          },
          "type": "line",
          "x0": 0.00102,
          "x1": 0.0025900000000000003,
          "y0": 90.83023443222046,
          "y1": 90.83023443222046
         },
         {
          "layer": "below",
          "line": {
           "color": "rgb(25,25,25)",
           "width": 1
          },
          "type": "line",
          "x0": 0.0025900000000000003,
          "x1": 0.0025900000000000003,
          "y0": 108.35,
          "y1": 73.31046886444092
         },
         {
          "layer": "below",
          "line": {
           "color": "rgb(25,25,25)",
           "width": 1
          },
          "type": "line",
          "x0": 0.0025900000000000003,
          "x1": 0.0047,
          "y0": 73.31046886444092,
          "y1": 73.31046886444092
         },
         {
          "layer": "below",
          "line": {
           "color": "rgb(25,25,25)",
           "width": 1
          },
          "type": "line",
          "x0": 0.0047,
          "x1": 0.0047,
          "y0": 103.3125,
          "y1": 43.308437728881835
         },
         {
          "layer": "below",
          "line": {
           "color": "rgb(25,25,25)",
           "width": 1
          },
          "type": "line",
          "x0": 0.0047,
          "x1": 0.00615,
          "y0": 43.308437728881835,
          "y1": 43.308437728881835
         },
         {
          "layer": "below",
          "line": {
           "color": "rgb(25,25,25)",
           "width": 1
          },
          "type": "line",
          "x0": 0.00615,
          "x1": 0.00615,
          "y0": 75.84812545776367,
          "y1": 10.768749999999997
         },
         {
          "layer": "below",
          "line": {
           "color": "rgb(25,25,25)",
           "width": 1
          },
          "type": "line",
          "x0": 0.00615,
          "x1": 0.010280000000000001,
          "y0": 10.768749999999997,
          "y1": 10.768749999999997
         },
         {
          "layer": "below",
          "line": {
           "color": "rgb(25,25,25)",
           "width": 1
          },
          "type": "line",
          "x0": 0.010280000000000001,
          "x1": 0.010280000000000001,
          "y0": 12.799999999999997,
          "y1": 8.737499999999995
         },
         {
          "layer": "below",
          "line": {
           "color": "rgb(25,25,25)",
           "width": 1
          },
          "type": "line",
          "x0": 0.010280000000000001,
          "x1": 0.02612,
          "y0": 8.737499999999995,
          "y1": 8.737499999999995
         },
         {
          "layer": "below",
          "line": {
           "color": "rgb(25,25,25)",
           "width": 1
          },
          "type": "line",
          "x0": 0.02612,
          "x1": 0.02612,
          "y0": 9.874999999999996,
          "y1": 7.599999999999994
         },
         {
          "layer": "below",
          "line": {
           "color": "rgb(25,25,25)",
           "width": 1
          },
          "type": "line",
          "x0": 0.02612,
          "x1": 0.02631,
          "y0": 7.599999999999994,
          "y1": 7.599999999999994
         },
         {
          "layer": "below",
          "line": {
           "color": "rgb(25,25,25)",
           "width": 1
          },
          "type": "line",
          "x0": 0.02612,
          "x1": 0.02612,
          "y0": 9.874999999999996,
          "y1": 9.874999999999996
         },
         {
          "layer": "below",
          "line": {
           "color": "rgb(25,25,25)",
           "width": 1
          },
          "type": "line",
          "x0": 0.02612,
          "x1": 0.02612,
          "y0": 10.850000000000001,
          "y1": 8.899999999999991
         },
         {
          "layer": "below",
          "line": {
           "color": "rgb(25,25,25)",
           "width": 1
          },
          "type": "line",
          "x0": 0.02612,
          "x1": 0.026180000000000002,
          "y0": 8.899999999999991,
          "y1": 8.899999999999991
         },
         {
          "layer": "below",
          "line": {
           "color": "rgb(25,25,25)",
           "width": 1
          },
          "type": "line",
          "x0": 0.02612,
          "x1": 0.02612,
          "y0": 10.850000000000001,
          "y1": 10.850000000000001
         },
         {
          "layer": "below",
          "line": {
           "color": "rgb(25,25,25)",
           "width": 1
          },
          "type": "line",
          "x0": 0.02612,
          "x1": 0.02612,
          "y0": 11.5,
          "y1": 10.200000000000003
         },
         {
          "layer": "below",
          "line": {
           "color": "rgb(25,25,25)",
           "width": 1
          },
          "type": "line",
          "x0": 0.02612,
          "x1": 0.02657,
          "y0": 10.200000000000003,
          "y1": 10.200000000000003
         },
         {
          "layer": "below",
          "line": {
           "color": "rgb(25,25,25)",
           "width": 1
          },
          "type": "line",
          "x0": 0.02612,
          "x1": 0.02646,
          "y0": 11.5,
          "y1": 11.5
         },
         {
          "layer": "below",
          "line": {
           "color": "rgb(25,25,25)",
           "width": 1
          },
          "type": "line",
          "x0": 0.010280000000000001,
          "x1": 0.02798,
          "y0": 12.799999999999997,
          "y1": 12.799999999999997
         },
         {
          "layer": "below",
          "line": {
           "color": "rgb(25,25,25)",
           "width": 1
          },
          "type": "line",
          "x0": 0.00615,
          "x1": 0.00893,
          "y0": 75.84812545776367,
          "y1": 75.84812545776367
         },
         {
          "layer": "below",
          "line": {
           "color": "rgb(25,25,25)",
           "width": 1
          },
          "type": "line",
          "x0": 0.00893,
          "x1": 0.00893,
          "y0": 96.8125,
          "y1": 54.883750915527344
         },
         {
          "layer": "below",
          "line": {
           "color": "rgb(25,25,25)",
           "width": 1
          },
          "type": "line",
          "x0": 0.00893,
          "x1": 0.012920000000000001,
          "y0": 54.883750915527344,
          "y1": 54.883750915527344
         },
         {
          "layer": "below",
          "line": {
           "color": "rgb(25,25,25)",
           "width": 1
          },
          "type": "line",
          "x0": 0.012920000000000001,
          "x1": 0.012920000000000001,
          "y0": 90.3125,
          "y1": 19.455001831054684
         },
         {
          "layer": "below",
          "line": {
           "color": "rgb(25,25,25)",
           "width": 1
          },
          "type": "line",
          "x0": 0.012920000000000001,
          "x1": 0.04852,
          "y0": 19.455001831054684,
          "y1": 19.455001831054684
         },
         {
          "layer": "below",
          "line": {
           "color": "rgb(25,25,25)",
           "width": 1
          },
          "type": "line",
          "x0": 0.04852,
          "x1": 0.04852,
          "y0": 24.810003662109374,
          "y1": 14.099999999999994
         },
         {
          "layer": "below",
          "line": {
           "color": "rgb(25,25,25)",
           "width": 1
          },
          "type": "line",
          "x0": 0.04852,
          "x1": 0.0963,
          "y0": 14.099999999999994,
          "y1": 14.099999999999994
         },
         {
          "layer": "below",
          "line": {
           "color": "rgb(25,25,25)",
           "width": 1
          },
          "type": "line",
          "x0": 0.04852,
          "x1": 0.05943,
          "y0": 24.810003662109374,
          "y1": 24.810003662109374
         },
         {
          "layer": "below",
          "line": {
           "color": "rgb(25,25,25)",
           "width": 1
          },
          "type": "line",
          "x0": 0.05943,
          "x1": 0.05943,
          "y0": 33.57000732421875,
          "y1": 16.049999999999997
         },
         {
          "layer": "below",
          "line": {
           "color": "rgb(25,25,25)",
           "width": 1
          },
          "type": "line",
          "x0": 0.05943,
          "x1": 0.14888,
          "y0": 16.049999999999997,
          "y1": 16.049999999999997
         },
         {
          "layer": "below",
          "line": {
           "color": "rgb(25,25,25)",
           "width": 1
          },
          "type": "line",
          "x0": 0.14888,
          "x1": 0.14888,
          "y0": 16.700000000000003,
          "y1": 15.399999999999991
         },
         {
          "layer": "below",
          "line": {
           "color": "rgb(25,25,25)",
           "width": 1
          },
          "type": "line",
          "x0": 0.14888,
          "x1": 0.14903000000000002,
          "y0": 15.399999999999991,
          "y1": 15.399999999999991
         },
         {
          "layer": "below",
          "line": {
           "color": "rgb(25,25,25)",
           "width": 1
          },
          "type": "line",
          "x0": 0.14888,
          "x1": 0.14897000000000002,
          "y0": 16.700000000000003,
          "y1": 16.700000000000003
         },
         {
          "layer": "below",
          "line": {
           "color": "rgb(25,25,25)",
           "width": 1
          },
          "type": "line",
          "x0": 0.05943,
          "x1": 0.07209,
          "y0": 33.57000732421875,
          "y1": 33.57000732421875
         },
         {
          "layer": "below",
          "line": {
           "color": "rgb(25,25,25)",
           "width": 1
          },
          "type": "line",
          "x0": 0.07209,
          "x1": 0.07209,
          "y0": 49.1400146484375,
          "y1": 18
         },
         {
          "layer": "below",
          "line": {
           "color": "rgb(25,25,25)",
           "width": 1
          },
          "type": "line",
          "x0": 0.07209,
          "x1": 0.13332,
          "y0": 18,
          "y1": 18
         },
         {
          "layer": "below",
          "line": {
           "color": "rgb(25,25,25)",
           "width": 1
          },
          "type": "line",
          "x0": 0.07209,
          "x1": 0.13035,
          "y0": 49.1400146484375,
          "y1": 49.1400146484375
         },
         {
          "layer": "below",
          "line": {
           "color": "rgb(25,25,25)",
           "width": 1
          },
          "type": "line",
          "x0": 0.13035,
          "x1": 0.13035,
          "y0": 66.08984375,
          "y1": 32.190185546875
         },
         {
          "layer": "below",
          "line": {
           "color": "rgb(25,25,25)",
           "width": 1
          },
          "type": "line",
          "x0": 0.13035,
          "x1": 0.20862999999999998,
          "y0": 32.190185546875,
          "y1": 32.190185546875
         },
         {
          "layer": "below",
          "line": {
           "color": "rgb(25,25,25)",
           "width": 1
          },
          "type": "line",
          "x0": 0.20862999999999998,
          "x1": 0.20862999999999998,
          "y0": 45.080371093749996,
          "y1": 19.299999999999997
         },
         {
          "layer": "below",
          "line": {
           "color": "rgb(25,25,25)",
           "width": 1
          },
          "type": "line",
          "x0": 0.20862999999999998,
          "x1": 0.22905999999999999,
          "y0": 19.299999999999997,
          "y1": 19.299999999999997
         },
         {
          "layer": "below",
          "line": {
           "color": "rgb(25,25,25)",
           "width": 1
          },
          "type": "line",
          "x0": 0.20862999999999998,
          "x1": 0.21427999999999997,
          "y0": 45.080371093749996,
          "y1": 45.080371093749996
         },
         {
          "layer": "below",
          "line": {
           "color": "rgb(25,25,25)",
           "width": 1
          },
          "type": "line",
          "x0": 0.21427999999999997,
          "x1": 0.21427999999999997,
          "y0": 56.675,
          "y1": 33.485742187499994
         },
         {
          "layer": "below",
          "line": {
           "color": "rgb(25,25,25)",
           "width": 1
          },
          "type": "line",
          "x0": 0.21427999999999997,
          "x1": 0.23450999999999997,
          "y0": 33.485742187499994,
          "y1": 33.485742187499994
         },
         {
          "layer": "below",
          "line": {
           "color": "rgb(25,25,25)",
           "width": 1
          },
          "type": "line",
          "x0": 0.23450999999999997,
          "x1": 0.23450999999999997,
          "y0": 45.721484375,
          "y1": 21.249999999999993
         },
         {
          "layer": "below",
          "line": {
           "color": "rgb(25,25,25)",
           "width": 1
          },
          "type": "line",
          "x0": 0.23450999999999997,
          "x1": 0.23458999999999997,
          "y0": 21.249999999999993,
          "y1": 21.249999999999993
         },
         {
          "layer": "below",
          "line": {
           "color": "rgb(25,25,25)",
           "width": 1
          },
          "type": "line",
          "x0": 0.23458999999999997,
          "x1": 0.23458999999999997,
          "y0": 21.89999999999999,
          "y1": 20.599999999999994
         },
         {
          "layer": "below",
          "line": {
           "color": "rgb(25,25,25)",
           "width": 1
          },
          "type": "line",
          "x0": 0.23458999999999997,
          "x1": 0.23532999999999996,
          "y0": 20.599999999999994,
          "y1": 20.599999999999994
         },
         {
          "layer": "below",
          "line": {
           "color": "rgb(25,25,25)",
           "width": 1
          },
          "type": "line",
          "x0": 0.23458999999999997,
          "x1": 0.23500999999999997,
          "y0": 21.89999999999999,
          "y1": 21.89999999999999
         },
         {
          "layer": "below",
          "line": {
           "color": "rgb(25,25,25)",
           "width": 1
          },
          "type": "line",
          "x0": 0.23450999999999997,
          "x1": 0.23451999999999998,
          "y0": 45.721484375,
          "y1": 45.721484375
         },
         {
          "layer": "below",
          "line": {
           "color": "rgb(25,25,25)",
           "width": 1
          },
          "type": "line",
          "x0": 0.23451999999999998,
          "x1": 0.23451999999999998,
          "y0": 54.4,
          "y1": 37.04296875
         },
         {
          "layer": "below",
          "line": {
           "color": "rgb(25,25,25)",
           "width": 1
          },
          "type": "line",
          "x0": 0.23451999999999998,
          "x1": 0.23451999999999998,
          "y0": 37.04296875,
          "y1": 37.04296875
         },
         {
          "layer": "below",
          "line": {
           "color": "rgb(25,25,25)",
           "width": 1
          },
          "type": "line",
          "x0": 0.23451999999999998,
          "x1": 0.23451999999999998,
          "y0": 45.1578125,
          "y1": 28.928124999999998
         },
         {
          "layer": "below",
          "line": {
           "color": "rgb(25,25,25)",
           "width": 1
          },
          "type": "line",
          "x0": 0.23451999999999998,
          "x1": 0.23451999999999998,
          "y0": 28.928124999999998,
          "y1": 28.928124999999998
         },
         {
          "layer": "below",
          "line": {
           "color": "rgb(25,25,25)",
           "width": 1
          },
          "type": "line",
          "x0": 0.23451999999999998,
          "x1": 0.23451999999999998,
          "y0": 32.4625,
          "y1": 25.393749999999997
         },
         {
          "layer": "below",
          "line": {
           "color": "rgb(25,25,25)",
           "width": 1
          },
          "type": "line",
          "x0": 0.23451999999999998,
          "x1": 0.23468999999999998,
          "y0": 25.393749999999997,
          "y1": 25.393749999999997
         },
         {
          "layer": "below",
          "line": {
           "color": "rgb(25,25,25)",
           "width": 1
          },
          "type": "line",
          "x0": 0.23468999999999998,
          "x1": 0.23468999999999998,
          "y0": 26.937499999999996,
          "y1": 23.85
         },
         {
          "layer": "below",
          "line": {
           "color": "rgb(25,25,25)",
           "width": 1
          },
          "type": "line",
          "x0": 0.23468999999999998,
          "x1": 0.23489999999999997,
          "y0": 23.85,
          "y1": 23.85
         },
         {
          "layer": "below",
          "line": {
           "color": "rgb(25,25,25)",
           "width": 1
          },
          "type": "line",
          "x0": 0.23489999999999997,
          "x1": 0.23489999999999997,
          "y0": 24.5,
          "y1": 23.200000000000003
         },
         {
          "layer": "below",
          "line": {
           "color": "rgb(25,25,25)",
           "width": 1
          },
          "type": "line",
          "x0": 0.23489999999999997,
          "x1": 0.23525999999999997,
          "y0": 23.200000000000003,
          "y1": 23.200000000000003
         },
         {
          "layer": "below",
          "line": {
           "color": "rgb(25,25,25)",
           "width": 1
          },
          "type": "line",
          "x0": 0.23489999999999997,
          "x1": 0.23601999999999998,
          "y0": 24.5,
          "y1": 24.5
         },
         {
          "layer": "below",
          "line": {
           "color": "rgb(25,25,25)",
           "width": 1
          },
          "type": "line",
          "x0": 0.23468999999999998,
          "x1": 0.23485999999999999,
          "y0": 26.937499999999996,
          "y1": 26.937499999999996
         },
         {
          "layer": "below",
          "line": {
           "color": "rgb(25,25,25)",
           "width": 1
          },
          "type": "line",
          "x0": 0.23485999999999999,
          "x1": 0.23485999999999999,
          "y0": 28.074999999999996,
          "y1": 25.799999999999997
         },
         {
          "layer": "below",
          "line": {
           "color": "rgb(25,25,25)",
           "width": 1
          },
          "type": "line",
          "x0": 0.23485999999999999,
          "x1": 0.23521999999999998,
          "y0": 25.799999999999997,
          "y1": 25.799999999999997
         },
         {
          "layer": "below",
          "line": {
           "color": "rgb(25,25,25)",
           "width": 1
          },
          "type": "line",
          "x0": 0.23485999999999999,
          "x1": 0.23493999999999998,
          "y0": 28.074999999999996,
          "y1": 28.074999999999996
         },
         {
          "layer": "below",
          "line": {
           "color": "rgb(25,25,25)",
           "width": 1
          },
          "type": "line",
          "x0": 0.23493999999999998,
          "x1": 0.23493999999999998,
          "y0": 29.049999999999997,
          "y1": 27.099999999999994
         },
         {
          "layer": "below",
          "line": {
           "color": "rgb(25,25,25)",
           "width": 1
          },
          "type": "line",
          "x0": 0.23493999999999998,
          "x1": 0.23542999999999997,
          "y0": 27.099999999999994,
          "y1": 27.099999999999994
         },
         {
          "layer": "below",
          "line": {
           "color": "rgb(25,25,25)",
           "width": 1
          },
          "type": "line",
          "x0": 0.23493999999999998,
          "x1": 0.23512999999999998,
          "y0": 29.049999999999997,
          "y1": 29.049999999999997
         },
         {
          "layer": "below",
          "line": {
           "color": "rgb(25,25,25)",
           "width": 1
          },
          "type": "line",
          "x0": 0.23512999999999998,
          "x1": 0.23512999999999998,
          "y0": 29.700000000000003,
          "y1": 28.39999999999999
         },
         {
          "layer": "below",
          "line": {
           "color": "rgb(25,25,25)",
           "width": 1
          },
          "type": "line",
          "x0": 0.23512999999999998,
          "x1": 0.23533999999999997,
          "y0": 28.39999999999999,
          "y1": 28.39999999999999
         },
         {
          "layer": "below",
          "line": {
           "color": "rgb(25,25,25)",
           "width": 1
          },
          "type": "line",
          "x0": 0.23512999999999998,
          "x1": 0.23534999999999998,
          "y0": 29.700000000000003,
          "y1": 29.700000000000003
         },
         {
          "layer": "below",
          "line": {
           "color": "rgb(25,25,25)",
           "width": 1
          },
          "type": "line",
          "x0": 0.23451999999999998,
          "x1": 0.23473999999999998,
          "y0": 32.4625,
          "y1": 32.4625
         },
         {
          "layer": "below",
          "line": {
           "color": "rgb(25,25,25)",
           "width": 1
          },
          "type": "line",
          "x0": 0.23473999999999998,
          "x1": 0.23473999999999998,
          "y0": 33.925,
          "y1": 31
         },
         {
          "layer": "below",
          "line": {
           "color": "rgb(25,25,25)",
           "width": 1
          },
          "type": "line",
          "x0": 0.23473999999999998,
          "x1": 0.23489999999999997,
          "y0": 31,
          "y1": 31
         },
         {
          "layer": "below",
          "line": {
           "color": "rgb(25,25,25)",
           "width": 1
          },
          "type": "line",
          "x0": 0.23473999999999998,
          "x1": 0.23481999999999997,
          "y0": 33.925,
          "y1": 33.925
         },
         {
          "layer": "below",
          "line": {
           "color": "rgb(25,25,25)",
           "width": 1
          },
          "type": "line",
          "x0": 0.23481999999999997,
          "x1": 0.23481999999999997,
          "y0": 35.55,
          "y1": 32.3
         },
         {
          "layer": "below",
          "line": {
           "color": "rgb(25,25,25)",
           "width": 1
          },
          "type": "line",
          "x0": 0.23481999999999997,
          "x1": 0.23485999999999999,
          "y0": 32.3,
          "y1": 32.3
         },
         {
          "layer": "below",
          "line": {
           "color": "rgb(25,25,25)",
           "width": 1
          },
          "type": "line",
          "x0": 0.23481999999999997,
          "x1": 0.23481999999999997,
          "y0": 35.55,
          "y1": 35.55
         },
         {
          "layer": "below",
          "line": {
           "color": "rgb(25,25,25)",
           "width": 1
          },
          "type": "line",
          "x0": 0.23481999999999997,
          "x1": 0.23481999999999997,
          "y0": 36.85,
          "y1": 34.24999999999999
         },
         {
          "layer": "below",
          "line": {
           "color": "rgb(25,25,25)",
           "width": 1
          },
          "type": "line",
          "x0": 0.23481999999999997,
          "x1": 0.23486999999999997,
          "y0": 34.24999999999999,
          "y1": 34.24999999999999
         },
         {
          "layer": "below",
          "line": {
           "color": "rgb(25,25,25)",
           "width": 1
          },
          "type": "line",
          "x0": 0.23486999999999997,
          "x1": 0.23486999999999997,
          "y0": 34.89999999999999,
          "y1": 33.599999999999994
         },
         {
          "layer": "below",
          "line": {
           "color": "rgb(25,25,25)",
           "width": 1
          },
          "type": "line",
          "x0": 0.23486999999999997,
          "x1": 0.23531999999999997,
          "y0": 33.599999999999994,
          "y1": 33.599999999999994
         },
         {
          "layer": "below",
          "line": {
           "color": "rgb(25,25,25)",
           "width": 1
          },
          "type": "line",
          "x0": 0.23486999999999997,
          "x1": 0.23509999999999998,
          "y0": 34.89999999999999,
          "y1": 34.89999999999999
         },
         {
          "layer": "below",
          "line": {
           "color": "rgb(25,25,25)",
           "width": 1
          },
          "type": "line",
          "x0": 0.23481999999999997,
          "x1": 0.23485999999999999,
          "y0": 36.85,
          "y1": 36.85
         },
         {
          "layer": "below",
          "line": {
           "color": "rgb(25,25,25)",
           "width": 1
          },
          "type": "line",
          "x0": 0.23485999999999999,
          "x1": 0.23485999999999999,
          "y0": 37.5,
          "y1": 36.2
         },
         {
          "layer": "below",
          "line": {
           "color": "rgb(25,25,25)",
           "width": 1
          },
          "type": "line",
          "x0": 0.23485999999999999,
          "x1": 0.23509999999999998,
          "y0": 36.2,
          "y1": 36.2
         },
         {
          "layer": "below",
          "line": {
           "color": "rgb(25,25,25)",
           "width": 1
          },
          "type": "line",
          "x0": 0.23485999999999999,
          "x1": 0.23498,
          "y0": 37.5,
          "y1": 37.5
         },
         {
          "layer": "below",
          "line": {
           "color": "rgb(25,25,25)",
           "width": 1
          },
          "type": "line",
          "x0": 0.23451999999999998,
          "x1": 0.23464999999999997,
          "y0": 45.1578125,
          "y1": 45.1578125
         },
         {
          "layer": "below",
          "line": {
           "color": "rgb(25,25,25)",
           "width": 1
          },
          "type": "line",
          "x0": 0.23464999999999997,
          "x1": 0.23464999999999997,
          "y0": 49.11875,
          "y1": 41.196875
         },
         {
          "layer": "below",
          "line": {
           "color": "rgb(25,25,25)",
           "width": 1
          },
          "type": "line",
          "x0": 0.23464999999999997,
          "x1": 0.23475999999999997,
          "y0": 41.196875,
          "y1": 41.196875
         },
         {
          "layer": "below",
          "line": {
           "color": "rgb(25,25,25)",
           "width": 1
          },
          "type": "line",
          "x0": 0.23475999999999997,
          "x1": 0.23475999999999997,
          "y0": 43.59375,
          "y1": 38.8
         },
         {
          "layer": "below",
          "line": {
           "color": "rgb(25,25,25)",
           "width": 1
          },
          "type": "line",
          "x0": 0.23475999999999997,
          "x1": 0.23524999999999996,
          "y0": 38.8,
          "y1": 38.8
         },
         {
          "layer": "below",
          "line": {
           "color": "rgb(25,25,25)",
           "width": 1
          },
          "type": "line",
          "x0": 0.23475999999999997,
          "x1": 0.23480999999999996,
          "y0": 43.59375,
          "y1": 43.59375
         },
         {
          "layer": "below",
          "line": {
           "color": "rgb(25,25,25)",
           "width": 1
          },
          "type": "line",
          "x0": 0.23480999999999996,
          "x1": 0.23480999999999996,
          "y0": 45.949999999999996,
          "y1": 41.2375
         },
         {
          "layer": "below",
          "line": {
           "color": "rgb(25,25,25)",
           "width": 1
          },
          "type": "line",
          "x0": 0.23480999999999996,
          "x1": 0.23486999999999997,
          "y0": 41.2375,
          "y1": 41.2375
         },
         {
          "layer": "below",
          "line": {
           "color": "rgb(25,25,25)",
           "width": 1
          },
          "type": "line",
          "x0": 0.23486999999999997,
          "x1": 0.23486999999999997,
          "y0": 42.375,
          "y1": 40.099999999999994
         },
         {
          "layer": "below",
          "line": {
           "color": "rgb(25,25,25)",
           "width": 1
          },
          "type": "line",
          "x0": 0.23486999999999997,
          "x1": 0.23505999999999996,
          "y0": 40.099999999999994,
          "y1": 40.099999999999994
         },
         {
          "layer": "below",
          "line": {
           "color": "rgb(25,25,25)",
           "width": 1
          },
          "type": "line",
          "x0": 0.23486999999999997,
          "x1": 0.23490999999999998,
          "y0": 42.375,
          "y1": 42.375
         },
         {
          "layer": "below",
          "line": {
           "color": "rgb(25,25,25)",
           "width": 1
          },
          "type": "line",
          "x0": 0.23490999999999998,
          "x1": 0.23490999999999998,
          "y0": 43.35,
          "y1": 41.39999999999999
         },
         {
          "layer": "below",
          "line": {
           "color": "rgb(25,25,25)",
           "width": 1
          },
          "type": "line",
          "x0": 0.23490999999999998,
          "x1": 0.23496999999999998,
          "y0": 41.39999999999999,
          "y1": 41.39999999999999
         },
         {
          "layer": "below",
          "line": {
           "color": "rgb(25,25,25)",
           "width": 1
          },
          "type": "line",
          "x0": 0.23490999999999998,
          "x1": 0.23495,
          "y0": 43.35,
          "y1": 43.35
         },
         {
          "layer": "below",
          "line": {
           "color": "rgb(25,25,25)",
           "width": 1
          },
          "type": "line",
          "x0": 0.23495,
          "x1": 0.23495,
          "y0": 44,
          "y1": 42.7
         },
         {
          "layer": "below",
          "line": {
           "color": "rgb(25,25,25)",
           "width": 1
          },
          "type": "line",
          "x0": 0.23495,
          "x1": 0.23565,
          "y0": 42.7,
          "y1": 42.7
         },
         {
          "layer": "below",
          "line": {
           "color": "rgb(25,25,25)",
           "width": 1
          },
          "type": "line",
          "x0": 0.23495,
          "x1": 0.23514,
          "y0": 44,
          "y1": 44
         },
         {
          "layer": "below",
          "line": {
           "color": "rgb(25,25,25)",
           "width": 1
          },
          "type": "line",
          "x0": 0.23480999999999996,
          "x1": 0.23488999999999996,
          "y0": 45.949999999999996,
          "y1": 45.949999999999996
         },
         {
          "layer": "below",
          "line": {
           "color": "rgb(25,25,25)",
           "width": 1
          },
          "type": "line",
          "x0": 0.23488999999999996,
          "x1": 0.23488999999999996,
          "y0": 46.599999999999994,
          "y1": 45.3
         },
         {
          "layer": "below",
          "line": {
           "color": "rgb(25,25,25)",
           "width": 1
          },
          "type": "line",
          "x0": 0.23488999999999996,
          "x1": 0.23519999999999996,
          "y0": 45.3,
          "y1": 45.3
         },
         {
          "layer": "below",
          "line": {
           "color": "rgb(25,25,25)",
           "width": 1
          },
          "type": "line",
          "x0": 0.23488999999999996,
          "x1": 0.23502999999999996,
          "y0": 46.599999999999994,
          "y1": 46.599999999999994
         },
         {
          "layer": "below",
          "line": {
           "color": "rgb(25,25,25)",
           "width": 1
          },
          "type": "line",
          "x0": 0.23464999999999997,
          "x1": 0.23468999999999998,
          "y0": 49.11875,
          "y1": 49.11875
         },
         {
          "layer": "below",
          "line": {
           "color": "rgb(25,25,25)",
           "width": 1
          },
          "type": "line",
          "x0": 0.23468999999999998,
          "x1": 0.23468999999999998,
          "y0": 50.3375,
          "y1": 47.9
         },
         {
          "layer": "below",
          "line": {
           "color": "rgb(25,25,25)",
           "width": 1
          },
          "type": "line",
          "x0": 0.23468999999999998,
          "x1": 0.23515999999999998,
          "y0": 47.9,
          "y1": 47.9
         },
         {
          "layer": "below",
          "line": {
           "color": "rgb(25,25,25)",
           "width": 1
          },
          "type": "line",
          "x0": 0.23468999999999998,
          "x1": 0.23484,
          "y0": 50.3375,
          "y1": 50.3375
         },
         {
          "layer": "below",
          "line": {
           "color": "rgb(25,25,25)",
           "width": 1
          },
          "type": "line",
          "x0": 0.23484,
          "x1": 0.23484,
          "y0": 51.475,
          "y1": 49.199999999999996
         },
         {
          "layer": "below",
          "line": {
           "color": "rgb(25,25,25)",
           "width": 1
          },
          "type": "line",
          "x0": 0.23484,
          "x1": 0.23618,
          "y0": 49.199999999999996,
          "y1": 49.199999999999996
         },
         {
          "layer": "below",
          "line": {
           "color": "rgb(25,25,25)",
           "width": 1
          },
          "type": "line",
          "x0": 0.23484,
          "x1": 0.23496,
          "y0": 51.475,
          "y1": 51.475
         },
         {
          "layer": "below",
          "line": {
           "color": "rgb(25,25,25)",
           "width": 1
          },
          "type": "line",
          "x0": 0.23496,
          "x1": 0.23496,
          "y0": 52.45,
          "y1": 50.5
         },
         {
          "layer": "below",
          "line": {
           "color": "rgb(25,25,25)",
           "width": 1
          },
          "type": "line",
          "x0": 0.23496,
          "x1": 0.23518,
          "y0": 50.5,
          "y1": 50.5
         },
         {
          "layer": "below",
          "line": {
           "color": "rgb(25,25,25)",
           "width": 1
          },
          "type": "line",
          "x0": 0.23496,
          "x1": 0.23507,
          "y0": 52.45,
          "y1": 52.45
         },
         {
          "layer": "below",
          "line": {
           "color": "rgb(25,25,25)",
           "width": 1
          },
          "type": "line",
          "x0": 0.23507,
          "x1": 0.23507,
          "y0": 53.1,
          "y1": 51.8
         },
         {
          "layer": "below",
          "line": {
           "color": "rgb(25,25,25)",
           "width": 1
          },
          "type": "line",
          "x0": 0.23507,
          "x1": 0.23552,
          "y0": 51.8,
          "y1": 51.8
         },
         {
          "layer": "below",
          "line": {
           "color": "rgb(25,25,25)",
           "width": 1
          },
          "type": "line",
          "x0": 0.23507,
          "x1": 0.23578,
          "y0": 53.1,
          "y1": 53.1
         },
         {
          "layer": "below",
          "line": {
           "color": "rgb(25,25,25)",
           "width": 1
          },
          "type": "line",
          "x0": 0.23451999999999998,
          "x1": 0.23483999999999997,
          "y0": 54.4,
          "y1": 54.4
         },
         {
          "layer": "below",
          "line": {
           "color": "rgb(25,25,25)",
           "width": 1
          },
          "type": "line",
          "x0": 0.21427999999999997,
          "x1": 0.21940999999999997,
          "y0": 56.675,
          "y1": 56.675
         },
         {
          "layer": "below",
          "line": {
           "color": "rgb(25,25,25)",
           "width": 1
          },
          "type": "line",
          "x0": 0.21940999999999997,
          "x1": 0.21940999999999997,
          "y0": 57.65,
          "y1": 55.699999999999996
         },
         {
          "layer": "below",
          "line": {
           "color": "rgb(25,25,25)",
           "width": 1
          },
          "type": "line",
          "x0": 0.21940999999999997,
          "x1": 0.23731999999999998,
          "y0": 55.699999999999996,
          "y1": 55.699999999999996
         },
         {
          "layer": "below",
          "line": {
           "color": "rgb(25,25,25)",
           "width": 1
          },
          "type": "line",
          "x0": 0.21940999999999997,
          "x1": 0.22299999999999998,
          "y0": 57.65,
          "y1": 57.65
         },
         {
          "layer": "below",
          "line": {
           "color": "rgb(25,25,25)",
           "width": 1
          },
          "type": "line",
          "x0": 0.22299999999999998,
          "x1": 0.22299999999999998,
          "y0": 58.3,
          "y1": 57
         },
         {
          "layer": "below",
          "line": {
           "color": "rgb(25,25,25)",
           "width": 1
          },
          "type": "line",
          "x0": 0.22299999999999998,
          "x1": 0.24046999999999996,
          "y0": 57,
          "y1": 57
         },
         {
          "layer": "below",
          "line": {
           "color": "rgb(25,25,25)",
           "width": 1
          },
          "type": "line",
          "x0": 0.22299999999999998,
          "x1": 0.24027999999999997,
          "y0": 58.3,
          "y1": 58.3
         },
         {
          "layer": "below",
          "line": {
           "color": "rgb(25,25,25)",
           "width": 1
          },
          "type": "line",
          "x0": 0.13035,
          "x1": 0.15209999999999999,
          "y0": 66.08984375,
          "y1": 66.08984375
         },
         {
          "layer": "below",
          "line": {
           "color": "rgb(25,25,25)",
           "width": 1
          },
          "type": "line",
          "x0": 0.15209999999999999,
          "x1": 0.15209999999999999,
          "y0": 71.60468750000001,
          "y1": 60.575
         },
         {
          "layer": "below",
          "line": {
           "color": "rgb(25,25,25)",
           "width": 1
          },
          "type": "line",
          "x0": 0.15209999999999999,
          "x1": 0.7839,
          "y0": 60.575,
          "y1": 60.575
         },
         {
          "layer": "below",
          "line": {
           "color": "rgb(25,25,25)",
           "width": 1
          },
          "type": "line",
          "x0": 0.7839,
          "x1": 0.7839,
          "y0": 61.55,
          "y1": 59.6
         },
         {
          "layer": "below",
          "line": {
           "color": "rgb(25,25,25)",
           "width": 1
          },
          "type": "line",
          "x0": 0.7839,
          "x1": 0.91827,
          "y0": 59.6,
          "y1": 59.6
         },
         {
          "layer": "below",
          "line": {
           "color": "rgb(25,25,25)",
           "width": 1
          },
          "type": "line",
          "x0": 0.7839,
          "x1": 0.84233,
          "y0": 61.55,
          "y1": 61.55
         },
         {
          "layer": "below",
          "line": {
           "color": "rgb(25,25,25)",
           "width": 1
          },
          "type": "line",
          "x0": 0.84233,
          "x1": 0.84233,
          "y0": 62.199999999999996,
          "y1": 60.9
         },
         {
          "layer": "below",
          "line": {
           "color": "rgb(25,25,25)",
           "width": 1
          },
          "type": "line",
          "x0": 0.84233,
          "x1": 0.91834,
          "y0": 60.9,
          "y1": 60.9
         },
         {
          "layer": "below",
          "line": {
           "color": "rgb(25,25,25)",
           "width": 1
          },
          "type": "line",
          "x0": 0.84233,
          "x1": 0.92294,
          "y0": 62.199999999999996,
          "y1": 62.199999999999996
         },
         {
          "layer": "below",
          "line": {
           "color": "rgb(25,25,25)",
           "width": 1
          },
          "type": "line",
          "x0": 0.15209999999999999,
          "x1": 0.18558,
          "y0": 71.60468750000001,
          "y1": 71.60468750000001
         },
         {
          "layer": "below",
          "line": {
           "color": "rgb(25,25,25)",
           "width": 1
          },
          "type": "line",
          "x0": 0.18558,
          "x1": 0.18558,
          "y0": 77.59687500000001,
          "y1": 65.6125
         },
         {
          "layer": "below",
          "line": {
           "color": "rgb(25,25,25)",
           "width": 1
          },
          "type": "line",
          "x0": 0.18558,
          "x1": 0.241,
          "y0": 65.6125,
          "y1": 65.6125
         },
         {
          "layer": "below",
          "line": {
           "color": "rgb(25,25,25)",
           "width": 1
          },
          "type": "line",
          "x0": 0.241,
          "x1": 0.241,
          "y0": 67.07499999999999,
          "y1": 64.15
         },
         {
          "layer": "below",
          "line": {
           "color": "rgb(25,25,25)",
           "width": 1
          },
          "type": "line",
          "x0": 0.241,
          "x1": 0.24104,
          "y0": 64.15,
          "y1": 64.15
         },
         {
          "layer": "below",
          "line": {
           "color": "rgb(25,25,25)",
           "width": 1
          },
          "type": "line",
          "x0": 0.24104,
          "x1": 0.24104,
          "y0": 64.8,
          "y1": 63.5
         },
         {
          "layer": "below",
          "line": {
           "color": "rgb(25,25,25)",
           "width": 1
          },
          "type": "line",
          "x0": 0.24104,
          "x1": 0.24119000000000002,
          "y0": 63.5,
          "y1": 63.5
         },
         {
          "layer": "below",
          "line": {
           "color": "rgb(25,25,25)",
           "width": 1
          },
          "type": "line",
          "x0": 0.24104,
          "x1": 0.2411,
          "y0": 64.8,
          "y1": 64.8
         },
         {
          "layer": "below",
          "line": {
           "color": "rgb(25,25,25)",
           "width": 1
          },
          "type": "line",
          "x0": 0.241,
          "x1": 0.241,
          "y0": 67.07499999999999,
          "y1": 67.07499999999999
         },
         {
          "layer": "below",
          "line": {
           "color": "rgb(25,25,25)",
           "width": 1
          },
          "type": "line",
          "x0": 0.241,
          "x1": 0.241,
          "y0": 68.05,
          "y1": 66.1
         },
         {
          "layer": "below",
          "line": {
           "color": "rgb(25,25,25)",
           "width": 1
          },
          "type": "line",
          "x0": 0.241,
          "x1": 0.24115,
          "y0": 66.1,
          "y1": 66.1
         },
         {
          "layer": "below",
          "line": {
           "color": "rgb(25,25,25)",
           "width": 1
          },
          "type": "line",
          "x0": 0.241,
          "x1": 0.24104,
          "y0": 68.05,
          "y1": 68.05
         },
         {
          "layer": "below",
          "line": {
           "color": "rgb(25,25,25)",
           "width": 1
          },
          "type": "line",
          "x0": 0.24104,
          "x1": 0.24104,
          "y0": 68.69999999999999,
          "y1": 67.4
         },
         {
          "layer": "below",
          "line": {
           "color": "rgb(25,25,25)",
           "width": 1
          },
          "type": "line",
          "x0": 0.24104,
          "x1": 0.24129,
          "y0": 67.4,
          "y1": 67.4
         },
         {
          "layer": "below",
          "line": {
           "color": "rgb(25,25,25)",
           "width": 1
          },
          "type": "line",
          "x0": 0.24104,
          "x1": 0.24144000000000002,
          "y0": 68.69999999999999,
          "y1": 68.69999999999999
         },
         {
          "layer": "below",
          "line": {
           "color": "rgb(25,25,25)",
           "width": 1
          },
          "type": "line",
          "x0": 0.18558,
          "x1": 0.23898,
          "y0": 77.59687500000001,
          "y1": 77.59687500000001
         },
         {
          "layer": "below",
          "line": {
           "color": "rgb(25,25,25)",
           "width": 1
          },
          "type": "line",
          "x0": 0.23898,
          "x1": 0.23898,
          "y0": 83.24375,
          "y1": 71.95
         },
         {
          "layer": "below",
          "line": {
           "color": "rgb(25,25,25)",
           "width": 1
          },
          "type": "line",
          "x0": 0.23898,
          "x1": 0.24271,
          "y0": 71.95,
          "y1": 71.95
         },
         {
          "layer": "below",
          "line": {
           "color": "rgb(25,25,25)",
           "width": 1
          },
          "type": "line",
          "x0": 0.24271,
          "x1": 0.24271,
          "y0": 73.25,
          "y1": 70.65
         },
         {
          "layer": "below",
          "line": {
           "color": "rgb(25,25,25)",
           "width": 1
          },
          "type": "line",
          "x0": 0.24271,
          "x1": 0.25798,
          "y0": 70.65,
          "y1": 70.65
         },
         {
          "layer": "below",
          "line": {
           "color": "rgb(25,25,25)",
           "width": 1
          },
          "type": "line",
          "x0": 0.25798,
          "x1": 0.25798,
          "y0": 71.3,
          "y1": 70
         },
         {
          "layer": "below",
          "line": {
           "color": "rgb(25,25,25)",
           "width": 1
          },
          "type": "line",
          "x0": 0.25798,
          "x1": 0.25808,
          "y0": 70,
          "y1": 70
         },
         {
          "layer": "below",
          "line": {
           "color": "rgb(25,25,25)",
           "width": 1
          },
          "type": "line",
          "x0": 0.25798,
          "x1": 0.25859,
          "y0": 71.3,
          "y1": 71.3
         },
         {
          "layer": "below",
          "line": {
           "color": "rgb(25,25,25)",
           "width": 1
          },
          "type": "line",
          "x0": 0.24271,
          "x1": 0.24619000000000002,
          "y0": 73.25,
          "y1": 73.25
         },
         {
          "layer": "below",
          "line": {
           "color": "rgb(25,25,25)",
           "width": 1
          },
          "type": "line",
          "x0": 0.24619000000000002,
          "x1": 0.24619000000000002,
          "y0": 73.9,
          "y1": 72.6
         },
         {
          "layer": "below",
          "line": {
           "color": "rgb(25,25,25)",
           "width": 1
          },
          "type": "line",
          "x0": 0.24619000000000002,
          "x1": 0.26108000000000003,
          "y0": 72.6,
          "y1": 72.6
         },
         {
          "layer": "below",
          "line": {
           "color": "rgb(25,25,25)",
           "width": 1
          },
          "type": "line",
          "x0": 0.24619000000000002,
          "x1": 0.26208000000000004,
          "y0": 73.9,
          "y1": 73.9
         },
         {
          "layer": "below",
          "line": {
           "color": "rgb(25,25,25)",
           "width": 1
          },
          "type": "line",
          "x0": 0.23898,
          "x1": 0.24112,
          "y0": 83.24375,
          "y1": 83.24375
         },
         {
          "layer": "below",
          "line": {
           "color": "rgb(25,25,25)",
           "width": 1
          },
          "type": "line",
          "x0": 0.24112,
          "x1": 0.24112,
          "y0": 86.25,
          "y1": 80.2375
         },
         {
          "layer": "below",
          "line": {
           "color": "rgb(25,25,25)",
           "width": 1
          },
          "type": "line",
          "x0": 0.24112,
          "x1": 0.24189,
          "y0": 80.2375,
          "y1": 80.2375
         },
         {
          "layer": "below",
          "line": {
           "color": "rgb(25,25,25)",
           "width": 1
          },
          "type": "line",
          "x0": 0.24189,
          "x1": 0.24189,
          "y0": 82.8375,
          "y1": 77.63749999999999
         },
         {
          "layer": "below",
          "line": {
           "color": "rgb(25,25,25)",
           "width": 1
          },
          "type": "line",
          "x0": 0.24189,
          "x1": 0.24318,
          "y0": 77.63749999999999,
          "y1": 77.63749999999999
         },
         {
          "layer": "below",
          "line": {
           "color": "rgb(25,25,25)",
           "width": 1
          },
          "type": "line",
          "x0": 0.24318,
          "x1": 0.24318,
          "y0": 79.1,
          "y1": 76.175
         },
         {
          "layer": "below",
          "line": {
           "color": "rgb(25,25,25)",
           "width": 1
          },
          "type": "line",
          "x0": 0.24318,
          "x1": 0.24601,
          "y0": 76.175,
          "y1": 76.175
         },
         {
          "layer": "below",
          "line": {
           "color": "rgb(25,25,25)",
           "width": 1
          },
          "type": "line",
          "x0": 0.24601,
          "x1": 0.24601,
          "y0": 77.15,
          "y1": 75.19999999999999
         },
         {
          "layer": "below",
          "line": {
           "color": "rgb(25,25,25)",
           "width": 1
          },
          "type": "line",
          "x0": 0.24601,
          "x1": 0.26117,
          "y0": 75.19999999999999,
          "y1": 75.19999999999999
         },
         {
          "layer": "below",
          "line": {
           "color": "rgb(25,25,25)",
           "width": 1
          },
          "type": "line",
          "x0": 0.24601,
          "x1": 0.2606,
          "y0": 77.15,
          "y1": 77.15
         },
         {
          "layer": "below",
          "line": {
           "color": "rgb(25,25,25)",
           "width": 1
          },
          "type": "line",
          "x0": 0.2606,
          "x1": 0.2606,
          "y0": 77.8,
          "y1": 76.5
         },
         {
          "layer": "below",
          "line": {
           "color": "rgb(25,25,25)",
           "width": 1
          },
          "type": "line",
          "x0": 0.2606,
          "x1": 0.26083,
          "y0": 76.5,
          "y1": 76.5
         },
         {
          "layer": "below",
          "line": {
           "color": "rgb(25,25,25)",
           "width": 1
          },
          "type": "line",
          "x0": 0.2606,
          "x1": 0.26073,
          "y0": 77.8,
          "y1": 77.8
         },
         {
          "layer": "below",
          "line": {
           "color": "rgb(25,25,25)",
           "width": 1
          },
          "type": "line",
          "x0": 0.24318,
          "x1": 0.2602,
          "y0": 79.1,
          "y1": 79.1
         },
         {
          "layer": "below",
          "line": {
           "color": "rgb(25,25,25)",
           "width": 1
          },
          "type": "line",
          "x0": 0.24189,
          "x1": 0.24506999999999998,
          "y0": 82.8375,
          "y1": 82.8375
         },
         {
          "layer": "below",
          "line": {
           "color": "rgb(25,25,25)",
           "width": 1
          },
          "type": "line",
          "x0": 0.24506999999999998,
          "x1": 0.24506999999999998,
          "y0": 84.3,
          "y1": 81.375
         },
         {
          "layer": "below",
          "line": {
           "color": "rgb(25,25,25)",
           "width": 1
          },
          "type": "line",
          "x0": 0.24506999999999998,
          "x1": 0.25971,
          "y0": 81.375,
          "y1": 81.375
         },
         {
          "layer": "below",
          "line": {
           "color": "rgb(25,25,25)",
           "width": 1
          },
          "type": "line",
          "x0": 0.25971,
          "x1": 0.25971,
          "y0": 82.35,
          "y1": 80.4
         },
         {
          "layer": "below",
          "line": {
           "color": "rgb(25,25,25)",
           "width": 1
          },
          "type": "line",
          "x0": 0.25971,
          "x1": 0.25977,
          "y0": 80.4,
          "y1": 80.4
         },
         {
          "layer": "below",
          "line": {
           "color": "rgb(25,25,25)",
           "width": 1
          },
          "type": "line",
          "x0": 0.25971,
          "x1": 0.25973,
          "y0": 82.35,
          "y1": 82.35
         },
         {
          "layer": "below",
          "line": {
           "color": "rgb(25,25,25)",
           "width": 1
          },
          "type": "line",
          "x0": 0.25973,
          "x1": 0.25973,
          "y0": 83,
          "y1": 81.7
         },
         {
          "layer": "below",
          "line": {
           "color": "rgb(25,25,25)",
           "width": 1
          },
          "type": "line",
          "x0": 0.25973,
          "x1": 0.26003000000000004,
          "y0": 81.7,
          "y1": 81.7
         },
         {
          "layer": "below",
          "line": {
           "color": "rgb(25,25,25)",
           "width": 1
          },
          "type": "line",
          "x0": 0.25973,
          "x1": 0.26111,
          "y0": 83,
          "y1": 83
         },
         {
          "layer": "below",
          "line": {
           "color": "rgb(25,25,25)",
           "width": 1
          },
          "type": "line",
          "x0": 0.24506999999999998,
          "x1": 0.26244999999999996,
          "y0": 84.3,
          "y1": 84.3
         },
         {
          "layer": "below",
          "line": {
           "color": "rgb(25,25,25)",
           "width": 1
          },
          "type": "line",
          "x0": 0.24112,
          "x1": 0.24401,
          "y0": 86.25,
          "y1": 86.25
         },
         {
          "layer": "below",
          "line": {
           "color": "rgb(25,25,25)",
           "width": 1
          },
          "type": "line",
          "x0": 0.24401,
          "x1": 0.24401,
          "y0": 86.9,
          "y1": 85.6
         },
         {
          "layer": "below",
          "line": {
           "color": "rgb(25,25,25)",
           "width": 1
          },
          "type": "line",
          "x0": 0.24401,
          "x1": 0.25846,
          "y0": 85.6,
          "y1": 85.6
         },
         {
          "layer": "below",
          "line": {
           "color": "rgb(25,25,25)",
           "width": 1
          },
          "type": "line",
          "x0": 0.24401,
          "x1": 0.2614,
          "y0": 86.9,
          "y1": 86.9
         },
         {
          "layer": "below",
          "line": {
           "color": "rgb(25,25,25)",
           "width": 1
          },
          "type": "line",
          "x0": 0.012920000000000001,
          "x1": 0.022330000000000003,
          "y0": 90.3125,
          "y1": 90.3125
         },
         {
          "layer": "below",
          "line": {
           "color": "rgb(25,25,25)",
           "width": 1
          },
          "type": "line",
          "x0": 0.022330000000000003,
          "x1": 0.022330000000000003,
          "y0": 91.775,
          "y1": 88.85
         },
         {
          "layer": "below",
          "line": {
           "color": "rgb(25,25,25)",
           "width": 1
          },
          "type": "line",
          "x0": 0.022330000000000003,
          "x1": 0.04463,
          "y0": 88.85,
          "y1": 88.85
         },
         {
          "layer": "below",
          "line": {
           "color": "rgb(25,25,25)",
           "width": 1
          },
          "type": "line",
          "x0": 0.04463,
          "x1": 0.04463,
          "y0": 89.5,
          "y1": 88.2
         },
         {
          "layer": "below",
          "line": {
           "color": "rgb(25,25,25)",
           "width": 1
          },
          "type": "line",
          "x0": 0.04463,
          "x1": 0.045160000000000006,
          "y0": 88.2,
          "y1": 88.2
         },
         {
          "layer": "below",
          "line": {
           "color": "rgb(25,25,25)",
           "width": 1
          },
          "type": "line",
          "x0": 0.04463,
          "x1": 0.044680000000000004,
          "y0": 89.5,
          "y1": 89.5
         },
         {
          "layer": "below",
          "line": {
           "color": "rgb(25,25,25)",
           "width": 1
          },
          "type": "line",
          "x0": 0.022330000000000003,
          "x1": 0.04487000000000001,
          "y0": 91.775,
          "y1": 91.775
         },
         {
          "layer": "below",
          "line": {
           "color": "rgb(25,25,25)",
           "width": 1
          },
          "type": "line",
          "x0": 0.04487000000000001,
          "x1": 0.04487000000000001,
          "y0": 92.75,
          "y1": 90.8
         },
         {
          "layer": "below",
          "line": {
           "color": "rgb(25,25,25)",
           "width": 1
          },
          "type": "line",
          "x0": 0.04487000000000001,
          "x1": 0.045680000000000005,
          "y0": 90.8,
          "y1": 90.8
         },
         {
          "layer": "below",
          "line": {
           "color": "rgb(25,25,25)",
           "width": 1
          },
          "type": "line",
          "x0": 0.04487000000000001,
          "x1": 0.04487000000000001,
          "y0": 92.75,
          "y1": 92.75
         },
         {
          "layer": "below",
          "line": {
           "color": "rgb(25,25,25)",
           "width": 1
          },
          "type": "line",
          "x0": 0.04487000000000001,
          "x1": 0.04487000000000001,
          "y0": 93.4,
          "y1": 92.1
         },
         {
          "layer": "below",
          "line": {
           "color": "rgb(25,25,25)",
           "width": 1
          },
          "type": "line",
          "x0": 0.04487000000000001,
          "x1": 0.04508000000000001,
          "y0": 92.1,
          "y1": 92.1
         },
         {
          "layer": "below",
          "line": {
           "color": "rgb(25,25,25)",
           "width": 1
          },
          "type": "line",
          "x0": 0.04487000000000001,
          "x1": 0.044950000000000004,
          "y0": 93.4,
          "y1": 93.4
         },
         {
          "layer": "below",
          "line": {
           "color": "rgb(25,25,25)",
           "width": 1
          },
          "type": "line",
          "x0": 0.00893,
          "x1": 0.01397,
          "y0": 96.8125,
          "y1": 96.8125
         },
         {
          "layer": "below",
          "line": {
           "color": "rgb(25,25,25)",
           "width": 1
          },
          "type": "line",
          "x0": 0.01397,
          "x1": 0.01397,
          "y0": 98.275,
          "y1": 95.35
         },
         {
          "layer": "below",
          "line": {
           "color": "rgb(25,25,25)",
           "width": 1
          },
          "type": "line",
          "x0": 0.01397,
          "x1": 0.029759999999999998,
          "y0": 95.35,
          "y1": 95.35
         },
         {
          "layer": "below",
          "line": {
           "color": "rgb(25,25,25)",
           "width": 1
          },
          "type": "line",
          "x0": 0.029759999999999998,
          "x1": 0.029759999999999998,
          "y0": 96,
          "y1": 94.7
         },
         {
          "layer": "below",
          "line": {
           "color": "rgb(25,25,25)",
           "width": 1
          },
          "type": "line",
          "x0": 0.029759999999999998,
          "x1": 0.033339999999999995,
          "y0": 94.7,
          "y1": 94.7
         },
         {
          "layer": "below",
          "line": {
           "color": "rgb(25,25,25)",
           "width": 1
          },
          "type": "line",
          "x0": 0.029759999999999998,
          "x1": 0.02984,
          "y0": 96,
          "y1": 96
         },
         {
          "layer": "below",
          "line": {
           "color": "rgb(25,25,25)",
           "width": 1
          },
          "type": "line",
          "x0": 0.01397,
          "x1": 0.02685,
          "y0": 98.275,
          "y1": 98.275
         },
         {
          "layer": "below",
          "line": {
           "color": "rgb(25,25,25)",
           "width": 1
          },
          "type": "line",
          "x0": 0.02685,
          "x1": 0.02685,
          "y0": 99.25,
          "y1": 97.3
         },
         {
          "layer": "below",
          "line": {
           "color": "rgb(25,25,25)",
           "width": 1
          },
          "type": "line",
          "x0": 0.02685,
          "x1": 0.03094,
          "y0": 97.3,
          "y1": 97.3
         },
         {
          "layer": "below",
          "line": {
           "color": "rgb(25,25,25)",
           "width": 1
          },
          "type": "line",
          "x0": 0.02685,
          "x1": 0.030289999999999997,
          "y0": 99.25,
          "y1": 99.25
         },
         {
          "layer": "below",
          "line": {
           "color": "rgb(25,25,25)",
           "width": 1
          },
          "type": "line",
          "x0": 0.030289999999999997,
          "x1": 0.030289999999999997,
          "y0": 99.9,
          "y1": 98.6
         },
         {
          "layer": "below",
          "line": {
           "color": "rgb(25,25,25)",
           "width": 1
          },
          "type": "line",
          "x0": 0.030289999999999997,
          "x1": 0.03044,
          "y0": 98.6,
          "y1": 98.6
         },
         {
          "layer": "below",
          "line": {
           "color": "rgb(25,25,25)",
           "width": 1
          },
          "type": "line",
          "x0": 0.030289999999999997,
          "x1": 0.03035,
          "y0": 99.9,
          "y1": 99.9
         },
         {
          "layer": "below",
          "line": {
           "color": "rgb(25,25,25)",
           "width": 1
          },
          "type": "line",
          "x0": 0.0047,
          "x1": 0.00909,
          "y0": 103.3125,
          "y1": 103.3125
         },
         {
          "layer": "below",
          "line": {
           "color": "rgb(25,25,25)",
           "width": 1
          },
          "type": "line",
          "x0": 0.00909,
          "x1": 0.00909,
          "y0": 104.775,
          "y1": 101.85
         },
         {
          "layer": "below",
          "line": {
           "color": "rgb(25,25,25)",
           "width": 1
          },
          "type": "line",
          "x0": 0.00909,
          "x1": 0.02862,
          "y0": 101.85,
          "y1": 101.85
         },
         {
          "layer": "below",
          "line": {
           "color": "rgb(25,25,25)",
           "width": 1
          },
          "type": "line",
          "x0": 0.02862,
          "x1": 0.02862,
          "y0": 102.5,
          "y1": 101.2
         },
         {
          "layer": "below",
          "line": {
           "color": "rgb(25,25,25)",
           "width": 1
          },
          "type": "line",
          "x0": 0.02862,
          "x1": 0.02877,
          "y0": 101.2,
          "y1": 101.2
         },
         {
          "layer": "below",
          "line": {
           "color": "rgb(25,25,25)",
           "width": 1
          },
          "type": "line",
          "x0": 0.02862,
          "x1": 0.02922,
          "y0": 102.5,
          "y1": 102.5
         },
         {
          "layer": "below",
          "line": {
           "color": "rgb(25,25,25)",
           "width": 1
          },
          "type": "line",
          "x0": 0.00909,
          "x1": 0.02321,
          "y0": 104.775,
          "y1": 104.775
         },
         {
          "layer": "below",
          "line": {
           "color": "rgb(25,25,25)",
           "width": 1
          },
          "type": "line",
          "x0": 0.02321,
          "x1": 0.02321,
          "y0": 105.75,
          "y1": 103.8
         },
         {
          "layer": "below",
          "line": {
           "color": "rgb(25,25,25)",
           "width": 1
          },
          "type": "line",
          "x0": 0.02321,
          "x1": 0.023270000000000002,
          "y0": 103.8,
          "y1": 103.8
         },
         {
          "layer": "below",
          "line": {
           "color": "rgb(25,25,25)",
           "width": 1
          },
          "type": "line",
          "x0": 0.02321,
          "x1": 0.02323,
          "y0": 105.75,
          "y1": 105.75
         },
         {
          "layer": "below",
          "line": {
           "color": "rgb(25,25,25)",
           "width": 1
          },
          "type": "line",
          "x0": 0.02323,
          "x1": 0.02323,
          "y0": 106.4,
          "y1": 105.1
         },
         {
          "layer": "below",
          "line": {
           "color": "rgb(25,25,25)",
           "width": 1
          },
          "type": "line",
          "x0": 0.02323,
          "x1": 0.02346,
          "y0": 105.1,
          "y1": 105.1
         },
         {
          "layer": "below",
          "line": {
           "color": "rgb(25,25,25)",
           "width": 1
          },
          "type": "line",
          "x0": 0.02323,
          "x1": 0.0234,
          "y0": 106.4,
          "y1": 106.4
         },
         {
          "layer": "below",
          "line": {
           "color": "rgb(25,25,25)",
           "width": 1
          },
          "type": "line",
          "x0": 0.0025900000000000003,
          "x1": 0.00551,
          "y0": 108.35,
          "y1": 108.35
         },
         {
          "layer": "below",
          "line": {
           "color": "rgb(25,25,25)",
           "width": 1
          },
          "type": "line",
          "x0": 0.00551,
          "x1": 0.00551,
          "y0": 109,
          "y1": 107.7
         },
         {
          "layer": "below",
          "line": {
           "color": "rgb(25,25,25)",
           "width": 1
          },
          "type": "line",
          "x0": 0.00551,
          "x1": 0.02246,
          "y0": 107.7,
          "y1": 107.7
         },
         {
          "layer": "below",
          "line": {
           "color": "rgb(25,25,25)",
           "width": 1
          },
          "type": "line",
          "x0": 0.00551,
          "x1": 0.01939,
          "y0": 109,
          "y1": 109
         }
        ],
        "showlegend": false,
        "template": {
         "data": {
          "bar": [
           {
            "error_x": {
             "color": "#2a3f5f"
            },
            "error_y": {
             "color": "#2a3f5f"
            },
            "marker": {
             "line": {
              "color": "#E5ECF6",
              "width": 0.5
             },
             "pattern": {
              "fillmode": "overlay",
              "size": 10,
              "solidity": 0.2
             }
            },
            "type": "bar"
           }
          ],
          "barpolar": [
           {
            "marker": {
             "line": {
              "color": "#E5ECF6",
              "width": 0.5
             },
             "pattern": {
              "fillmode": "overlay",
              "size": 10,
              "solidity": 0.2
             }
            },
            "type": "barpolar"
           }
          ],
          "carpet": [
           {
            "aaxis": {
             "endlinecolor": "#2a3f5f",
             "gridcolor": "white",
             "linecolor": "white",
             "minorgridcolor": "white",
             "startlinecolor": "#2a3f5f"
            },
            "baxis": {
             "endlinecolor": "#2a3f5f",
             "gridcolor": "white",
             "linecolor": "white",
             "minorgridcolor": "white",
             "startlinecolor": "#2a3f5f"
            },
            "type": "carpet"
           }
          ],
          "choropleth": [
           {
            "colorbar": {
             "outlinewidth": 0,
             "ticks": ""
            },
            "type": "choropleth"
           }
          ],
          "contour": [
           {
            "colorbar": {
             "outlinewidth": 0,
             "ticks": ""
            },
            "colorscale": [
             [
              0,
              "#0d0887"
             ],
             [
              0.1111111111111111,
              "#46039f"
             ],
             [
              0.2222222222222222,
              "#7201a8"
             ],
             [
              0.3333333333333333,
              "#9c179e"
             ],
             [
              0.4444444444444444,
              "#bd3786"
             ],
             [
              0.5555555555555556,
              "#d8576b"
             ],
             [
              0.6666666666666666,
              "#ed7953"
             ],
             [
              0.7777777777777778,
              "#fb9f3a"
             ],
             [
              0.8888888888888888,
              "#fdca26"
             ],
             [
              1,
              "#f0f921"
             ]
            ],
            "type": "contour"
           }
          ],
          "contourcarpet": [
           {
            "colorbar": {
             "outlinewidth": 0,
             "ticks": ""
            },
            "type": "contourcarpet"
           }
          ],
          "heatmap": [
           {
            "colorbar": {
             "outlinewidth": 0,
             "ticks": ""
            },
            "colorscale": [
             [
              0,
              "#0d0887"
             ],
             [
              0.1111111111111111,
              "#46039f"
             ],
             [
              0.2222222222222222,
              "#7201a8"
             ],
             [
              0.3333333333333333,
              "#9c179e"
             ],
             [
              0.4444444444444444,
              "#bd3786"
             ],
             [
              0.5555555555555556,
              "#d8576b"
             ],
             [
              0.6666666666666666,
              "#ed7953"
             ],
             [
              0.7777777777777778,
              "#fb9f3a"
             ],
             [
              0.8888888888888888,
              "#fdca26"
             ],
             [
              1,
              "#f0f921"
             ]
            ],
            "type": "heatmap"
           }
          ],
          "heatmapgl": [
           {
            "colorbar": {
             "outlinewidth": 0,
             "ticks": ""
            },
            "colorscale": [
             [
              0,
              "#0d0887"
             ],
             [
              0.1111111111111111,
              "#46039f"
             ],
             [
              0.2222222222222222,
              "#7201a8"
             ],
             [
              0.3333333333333333,
              "#9c179e"
             ],
             [
              0.4444444444444444,
              "#bd3786"
             ],
             [
              0.5555555555555556,
              "#d8576b"
             ],
             [
              0.6666666666666666,
              "#ed7953"
             ],
             [
              0.7777777777777778,
              "#fb9f3a"
             ],
             [
              0.8888888888888888,
              "#fdca26"
             ],
             [
              1,
              "#f0f921"
             ]
            ],
            "type": "heatmapgl"
           }
          ],
          "histogram": [
           {
            "marker": {
             "pattern": {
              "fillmode": "overlay",
              "size": 10,
              "solidity": 0.2
             }
            },
            "type": "histogram"
           }
          ],
          "histogram2d": [
           {
            "colorbar": {
             "outlinewidth": 0,
             "ticks": ""
            },
            "colorscale": [
             [
              0,
              "#0d0887"
             ],
             [
              0.1111111111111111,
              "#46039f"
             ],
             [
              0.2222222222222222,
              "#7201a8"
             ],
             [
              0.3333333333333333,
              "#9c179e"
             ],
             [
              0.4444444444444444,
              "#bd3786"
             ],
             [
              0.5555555555555556,
              "#d8576b"
             ],
             [
              0.6666666666666666,
              "#ed7953"
             ],
             [
              0.7777777777777778,
              "#fb9f3a"
             ],
             [
              0.8888888888888888,
              "#fdca26"
             ],
             [
              1,
              "#f0f921"
             ]
            ],
            "type": "histogram2d"
           }
          ],
          "histogram2dcontour": [
           {
            "colorbar": {
             "outlinewidth": 0,
             "ticks": ""
            },
            "colorscale": [
             [
              0,
              "#0d0887"
             ],
             [
              0.1111111111111111,
              "#46039f"
             ],
             [
              0.2222222222222222,
              "#7201a8"
             ],
             [
              0.3333333333333333,
              "#9c179e"
             ],
             [
              0.4444444444444444,
              "#bd3786"
             ],
             [
              0.5555555555555556,
              "#d8576b"
             ],
             [
              0.6666666666666666,
              "#ed7953"
             ],
             [
              0.7777777777777778,
              "#fb9f3a"
             ],
             [
              0.8888888888888888,
              "#fdca26"
             ],
             [
              1,
              "#f0f921"
             ]
            ],
            "type": "histogram2dcontour"
           }
          ],
          "mesh3d": [
           {
            "colorbar": {
             "outlinewidth": 0,
             "ticks": ""
            },
            "type": "mesh3d"
           }
          ],
          "parcoords": [
           {
            "line": {
             "colorbar": {
              "outlinewidth": 0,
              "ticks": ""
             }
            },
            "type": "parcoords"
           }
          ],
          "pie": [
           {
            "automargin": true,
            "type": "pie"
           }
          ],
          "scatter": [
           {
            "fillpattern": {
             "fillmode": "overlay",
             "size": 10,
             "solidity": 0.2
            },
            "type": "scatter"
           }
          ],
          "scatter3d": [
           {
            "line": {
             "colorbar": {
              "outlinewidth": 0,
              "ticks": ""
             }
            },
            "marker": {
             "colorbar": {
              "outlinewidth": 0,
              "ticks": ""
             }
            },
            "type": "scatter3d"
           }
          ],
          "scattercarpet": [
           {
            "marker": {
             "colorbar": {
              "outlinewidth": 0,
              "ticks": ""
             }
            },
            "type": "scattercarpet"
           }
          ],
          "scattergeo": [
           {
            "marker": {
             "colorbar": {
              "outlinewidth": 0,
              "ticks": ""
             }
            },
            "type": "scattergeo"
           }
          ],
          "scattergl": [
           {
            "marker": {
             "colorbar": {
              "outlinewidth": 0,
              "ticks": ""
             }
            },
            "type": "scattergl"
           }
          ],
          "scattermapbox": [
           {
            "marker": {
             "colorbar": {
              "outlinewidth": 0,
              "ticks": ""
             }
            },
            "type": "scattermapbox"
           }
          ],
          "scatterpolar": [
           {
            "marker": {
             "colorbar": {
              "outlinewidth": 0,
              "ticks": ""
             }
            },
            "type": "scatterpolar"
           }
          ],
          "scatterpolargl": [
           {
            "marker": {
             "colorbar": {
              "outlinewidth": 0,
              "ticks": ""
             }
            },
            "type": "scatterpolargl"
           }
          ],
          "scatterternary": [
           {
            "marker": {
             "colorbar": {
              "outlinewidth": 0,
              "ticks": ""
             }
            },
            "type": "scatterternary"
           }
          ],
          "surface": [
           {
            "colorbar": {
             "outlinewidth": 0,
             "ticks": ""
            },
            "colorscale": [
             [
              0,
              "#0d0887"
             ],
             [
              0.1111111111111111,
              "#46039f"
             ],
             [
              0.2222222222222222,
              "#7201a8"
             ],
             [
              0.3333333333333333,
              "#9c179e"
             ],
             [
              0.4444444444444444,
              "#bd3786"
             ],
             [
              0.5555555555555556,
              "#d8576b"
             ],
             [
              0.6666666666666666,
              "#ed7953"
             ],
             [
              0.7777777777777778,
              "#fb9f3a"
             ],
             [
              0.8888888888888888,
              "#fdca26"
             ],
             [
              1,
              "#f0f921"
             ]
            ],
            "type": "surface"
           }
          ],
          "table": [
           {
            "cells": {
             "fill": {
              "color": "#EBF0F8"
             },
             "line": {
              "color": "white"
             }
            },
            "header": {
             "fill": {
              "color": "#C8D4E3"
             },
             "line": {
              "color": "white"
             }
            },
            "type": "table"
           }
          ]
         },
         "layout": {
          "annotationdefaults": {
           "arrowcolor": "#2a3f5f",
           "arrowhead": 0,
           "arrowwidth": 1
          },
          "autotypenumbers": "strict",
          "coloraxis": {
           "colorbar": {
            "outlinewidth": 0,
            "ticks": ""
           }
          },
          "colorscale": {
           "diverging": [
            [
             0,
             "#8e0152"
            ],
            [
             0.1,
             "#c51b7d"
            ],
            [
             0.2,
             "#de77ae"
            ],
            [
             0.3,
             "#f1b6da"
            ],
            [
             0.4,
             "#fde0ef"
            ],
            [
             0.5,
             "#f7f7f7"
            ],
            [
             0.6,
             "#e6f5d0"
            ],
            [
             0.7,
             "#b8e186"
            ],
            [
             0.8,
             "#7fbc41"
            ],
            [
             0.9,
             "#4d9221"
            ],
            [
             1,
             "#276419"
            ]
           ],
           "sequential": [
            [
             0,
             "#0d0887"
            ],
            [
             0.1111111111111111,
             "#46039f"
            ],
            [
             0.2222222222222222,
             "#7201a8"
            ],
            [
             0.3333333333333333,
             "#9c179e"
            ],
            [
             0.4444444444444444,
             "#bd3786"
            ],
            [
             0.5555555555555556,
             "#d8576b"
            ],
            [
             0.6666666666666666,
             "#ed7953"
            ],
            [
             0.7777777777777778,
             "#fb9f3a"
            ],
            [
             0.8888888888888888,
             "#fdca26"
            ],
            [
             1,
             "#f0f921"
            ]
           ],
           "sequentialminus": [
            [
             0,
             "#0d0887"
            ],
            [
             0.1111111111111111,
             "#46039f"
            ],
            [
             0.2222222222222222,
             "#7201a8"
            ],
            [
             0.3333333333333333,
             "#9c179e"
            ],
            [
             0.4444444444444444,
             "#bd3786"
            ],
            [
             0.5555555555555556,
             "#d8576b"
            ],
            [
             0.6666666666666666,
             "#ed7953"
            ],
            [
             0.7777777777777778,
             "#fb9f3a"
            ],
            [
             0.8888888888888888,
             "#fdca26"
            ],
            [
             1,
             "#f0f921"
            ]
           ]
          },
          "colorway": [
           "#636efa",
           "#EF553B",
           "#00cc96",
           "#ab63fa",
           "#FFA15A",
           "#19d3f3",
           "#FF6692",
           "#B6E880",
           "#FF97FF",
           "#FECB52"
          ],
          "font": {
           "color": "#2a3f5f"
          },
          "geo": {
           "bgcolor": "white",
           "lakecolor": "white",
           "landcolor": "#E5ECF6",
           "showlakes": true,
           "showland": true,
           "subunitcolor": "white"
          },
          "hoverlabel": {
           "align": "left"
          },
          "hovermode": "closest",
          "mapbox": {
           "style": "light"
          },
          "paper_bgcolor": "white",
          "plot_bgcolor": "#E5ECF6",
          "polar": {
           "angularaxis": {
            "gridcolor": "white",
            "linecolor": "white",
            "ticks": ""
           },
           "bgcolor": "#E5ECF6",
           "radialaxis": {
            "gridcolor": "white",
            "linecolor": "white",
            "ticks": ""
           }
          },
          "scene": {
           "xaxis": {
            "backgroundcolor": "#E5ECF6",
            "gridcolor": "white",
            "gridwidth": 2,
            "linecolor": "white",
            "showbackground": true,
            "ticks": "",
            "zerolinecolor": "white"
           },
           "yaxis": {
            "backgroundcolor": "#E5ECF6",
            "gridcolor": "white",
            "gridwidth": 2,
            "linecolor": "white",
            "showbackground": true,
            "ticks": "",
            "zerolinecolor": "white"
           },
           "zaxis": {
            "backgroundcolor": "#E5ECF6",
            "gridcolor": "white",
            "gridwidth": 2,
            "linecolor": "white",
            "showbackground": true,
            "ticks": "",
            "zerolinecolor": "white"
           }
          },
          "shapedefaults": {
           "line": {
            "color": "#2a3f5f"
           }
          },
          "ternary": {
           "aaxis": {
            "gridcolor": "white",
            "linecolor": "white",
            "ticks": ""
           },
           "baxis": {
            "gridcolor": "white",
            "linecolor": "white",
            "ticks": ""
           },
           "bgcolor": "#E5ECF6",
           "caxis": {
            "gridcolor": "white",
            "linecolor": "white",
            "ticks": ""
           }
          },
          "title": {
           "x": 0.05
          },
          "xaxis": {
           "automargin": true,
           "gridcolor": "white",
           "linecolor": "white",
           "ticks": "",
           "title": {
            "standoff": 15
           },
           "zerolinecolor": "white",
           "zerolinewidth": 2
          },
          "yaxis": {
           "automargin": true,
           "gridcolor": "white",
           "linecolor": "white",
           "ticks": "",
           "title": {
            "standoff": 15
           },
           "zerolinecolor": "white",
           "zerolinewidth": 2
          }
         }
        },
        "title": {
         "text": ""
        },
        "width": 1000,
        "xaxis": {
         "anchor": "y",
         "domain": [
          0,
          0.45
         ],
         "title": {
          "text": "Branch Length"
         }
        },
        "yaxis": {
         "anchor": "x",
         "domain": [
          0,
          1
         ],
         "showgrid": false,
         "showline": false,
         "showticklabels": false,
         "title": {
          "text": ""
         },
         "zeroline": false
        }
       }
      }
     },
     "metadata": {},
     "output_type": "display_data"
    }
   ],
   "source": [
    "world_map_pink = phyloworld.create_world_map(metadata_with_coordinates, title=\"My pink world map\", colors = MY_COLORS)\n",
    "tree_plot_pink = phyloworld.create_phylotree(tree, metadata, title = \"My pink phylogenetic tree\", colors = MY_COLORS, include_confidence=False)\n",
    "combined_fig_pink = phyloworld.combine_tree_and_world_map(tree_plot_pink, world_map_pink)\n",
    "combined_fig_pink.show()\n"
   ]
  }
 ],
 "metadata": {
  "kernelspec": {
   "display_name": "Python 3 (ipykernel)",
   "language": "python",
   "name": "python3"
  },
  "language_info": {
   "codemirror_mode": {
    "name": "ipython",
    "version": 3
   },
   "file_extension": ".py",
   "mimetype": "text/x-python",
   "name": "python",
   "nbconvert_exporter": "python",
   "pygments_lexer": "ipython3",
   "version": "3.11.7"
  }
 },
 "nbformat": 4,
 "nbformat_minor": 4
}
