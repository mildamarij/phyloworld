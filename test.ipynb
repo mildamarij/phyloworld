{
 "cells": [
  {
   "cell_type": "markdown",
   "metadata": {},
   "source": [
    "# Package phyloworld example"
   ]
  },
  {
   "cell_type": "code",
   "execution_count": null,
   "metadata": {},
   "outputs": [],
   "source": [
    "import phyloworld as phyloworld\n",
    "import pandas as pd\n",
    "from Bio import Phylo"
   ]
  },
  {
   "cell_type": "markdown",
   "metadata": {},
   "source": [
    "## Load testing metadata"
   ]
  },
  {
   "cell_type": "code",
   "execution_count": null,
   "metadata": {},
   "outputs": [],
   "source": [
    "metadata = pd.read_csv(\"data/MetaData.csv\")\n",
    "metadata.head()"
   ]
  },
  {
   "cell_type": "markdown",
   "metadata": {},
   "source": [
    "## Get latitude and longitude information"
   ]
  },
  {
   "cell_type": "code",
   "execution_count": null,
   "metadata": {},
   "outputs": [],
   "source": [
    "metadata_with_coordinates = phyloworld.merge_coordinates_with_metadata(metadata)\n",
    "metadata_with_coordinates.head()"
   ]
  },
  {
   "cell_type": "markdown",
   "metadata": {},
   "source": [
    "## Load phylogenetic tree\n",
    "\n",
    "In this part, we just load a phylogenetic tree using the newick format and create a basic plot using the default settings with the Phylo function from the Bio package."
   ]
  },
  {
   "cell_type": "code",
   "execution_count": null,
   "metadata": {},
   "outputs": [],
   "source": [
    "tree = Phylo.read(\"data/tree.nwk\", \"newick\")\n",
    "#print(tree)\n",
    "Phylo.draw(tree)"
   ]
  },
  {
   "cell_type": "markdown",
   "metadata": {},
   "source": [
    "## Generate phylogenetic tree plot:\n",
    "\n",
    "### Using random colors and without confidence labels"
   ]
  },
  {
   "cell_type": "code",
   "execution_count": null,
   "metadata": {},
   "outputs": [],
   "source": [
    "tree_plot1 = phyloworld.create_phylotree(tree, metadata, title = \"My phylogenetic tree\", include_confidence = False)\n",
    "tree_plot1.show()"
   ]
  },
  {
   "cell_type": "markdown",
   "metadata": {},
   "source": [
    "### Using random colors and adding confidence labels"
   ]
  },
  {
   "cell_type": "code",
   "execution_count": null,
   "metadata": {},
   "outputs": [],
   "source": [
    "tree_plot2 = phyloworld.create_phylotree(tree, metadata, title = \"My phylogenetic tree with confidence\", include_confidence = True)\n",
    "tree_plot2.show()"
   ]
  },
  {
   "cell_type": "markdown",
   "metadata": {},
   "source": [
    "### Using custom colors\n",
    "\n",
    "If you're experiencing issues with random colors not suiting your preferences, and you wish to maintain a consistent color scheme in your publication, consider specifying your preferred colors. For instance, if you're a passionate fan of the color pink, you can supply a list of RGB color codes corresponding to your chosen shades. "
   ]
  },
  {
   "cell_type": "code",
   "execution_count": null,
   "metadata": {},
   "outputs": [],
   "source": [
    "MY_COLORS =  [\n",
    "    \"rgb(255, 182, 193)\", \"rgb(255, 174, 185)\", \"rgb(255, 160, 122)\", \"rgb(255, 99, 71)\",\n",
    "    \"rgb(255, 69, 0)\", \"rgb(255, 20, 147)\", \"rgb(255, 105, 180)\", \"rgb(255, 192, 203)\",\n",
    "    \"rgb(255, 182, 193)\", \"rgb(255, 192, 203)\", \"rgb(255, 200, 200)\", \"rgb(255, 215, 215)\",\n",
    "    \"rgb(255, 230, 230)\", \"rgb(255, 240, 240)\", \"rgb(255, 250, 250)\",\"rgb(255, 255, 255)\"\n",
    "]\n",
    "tree_plot3 = phyloworld.create_phylotree(tree, metadata,\n",
    "                                         title = \"My pink phylogenetic tree\",\n",
    "                                         colors = MY_COLORS,\n",
    "                                         include_confidence=False)\n",
    "tree_plot3.show()"
   ]
  },
  {
   "cell_type": "markdown",
   "metadata": {},
   "source": [
    "## Generate world map plot\n",
    "\n",
    "### Plot choropleth world map"
   ]
  },
  {
   "cell_type": "code",
   "execution_count": null,
   "metadata": {},
   "outputs": [],
   "source": [
    "world_map_fig = phyloworld.create_world_map(metadata_with_coordinates, \n",
    "                                            title=\"My world map (Choropleth)\")\n",
    "world_map_fig.show()"
   ]
  },
  {
   "cell_type": "markdown",
   "metadata": {},
   "source": [
    "### Plot scatter plot map"
   ]
  },
  {
   "cell_type": "code",
   "execution_count": null,
   "metadata": {},
   "outputs": [],
   "source": [
    "world_map_scatter_fig = phyloworld.create_world_map(metadata_with_coordinates,\n",
    "                                                    title=\"My world map (scatter)\", \n",
    "                                                    map_type = \"scatter\")\n",
    "world_map_scatter_fig.show()"
   ]
  },
  {
   "cell_type": "markdown",
   "metadata": {},
   "source": [
    "## Create combined plot\n",
    "\n",
    "To make things clearer, try making a combined plot. This type of graph puts different information together in one place, making it easier to understand the relationships between them countries and clades."
   ]
  },
  {
   "cell_type": "code",
   "execution_count": null,
   "metadata": {},
   "outputs": [],
   "source": [
    "combined_fig = phyloworld.combine_tree_and_world_map(tree_plot1, \n",
    "                                                     world_map_fig, \n",
    "                                                     title = \"My combined plot\")\n",
    "combined_fig.show()"
   ]
  },
  {
   "cell_type": "code",
   "execution_count": null,
   "metadata": {},
   "outputs": [],
   "source": [
    "world_map_pink = phyloworld.create_world_map(metadata_with_coordinates, title=\"My pink world map\", colors = MY_COLORS)\n",
    "tree_plot_pink = phyloworld.create_phylotree(tree, metadata, title = \"My pink phylogenetic tree\", colors = MY_COLORS, include_confidence=False)\n",
    "combined_fig_pink = phyloworld.combine_tree_and_world_map(tree_plot_pink, world_map_pink)\n",
    "combined_fig_pink.show()\n"
   ]
  }
 ],
 "metadata": {
  "kernelspec": {
   "display_name": "Python 3 (ipykernel)",
   "language": "python",
   "name": "python3"
  },
  "language_info": {
   "codemirror_mode": {
    "name": "ipython",
    "version": 3
   },
   "file_extension": ".py",
   "mimetype": "text/x-python",
   "name": "python",
   "nbconvert_exporter": "python",
   "pygments_lexer": "ipython3",
   "version": "3.11.6"
  }
 },
 "nbformat": 4,
 "nbformat_minor": 4
}
